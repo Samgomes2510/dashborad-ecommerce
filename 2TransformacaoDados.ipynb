{
  "nbformat": 4,
  "nbformat_minor": 0,
  "metadata": {
    "colab": {
      "provenance": [],
      "mount_file_id": "1Rv76nAVejlwve58zF2xm9zEWjVoLdYQx",
      "authorship_tag": "ABX9TyPn21pZ3Yk+q0W37M2/On+z",
      "include_colab_link": true
    },
    "kernelspec": {
      "name": "python3",
      "display_name": "Python 3"
    },
    "language_info": {
      "name": "python"
    }
  },
  "cells": [
    {
      "cell_type": "markdown",
      "metadata": {
        "id": "view-in-github",
        "colab_type": "text"
      },
      "source": [
        "<a href=\"https://colab.research.google.com/github/Samgomes2510/dashborad-ecommerce/blob/main/2TransformacaoDados.ipynb\" target=\"_parent\"><img src=\"https://colab.research.google.com/assets/colab-badge.svg\" alt=\"Open In Colab\"/></a>"
      ]
    },
    {
      "cell_type": "code",
      "execution_count": 1,
      "metadata": {
        "colab": {
          "base_uri": "https://localhost:8080/"
        },
        "id": "b7l1tYZ007mZ",
        "outputId": "50a02978-0b43-4340-8c4f-7ae1189c10ac"
      },
      "outputs": [
        {
          "output_type": "stream",
          "name": "stdout",
          "text": [
            "Requirement already satisfied: pyspark in /usr/local/lib/python3.11/dist-packages (3.5.5)\n",
            "Requirement already satisfied: py4j==0.10.9.7 in /usr/local/lib/python3.11/dist-packages (from pyspark) (0.10.9.7)\n"
          ]
        }
      ],
      "source": [
        "!pip install pyspark"
      ]
    },
    {
      "cell_type": "code",
      "source": [
        "import pyspark\n",
        "from pyspark.sql import SparkSession\n",
        "from pyspark.sql.functions import col, upper"
      ],
      "metadata": {
        "id": "OZAwMyly863p"
      },
      "execution_count": 2,
      "outputs": []
    },
    {
      "cell_type": "code",
      "source": [
        "spark = SparkSession.builder.getOrCreate()"
      ],
      "metadata": {
        "id": "hDV8HEYo9N1s"
      },
      "execution_count": 3,
      "outputs": []
    },
    {
      "cell_type": "code",
      "source": [
        "from google.colab import files\n",
        "upload = files.upload()"
      ],
      "metadata": {
        "id": "xeBYui-sAC_G"
      },
      "execution_count": null,
      "outputs": []
    },
    {
      "cell_type": "code",
      "source": [
        "from google.colab import drive\n",
        "drive.mount('/content/drive')"
      ],
      "metadata": {
        "colab": {
          "base_uri": "https://localhost:8080/"
        },
        "id": "1FPWn1WC9WDY",
        "outputId": "70c2b3d9-4b9b-4c28-b51a-32593c55b97e"
      },
      "execution_count": 7,
      "outputs": [
        {
          "output_type": "stream",
          "name": "stdout",
          "text": [
            "Drive already mounted at /content/drive; to attempt to forcibly remount, call drive.mount(\"/content/drive\", force_remount=True).\n"
          ]
        }
      ]
    },
    {
      "cell_type": "code",
      "source": [
        "vendedores = spark.read.csv('vendedores.csv', header=True, inferSchema=True)\n",
        "itens_pedido = spark.read.csv(\"itens_pedido.csv\", header=True, inferSchema=True)"
      ],
      "metadata": {
        "id": "LDiRTRxHA5i5"
      },
      "execution_count": 10,
      "outputs": []
    },
    {
      "cell_type": "code",
      "source": [
        "vendedores.show()\n",
        "vendedores.printSchema()"
      ],
      "metadata": {
        "colab": {
          "base_uri": "https://localhost:8080/"
        },
        "id": "0FeqOqSpBOwz",
        "outputId": "ce2feeed-64b4-4780-9323-c980488b110b"
      },
      "execution_count": 11,
      "outputs": [
        {
          "output_type": "stream",
          "name": "stdout",
          "text": [
            "+--------------------+------------+-----------------+---------------+\n",
            "|         id_vendedor|cep_vendedor|  cidade_vendedor|estado_vendedor|\n",
            "+--------------------+------------+-----------------+---------------+\n",
            "|3442f8959a84dea7e...|       13023|         campinas|             SP|\n",
            "|d1b65fc7debc3361e...|       13844|       mogi guacu|             SP|\n",
            "|ce3ad9de960102d06...|       20031|   rio de janeiro|             RJ|\n",
            "|c0f3eea2e14555b6f...|        4195|        sao paulo|             SP|\n",
            "|51a04a8a6bdcb23de...|       12914|braganca paulista|             SP|\n",
            "|c240c4061717ac180...|       20920|   rio de janeiro|             RJ|\n",
            "|e49c26c3edfa46d22...|       55325|           brejao|             PE|\n",
            "|1b938a7ec6ac5061a...|       16304|        penapolis|             SP|\n",
            "|768a86e36ad6aae3d...|        1529|        sao paulo|             SP|\n",
            "|ccc4bbb5f32a6ab2b...|       80310|         curitiba|             PR|\n",
            "|8cb7c5ddf41f4d506...|       75110|         anapolis|             GO|\n",
            "|a7a9b880c49781da6...|       13530|        itirapina|             SP|\n",
            "|8bd0f31cf0a614c65...|        1222|        sao paulo|             SP|\n",
            "|05a48cc8859962767...|        5372|        sao paulo|             SP|\n",
            "|7b8e8ec35bad4b0ef...|       88705|          tubarao|             SC|\n",
            "|1444c08e64d55fb3c...|       42738| lauro de freitas|             BA|\n",
            "|166e8f1381e096519...|       88780|         imbituba|             SC|\n",
            "|e38db885400cd35c7...|       70740|         brasilia|             DF|\n",
            "|d2e753bb80b7d4faa...|       45810|     porto seguro|             BA|\n",
            "|f9ec7093df3a7b346...|        5138|        sao paulo|             SP|\n",
            "+--------------------+------------+-----------------+---------------+\n",
            "only showing top 20 rows\n",
            "\n",
            "root\n",
            " |-- id_vendedor: string (nullable = true)\n",
            " |-- cep_vendedor: integer (nullable = true)\n",
            " |-- cidade_vendedor: string (nullable = true)\n",
            " |-- estado_vendedor: string (nullable = true)\n",
            "\n"
          ]
        }
      ]
    },
    {
      "cell_type": "code",
      "source": [
        "vendedores_tratados_df = vendedores.withColumn('cep_vendedor', vendedores.cep_vendedor.cast('string'))\n",
        "\n",
        "vendedores_tratados_df = vendedores_tratados_df.withColumn('cidade_vendedor_tratado', upper(vendedores['cidade_vendedor']))\n",
        "\n",
        "vendedores_tratados_df.show()\n",
        "vendedores_tratados_df.printSchema()"
      ],
      "metadata": {
        "colab": {
          "base_uri": "https://localhost:8080/"
        },
        "id": "yOkpANSsD6Xr",
        "outputId": "ce0ca57a-2cea-4053-89f4-20e376160067"
      },
      "execution_count": 12,
      "outputs": [
        {
          "output_type": "stream",
          "name": "stdout",
          "text": [
            "+--------------------+------------+-----------------+---------------+-----------------------+\n",
            "|         id_vendedor|cep_vendedor|  cidade_vendedor|estado_vendedor|cidade_vendedor_tratado|\n",
            "+--------------------+------------+-----------------+---------------+-----------------------+\n",
            "|3442f8959a84dea7e...|       13023|         campinas|             SP|               CAMPINAS|\n",
            "|d1b65fc7debc3361e...|       13844|       mogi guacu|             SP|             MOGI GUACU|\n",
            "|ce3ad9de960102d06...|       20031|   rio de janeiro|             RJ|         RIO DE JANEIRO|\n",
            "|c0f3eea2e14555b6f...|        4195|        sao paulo|             SP|              SAO PAULO|\n",
            "|51a04a8a6bdcb23de...|       12914|braganca paulista|             SP|      BRAGANCA PAULISTA|\n",
            "|c240c4061717ac180...|       20920|   rio de janeiro|             RJ|         RIO DE JANEIRO|\n",
            "|e49c26c3edfa46d22...|       55325|           brejao|             PE|                 BREJAO|\n",
            "|1b938a7ec6ac5061a...|       16304|        penapolis|             SP|              PENAPOLIS|\n",
            "|768a86e36ad6aae3d...|        1529|        sao paulo|             SP|              SAO PAULO|\n",
            "|ccc4bbb5f32a6ab2b...|       80310|         curitiba|             PR|               CURITIBA|\n",
            "|8cb7c5ddf41f4d506...|       75110|         anapolis|             GO|               ANAPOLIS|\n",
            "|a7a9b880c49781da6...|       13530|        itirapina|             SP|              ITIRAPINA|\n",
            "|8bd0f31cf0a614c65...|        1222|        sao paulo|             SP|              SAO PAULO|\n",
            "|05a48cc8859962767...|        5372|        sao paulo|             SP|              SAO PAULO|\n",
            "|7b8e8ec35bad4b0ef...|       88705|          tubarao|             SC|                TUBARAO|\n",
            "|1444c08e64d55fb3c...|       42738| lauro de freitas|             BA|       LAURO DE FREITAS|\n",
            "|166e8f1381e096519...|       88780|         imbituba|             SC|               IMBITUBA|\n",
            "|e38db885400cd35c7...|       70740|         brasilia|             DF|               BRASILIA|\n",
            "|d2e753bb80b7d4faa...|       45810|     porto seguro|             BA|           PORTO SEGURO|\n",
            "|f9ec7093df3a7b346...|        5138|        sao paulo|             SP|              SAO PAULO|\n",
            "+--------------------+------------+-----------------+---------------+-----------------------+\n",
            "only showing top 20 rows\n",
            "\n",
            "root\n",
            " |-- id_vendedor: string (nullable = true)\n",
            " |-- cep_vendedor: string (nullable = true)\n",
            " |-- cidade_vendedor: string (nullable = true)\n",
            " |-- estado_vendedor: string (nullable = true)\n",
            " |-- cidade_vendedor_tratado: string (nullable = true)\n",
            "\n"
          ]
        }
      ]
    },
    {
      "cell_type": "code",
      "source": [
        "itens_pedido.show()\n",
        "itens_pedido.printSchema()\n"
      ],
      "metadata": {
        "colab": {
          "base_uri": "https://localhost:8080/"
        },
        "id": "5x7VgQuOFNOn",
        "outputId": "14985405-09a6-4c7e-e2f1-9260a445c17a"
      },
      "execution_count": 13,
      "outputs": [
        {
          "output_type": "stream",
          "name": "stdout",
          "text": [
            "+--------------------+--------------+--------------------+--------------------+-------------------+------+-----------+\n",
            "|           id_pedido|item_id_pedido|          id_produto|         id_vendedor|  data_limite_envio| preco|valor_frete|\n",
            "+--------------------+--------------+--------------------+--------------------+-------------------+------+-----------+\n",
            "|00010242fe8c5a6d1...|             1|4244733e06e7ecb49...|48436dade18ac8b2b...|2017-09-19 09:45:35|  58.9|      13.29|\n",
            "|00018f77f2f0320c5...|             1|e5f2d52b802189ee6...|dd7ddc04e1b6c2c61...|2017-05-03 11:05:13| 239.9|      19.93|\n",
            "|000229ec398224ef6...|             1|c777355d18b72b67a...|5b51032eddd242adc...|2018-01-18 14:48:30| 199.0|      17.87|\n",
            "|00024acbcdf0a6daa...|             1|7634da152a4610f15...|9d7a1d34a50524090...|2018-08-15 10:10:18| 12.99|      12.79|\n",
            "|00042b26cf59d7ce6...|             1|ac6c3623068f30de0...|df560393f3a51e745...|2017-02-13 13:57:51| 199.9|      18.14|\n",
            "|00048cc3ae777c65d...|             1|ef92defde845ab845...|6426d21aca402a131...|2017-05-23 03:55:27|  21.9|      12.69|\n",
            "|00054e8431b9d7675...|             1|8d4f2bb7e93e6710a...|7040e82f899a04d1b...|2017-12-14 12:10:31|  19.9|      11.85|\n",
            "|000576fe39319847c...|             1|557d850972a7d6f79...|5996cddab893a4652...|2018-07-10 12:30:45| 810.0|      70.75|\n",
            "|0005a1a1728c9d785...|             1|310ae3c140ff94b03...|a416b6a846a117243...|2018-03-26 18:31:29|145.95|      11.65|\n",
            "|0005f50442cb953dc...|             1|4535b0e1091c278df...|ba143b05f0110f0dc...|2018-07-06 14:10:56| 53.99|       11.4|\n",
            "|00061f2a7bc09da83...|             1|d63c1011f49d98b97...|cc419e0650a3c5ba7...|2018-03-29 22:28:09| 59.99|       8.88|\n",
            "|00063b381e2406b52...|             1|f177554ea93259a5b...|8602a61d680a10a82...|2018-07-31 17:30:39|  45.0|      12.98|\n",
            "|0006ec9db01a64e59...|             1|99a4788cb24856965...|4a3ca9315b744ce9f...|2018-07-26 17:24:20|  74.0|      23.32|\n",
            "|0008288aa423d2a3f...|             1|368c6c730842d7801...|1f50f920176fa81da...|2018-02-21 02:55:52|  49.9|      13.37|\n",
            "|0008288aa423d2a3f...|             2|368c6c730842d7801...|1f50f920176fa81da...|2018-02-21 02:55:52|  49.9|      13.37|\n",
            "|0009792311464db53...|             1|8cab8abac59158715...|530ec6109d11eaaf8...|2018-08-17 12:15:10|  99.9|      27.65|\n",
            "|0009c9a17f916a706...|             1|3f27ac8e699df3d30...|fcb5ace8bcc92f757...|2018-05-02 09:31:53| 639.0|      11.34|\n",
            "|000aed2e25dbad2f9...|             1|4fa33915031a8cde0...|fe2032dab1a61af87...|2018-05-16 20:57:03| 144.0|       8.77|\n",
            "|000c3e6612759851c...|             1|b50c950aba0dcead2...|218d46b86c1881d02...|2017-08-21 03:33:13|  99.0|      13.71|\n",
            "|000e562887b1f2006...|             1|5ed9eaf534f6936b5...|8cbac7e12637ed9cf...|2018-02-28 12:08:37|  25.0|      16.11|\n",
            "+--------------------+--------------+--------------------+--------------------+-------------------+------+-----------+\n",
            "only showing top 20 rows\n",
            "\n",
            "root\n",
            " |-- id_pedido: string (nullable = true)\n",
            " |-- item_id_pedido: integer (nullable = true)\n",
            " |-- id_produto: string (nullable = true)\n",
            " |-- id_vendedor: string (nullable = true)\n",
            " |-- data_limite_envio: timestamp (nullable = true)\n",
            " |-- preco: double (nullable = true)\n",
            " |-- valor_frete: double (nullable = true)\n",
            "\n"
          ]
        }
      ]
    },
    {
      "cell_type": "code",
      "source": [
        "itens_pedido_tratados_df = itens_pedido.\\\n",
        "   withColumn('preco', col('preco').cast('float')).\\\n",
        "   withColumn('valor_frete', col('valor_frete').cast('float')).\\\n",
        "   withColumnRenamed('valor_frete', 'frete').\\\n",
        "   withColumn('valor_total', col('preco') + col('frete'))\n",
        "\n",
        "itens_pedido_tratados_df.show()\n",
        "itens_pedido_tratados_df.printSchema()"
      ],
      "metadata": {
        "colab": {
          "base_uri": "https://localhost:8080/"
        },
        "id": "cGi1WCHnHYce",
        "outputId": "3f25ef24-4f7b-4170-8759-b132a6440ed7"
      },
      "execution_count": 15,
      "outputs": [
        {
          "output_type": "stream",
          "name": "stdout",
          "text": [
            "+--------------------+--------------+--------------------+--------------------+-------------------+------+-----+-----------+\n",
            "|           id_pedido|item_id_pedido|          id_produto|         id_vendedor|  data_limite_envio| preco|frete|valor_total|\n",
            "+--------------------+--------------+--------------------+--------------------+-------------------+------+-----+-----------+\n",
            "|00010242fe8c5a6d1...|             1|4244733e06e7ecb49...|48436dade18ac8b2b...|2017-09-19 09:45:35|  58.9|13.29|      72.19|\n",
            "|00018f77f2f0320c5...|             1|e5f2d52b802189ee6...|dd7ddc04e1b6c2c61...|2017-05-03 11:05:13| 239.9|19.93|     259.83|\n",
            "|000229ec398224ef6...|             1|c777355d18b72b67a...|5b51032eddd242adc...|2018-01-18 14:48:30| 199.0|17.87|     216.87|\n",
            "|00024acbcdf0a6daa...|             1|7634da152a4610f15...|9d7a1d34a50524090...|2018-08-15 10:10:18| 12.99|12.79|  25.779999|\n",
            "|00042b26cf59d7ce6...|             1|ac6c3623068f30de0...|df560393f3a51e745...|2017-02-13 13:57:51| 199.9|18.14|     218.04|\n",
            "|00048cc3ae777c65d...|             1|ef92defde845ab845...|6426d21aca402a131...|2017-05-23 03:55:27|  21.9|12.69|      34.59|\n",
            "|00054e8431b9d7675...|             1|8d4f2bb7e93e6710a...|7040e82f899a04d1b...|2017-12-14 12:10:31|  19.9|11.85|      31.75|\n",
            "|000576fe39319847c...|             1|557d850972a7d6f79...|5996cddab893a4652...|2018-07-10 12:30:45| 810.0|70.75|     880.75|\n",
            "|0005a1a1728c9d785...|             1|310ae3c140ff94b03...|a416b6a846a117243...|2018-03-26 18:31:29|145.95|11.65|  157.59999|\n",
            "|0005f50442cb953dc...|             1|4535b0e1091c278df...|ba143b05f0110f0dc...|2018-07-06 14:10:56| 53.99| 11.4|      65.39|\n",
            "|00061f2a7bc09da83...|             1|d63c1011f49d98b97...|cc419e0650a3c5ba7...|2018-03-29 22:28:09| 59.99| 8.88|      68.87|\n",
            "|00063b381e2406b52...|             1|f177554ea93259a5b...|8602a61d680a10a82...|2018-07-31 17:30:39|  45.0|12.98|      57.98|\n",
            "|0006ec9db01a64e59...|             1|99a4788cb24856965...|4a3ca9315b744ce9f...|2018-07-26 17:24:20|  74.0|23.32|      97.32|\n",
            "|0008288aa423d2a3f...|             1|368c6c730842d7801...|1f50f920176fa81da...|2018-02-21 02:55:52|  49.9|13.37|      63.27|\n",
            "|0008288aa423d2a3f...|             2|368c6c730842d7801...|1f50f920176fa81da...|2018-02-21 02:55:52|  49.9|13.37|      63.27|\n",
            "|0009792311464db53...|             1|8cab8abac59158715...|530ec6109d11eaaf8...|2018-08-17 12:15:10|  99.9|27.65|     127.55|\n",
            "|0009c9a17f916a706...|             1|3f27ac8e699df3d30...|fcb5ace8bcc92f757...|2018-05-02 09:31:53| 639.0|11.34|     650.34|\n",
            "|000aed2e25dbad2f9...|             1|4fa33915031a8cde0...|fe2032dab1a61af87...|2018-05-16 20:57:03| 144.0| 8.77|     152.77|\n",
            "|000c3e6612759851c...|             1|b50c950aba0dcead2...|218d46b86c1881d02...|2017-08-21 03:33:13|  99.0|13.71|     112.71|\n",
            "|000e562887b1f2006...|             1|5ed9eaf534f6936b5...|8cbac7e12637ed9cf...|2018-02-28 12:08:37|  25.0|16.11|      41.11|\n",
            "+--------------------+--------------+--------------------+--------------------+-------------------+------+-----+-----------+\n",
            "only showing top 20 rows\n",
            "\n",
            "root\n",
            " |-- id_pedido: string (nullable = true)\n",
            " |-- item_id_pedido: integer (nullable = true)\n",
            " |-- id_produto: string (nullable = true)\n",
            " |-- id_vendedor: string (nullable = true)\n",
            " |-- data_limite_envio: timestamp (nullable = true)\n",
            " |-- preco: float (nullable = true)\n",
            " |-- frete: float (nullable = true)\n",
            " |-- valor_total: float (nullable = true)\n",
            "\n"
          ]
        }
      ]
    },
    {
      "cell_type": "code",
      "source": [
        "from pyspark.sql.functions import to_date, date_format, col\n",
        "\n",
        "itens_pedido_data_df = itens_pedido_tratados_df.withColumn(\"data\", to_date(col(\"data_limite_envio\")))\n",
        "\n",
        "itens_pedido_data_df = itens_pedido_data_df.withColumn(\"data_br\", date_format(col(\"data_limite_envio\"), 'dd/MM/yyyy'))\n",
        "itens_pedido_data_df = itens_pedido_data_df.withColumn(\"hora\", date_format(col(\"data_limite_envio\"), 'HH:mm:ss'))\n",
        "\n",
        "itens_pedido_data_df.show()\n",
        "itens_pedido_data_df.printSchema()\n",
        "itens_pedido_data_df = itens_pedido_data_df.withColumn(\"hora\", date_format(col(\"data_limite_envio\"), 'HH:mm:ss'))\n",
        "\n",
        "itens_pedido_data_df.show()\n",
        "itens_pedido_data_df.printSchema()"
      ],
      "metadata": {
        "colab": {
          "base_uri": "https://localhost:8080/"
        },
        "id": "4fmDDWL2OKJM",
        "outputId": "0702b0c1-6ce3-4dad-f37d-84f9db84cb25"
      },
      "execution_count": 18,
      "outputs": [
        {
          "output_type": "stream",
          "name": "stdout",
          "text": [
            "+--------------------+--------------+--------------------+--------------------+-------------------+------+-----+-----------+----------+----------+--------+\n",
            "|           id_pedido|item_id_pedido|          id_produto|         id_vendedor|  data_limite_envio| preco|frete|valor_total|      data|   data_br|    hora|\n",
            "+--------------------+--------------+--------------------+--------------------+-------------------+------+-----+-----------+----------+----------+--------+\n",
            "|00010242fe8c5a6d1...|             1|4244733e06e7ecb49...|48436dade18ac8b2b...|2017-09-19 09:45:35|  58.9|13.29|      72.19|2017-09-19|19/09/2017|09:45:35|\n",
            "|00018f77f2f0320c5...|             1|e5f2d52b802189ee6...|dd7ddc04e1b6c2c61...|2017-05-03 11:05:13| 239.9|19.93|     259.83|2017-05-03|03/05/2017|11:05:13|\n",
            "|000229ec398224ef6...|             1|c777355d18b72b67a...|5b51032eddd242adc...|2018-01-18 14:48:30| 199.0|17.87|     216.87|2018-01-18|18/01/2018|14:48:30|\n",
            "|00024acbcdf0a6daa...|             1|7634da152a4610f15...|9d7a1d34a50524090...|2018-08-15 10:10:18| 12.99|12.79|  25.779999|2018-08-15|15/08/2018|10:10:18|\n",
            "|00042b26cf59d7ce6...|             1|ac6c3623068f30de0...|df560393f3a51e745...|2017-02-13 13:57:51| 199.9|18.14|     218.04|2017-02-13|13/02/2017|13:57:51|\n",
            "|00048cc3ae777c65d...|             1|ef92defde845ab845...|6426d21aca402a131...|2017-05-23 03:55:27|  21.9|12.69|      34.59|2017-05-23|23/05/2017|03:55:27|\n",
            "|00054e8431b9d7675...|             1|8d4f2bb7e93e6710a...|7040e82f899a04d1b...|2017-12-14 12:10:31|  19.9|11.85|      31.75|2017-12-14|14/12/2017|12:10:31|\n",
            "|000576fe39319847c...|             1|557d850972a7d6f79...|5996cddab893a4652...|2018-07-10 12:30:45| 810.0|70.75|     880.75|2018-07-10|10/07/2018|12:30:45|\n",
            "|0005a1a1728c9d785...|             1|310ae3c140ff94b03...|a416b6a846a117243...|2018-03-26 18:31:29|145.95|11.65|  157.59999|2018-03-26|26/03/2018|18:31:29|\n",
            "|0005f50442cb953dc...|             1|4535b0e1091c278df...|ba143b05f0110f0dc...|2018-07-06 14:10:56| 53.99| 11.4|      65.39|2018-07-06|06/07/2018|14:10:56|\n",
            "|00061f2a7bc09da83...|             1|d63c1011f49d98b97...|cc419e0650a3c5ba7...|2018-03-29 22:28:09| 59.99| 8.88|      68.87|2018-03-29|29/03/2018|22:28:09|\n",
            "|00063b381e2406b52...|             1|f177554ea93259a5b...|8602a61d680a10a82...|2018-07-31 17:30:39|  45.0|12.98|      57.98|2018-07-31|31/07/2018|17:30:39|\n",
            "|0006ec9db01a64e59...|             1|99a4788cb24856965...|4a3ca9315b744ce9f...|2018-07-26 17:24:20|  74.0|23.32|      97.32|2018-07-26|26/07/2018|17:24:20|\n",
            "|0008288aa423d2a3f...|             1|368c6c730842d7801...|1f50f920176fa81da...|2018-02-21 02:55:52|  49.9|13.37|      63.27|2018-02-21|21/02/2018|02:55:52|\n",
            "|0008288aa423d2a3f...|             2|368c6c730842d7801...|1f50f920176fa81da...|2018-02-21 02:55:52|  49.9|13.37|      63.27|2018-02-21|21/02/2018|02:55:52|\n",
            "|0009792311464db53...|             1|8cab8abac59158715...|530ec6109d11eaaf8...|2018-08-17 12:15:10|  99.9|27.65|     127.55|2018-08-17|17/08/2018|12:15:10|\n",
            "|0009c9a17f916a706...|             1|3f27ac8e699df3d30...|fcb5ace8bcc92f757...|2018-05-02 09:31:53| 639.0|11.34|     650.34|2018-05-02|02/05/2018|09:31:53|\n",
            "|000aed2e25dbad2f9...|             1|4fa33915031a8cde0...|fe2032dab1a61af87...|2018-05-16 20:57:03| 144.0| 8.77|     152.77|2018-05-16|16/05/2018|20:57:03|\n",
            "|000c3e6612759851c...|             1|b50c950aba0dcead2...|218d46b86c1881d02...|2017-08-21 03:33:13|  99.0|13.71|     112.71|2017-08-21|21/08/2017|03:33:13|\n",
            "|000e562887b1f2006...|             1|5ed9eaf534f6936b5...|8cbac7e12637ed9cf...|2018-02-28 12:08:37|  25.0|16.11|      41.11|2018-02-28|28/02/2018|12:08:37|\n",
            "+--------------------+--------------+--------------------+--------------------+-------------------+------+-----+-----------+----------+----------+--------+\n",
            "only showing top 20 rows\n",
            "\n",
            "root\n",
            " |-- id_pedido: string (nullable = true)\n",
            " |-- item_id_pedido: integer (nullable = true)\n",
            " |-- id_produto: string (nullable = true)\n",
            " |-- id_vendedor: string (nullable = true)\n",
            " |-- data_limite_envio: timestamp (nullable = true)\n",
            " |-- preco: float (nullable = true)\n",
            " |-- frete: float (nullable = true)\n",
            " |-- valor_total: float (nullable = true)\n",
            " |-- data: date (nullable = true)\n",
            " |-- data_br: string (nullable = true)\n",
            " |-- hora: string (nullable = true)\n",
            "\n",
            "+--------------------+--------------+--------------------+--------------------+-------------------+------+-----+-----------+----------+----------+--------+\n",
            "|           id_pedido|item_id_pedido|          id_produto|         id_vendedor|  data_limite_envio| preco|frete|valor_total|      data|   data_br|    hora|\n",
            "+--------------------+--------------+--------------------+--------------------+-------------------+------+-----+-----------+----------+----------+--------+\n",
            "|00010242fe8c5a6d1...|             1|4244733e06e7ecb49...|48436dade18ac8b2b...|2017-09-19 09:45:35|  58.9|13.29|      72.19|2017-09-19|19/09/2017|09:45:35|\n",
            "|00018f77f2f0320c5...|             1|e5f2d52b802189ee6...|dd7ddc04e1b6c2c61...|2017-05-03 11:05:13| 239.9|19.93|     259.83|2017-05-03|03/05/2017|11:05:13|\n",
            "|000229ec398224ef6...|             1|c777355d18b72b67a...|5b51032eddd242adc...|2018-01-18 14:48:30| 199.0|17.87|     216.87|2018-01-18|18/01/2018|14:48:30|\n",
            "|00024acbcdf0a6daa...|             1|7634da152a4610f15...|9d7a1d34a50524090...|2018-08-15 10:10:18| 12.99|12.79|  25.779999|2018-08-15|15/08/2018|10:10:18|\n",
            "|00042b26cf59d7ce6...|             1|ac6c3623068f30de0...|df560393f3a51e745...|2017-02-13 13:57:51| 199.9|18.14|     218.04|2017-02-13|13/02/2017|13:57:51|\n",
            "|00048cc3ae777c65d...|             1|ef92defde845ab845...|6426d21aca402a131...|2017-05-23 03:55:27|  21.9|12.69|      34.59|2017-05-23|23/05/2017|03:55:27|\n",
            "|00054e8431b9d7675...|             1|8d4f2bb7e93e6710a...|7040e82f899a04d1b...|2017-12-14 12:10:31|  19.9|11.85|      31.75|2017-12-14|14/12/2017|12:10:31|\n",
            "|000576fe39319847c...|             1|557d850972a7d6f79...|5996cddab893a4652...|2018-07-10 12:30:45| 810.0|70.75|     880.75|2018-07-10|10/07/2018|12:30:45|\n",
            "|0005a1a1728c9d785...|             1|310ae3c140ff94b03...|a416b6a846a117243...|2018-03-26 18:31:29|145.95|11.65|  157.59999|2018-03-26|26/03/2018|18:31:29|\n",
            "|0005f50442cb953dc...|             1|4535b0e1091c278df...|ba143b05f0110f0dc...|2018-07-06 14:10:56| 53.99| 11.4|      65.39|2018-07-06|06/07/2018|14:10:56|\n",
            "|00061f2a7bc09da83...|             1|d63c1011f49d98b97...|cc419e0650a3c5ba7...|2018-03-29 22:28:09| 59.99| 8.88|      68.87|2018-03-29|29/03/2018|22:28:09|\n",
            "|00063b381e2406b52...|             1|f177554ea93259a5b...|8602a61d680a10a82...|2018-07-31 17:30:39|  45.0|12.98|      57.98|2018-07-31|31/07/2018|17:30:39|\n",
            "|0006ec9db01a64e59...|             1|99a4788cb24856965...|4a3ca9315b744ce9f...|2018-07-26 17:24:20|  74.0|23.32|      97.32|2018-07-26|26/07/2018|17:24:20|\n",
            "|0008288aa423d2a3f...|             1|368c6c730842d7801...|1f50f920176fa81da...|2018-02-21 02:55:52|  49.9|13.37|      63.27|2018-02-21|21/02/2018|02:55:52|\n",
            "|0008288aa423d2a3f...|             2|368c6c730842d7801...|1f50f920176fa81da...|2018-02-21 02:55:52|  49.9|13.37|      63.27|2018-02-21|21/02/2018|02:55:52|\n",
            "|0009792311464db53...|             1|8cab8abac59158715...|530ec6109d11eaaf8...|2018-08-17 12:15:10|  99.9|27.65|     127.55|2018-08-17|17/08/2018|12:15:10|\n",
            "|0009c9a17f916a706...|             1|3f27ac8e699df3d30...|fcb5ace8bcc92f757...|2018-05-02 09:31:53| 639.0|11.34|     650.34|2018-05-02|02/05/2018|09:31:53|\n",
            "|000aed2e25dbad2f9...|             1|4fa33915031a8cde0...|fe2032dab1a61af87...|2018-05-16 20:57:03| 144.0| 8.77|     152.77|2018-05-16|16/05/2018|20:57:03|\n",
            "|000c3e6612759851c...|             1|b50c950aba0dcead2...|218d46b86c1881d02...|2017-08-21 03:33:13|  99.0|13.71|     112.71|2017-08-21|21/08/2017|03:33:13|\n",
            "|000e562887b1f2006...|             1|5ed9eaf534f6936b5...|8cbac7e12637ed9cf...|2018-02-28 12:08:37|  25.0|16.11|      41.11|2018-02-28|28/02/2018|12:08:37|\n",
            "+--------------------+--------------+--------------------+--------------------+-------------------+------+-----+-----------+----------+----------+--------+\n",
            "only showing top 20 rows\n",
            "\n",
            "root\n",
            " |-- id_pedido: string (nullable = true)\n",
            " |-- item_id_pedido: integer (nullable = true)\n",
            " |-- id_produto: string (nullable = true)\n",
            " |-- id_vendedor: string (nullable = true)\n",
            " |-- data_limite_envio: timestamp (nullable = true)\n",
            " |-- preco: float (nullable = true)\n",
            " |-- frete: float (nullable = true)\n",
            " |-- valor_total: float (nullable = true)\n",
            " |-- data: date (nullable = true)\n",
            " |-- data_br: string (nullable = true)\n",
            " |-- hora: string (nullable = true)\n",
            "\n"
          ]
        }
      ]
    },
    {
      "cell_type": "code",
      "source": [
        "itens_pedido_data_df.write.mode('overwrite').option('header', 'true').csv('itens_pedido_tratados.csv')"
      ],
      "metadata": {
        "id": "g7OnINaiRRpQ"
      },
      "execution_count": 20,
      "outputs": []
    },
    {
      "cell_type": "code",
      "source": [],
      "metadata": {
        "id": "WVM0VnoKT6Mj"
      },
      "execution_count": null,
      "outputs": []
    },
    {
      "cell_type": "code",
      "source": [
        "itens_pedido_data_df.write.mode('overwrite').option('header', 'true').csv('/content/drive/MyDrive/Colab Notebooks/spark/itens_pedido_tratada_csv')"
      ],
      "metadata": {
        "id": "pa9I6biVTUMn"
      },
      "execution_count": 22,
      "outputs": []
    },
    {
      "cell_type": "code",
      "source": [
        "spark.read.option('header', 'true').csv('/content/drive/MyDrive/Colab Notebooks/spark/itens_pedido_tratada_csv').show(5)"
      ],
      "metadata": {
        "colab": {
          "base_uri": "https://localhost:8080/"
        },
        "id": "5uTGfPQGUQLc",
        "outputId": "5b9a4a3b-3123-44aa-8828-020f6ad46f0e"
      },
      "execution_count": 23,
      "outputs": [
        {
          "output_type": "stream",
          "name": "stdout",
          "text": [
            "+--------------------+--------------+--------------------+--------------------+--------------------+-----+-----+-----------+----------+----------+--------+\n",
            "|           id_pedido|item_id_pedido|          id_produto|         id_vendedor|   data_limite_envio|preco|frete|valor_total|      data|   data_br|    hora|\n",
            "+--------------------+--------------+--------------------+--------------------+--------------------+-----+-----+-----------+----------+----------+--------+\n",
            "|00010242fe8c5a6d1...|             1|4244733e06e7ecb49...|48436dade18ac8b2b...|2017-09-19T09:45:...| 58.9|13.29|      72.19|2017-09-19|19/09/2017|09:45:35|\n",
            "|00018f77f2f0320c5...|             1|e5f2d52b802189ee6...|dd7ddc04e1b6c2c61...|2017-05-03T11:05:...|239.9|19.93|     259.83|2017-05-03|03/05/2017|11:05:13|\n",
            "|000229ec398224ef6...|             1|c777355d18b72b67a...|5b51032eddd242adc...|2018-01-18T14:48:...|199.0|17.87|     216.87|2018-01-18|18/01/2018|14:48:30|\n",
            "|00024acbcdf0a6daa...|             1|7634da152a4610f15...|9d7a1d34a50524090...|2018-08-15T10:10:...|12.99|12.79|  25.779999|2018-08-15|15/08/2018|10:10:18|\n",
            "|00042b26cf59d7ce6...|             1|ac6c3623068f30de0...|df560393f3a51e745...|2017-02-13T13:57:...|199.9|18.14|     218.04|2017-02-13|13/02/2017|13:57:51|\n",
            "+--------------------+--------------+--------------------+--------------------+--------------------+-----+-----+-----------+----------+----------+--------+\n",
            "only showing top 5 rows\n",
            "\n"
          ]
        }
      ]
    },
    {
      "cell_type": "code",
      "source": [
        "spark.stop()"
      ],
      "metadata": {
        "id": "pm4YrLdYUpLO"
      },
      "execution_count": 24,
      "outputs": []
    }
  ]
}