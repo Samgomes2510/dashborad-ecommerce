{
  "nbformat": 4,
  "nbformat_minor": 0,
  "metadata": {
    "colab": {
      "provenance": [],
      "authorship_tag": "ABX9TyMF1Is1SXdNzhyaIUJIe9JU",
      "include_colab_link": true
    },
    "kernelspec": {
      "name": "python3",
      "display_name": "Python 3"
    },
    "language_info": {
      "name": "python"
    }
  },
  "cells": [
    {
      "cell_type": "markdown",
      "metadata": {
        "id": "view-in-github",
        "colab_type": "text"
      },
      "source": [
        "<a href=\"https://colab.research.google.com/github/Samgomes2510/dashborad-ecommerce/blob/main/1_SQL.ipynb\" target=\"_parent\"><img src=\"https://colab.research.google.com/assets/colab-badge.svg\" alt=\"Open In Colab\"/></a>"
      ]
    },
    {
      "cell_type": "code",
      "execution_count": 1,
      "metadata": {
        "colab": {
          "base_uri": "https://localhost:8080/"
        },
        "id": "4G5XGfYPuXvB",
        "outputId": "c5e93f6b-fd5e-4f13-aae2-5b9c56357a35"
      },
      "outputs": [
        {
          "output_type": "stream",
          "name": "stdout",
          "text": [
            "Collecting spark\n",
            "  Downloading spark-0.2.1.tar.gz (41 kB)\n",
            "\u001b[?25l     \u001b[90m━━━━━━━━━━━━━━━━━━━━━━━━━━━━━━━━━━━━━━━━\u001b[0m \u001b[32m0.0/41.0 kB\u001b[0m \u001b[31m?\u001b[0m eta \u001b[36m-:--:--\u001b[0m\r\u001b[2K     \u001b[90m━━━━━━━━━━━━━━━━━━━━━━━━━━━━━━━━━━━━━━━━\u001b[0m \u001b[32m41.0/41.0 kB\u001b[0m \u001b[31m1.1 MB/s\u001b[0m eta \u001b[36m0:00:00\u001b[0m\n",
            "\u001b[?25h  Preparing metadata (setup.py) ... \u001b[?25l\u001b[?25hdone\n",
            "Building wheels for collected packages: spark\n",
            "  Building wheel for spark (setup.py) ... \u001b[?25l\u001b[?25hdone\n",
            "  Created wheel for spark: filename=spark-0.2.1-py3-none-any.whl size=58748 sha256=6893a7ba4de26421a3857d3f3bc8cb1cd13d817c616280d8821afbeb188bcba6\n",
            "  Stored in directory: /root/.cache/pip/wheels/67/c2/7c/a53325365fba358ffff35af84a2e14cf88c18052f88acfa5f0\n",
            "Successfully built spark\n",
            "Installing collected packages: spark\n",
            "Successfully installed spark-0.2.1\n"
          ]
        }
      ],
      "source": [
        "!pip install spark"
      ]
    },
    {
      "cell_type": "code",
      "source": [
        "import pyspark\n",
        "from pyspark.sql import SparkSession\n",
        "from pyspark.sql.functions import *"
      ],
      "metadata": {
        "id": "hyJEqgQyuc9J"
      },
      "execution_count": 2,
      "outputs": []
    },
    {
      "cell_type": "code",
      "source": [
        "from google.colab import files\n",
        "uploaded = files.upload()"
      ],
      "metadata": {
        "colab": {
          "base_uri": "https://localhost:8080/",
          "height": 281
        },
        "id": "SrDqYvIEu1Fu",
        "outputId": "69d2173e-970c-4a3b-c52b-1799b9f75b48"
      },
      "execution_count": 3,
      "outputs": [
        {
          "output_type": "display_data",
          "data": {
            "text/plain": [
              "<IPython.core.display.HTML object>"
            ],
            "text/html": [
              "\n",
              "     <input type=\"file\" id=\"files-99a0c93f-d1e4-4988-9469-a125fb7c4ff6\" name=\"files[]\" multiple disabled\n",
              "        style=\"border:none\" />\n",
              "     <output id=\"result-99a0c93f-d1e4-4988-9469-a125fb7c4ff6\">\n",
              "      Upload widget is only available when the cell has been executed in the\n",
              "      current browser session. Please rerun this cell to enable.\n",
              "      </output>\n",
              "      <script>// Copyright 2017 Google LLC\n",
              "//\n",
              "// Licensed under the Apache License, Version 2.0 (the \"License\");\n",
              "// you may not use this file except in compliance with the License.\n",
              "// You may obtain a copy of the License at\n",
              "//\n",
              "//      http://www.apache.org/licenses/LICENSE-2.0\n",
              "//\n",
              "// Unless required by applicable law or agreed to in writing, software\n",
              "// distributed under the License is distributed on an \"AS IS\" BASIS,\n",
              "// WITHOUT WARRANTIES OR CONDITIONS OF ANY KIND, either express or implied.\n",
              "// See the License for the specific language governing permissions and\n",
              "// limitations under the License.\n",
              "\n",
              "/**\n",
              " * @fileoverview Helpers for google.colab Python module.\n",
              " */\n",
              "(function(scope) {\n",
              "function span(text, styleAttributes = {}) {\n",
              "  const element = document.createElement('span');\n",
              "  element.textContent = text;\n",
              "  for (const key of Object.keys(styleAttributes)) {\n",
              "    element.style[key] = styleAttributes[key];\n",
              "  }\n",
              "  return element;\n",
              "}\n",
              "\n",
              "// Max number of bytes which will be uploaded at a time.\n",
              "const MAX_PAYLOAD_SIZE = 100 * 1024;\n",
              "\n",
              "function _uploadFiles(inputId, outputId) {\n",
              "  const steps = uploadFilesStep(inputId, outputId);\n",
              "  const outputElement = document.getElementById(outputId);\n",
              "  // Cache steps on the outputElement to make it available for the next call\n",
              "  // to uploadFilesContinue from Python.\n",
              "  outputElement.steps = steps;\n",
              "\n",
              "  return _uploadFilesContinue(outputId);\n",
              "}\n",
              "\n",
              "// This is roughly an async generator (not supported in the browser yet),\n",
              "// where there are multiple asynchronous steps and the Python side is going\n",
              "// to poll for completion of each step.\n",
              "// This uses a Promise to block the python side on completion of each step,\n",
              "// then passes the result of the previous step as the input to the next step.\n",
              "function _uploadFilesContinue(outputId) {\n",
              "  const outputElement = document.getElementById(outputId);\n",
              "  const steps = outputElement.steps;\n",
              "\n",
              "  const next = steps.next(outputElement.lastPromiseValue);\n",
              "  return Promise.resolve(next.value.promise).then((value) => {\n",
              "    // Cache the last promise value to make it available to the next\n",
              "    // step of the generator.\n",
              "    outputElement.lastPromiseValue = value;\n",
              "    return next.value.response;\n",
              "  });\n",
              "}\n",
              "\n",
              "/**\n",
              " * Generator function which is called between each async step of the upload\n",
              " * process.\n",
              " * @param {string} inputId Element ID of the input file picker element.\n",
              " * @param {string} outputId Element ID of the output display.\n",
              " * @return {!Iterable<!Object>} Iterable of next steps.\n",
              " */\n",
              "function* uploadFilesStep(inputId, outputId) {\n",
              "  const inputElement = document.getElementById(inputId);\n",
              "  inputElement.disabled = false;\n",
              "\n",
              "  const outputElement = document.getElementById(outputId);\n",
              "  outputElement.innerHTML = '';\n",
              "\n",
              "  const pickedPromise = new Promise((resolve) => {\n",
              "    inputElement.addEventListener('change', (e) => {\n",
              "      resolve(e.target.files);\n",
              "    });\n",
              "  });\n",
              "\n",
              "  const cancel = document.createElement('button');\n",
              "  inputElement.parentElement.appendChild(cancel);\n",
              "  cancel.textContent = 'Cancel upload';\n",
              "  const cancelPromise = new Promise((resolve) => {\n",
              "    cancel.onclick = () => {\n",
              "      resolve(null);\n",
              "    };\n",
              "  });\n",
              "\n",
              "  // Wait for the user to pick the files.\n",
              "  const files = yield {\n",
              "    promise: Promise.race([pickedPromise, cancelPromise]),\n",
              "    response: {\n",
              "      action: 'starting',\n",
              "    }\n",
              "  };\n",
              "\n",
              "  cancel.remove();\n",
              "\n",
              "  // Disable the input element since further picks are not allowed.\n",
              "  inputElement.disabled = true;\n",
              "\n",
              "  if (!files) {\n",
              "    return {\n",
              "      response: {\n",
              "        action: 'complete',\n",
              "      }\n",
              "    };\n",
              "  }\n",
              "\n",
              "  for (const file of files) {\n",
              "    const li = document.createElement('li');\n",
              "    li.append(span(file.name, {fontWeight: 'bold'}));\n",
              "    li.append(span(\n",
              "        `(${file.type || 'n/a'}) - ${file.size} bytes, ` +\n",
              "        `last modified: ${\n",
              "            file.lastModifiedDate ? file.lastModifiedDate.toLocaleDateString() :\n",
              "                                    'n/a'} - `));\n",
              "    const percent = span('0% done');\n",
              "    li.appendChild(percent);\n",
              "\n",
              "    outputElement.appendChild(li);\n",
              "\n",
              "    const fileDataPromise = new Promise((resolve) => {\n",
              "      const reader = new FileReader();\n",
              "      reader.onload = (e) => {\n",
              "        resolve(e.target.result);\n",
              "      };\n",
              "      reader.readAsArrayBuffer(file);\n",
              "    });\n",
              "    // Wait for the data to be ready.\n",
              "    let fileData = yield {\n",
              "      promise: fileDataPromise,\n",
              "      response: {\n",
              "        action: 'continue',\n",
              "      }\n",
              "    };\n",
              "\n",
              "    // Use a chunked sending to avoid message size limits. See b/62115660.\n",
              "    let position = 0;\n",
              "    do {\n",
              "      const length = Math.min(fileData.byteLength - position, MAX_PAYLOAD_SIZE);\n",
              "      const chunk = new Uint8Array(fileData, position, length);\n",
              "      position += length;\n",
              "\n",
              "      const base64 = btoa(String.fromCharCode.apply(null, chunk));\n",
              "      yield {\n",
              "        response: {\n",
              "          action: 'append',\n",
              "          file: file.name,\n",
              "          data: base64,\n",
              "        },\n",
              "      };\n",
              "\n",
              "      let percentDone = fileData.byteLength === 0 ?\n",
              "          100 :\n",
              "          Math.round((position / fileData.byteLength) * 100);\n",
              "      percent.textContent = `${percentDone}% done`;\n",
              "\n",
              "    } while (position < fileData.byteLength);\n",
              "  }\n",
              "\n",
              "  // All done.\n",
              "  yield {\n",
              "    response: {\n",
              "      action: 'complete',\n",
              "    }\n",
              "  };\n",
              "}\n",
              "\n",
              "scope.google = scope.google || {};\n",
              "scope.google.colab = scope.google.colab || {};\n",
              "scope.google.colab._files = {\n",
              "  _uploadFiles,\n",
              "  _uploadFilesContinue,\n",
              "};\n",
              "})(self);\n",
              "</script> "
            ]
          },
          "metadata": {}
        },
        {
          "output_type": "stream",
          "name": "stdout",
          "text": [
            "Saving avaliacoes_pedido.csv to avaliacoes_pedido.csv\n",
            "Saving clientes.csv to clientes.csv\n",
            "Saving itens_pedido.csv to itens_pedido.csv\n",
            "Saving pagamentos_pedido.csv to pagamentos_pedido.csv\n",
            "Saving pedidos.csv to pedidos.csv\n",
            "Saving produtos.csv to produtos.csv\n",
            "Saving vendedores.csv to vendedores.csv\n"
          ]
        }
      ]
    },
    {
      "cell_type": "code",
      "source": [
        "from google.colab import drive\n",
        "drive.mount('/content/drive')"
      ],
      "metadata": {
        "colab": {
          "base_uri": "https://localhost:8080/"
        },
        "id": "18c0yN4Ju5xy",
        "outputId": "5ddaa232-be9c-42e9-852f-eb869b1b82ce"
      },
      "execution_count": 4,
      "outputs": [
        {
          "output_type": "stream",
          "name": "stdout",
          "text": [
            "Mounted at /content/drive\n"
          ]
        }
      ]
    },
    {
      "cell_type": "code",
      "source": [
        "spark = SparkSession.builder.getOrCreate()"
      ],
      "metadata": {
        "id": "TW_Z2KFhvHK4"
      },
      "execution_count": 5,
      "outputs": []
    },
    {
      "cell_type": "code",
      "source": [
        "produtos = spark.read.csv(\"produtos.csv\", inferSchema=True, header=True)\n",
        "vendedores = spark.read.csv(\"vendedores.csv\", inferSchema=True, header=True)\n",
        "clientes = spark.read.csv(\"clientes.csv\", inferSchema=True, header=True)\n",
        "pagamentos_pedido = spark.read.csv(\"pagamentos_pedido.csv\", inferSchema=True, header=True)\n",
        "itens_pedido = spark.read.csv(\"itens_pedido.csv\", inferSchema=True, header=True)\n",
        "avaliacoes_pedido = spark.read.csv(\"avaliacoes_pedido.csv\", inferSchema=True, header=True)\n",
        "pedidos = spark.read.csv(\"pedidos.csv\", inferSchema=True, header=True)\n"
      ],
      "metadata": {
        "id": "EFDNgk9GvMFf"
      },
      "execution_count": 29,
      "outputs": []
    },
    {
      "cell_type": "code",
      "source": [
        "produtos.show()\n",
        "vendedores.show()\n",
        "clientes.show()\n",
        "itens_pedido.show()\n",
        "pagamentos_pedido.show()\n",
        "avaliacoes_pedido.show()\n",
        "pedidos.show()"
      ],
      "metadata": {
        "colab": {
          "base_uri": "https://localhost:8080/"
        },
        "id": "GgJpCXrZwOeJ",
        "outputId": "3a6193f6-8cbf-42a0-c496-660f0aab9f1e"
      },
      "execution_count": 30,
      "outputs": [
        {
          "output_type": "stream",
          "name": "stdout",
          "text": [
            "+--------------------+--------------------+--------------------+-------------------------+------------------------+--------------+----------------------+-----------------+------------------+\n",
            "|          id_produto|   categoria_produto|tamanho_nome_produto|tamanho_descricao_produto|quantidade_fotos_produto|peso_produto_g|comprimento_produto_cm|altura_produto_cm|largura_produto_cm|\n",
            "+--------------------+--------------------+--------------------+-------------------------+------------------------+--------------+----------------------+-----------------+------------------+\n",
            "|1e9e8ef04dbcff454...|          perfumaria|                  40|                      287|                       1|           225|                    16|               10|                14|\n",
            "|3aa071139cb16b67c...|               artes|                  44|                      276|                       1|          1000|                    30|               18|                20|\n",
            "|96bd76ec8810374ed...|       esporte_lazer|                  46|                      250|                       1|           154|                    18|                9|                15|\n",
            "|cef67bcfe19066a93...|               bebes|                  27|                      261|                       1|           371|                    26|                4|                26|\n",
            "|9dc1a7de274444849...|utilidades_domest...|                  37|                      402|                       4|           625|                    20|               17|                13|\n",
            "|41d3672d4792049fa...|instrumentos_musi...|                  60|                      745|                       1|           200|                    38|                5|                11|\n",
            "|732bd381ad09e530f...|          cool_stuff|                  56|                     1272|                       4|         18350|                    70|               24|                44|\n",
            "|2548af3e6e77a690c...|    moveis_decoracao|                  56|                      184|                       2|           900|                    40|                8|                40|\n",
            "|37cc742be07708b53...|    eletrodomesticos|                  57|                      163|                       1|           400|                    27|               13|                17|\n",
            "|8c92109888e8cdf9d...|          brinquedos|                  36|                     1156|                       1|           600|                    17|               10|                12|\n",
            "|14aa47b7fe5c25522...|     cama_mesa_banho|                  54|                      630|                       1|          1100|                    16|               10|                16|\n",
            "|03b63c5fc16691530...|               bebes|                  49|                      728|                       4|          7150|                    50|               19|                45|\n",
            "|cf55509ea8edaaac1...|instrumentos_musi...|                  43|                     1827|                       3|           250|                    17|                7|                17|\n",
            "|7bb6f29c2be577161...|    moveis_decoracao|                  51|                     2083|                       2|           600|                    68|               11|                13|\n",
            "|eb31436580a610f20...|construcao_ferram...|                  59|                     1602|                       4|           200|                    17|                7|                17|\n",
            "|3bb7f144022e67327...|       esporte_lazer|                  22|                     3021|                       1|           800|                    16|                2|                11|\n",
            "|6a2fb4dd53d2cdb88...|          perfumaria|                  39|                      346|                       2|           400|                    27|                5|                20|\n",
            "|a1b71017a84f92fd8...|informatica_acess...|                  59|                      636|                       1|           900|                    40|               15|                20|\n",
            "|a0736b92e52f6cead...|    moveis_decoracao|                  56|                      296|                       2|          1700|                   100|                7|                15|\n",
            "|f53103a77d9cf245e...|     cama_mesa_banho|                  52|                      206|                       1|           500|                    16|               10|                16|\n",
            "+--------------------+--------------------+--------------------+-------------------------+------------------------+--------------+----------------------+-----------------+------------------+\n",
            "only showing top 20 rows\n",
            "\n",
            "+--------------------+------------+-----------------+---------------+\n",
            "|         id_vendedor|cep_vendedor|  cidade_vendedor|estado_vendedor|\n",
            "+--------------------+------------+-----------------+---------------+\n",
            "|3442f8959a84dea7e...|       13023|         campinas|             SP|\n",
            "|d1b65fc7debc3361e...|       13844|       mogi guacu|             SP|\n",
            "|ce3ad9de960102d06...|       20031|   rio de janeiro|             RJ|\n",
            "|c0f3eea2e14555b6f...|        4195|        sao paulo|             SP|\n",
            "|51a04a8a6bdcb23de...|       12914|braganca paulista|             SP|\n",
            "|c240c4061717ac180...|       20920|   rio de janeiro|             RJ|\n",
            "|e49c26c3edfa46d22...|       55325|           brejao|             PE|\n",
            "|1b938a7ec6ac5061a...|       16304|        penapolis|             SP|\n",
            "|768a86e36ad6aae3d...|        1529|        sao paulo|             SP|\n",
            "|ccc4bbb5f32a6ab2b...|       80310|         curitiba|             PR|\n",
            "|8cb7c5ddf41f4d506...|       75110|         anapolis|             GO|\n",
            "|a7a9b880c49781da6...|       13530|        itirapina|             SP|\n",
            "|8bd0f31cf0a614c65...|        1222|        sao paulo|             SP|\n",
            "|05a48cc8859962767...|        5372|        sao paulo|             SP|\n",
            "|7b8e8ec35bad4b0ef...|       88705|          tubarao|             SC|\n",
            "|1444c08e64d55fb3c...|       42738| lauro de freitas|             BA|\n",
            "|166e8f1381e096519...|       88780|         imbituba|             SC|\n",
            "|e38db885400cd35c7...|       70740|         brasilia|             DF|\n",
            "|d2e753bb80b7d4faa...|       45810|     porto seguro|             BA|\n",
            "|f9ec7093df3a7b346...|        5138|        sao paulo|             SP|\n",
            "+--------------------+------------+-----------------+---------------+\n",
            "only showing top 20 rows\n",
            "\n",
            "+--------------------+--------------------+-----------+--------------------+--------------+\n",
            "|          id_cliente|    id_unico_cliente|cep_cliente|      cidade_cliente|estado_cliente|\n",
            "+--------------------+--------------------+-----------+--------------------+--------------+\n",
            "|06b8999e2fba1a1fb...|861eff4711a542e4b...|      14409|              franca|            SP|\n",
            "|18955e83d337fd6b2...|290c77bc529b7ac93...|       9790|sao bernardo do c...|            SP|\n",
            "|4e7b3e00288586ebd...|060e732b5b29e8181...|       1151|           sao paulo|            SP|\n",
            "|b2b6027bc5c5109e5...|259dac757896d24d7...|       8775|     mogi das cruzes|            SP|\n",
            "|4f2d8ab171c80ec83...|345ecd01c38d18a90...|      13056|            campinas|            SP|\n",
            "|879864dab9bc30475...|4c93744516667ad3b...|      89254|      jaragua do sul|            SC|\n",
            "|fd826e7cf63160e53...|addec96d2e059c80c...|       4534|           sao paulo|            SP|\n",
            "|5e274e7a0c3809e14...|57b2a98a409812fe9...|      35182|             timoteo|            MG|\n",
            "|5adf08e34b2e99398...|1175e95fb47ddff9d...|      81560|            curitiba|            PR|\n",
            "|4b7139f34592b3a31...|9afe194fb833f79e3...|      30575|      belo horizonte|            MG|\n",
            "|9fb35e4ed6f0a14a4...|2a7745e1ed516b289...|      39400|       montes claros|            MG|\n",
            "|5aa9e4fdd4dfd2095...|2a46fb94aef5cbeeb...|      20231|      rio de janeiro|            RJ|\n",
            "|b2d1536598b73a9ab...|918dc87cd72cd9f6e...|      18682|    lencois paulista|            SP|\n",
            "|eabebad39a88bb6f5...|295c05e81917928d7...|       5704|           sao paulo|            SP|\n",
            "|1f1c7bf1c9b041b29...|3151a81801c838636...|      95110|       caxias do sul|            RS|\n",
            "|206f3129c0e4d7d0b...|21f748a16f4e1688a...|      13412|          piracicaba|            SP|\n",
            "|a7c125a0a07b75146...|5c2991dbd08bbf3cf...|      22750|      rio de janeiro|            RJ|\n",
            "|c5c61596a3b6bd0ce...|b6e99561fe6f34a55...|       7124|           guarulhos|            SP|\n",
            "|9b8ce803689b3562d...|7f3a72e8f988c6e73...|       5416|           sao paulo|            SP|\n",
            "|49d0ea0986edde72d...|3e6fd6b2f0d499456...|      68485|              pacaja|            PA|\n",
            "+--------------------+--------------------+-----------+--------------------+--------------+\n",
            "only showing top 20 rows\n",
            "\n",
            "+--------------------+--------------+--------------------+--------------------+-------------------+------+-----------+\n",
            "|           id_pedido|item_id_pedido|          id_produto|         id_vendedor|  data_limite_envio| preco|valor_frete|\n",
            "+--------------------+--------------+--------------------+--------------------+-------------------+------+-----------+\n",
            "|00010242fe8c5a6d1...|             1|4244733e06e7ecb49...|48436dade18ac8b2b...|2017-09-19 09:45:35|  58.9|      13.29|\n",
            "|00018f77f2f0320c5...|             1|e5f2d52b802189ee6...|dd7ddc04e1b6c2c61...|2017-05-03 11:05:13| 239.9|      19.93|\n",
            "|000229ec398224ef6...|             1|c777355d18b72b67a...|5b51032eddd242adc...|2018-01-18 14:48:30| 199.0|      17.87|\n",
            "|00024acbcdf0a6daa...|             1|7634da152a4610f15...|9d7a1d34a50524090...|2018-08-15 10:10:18| 12.99|      12.79|\n",
            "|00042b26cf59d7ce6...|             1|ac6c3623068f30de0...|df560393f3a51e745...|2017-02-13 13:57:51| 199.9|      18.14|\n",
            "|00048cc3ae777c65d...|             1|ef92defde845ab845...|6426d21aca402a131...|2017-05-23 03:55:27|  21.9|      12.69|\n",
            "|00054e8431b9d7675...|             1|8d4f2bb7e93e6710a...|7040e82f899a04d1b...|2017-12-14 12:10:31|  19.9|      11.85|\n",
            "|000576fe39319847c...|             1|557d850972a7d6f79...|5996cddab893a4652...|2018-07-10 12:30:45| 810.0|      70.75|\n",
            "|0005a1a1728c9d785...|             1|310ae3c140ff94b03...|a416b6a846a117243...|2018-03-26 18:31:29|145.95|      11.65|\n",
            "|0005f50442cb953dc...|             1|4535b0e1091c278df...|ba143b05f0110f0dc...|2018-07-06 14:10:56| 53.99|       11.4|\n",
            "|00061f2a7bc09da83...|             1|d63c1011f49d98b97...|cc419e0650a3c5ba7...|2018-03-29 22:28:09| 59.99|       8.88|\n",
            "|00063b381e2406b52...|             1|f177554ea93259a5b...|8602a61d680a10a82...|2018-07-31 17:30:39|  45.0|      12.98|\n",
            "|0006ec9db01a64e59...|             1|99a4788cb24856965...|4a3ca9315b744ce9f...|2018-07-26 17:24:20|  74.0|      23.32|\n",
            "|0008288aa423d2a3f...|             1|368c6c730842d7801...|1f50f920176fa81da...|2018-02-21 02:55:52|  49.9|      13.37|\n",
            "|0008288aa423d2a3f...|             2|368c6c730842d7801...|1f50f920176fa81da...|2018-02-21 02:55:52|  49.9|      13.37|\n",
            "|0009792311464db53...|             1|8cab8abac59158715...|530ec6109d11eaaf8...|2018-08-17 12:15:10|  99.9|      27.65|\n",
            "|0009c9a17f916a706...|             1|3f27ac8e699df3d30...|fcb5ace8bcc92f757...|2018-05-02 09:31:53| 639.0|      11.34|\n",
            "|000aed2e25dbad2f9...|             1|4fa33915031a8cde0...|fe2032dab1a61af87...|2018-05-16 20:57:03| 144.0|       8.77|\n",
            "|000c3e6612759851c...|             1|b50c950aba0dcead2...|218d46b86c1881d02...|2017-08-21 03:33:13|  99.0|      13.71|\n",
            "|000e562887b1f2006...|             1|5ed9eaf534f6936b5...|8cbac7e12637ed9cf...|2018-02-28 12:08:37|  25.0|      16.11|\n",
            "+--------------------+--------------+--------------------+--------------------+-------------------+------+-----------+\n",
            "only showing top 20 rows\n",
            "\n",
            "+--------------------+-------------------+--------------+------------------+---------------+\n",
            "|           id_pedido|sequencia_pagamento|tipo_pagamento|parcelas_pagamento|valor_pagamento|\n",
            "+--------------------+-------------------+--------------+------------------+---------------+\n",
            "|b81ef226f3fe1789b...|                  1|   credit_card|                 8|          99.33|\n",
            "|a9810da82917af2d9...|                  1|   credit_card|                 1|          24.39|\n",
            "|25e8ea4e93396b6fa...|                  1|   credit_card|                 1|          65.71|\n",
            "|ba78997921bbcdc13...|                  1|   credit_card|                 8|         107.78|\n",
            "|42fdf880ba16b47b5...|                  1|   credit_card|                 2|         128.45|\n",
            "|298fcdf1f73eb413e...|                  1|   credit_card|                 2|          96.12|\n",
            "|771ee386b001f0620...|                  1|   credit_card|                 1|          81.16|\n",
            "|3d7239c394a212faa...|                  1|   credit_card|                 3|          51.84|\n",
            "|1f78449c87a54faf9...|                  1|   credit_card|                 6|         341.09|\n",
            "|0573b5e23cbd79800...|                  1|        boleto|                 1|          51.95|\n",
            "|d88e0d5fa41661ce0...|                  1|   credit_card|                 8|         188.73|\n",
            "|2480f727e869fdeb3...|                  1|   credit_card|                 1|          141.9|\n",
            "|616105c9352a9668c...|                  1|   credit_card|                 1|          75.78|\n",
            "|cf95215a722f3ebf2...|                  1|   credit_card|                 5|         102.66|\n",
            "|769214176682788a9...|                  1|   credit_card|                 4|         105.28|\n",
            "|12e5cfe0e4716b59a...|                  1|   credit_card|                10|         157.45|\n",
            "|61059985a6fc0ad64...|                  1|   credit_card|                 1|         132.04|\n",
            "|79da3f5fe31ad1e45...|                  1|   credit_card|                 1|          98.94|\n",
            "|8ac09207f415d55ac...|                  1|   credit_card|                 4|         244.15|\n",
            "|b2349a3f20dfbeef6...|                  1|   credit_card|                 3|         136.71|\n",
            "+--------------------+-------------------+--------------+------------------+---------------+\n",
            "only showing top 20 rows\n",
            "\n",
            "+--------------------+--------------------+--------------+-----------------+--------------------+----------------------+-----------------------+\n",
            "|        id_avaliacao|           id_pedido|nota_avaliacao|titulo_comentario| mensagem_comentario|data_criacao_avaliacao|data_resposta_avaliacao|\n",
            "+--------------------+--------------------+--------------+-----------------+--------------------+----------------------+-----------------------+\n",
            "|7bc2406110b926393...|73fc7af87114b3971...|             4|             NULL|                NULL|   2018-01-18 00:00:00|    2018-01-18 21:46:59|\n",
            "|80e641a11e56f04c1...|a548910a1c6147796...|             5|             NULL|                NULL|   2018-03-10 00:00:00|    2018-03-11 03:05:13|\n",
            "|228ce5500dc1d8e02...|f9e4b658b201a9f2e...|             5|             NULL|                NULL|   2018-02-17 00:00:00|    2018-02-18 14:36:24|\n",
            "|e64fb393e7b32834b...|658677c97b385a9be...|             5|             NULL|Recebi bem antes ...|   2017-04-21 00:00:00|    2017-04-21 22:02:06|\n",
            "|f7c4243c7fe1938f1...|8e6bfb81e283fa7e4...|             5|             NULL|Parabéns lojas la...|   2018-03-01 00:00:00|    2018-03-02 10:26:53|\n",
            "|15197aa66ff4d0650...|b18dcdf73be663668...|             1|             NULL|                NULL|   2018-04-13 00:00:00|    2018-04-16 00:39:37|\n",
            "|07f9bee5d1b850860...|e48aa0d2dcec3a2e8...|             5|             NULL|                NULL|   2017-07-16 00:00:00|    2017-07-18 19:30:34|\n",
            "|7c6400515c67679fb...|c31a859e34e3adac2...|             5|             NULL|                NULL|   2018-08-14 00:00:00|    2018-08-14 21:36:06|\n",
            "|a3f6f7f6f433de0ae...|9c214ac970e842735...|             5|             NULL|                NULL|   2017-05-17 00:00:00|    2017-05-18 12:05:37|\n",
            "|8670d52e15e00043a...|b9bf720beb4ab3728...|             4|        recomendo|aparelho eficient...|   2018-05-22 00:00:00|    2018-05-23 16:45:47|\n",
            "|c9cfd2d5ab5911836...|cdf9aa68e72324eeb...|             5|             NULL|                NULL|   2017-12-23 00:00:00|    2017-12-26 14:36:03|\n",
            "|96052551d87e5f62e...|3d374c9e46530bb5e...|             5|             NULL|                NULL|   2017-12-19 00:00:00|    2017-12-20 10:25:22|\n",
            "|4b49719c8a200003f...|9d6f15f95d01e79bd...|             4|             NULL|Mas um pouco ,tra...|                  NULL|                   NULL|\n",
            "|,2018-02-16 00:00...|                NULL|          NULL|             NULL|                NULL|                  NULL|                   NULL|\n",
            "|23f75a37effc35d9a...|2eaf8e099d871cd5c...|             4|             NULL|                NULL|   2018-03-28 00:00:00|    2018-03-30 15:10:55|\n",
            "|9a0abbb668bafb95a...|d7bd0e4afdf94846e...|             3|             NULL|                NULL|   2017-04-30 00:00:00|    2017-05-03 00:02:22|\n",
            "|3948b09f7c818e2d8...|e51478e7e277a8374...|             5|  Super recomendo|Vendedor confiáve...|   2018-05-23 00:00:00|    2018-05-24 03:00:01|\n",
            "|9314d6f9799f5bfba...|0dacf04c5ad59fd5a...|             2|             NULL|GOSTARIA DE SABER...|   2018-01-18 00:00:00|    2018-01-20 21:25:45|\n",
            "|8e15a274d95600fa1...|ff1581e08b3011021...|             5|             NULL|                NULL|   2018-03-24 00:00:00|    2018-03-26 15:58:32|\n",
            "|fdbdb2629a7cde0f6...|70a752414a13d09cc...|             3|             NULL|                NULL|   2017-09-29 00:00:00|    2017-10-02 01:12:49|\n",
            "+--------------------+--------------------+--------------+-----------------+--------------------+----------------------+-----------------------+\n",
            "only showing top 20 rows\n",
            "\n",
            "+--------------------+--------------------+-------------+-------------------+---------------------+-------------------------+--------------------+---------------------+\n",
            "|           id_pedido|          id_cliente|status_pedido| data_compra_pedido|data_aprovacao_pedido|data_envio_transportadora|data_entrega_cliente|data_estimada_entrega|\n",
            "+--------------------+--------------------+-------------+-------------------+---------------------+-------------------------+--------------------+---------------------+\n",
            "|e481f51cbdc54678b...|9ef432eb625129730...|    delivered|2017-10-02 10:56:33|  2017-10-02 11:07:15|      2017-10-04 19:55:00| 2017-10-10 21:25:13|  2017-10-18 00:00:00|\n",
            "|53cdb2fc8bc7dce0b...|b0830fb4747a6c6d2...|    delivered|2018-07-24 20:41:37|  2018-07-26 03:24:27|      2018-07-26 14:31:00| 2018-08-07 15:27:45|  2018-08-13 00:00:00|\n",
            "|47770eb9100c2d0c4...|41ce2a54c0b03bf34...|    delivered|2018-08-08 08:38:49|  2018-08-08 08:55:23|      2018-08-08 13:50:00| 2018-08-17 18:06:29|  2018-09-04 00:00:00|\n",
            "|949d5b44dbf5de918...|f88197465ea7920ad...|    delivered|2017-11-18 19:28:06|  2017-11-18 19:45:59|      2017-11-22 13:39:59| 2017-12-02 00:28:42|  2017-12-15 00:00:00|\n",
            "|ad21c59c0840e6cb8...|8ab97904e6daea886...|    delivered|2018-02-13 21:18:39|  2018-02-13 22:20:29|      2018-02-14 19:46:34| 2018-02-16 18:17:02|  2018-02-26 00:00:00|\n",
            "|a4591c265e18cb1dc...|503740e9ca751ccdd...|    delivered|2017-07-09 21:57:05|  2017-07-09 22:10:13|      2017-07-11 14:58:04| 2017-07-26 10:57:55|  2017-08-01 00:00:00|\n",
            "|136cce7faa42fdb2c...|ed0271e0b7da060a3...|     invoiced|2017-04-11 12:22:08|  2017-04-13 13:25:17|                     NULL|                NULL|  2017-05-09 00:00:00|\n",
            "|6514b8ad8028c9f2c...|9bdf08b4b3b52b552...|    delivered|2017-05-16 13:10:30|  2017-05-16 13:22:11|      2017-05-22 10:07:46| 2017-05-26 12:55:51|  2017-06-07 00:00:00|\n",
            "|76c6e866289321a7c...|f54a9f0e6b351c431...|    delivered|2017-01-23 18:29:09|  2017-01-25 02:50:47|      2017-01-26 14:16:31| 2017-02-02 14:08:10|  2017-03-06 00:00:00|\n",
            "|e69bfb5eb88e0ed6a...|31ad1d1b63eb99624...|    delivered|2017-07-29 11:55:02|  2017-07-29 12:05:32|      2017-08-10 19:45:24| 2017-08-16 17:14:30|  2017-08-23 00:00:00|\n",
            "|e6ce16cb79ec1d90b...|494dded5b201313c6...|    delivered|2017-05-16 19:41:10|  2017-05-16 19:50:18|      2017-05-18 11:40:40| 2017-05-29 11:18:31|  2017-06-07 00:00:00|\n",
            "|34513ce0c4fab462a...|7711cf624183d843a...|    delivered|2017-07-13 19:58:11|  2017-07-13 20:10:08|      2017-07-14 18:43:29| 2017-07-19 14:04:48|  2017-08-08 00:00:00|\n",
            "|82566a660a982b15f...|d3e3b74c766bc6214...|    delivered|2018-06-07 10:06:19|  2018-06-09 03:13:12|      2018-06-11 13:29:00| 2018-06-19 12:05:52|  2018-07-18 00:00:00|\n",
            "|5ff96c15d0b717ac6...|19402a48fe860416a...|    delivered|2018-07-25 17:44:10|  2018-07-25 17:55:14|      2018-07-26 13:16:00| 2018-07-30 15:52:25|  2018-08-08 00:00:00|\n",
            "|432aaf21d85167c2c...|3df704f53d3f1d481...|    delivered|2018-03-01 14:14:28|  2018-03-01 15:10:47|      2018-03-02 21:09:20| 2018-03-12 23:36:26|  2018-03-21 00:00:00|\n",
            "|dcb36b511fcac050b...|3b6828a50ffe54694...|    delivered|2018-06-07 19:03:12|  2018-06-12 23:31:02|      2018-06-11 14:54:00| 2018-06-21 15:34:32|  2018-07-04 00:00:00|\n",
            "|403b97836b0c04a62...|738b086814c6fcc74...|    delivered|2018-01-02 19:00:43|  2018-01-02 19:09:04|      2018-01-03 18:19:09| 2018-01-20 01:38:59|  2018-02-06 00:00:00|\n",
            "|116f0b09343b49556...|3187789bec9909876...|    delivered|2017-12-26 23:41:31|  2017-12-26 23:50:22|      2017-12-28 18:33:05| 2018-01-08 22:36:36|  2018-01-29 00:00:00|\n",
            "|85ce859fd6dc634de...|059f7fc5719c7da6c...|    delivered|2017-11-21 00:03:41|  2017-11-21 00:14:22|      2017-11-23 21:32:26| 2017-11-27 18:28:00|  2017-12-11 00:00:00|\n",
            "|83018ec114eee8641...|7f8c8b9c2ae27bf33...|    delivered|2017-10-26 15:54:26|  2017-10-26 16:08:14|      2017-10-26 21:46:53| 2017-11-08 22:22:00|  2017-11-23 00:00:00|\n",
            "+--------------------+--------------------+-------------+-------------------+---------------------+-------------------------+--------------------+---------------------+\n",
            "only showing top 20 rows\n",
            "\n"
          ]
        }
      ]
    },
    {
      "cell_type": "code",
      "source": [
        "produtos.createOrReplaceTempView(\"produtos_temp\")\n",
        "vendedores.createOrReplaceTempView(\"vendedores_temp\")\n",
        "clientes.createOrReplaceTempView(\"clientes_temp\")\n",
        "itens_pedido.createOrReplaceTempView(\"itens_pedido_temp\")\n",
        "pagamentos_pedido.createOrReplaceTempView(\"pagamentos_pedido_temp\")\n",
        "avaliacoes_pedido.createOrReplaceTempView(\"avaliacoes_pedido_temp\")\n",
        "pedidos.createOrReplaceTempView(\"pedidos_temp\")"
      ],
      "metadata": {
        "id": "noIJPblnxjBX"
      },
      "execution_count": 31,
      "outputs": []
    },
    {
      "cell_type": "code",
      "source": [
        "spark.catalog.listDatabases()"
      ],
      "metadata": {
        "colab": {
          "base_uri": "https://localhost:8080/"
        },
        "id": "J18XYJ2wzPiQ",
        "outputId": "e5fa9244-dbb8-48e5-d6d1-88fdc2982a4a"
      },
      "execution_count": 32,
      "outputs": [
        {
          "output_type": "execute_result",
          "data": {
            "text/plain": [
              "[Database(name='default', catalog='spark_catalog', description='default database', locationUri='file:/content/spark-warehouse')]"
            ]
          },
          "metadata": {},
          "execution_count": 32
        }
      ]
    },
    {
      "cell_type": "code",
      "source": [
        "spark.catalog.listTables()"
      ],
      "metadata": {
        "colab": {
          "base_uri": "https://localhost:8080/"
        },
        "id": "wEiX4InWzbJy",
        "outputId": "4bf909f7-6c99-400a-a76c-9557be47d995"
      },
      "execution_count": 33,
      "outputs": [
        {
          "output_type": "execute_result",
          "data": {
            "text/plain": [
              "[Table(name='avaliacoes_pedido_temp', catalog=None, namespace=[], description=None, tableType='TEMPORARY', isTemporary=True),\n",
              " Table(name='clientes_temp', catalog=None, namespace=[], description=None, tableType='TEMPORARY', isTemporary=True),\n",
              " Table(name='itens_pedido_temp', catalog=None, namespace=[], description=None, tableType='TEMPORARY', isTemporary=True),\n",
              " Table(name='pagamentos_pedido_temp', catalog=None, namespace=[], description=None, tableType='TEMPORARY', isTemporary=True),\n",
              " Table(name='pedidos_temp', catalog=None, namespace=[], description=None, tableType='TEMPORARY', isTemporary=True),\n",
              " Table(name='produtos_temp', catalog=None, namespace=[], description=None, tableType='TEMPORARY', isTemporary=True),\n",
              " Table(name='vendedores_temp', catalog=None, namespace=[], description=None, tableType='TEMPORARY', isTemporary=True)]"
            ]
          },
          "metadata": {},
          "execution_count": 33
        }
      ]
    },
    {
      "cell_type": "code",
      "source": [
        "itens_pedido_produtos_df = spark.sql(\"\"\"\n",
        "   SELECT pr.id_produto, pr.categoria_produto, ip.valor_frete, ip.preco\n",
        "   FROM itens_pedido_temp ip\n",
        "   JOIN produtos_temp pr ON ip.id_produto = pr.id_produto\n",
        "\"\"\")\n",
        "\n",
        "itens_pedido_produtos_df.printSchema()\n",
        "itens_pedido_produtos_df.show(5)\n"
      ],
      "metadata": {
        "colab": {
          "base_uri": "https://localhost:8080/"
        },
        "id": "F8KKR3zA0RSx",
        "outputId": "21102710-35b8-4d84-bebb-431d64465312"
      },
      "execution_count": 13,
      "outputs": [
        {
          "output_type": "stream",
          "name": "stdout",
          "text": [
            "root\n",
            " |-- id_produto: string (nullable = true)\n",
            " |-- categoria_produto: string (nullable = true)\n",
            " |-- valor_frete: double (nullable = true)\n",
            " |-- preco: double (nullable = true)\n",
            "\n",
            "+--------------------+------------------+-----------+-----+\n",
            "|          id_produto| categoria_produto|valor_frete|preco|\n",
            "+--------------------+------------------+-----------+-----+\n",
            "|4244733e06e7ecb49...|        cool_stuff|      13.29| 58.9|\n",
            "|e5f2d52b802189ee6...|          pet_shop|      19.93|239.9|\n",
            "|c777355d18b72b67a...|  moveis_decoracao|      17.87|199.0|\n",
            "|7634da152a4610f15...|        perfumaria|      12.79|12.99|\n",
            "|ac6c3623068f30de0...|ferramentas_jardim|      18.14|199.9|\n",
            "+--------------------+------------------+-----------+-----+\n",
            "only showing top 5 rows\n",
            "\n"
          ]
        }
      ]
    },
    {
      "cell_type": "code",
      "source": [
        "detalhe_produto_df.write.mode('overwrite').option('header', 'true').parquet('drive/MyDrive/Colab Notebooks/spark/detalhe_produto.parquet')"
      ],
      "metadata": {
        "colab": {
          "base_uri": "https://localhost:8080/",
          "height": 159
        },
        "collapsed": true,
        "id": "dDpF7BLr6UMD",
        "outputId": "f79ea62a-e5c7-493e-b80e-1b3f33b19fe7"
      },
      "execution_count": 28,
      "outputs": [
        {
          "output_type": "error",
          "ename": "NameError",
          "evalue": "name 'detalhe_produto_df' is not defined",
          "traceback": [
            "\u001b[0;31m---------------------------------------------------------------------------\u001b[0m",
            "\u001b[0;31mNameError\u001b[0m                                 Traceback (most recent call last)",
            "\u001b[0;32m<ipython-input-28-526114c6feb8>\u001b[0m in \u001b[0;36m<cell line: 0>\u001b[0;34m()\u001b[0m\n\u001b[0;32m----> 1\u001b[0;31m \u001b[0mdetalhe_produto_df\u001b[0m\u001b[0;34m.\u001b[0m\u001b[0mwrite\u001b[0m\u001b[0;34m.\u001b[0m\u001b[0mmode\u001b[0m\u001b[0;34m(\u001b[0m\u001b[0;34m'overwrite'\u001b[0m\u001b[0;34m)\u001b[0m\u001b[0;34m.\u001b[0m\u001b[0moption\u001b[0m\u001b[0;34m(\u001b[0m\u001b[0;34m'header'\u001b[0m\u001b[0;34m,\u001b[0m \u001b[0;34m'true'\u001b[0m\u001b[0;34m)\u001b[0m\u001b[0;34m.\u001b[0m\u001b[0mparquet\u001b[0m\u001b[0;34m(\u001b[0m\u001b[0;34m'drive/MyDrive/Colab Notebooks/spark/detalhe_produto.parquet'\u001b[0m\u001b[0;34m)\u001b[0m\u001b[0;34m\u001b[0m\u001b[0;34m\u001b[0m\u001b[0m\n\u001b[0m",
            "\u001b[0;31mNameError\u001b[0m: name 'detalhe_produto_df' is not defined"
          ]
        }
      ]
    },
    {
      "cell_type": "code",
      "source": [
        "itens_pedido_produtos_df.write.mode('overwrite').option('header', 'true').parquet('drive/MyDrive/Colab Notebooks/spark/detalhe_produto.parquet')\n",
        "# Changed 'detalhe_produto_df' to 'itens_pedido_produtos_df' as it holds the data you likely want to write."
      ],
      "metadata": {
        "id": "4Cewt-K87Bxm"
      },
      "execution_count": 24,
      "outputs": []
    }
  ]
}