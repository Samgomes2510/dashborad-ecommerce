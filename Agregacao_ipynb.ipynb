{
  "nbformat": 4,
  "nbformat_minor": 0,
  "metadata": {
    "colab": {
      "provenance": [],
      "authorship_tag": "ABX9TyOYBckKzeGtwy72ytEZGEKs",
      "include_colab_link": true
    },
    "kernelspec": {
      "name": "python3",
      "display_name": "Python 3"
    },
    "language_info": {
      "name": "python"
    }
  },
  "cells": [
    {
      "cell_type": "markdown",
      "metadata": {
        "id": "view-in-github",
        "colab_type": "text"
      },
      "source": [
        "<a href=\"https://colab.research.google.com/github/Samgomes2510/dashborad-ecommerce/blob/main/Agregacao_ipynb.ipynb\" target=\"_parent\"><img src=\"https://colab.research.google.com/assets/colab-badge.svg\" alt=\"Open In Colab\"/></a>"
      ]
    },
    {
      "cell_type": "code",
      "source": [
        "!pip install spark"
      ],
      "metadata": {
        "colab": {
          "base_uri": "https://localhost:8080/"
        },
        "id": "-0l9aVc_JZ28",
        "outputId": "ecf4f0a7-a0e5-483b-d270-50d2c12fdfe0"
      },
      "execution_count": 1,
      "outputs": [
        {
          "output_type": "stream",
          "name": "stdout",
          "text": [
            "Collecting spark\n",
            "  Downloading spark-0.2.1.tar.gz (41 kB)\n",
            "\u001b[?25l     \u001b[90m━━━━━━━━━━━━━━━━━━━━━━━━━━━━━━━━━━━━━━━━\u001b[0m \u001b[32m0.0/41.0 kB\u001b[0m \u001b[31m?\u001b[0m eta \u001b[36m-:--:--\u001b[0m\r\u001b[2K     \u001b[90m━━━━━━━━━━━━━━━━━━━━━━━━━━━━━━━━━━━━━━━━\u001b[0m \u001b[32m41.0/41.0 kB\u001b[0m \u001b[31m1.3 MB/s\u001b[0m eta \u001b[36m0:00:00\u001b[0m\n",
            "\u001b[?25h  Preparing metadata (setup.py) ... \u001b[?25l\u001b[?25hdone\n",
            "Building wheels for collected packages: spark\n",
            "  Building wheel for spark (setup.py) ... \u001b[?25l\u001b[?25hdone\n",
            "  Created wheel for spark: filename=spark-0.2.1-py3-none-any.whl size=58748 sha256=87c6c3a8d6dedf57863dc953861c879ba09939ba3a47928bfdb4a2e818809eaf\n",
            "  Stored in directory: /root/.cache/pip/wheels/67/c2/7c/a53325365fba358ffff35af84a2e14cf88c18052f88acfa5f0\n",
            "Successfully built spark\n",
            "Installing collected packages: spark\n",
            "Successfully installed spark-0.2.1\n"
          ]
        }
      ]
    },
    {
      "cell_type": "code",
      "source": [
        "# Importar as bibliotecas necessárias\n",
        "from pyspark.sql import SparkSession\n",
        "from pyspark.sql.functions import col, count, mean, max as max_, variance, min as min_, first, last, avg, round, row_number\n",
        "from pyspark.sql.window import Window\n"
      ],
      "metadata": {
        "id": "7-wL2hurJFwH"
      },
      "execution_count": 2,
      "outputs": []
    },
    {
      "cell_type": "code",
      "source": [
        "from google.colab import files\n",
        "uploaded = files.upload()"
      ],
      "metadata": {
        "colab": {
          "base_uri": "https://localhost:8080/",
          "height": 73
        },
        "id": "7vzMuflhJWZR",
        "outputId": "2cbff279-1ce5-4ae3-b9f7-e9aaa3120c3f"
      },
      "execution_count": 3,
      "outputs": [
        {
          "output_type": "display_data",
          "data": {
            "text/plain": [
              "<IPython.core.display.HTML object>"
            ],
            "text/html": [
              "\n",
              "     <input type=\"file\" id=\"files-7ce581d3-3e83-4dfd-bb6b-1eb32451aeb9\" name=\"files[]\" multiple disabled\n",
              "        style=\"border:none\" />\n",
              "     <output id=\"result-7ce581d3-3e83-4dfd-bb6b-1eb32451aeb9\">\n",
              "      Upload widget is only available when the cell has been executed in the\n",
              "      current browser session. Please rerun this cell to enable.\n",
              "      </output>\n",
              "      <script>// Copyright 2017 Google LLC\n",
              "//\n",
              "// Licensed under the Apache License, Version 2.0 (the \"License\");\n",
              "// you may not use this file except in compliance with the License.\n",
              "// You may obtain a copy of the License at\n",
              "//\n",
              "//      http://www.apache.org/licenses/LICENSE-2.0\n",
              "//\n",
              "// Unless required by applicable law or agreed to in writing, software\n",
              "// distributed under the License is distributed on an \"AS IS\" BASIS,\n",
              "// WITHOUT WARRANTIES OR CONDITIONS OF ANY KIND, either express or implied.\n",
              "// See the License for the specific language governing permissions and\n",
              "// limitations under the License.\n",
              "\n",
              "/**\n",
              " * @fileoverview Helpers for google.colab Python module.\n",
              " */\n",
              "(function(scope) {\n",
              "function span(text, styleAttributes = {}) {\n",
              "  const element = document.createElement('span');\n",
              "  element.textContent = text;\n",
              "  for (const key of Object.keys(styleAttributes)) {\n",
              "    element.style[key] = styleAttributes[key];\n",
              "  }\n",
              "  return element;\n",
              "}\n",
              "\n",
              "// Max number of bytes which will be uploaded at a time.\n",
              "const MAX_PAYLOAD_SIZE = 100 * 1024;\n",
              "\n",
              "function _uploadFiles(inputId, outputId) {\n",
              "  const steps = uploadFilesStep(inputId, outputId);\n",
              "  const outputElement = document.getElementById(outputId);\n",
              "  // Cache steps on the outputElement to make it available for the next call\n",
              "  // to uploadFilesContinue from Python.\n",
              "  outputElement.steps = steps;\n",
              "\n",
              "  return _uploadFilesContinue(outputId);\n",
              "}\n",
              "\n",
              "// This is roughly an async generator (not supported in the browser yet),\n",
              "// where there are multiple asynchronous steps and the Python side is going\n",
              "// to poll for completion of each step.\n",
              "// This uses a Promise to block the python side on completion of each step,\n",
              "// then passes the result of the previous step as the input to the next step.\n",
              "function _uploadFilesContinue(outputId) {\n",
              "  const outputElement = document.getElementById(outputId);\n",
              "  const steps = outputElement.steps;\n",
              "\n",
              "  const next = steps.next(outputElement.lastPromiseValue);\n",
              "  return Promise.resolve(next.value.promise).then((value) => {\n",
              "    // Cache the last promise value to make it available to the next\n",
              "    // step of the generator.\n",
              "    outputElement.lastPromiseValue = value;\n",
              "    return next.value.response;\n",
              "  });\n",
              "}\n",
              "\n",
              "/**\n",
              " * Generator function which is called between each async step of the upload\n",
              " * process.\n",
              " * @param {string} inputId Element ID of the input file picker element.\n",
              " * @param {string} outputId Element ID of the output display.\n",
              " * @return {!Iterable<!Object>} Iterable of next steps.\n",
              " */\n",
              "function* uploadFilesStep(inputId, outputId) {\n",
              "  const inputElement = document.getElementById(inputId);\n",
              "  inputElement.disabled = false;\n",
              "\n",
              "  const outputElement = document.getElementById(outputId);\n",
              "  outputElement.innerHTML = '';\n",
              "\n",
              "  const pickedPromise = new Promise((resolve) => {\n",
              "    inputElement.addEventListener('change', (e) => {\n",
              "      resolve(e.target.files);\n",
              "    });\n",
              "  });\n",
              "\n",
              "  const cancel = document.createElement('button');\n",
              "  inputElement.parentElement.appendChild(cancel);\n",
              "  cancel.textContent = 'Cancel upload';\n",
              "  const cancelPromise = new Promise((resolve) => {\n",
              "    cancel.onclick = () => {\n",
              "      resolve(null);\n",
              "    };\n",
              "  });\n",
              "\n",
              "  // Wait for the user to pick the files.\n",
              "  const files = yield {\n",
              "    promise: Promise.race([pickedPromise, cancelPromise]),\n",
              "    response: {\n",
              "      action: 'starting',\n",
              "    }\n",
              "  };\n",
              "\n",
              "  cancel.remove();\n",
              "\n",
              "  // Disable the input element since further picks are not allowed.\n",
              "  inputElement.disabled = true;\n",
              "\n",
              "  if (!files) {\n",
              "    return {\n",
              "      response: {\n",
              "        action: 'complete',\n",
              "      }\n",
              "    };\n",
              "  }\n",
              "\n",
              "  for (const file of files) {\n",
              "    const li = document.createElement('li');\n",
              "    li.append(span(file.name, {fontWeight: 'bold'}));\n",
              "    li.append(span(\n",
              "        `(${file.type || 'n/a'}) - ${file.size} bytes, ` +\n",
              "        `last modified: ${\n",
              "            file.lastModifiedDate ? file.lastModifiedDate.toLocaleDateString() :\n",
              "                                    'n/a'} - `));\n",
              "    const percent = span('0% done');\n",
              "    li.appendChild(percent);\n",
              "\n",
              "    outputElement.appendChild(li);\n",
              "\n",
              "    const fileDataPromise = new Promise((resolve) => {\n",
              "      const reader = new FileReader();\n",
              "      reader.onload = (e) => {\n",
              "        resolve(e.target.result);\n",
              "      };\n",
              "      reader.readAsArrayBuffer(file);\n",
              "    });\n",
              "    // Wait for the data to be ready.\n",
              "    let fileData = yield {\n",
              "      promise: fileDataPromise,\n",
              "      response: {\n",
              "        action: 'continue',\n",
              "      }\n",
              "    };\n",
              "\n",
              "    // Use a chunked sending to avoid message size limits. See b/62115660.\n",
              "    let position = 0;\n",
              "    do {\n",
              "      const length = Math.min(fileData.byteLength - position, MAX_PAYLOAD_SIZE);\n",
              "      const chunk = new Uint8Array(fileData, position, length);\n",
              "      position += length;\n",
              "\n",
              "      const base64 = btoa(String.fromCharCode.apply(null, chunk));\n",
              "      yield {\n",
              "        response: {\n",
              "          action: 'append',\n",
              "          file: file.name,\n",
              "          data: base64,\n",
              "        },\n",
              "      };\n",
              "\n",
              "      let percentDone = fileData.byteLength === 0 ?\n",
              "          100 :\n",
              "          Math.round((position / fileData.byteLength) * 100);\n",
              "      percent.textContent = `${percentDone}% done`;\n",
              "\n",
              "    } while (position < fileData.byteLength);\n",
              "  }\n",
              "\n",
              "  // All done.\n",
              "  yield {\n",
              "    response: {\n",
              "      action: 'complete',\n",
              "    }\n",
              "  };\n",
              "}\n",
              "\n",
              "scope.google = scope.google || {};\n",
              "scope.google.colab = scope.google.colab || {};\n",
              "scope.google.colab._files = {\n",
              "  _uploadFiles,\n",
              "  _uploadFilesContinue,\n",
              "};\n",
              "})(self);\n",
              "</script> "
            ]
          },
          "metadata": {}
        },
        {
          "output_type": "stream",
          "name": "stdout",
          "text": [
            "Saving videos-preparados.snappy.parquet to videos-preparados.snappy.parquet\n"
          ]
        }
      ]
    },
    {
      "cell_type": "code",
      "source": [
        "from google.colab import drive\n",
        "drive.mount('/content/drive')"
      ],
      "metadata": {
        "colab": {
          "base_uri": "https://localhost:8080/"
        },
        "id": "g5h_WshxJf4G",
        "outputId": "56ca809a-a8d9-40c2-ede5-37999f9d2d95"
      },
      "execution_count": 4,
      "outputs": [
        {
          "output_type": "stream",
          "name": "stdout",
          "text": [
            "Mounted at /content/drive\n"
          ]
        }
      ]
    },
    {
      "cell_type": "code",
      "source": [
        "# 2️ Criar a SparkSession\n",
        "spark = SparkSession.builder.getOrCreate()\n"
      ],
      "metadata": {
        "id": "FC_zTkM0JSLQ"
      },
      "execution_count": 5,
      "outputs": []
    },
    {
      "cell_type": "code",
      "source": [
        "# 3️ Ler o arquivo\n",
        "df_video = spark.read.parquet('videos-preparados.snappy.parquet')\n",
        "df_video.show(5)"
      ],
      "metadata": {
        "colab": {
          "base_uri": "https://localhost:8080/"
        },
        "id": "MKYvGtGCJfE0",
        "outputId": "95db1c91-060e-42a7-a984-a8298113d336"
      },
      "execution_count": 6,
      "outputs": [
        {
          "output_type": "stream",
          "name": "stdout",
          "text": [
            "+--------------------+-----------+------------+-------+------+--------+--------+-----------+----+-----+-------------+--------------------+--------------------+--------------------+\n",
            "|               Title|   Video ID|Published At|Keyword| Likes|Comments|   Views|Interaction|Year|Month|Keyword Index|        Features PCA|     Features Normal|            Features|\n",
            "+--------------------+-----------+------------+-------+------+--------+--------+-----------+----+-----+-------------+--------------------+--------------------+--------------------+\n",
            "|ASMR MUKBANG DOUB...|--ZI0dSbbNU|  2020-04-18|mukbang|378858|   18860|17975269|   18372987|2020|    4|         30.0|[0.6985786560867407]|[0.02303716158264...|[378858.0,1.79752...|\n",
            "|Deadly car bomb d...|--hxd1CrOqg|  2022-08-22|   news|  6379|    4853|  808787|     820019|2022|    8|         37.0|[0.8936407990235931]|[3.87946679100418...|[6379.0,808787.0,...|\n",
            "|How Biden&#39;s s...|--ixiTypG8g|  2022-08-24|   news|  1029|    2347|   97434|     100810|2022|    8|         37.0| [0.893639694263814]|[6.26308901995973...|[1029.0,97434.0,2...|\n",
            "|Celebrating My 40...|-64r1hcxtV4|  2022-05-30|mukbang| 45628|   17264| 5283664|    5346556|2022|    5|         30.0|[0.6958642903220559]|[0.00277454843584...|[45628.0,5283664....|\n",
            "|Physics Review - ...|-6IgkG5yZfo|  2017-01-02|physics| 10959|     525|  844015|     855499|2017|    1|          7.0|[0.11987693683949...|[6.66441317075327...|[10959.0,844015.0...|\n",
            "+--------------------+-----------+------------+-------+------+--------+--------+-----------+----+-----+-------------+--------------------+--------------------+--------------------+\n",
            "only showing top 5 rows\n",
            "\n"
          ]
        }
      ]
    },
    {
      "cell_type": "code",
      "source": [
        "# 4 Contar a quantidade de registros por 'Palavra-chave' (Keyword)\n",
        "df_video.groupBy('Keyword').agg(count('*').alias('Qtd Registros')).show()"
      ],
      "metadata": {
        "colab": {
          "base_uri": "https://localhost:8080/"
        },
        "id": "zznM-R1nKM4g",
        "outputId": "abd22758-d1fb-4ce4-cf25-0b382aef0111"
      },
      "execution_count": 7,
      "outputs": [
        {
          "output_type": "stream",
          "name": "stdout",
          "text": [
            "+----------------+-------------+\n",
            "|         Keyword|Qtd Registros|\n",
            "+----------------+-------------+\n",
            "|computer science|           48|\n",
            "|            lofi|           40|\n",
            "|         finance|           39|\n",
            "|             cnn|           50|\n",
            "|           apple|           42|\n",
            "|            news|           39|\n",
            "|         mukbang|           45|\n",
            "|       education|           24|\n",
            "|       interview|           50|\n",
            "|          crypto|           50|\n",
            "|   mathchemistry|           15|\n",
            "|            food|           48|\n",
            "|    data science|           50|\n",
            "|        trolling|           50|\n",
            "|        tutorial|           50|\n",
            "|      literature|           46|\n",
            "|             sat|           49|\n",
            "|         history|           49|\n",
            "|           cubes|           49|\n",
            "|           music|           46|\n",
            "+----------------+-------------+\n",
            "only showing top 20 rows\n",
            "\n"
          ]
        }
      ]
    },
    {
      "cell_type": "code",
      "source": [
        "# 5️ Calcular a média da coluna 'Interação' por 'Palavra-chave'\n",
        "df_video.groupBy('Keyword').agg(mean('Interaction').alias('Média Interação')).show()"
      ],
      "metadata": {
        "colab": {
          "base_uri": "https://localhost:8080/"
        },
        "id": "MDg_FrkDKaig",
        "outputId": "c6e2eb17-53d5-4a28-8cf3-f1b15ceefe8a"
      },
      "execution_count": 8,
      "outputs": [
        {
          "output_type": "stream",
          "name": "stdout",
          "text": [
            "+----------------+--------------------+\n",
            "|         Keyword|     Média Interação|\n",
            "+----------------+--------------------+\n",
            "|computer science|  1226793.0208333333|\n",
            "|            lofi|         4167085.875|\n",
            "|         finance|   708542.9487179487|\n",
            "|             cnn|           570650.86|\n",
            "|           apple|1.0873628214285715E7|\n",
            "|            news|  251688.71794871794|\n",
            "|         mukbang|1.1053630377777778E7|\n",
            "|       education|         2750838.625|\n",
            "|       interview|          3044867.04|\n",
            "|          crypto|            413676.2|\n",
            "|   mathchemistry|  3427342.7333333334|\n",
            "|            food|   5352944.104166667|\n",
            "|    data science|           562465.28|\n",
            "|        trolling|          1484584.88|\n",
            "|        tutorial|           6936688.3|\n",
            "|      literature|            881726.5|\n",
            "|             sat|           1098927.0|\n",
            "|         history| 1.565269257142857E7|\n",
            "|           cubes|1.5043961224489795E7|\n",
            "|           music|2.9691370304347824E7|\n",
            "+----------------+--------------------+\n",
            "only showing top 20 rows\n",
            "\n"
          ]
        }
      ]
    },
    {
      "cell_type": "code",
      "source": [
        "# 6️ Calcular o valor máximo da coluna 'Interaction' por 'Keyword' e ordenar\n",
        "df_video.groupBy('Keyword').agg(\n",
        "    max_('Interaction').alias('Rank Interactions')\n",
        ").orderBy(col('Rank Interactions').desc()).show()\n"
      ],
      "metadata": {
        "colab": {
          "base_uri": "https://localhost:8080/"
        },
        "id": "H930s4ilKhxh",
        "outputId": "b7046bf7-5803-4ca2-9dde-cab2896da9d8"
      },
      "execution_count": 9,
      "outputs": [
        {
          "output_type": "stream",
          "name": "stdout",
          "text": [
            "+--------+-----------------+\n",
            "| Keyword|Rank Interactions|\n",
            "+--------+-----------------+\n",
            "| animals|       1593623628|\n",
            "|   music|        922551152|\n",
            "|     bed|        532691631|\n",
            "| history|        440187490|\n",
            "|   apple|        429916936|\n",
            "| mrbeast|        300397699|\n",
            "|  google|        239385460|\n",
            "|business|        210025196|\n",
            "|   cubes|        170925917|\n",
            "|  sports|        106924567|\n",
            "| mukbang|         87433858|\n",
            "|    lofi|         86445177|\n",
            "|tutorial|         69616442|\n",
            "|  movies|         65253870|\n",
            "|  marvel|         56247330|\n",
            "|  how-to|         53053975|\n",
            "|    food|         48754479|\n",
            "| physics|         43463298|\n",
            "|    asmr|         34411125|\n",
            "|nintendo|         32268486|\n",
            "+--------+-----------------+\n",
            "only showing top 20 rows\n",
            "\n"
          ]
        }
      ]
    },
    {
      "cell_type": "code",
      "source": [
        "# 7️ Calcular média e variância da coluna 'Visualizações' por 'Palavra-chave'\n",
        "df_video.groupBy('Keyword').agg(\n",
        "    mean('Views').alias('Média Visualizações'),\n",
        "    variance('Views').alias('Variância Visualizações')\n",
        ").show()\n"
      ],
      "metadata": {
        "colab": {
          "base_uri": "https://localhost:8080/"
        },
        "id": "J5sK1ysdKrTv",
        "outputId": "7b883b66-7bb9-42d4-ad85-f7936788f3d6"
      },
      "execution_count": 10,
      "outputs": [
        {
          "output_type": "stream",
          "name": "stdout",
          "text": [
            "+----------------+--------------------+-----------------------+\n",
            "|         Keyword| Média Visualizações|Variância Visualizações|\n",
            "+----------------+--------------------+-----------------------+\n",
            "|computer science|  1191958.7083333333|    2.81219868165102E12|\n",
            "|            lofi|           4089363.0|   1.846209641476677...|\n",
            "|         finance|   694223.4358974359|   3.304483175097042...|\n",
            "|             cnn|           554240.38|   1.563423618468118...|\n",
            "|           apple|1.0746930452380951E7|   4.299927977442589E15|\n",
            "|            news|   247492.1794871795|   1.067512576672564...|\n",
            "|         mukbang|1.0904772355555555E7|   5.586073238973179...|\n",
            "|       education|  2684432.8333333335|   1.833572249339214...|\n",
            "|       interview|          2966111.86|   1.819220996034335E13|\n",
            "|          crypto|           404608.22|   3.513691634369074E12|\n",
            "|   mathchemistry|  3328125.2666666666|   2.491467065256849...|\n",
            "|            food|          5252406.25|   7.326374128154842E13|\n",
            "|    data science|           544771.98|   5.479336525349994...|\n",
            "|        trolling|          1420141.02|   6.932651793973286E12|\n",
            "|        tutorial|          6761032.02|   1.369626596864457...|\n",
            "|      literature|   863021.2391304348|   9.380521884205859E11|\n",
            "|             sat|  1065868.7142857143|   8.285094966049208E12|\n",
            "|         history|1.5353155530612245E7|   4.253204661918686E15|\n",
            "|           cubes|1.4735344122448979E7|   8.511756571903261E14|\n",
            "|           music|2.9364893260869566E7|   1.924797107187940...|\n",
            "+----------------+--------------------+-----------------------+\n",
            "only showing top 20 rows\n",
            "\n"
          ]
        }
      ]
    },
    {
      "cell_type": "code",
      "source": [
        "# 8️ Calcular média, mínimo e máximo de 'Visualizações' por 'Palavra-chave' SEM casas decimais\n",
        "df_video.groupBy('Keyword').agg(\n",
        "    round(mean('Views'), 0).alias('Média Visualizações'),\n",
        "    round(min_('Views'), 0).alias('Mínimo Visualizações'),\n",
        "    round(max_('Views'), 0).alias('Máximo Visualizações')\n",
        ").show()"
      ],
      "metadata": {
        "colab": {
          "base_uri": "https://localhost:8080/"
        },
        "id": "IaortYKWK20_",
        "outputId": "615cd28b-9b1b-4095-90fa-2f7c530726dd"
      },
      "execution_count": 11,
      "outputs": [
        {
          "output_type": "stream",
          "name": "stdout",
          "text": [
            "+----------------+-------------------+--------------------+--------------------+\n",
            "|         Keyword|Média Visualizações|Mínimo Visualizações|Máximo Visualizações|\n",
            "+----------------+-------------------+--------------------+--------------------+\n",
            "|computer science|          1191959.0|               16115|             7004107|\n",
            "|            lofi|          4089363.0|                6817|            84747957|\n",
            "|         finance|           694223.0|                1195|             9450554|\n",
            "|             cnn|           554240.0|               51269|             1889320|\n",
            "|           apple|         1.074693E7|                1954|           425478119|\n",
            "|            news|           247492.0|               10642|             1465011|\n",
            "|         mukbang|        1.0904772E7|                3618|            86169225|\n",
            "|       education|          2684433.0|                6611|            17103736|\n",
            "|       interview|          2966112.0|                2587|            22529756|\n",
            "|          crypto|           404608.0|                1599|            11805668|\n",
            "|   mathchemistry|          3328125.0|                  25|            18496859|\n",
            "|            food|          5252406.0|               47430|            48018833|\n",
            "|    data science|           544772.0|                 911|             3069097|\n",
            "|        trolling|          1420141.0|                5388|            14286302|\n",
            "|        tutorial|          6761032.0|               19323|            68512549|\n",
            "|      literature|           863021.0|                2847|             4231789|\n",
            "|             sat|          1065869.0|                7163|            18116954|\n",
            "|         history|        1.5353156E7|                6640|           434352213|\n",
            "|           cubes|        1.4735344E7|               10146|           168546247|\n",
            "|           music|        2.9364893E7|                2944|           915457091|\n",
            "+----------------+-------------------+--------------------+--------------------+\n",
            "only showing top 20 rows\n",
            "\n"
          ]
        }
      ]
    },
    {
      "cell_type": "code",
      "source": [
        "# 9️ Mostrar o primeiro e o último 'Published At' para cada 'Keyword'\n",
        "df_video.groupBy('Keyword').agg(\n",
        "    first('Published At').alias('Primeiro Published At'),\n",
        "    last('Published At').alias('Último Published At')\n",
        ").show(truncate=False)"
      ],
      "metadata": {
        "colab": {
          "base_uri": "https://localhost:8080/"
        },
        "id": "SO3APT-EK9mm",
        "outputId": "a4cdf1e8-28a5-4774-ab50-69fb04542e5e"
      },
      "execution_count": 13,
      "outputs": [
        {
          "output_type": "stream",
          "name": "stdout",
          "text": [
            "+----------------+---------------------+-------------------+\n",
            "|Keyword         |Primeiro Published At|Último Published At|\n",
            "+----------------+---------------------+-------------------+\n",
            "|computer science|2022-02-08           |2020-09-08         |\n",
            "|lofi            |2022-06-07           |2020-07-19         |\n",
            "|finance         |2020-09-23           |2017-12-31         |\n",
            "|cnn             |2022-08-17           |2022-08-13         |\n",
            "|apple           |2022-08-22           |2022-08-02         |\n",
            "|news            |2022-08-22           |2022-08-23         |\n",
            "|mukbang         |2020-04-18           |2022-08-24         |\n",
            "|education       |2015-02-06           |2010-10-14         |\n",
            "|interview       |2021-08-03           |2018-10-05         |\n",
            "|crypto          |2022-08-23           |2022-08-22         |\n",
            "|mathchemistry   |2020-08-11           |2019-10-04         |\n",
            "|food            |2022-07-17           |2022-08-20         |\n",
            "|data science    |2019-08-18           |2021-08-06         |\n",
            "|trolling        |2022-08-23           |2022-07-20         |\n",
            "|tutorial        |2018-06-01           |2022-08-17         |\n",
            "|literature      |2016-08-05           |2016-01-15         |\n",
            "|sat             |2022-03-11           |2016-06-16         |\n",
            "|history         |2022-04-13           |2016-01-26         |\n",
            "|cubes           |2022-04-20           |2021-12-03         |\n",
            "|music           |2022-02-08           |2022-01-25         |\n",
            "+----------------+---------------------+-------------------+\n",
            "only showing top 20 rows\n",
            "\n"
          ]
        }
      ]
    },
    {
      "cell_type": "code",
      "source": [
        "# 10 Contar todos os títulos normalmente e contar os únicos e comparar\n",
        "total_titulos = df_video.select('Title').count()\n",
        "titulos_unicos = df_video.select('Title').distinct().count()\n",
        "\n",
        "print(f'Total de Títulos: {total_titulos}')\n",
        "print(f'Total de Títulos Únicos: {titulos_unicos}')\n",
        "print(f'Diferença: {total_titulos - titulos_unicos}')"
      ],
      "metadata": {
        "colab": {
          "base_uri": "https://localhost:8080/"
        },
        "id": "GMlMHceBLN43",
        "outputId": "a7a97e62-58ea-4bf6-8379-fd730da85251"
      },
      "execution_count": 14,
      "outputs": [
        {
          "output_type": "stream",
          "name": "stdout",
          "text": [
            "Total de Títulos: 1869\n",
            "Total de Títulos Únicos: 1854\n",
            "Diferença: 15\n"
          ]
        }
      ]
    },
    {
      "cell_type": "code",
      "source": [
        " # 11 Contar registros por ano, ordenado ascendente\n",
        "df_video.groupBy('Year').agg(count('*').alias('Qtd Registros')).orderBy('Year').show()\n",
        "\n",
        "# 2 Contar registros por ano e mês, ordenado ascendente\n",
        "df_video.groupBy('Year', 'Month').agg(count('*').alias('Qtd Registros')).orderBy('Year', 'Month').show()\n",
        "\n",
        "# 3️ Calcular a média acumulativa de 'Likes' por 'Keyword' ao longo dos anos\n",
        "window_spec = Window.partitionBy('Keyword').orderBy('Year').rowsBetween(Window.unboundedPreceding, 0)\n",
        "\n",
        "df_video.withColumn('Média Acumulada Likes', avg('Likes').over(window_spec)).select(\n",
        "    'Keyword', 'Year', 'Likes', 'Média Acumulada Likes'\n",
        ").orderBy('Keyword', 'Year').show"
      ],
      "metadata": {
        "colab": {
          "base_uri": "https://localhost:8080/",
          "height": 1000
        },
        "id": "4p2_kg88LnSi",
        "outputId": "860faff6-793a-4ff3-ae01-0514aa9fd47e"
      },
      "execution_count": 15,
      "outputs": [
        {
          "output_type": "stream",
          "name": "stdout",
          "text": [
            "+----+-------------+\n",
            "|Year|Qtd Registros|\n",
            "+----+-------------+\n",
            "|2007|            2|\n",
            "|2008|            1|\n",
            "|2009|            9|\n",
            "|2010|            6|\n",
            "|2011|            4|\n",
            "|2012|           12|\n",
            "|2013|            6|\n",
            "|2014|           10|\n",
            "|2015|           15|\n",
            "|2016|           34|\n",
            "|2017|           47|\n",
            "|2018|           57|\n",
            "|2019|           86|\n",
            "|2020|          158|\n",
            "|2021|          229|\n",
            "|2022|         1193|\n",
            "+----+-------------+\n",
            "\n",
            "+----+-----+-------------+\n",
            "|Year|Month|Qtd Registros|\n",
            "+----+-----+-------------+\n",
            "|2007|    7|            1|\n",
            "|2007|   12|            1|\n",
            "|2008|    7|            1|\n",
            "|2009|    2|            2|\n",
            "|2009|    6|            2|\n",
            "|2009|    7|            1|\n",
            "|2009|    8|            1|\n",
            "|2009|   10|            1|\n",
            "|2009|   12|            2|\n",
            "|2010|    3|            1|\n",
            "|2010|    5|            2|\n",
            "|2010|    6|            1|\n",
            "|2010|    9|            1|\n",
            "|2010|   10|            1|\n",
            "|2011|    2|            1|\n",
            "|2011|    5|            1|\n",
            "|2011|    9|            1|\n",
            "|2011|   10|            1|\n",
            "|2012|    1|            1|\n",
            "|2012|    2|            3|\n",
            "+----+-----+-------------+\n",
            "only showing top 20 rows\n",
            "\n"
          ]
        },
        {
          "output_type": "execute_result",
          "data": {
            "text/plain": [
              "<bound method DataFrame.show of DataFrame[Keyword: string, Year: int, Likes: int, Média Acumulada Likes: double]>"
            ],
            "text/html": [
              "<div style=\"max-width:800px; border: 1px solid var(--colab-border-color);\"><style>\n",
              "      pre.function-repr-contents {\n",
              "        overflow-x: auto;\n",
              "        padding: 8px 12px;\n",
              "        max-height: 500px;\n",
              "      }\n",
              "\n",
              "      pre.function-repr-contents.function-repr-contents-collapsed {\n",
              "        cursor: pointer;\n",
              "        max-height: 100px;\n",
              "      }\n",
              "    </style>\n",
              "    <pre style=\"white-space: initial; background:\n",
              "         var(--colab-secondary-surface-color); padding: 8px 12px;\n",
              "         border-bottom: 1px solid var(--colab-border-color);\"><b>pyspark.sql.dataframe.DataFrame.show</b><br/>def show(n: int=20, truncate: Union[bool, int]=True, vertical: bool=False) -&gt; None</pre><pre class=\"function-repr-contents function-repr-contents-collapsed\" style=\"\"><a class=\"filepath\" style=\"display:none\" href=\"#\">/usr/local/lib/python3.11/dist-packages/pyspark/sql/dataframe.py</a>Prints the first ``n`` rows to the console.\n",
              "\n",
              ".. versionadded:: 1.3.0\n",
              "\n",
              ".. versionchanged:: 3.4.0\n",
              "    Supports Spark Connect.\n",
              "\n",
              "Parameters\n",
              "----------\n",
              "n : int, optional\n",
              "    Number of rows to show.\n",
              "truncate : bool or int, optional\n",
              "    If set to ``True``, truncate strings longer than 20 chars by default.\n",
              "    If set to a number greater than one, truncates long strings to length ``truncate``\n",
              "    and align cells right.\n",
              "vertical : bool, optional\n",
              "    If set to ``True``, print output rows vertically (one line\n",
              "    per column value).\n",
              "\n",
              "Examples\n",
              "--------\n",
              "&gt;&gt;&gt; df = spark.createDataFrame([\n",
              "...     (14, &quot;Tom&quot;), (23, &quot;Alice&quot;), (16, &quot;Bob&quot;)], [&quot;age&quot;, &quot;name&quot;])\n",
              "\n",
              "Show only top 2 rows.\n",
              "\n",
              "&gt;&gt;&gt; df.show(2)\n",
              "+---+-----+\n",
              "|age| name|\n",
              "+---+-----+\n",
              "| 14|  Tom|\n",
              "| 23|Alice|\n",
              "+---+-----+\n",
              "only showing top 2 rows\n",
              "\n",
              "Show :class:`DataFrame` where the maximum number of characters is 3.\n",
              "\n",
              "&gt;&gt;&gt; df.show(truncate=3)\n",
              "+---+----+\n",
              "|age|name|\n",
              "+---+----+\n",
              "| 14| Tom|\n",
              "| 23| Ali|\n",
              "| 16| Bob|\n",
              "+---+----+\n",
              "\n",
              "Show :class:`DataFrame` vertically.\n",
              "\n",
              "&gt;&gt;&gt; df.show(vertical=True)\n",
              "-RECORD 0-----\n",
              "age  | 14\n",
              "name | Tom\n",
              "-RECORD 1-----\n",
              "age  | 23\n",
              "name | Alice\n",
              "-RECORD 2-----\n",
              "age  | 16\n",
              "name | Bob</pre>\n",
              "      <script>\n",
              "      if (google.colab.kernel.accessAllowed && google.colab.files && google.colab.files.view) {\n",
              "        for (const element of document.querySelectorAll('.filepath')) {\n",
              "          element.style.display = 'block'\n",
              "          element.onclick = (event) => {\n",
              "            event.preventDefault();\n",
              "            event.stopPropagation();\n",
              "            google.colab.files.view(element.textContent, 885);\n",
              "          };\n",
              "        }\n",
              "      }\n",
              "      for (const element of document.querySelectorAll('.function-repr-contents')) {\n",
              "        element.onclick = (event) => {\n",
              "          event.preventDefault();\n",
              "          event.stopPropagation();\n",
              "          element.classList.toggle('function-repr-contents-collapsed');\n",
              "        };\n",
              "      }\n",
              "      </script>\n",
              "      </div>"
            ]
          },
          "metadata": {},
          "execution_count": 15
        }
      ]
    },
    {
      "cell_type": "code",
      "source": [
        "spark.stop()"
      ],
      "metadata": {
        "id": "v9TojUD0LzKt"
      },
      "execution_count": 16,
      "outputs": []
    }
  ]
}