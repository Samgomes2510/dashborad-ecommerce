{
  "nbformat": 4,
  "nbformat_minor": 0,
  "metadata": {
    "colab": {
      "provenance": [],
      "authorship_tag": "ABX9TyNPKJuZtvkVv5D0Zd+BkA2Q",
      "include_colab_link": true
    },
    "kernelspec": {
      "name": "python3",
      "display_name": "Python 3"
    },
    "language_info": {
      "name": "python"
    }
  },
  "cells": [
    {
      "cell_type": "markdown",
      "metadata": {
        "id": "view-in-github",
        "colab_type": "text"
      },
      "source": [
        "<a href=\"https://colab.research.google.com/github/Samgomes2510/dashborad-ecommerce/blob/main/2AgrecacoesBasicas.ipynb\" target=\"_parent\"><img src=\"https://colab.research.google.com/assets/colab-badge.svg\" alt=\"Open In Colab\"/></a>"
      ]
    },
    {
      "cell_type": "code",
      "execution_count": 1,
      "metadata": {
        "colab": {
          "base_uri": "https://localhost:8080/"
        },
        "id": "QDWZdwcDn1jT",
        "outputId": "366ac336-9eab-4801-9c15-77f80f620fe2"
      },
      "outputs": [
        {
          "output_type": "stream",
          "name": "stdout",
          "text": [
            "Collecting spark\n",
            "  Downloading spark-0.2.1.tar.gz (41 kB)\n",
            "\u001b[?25l     \u001b[90m━━━━━━━━━━━━━━━━━━━━━━━━━━━━━━━━━━━━━━━━\u001b[0m \u001b[32m0.0/41.0 kB\u001b[0m \u001b[31m?\u001b[0m eta \u001b[36m-:--:--\u001b[0m\r\u001b[2K     \u001b[90m━━━━━━━━━━━━━━━━━━━━━━━━━━━━━━━━━━━━━━━━\u001b[0m \u001b[32m41.0/41.0 kB\u001b[0m \u001b[31m2.3 MB/s\u001b[0m eta \u001b[36m0:00:00\u001b[0m\n",
            "\u001b[?25h  Preparing metadata (setup.py) ... \u001b[?25l\u001b[?25hdone\n",
            "Building wheels for collected packages: spark\n",
            "  Building wheel for spark (setup.py) ... \u001b[?25l\u001b[?25hdone\n",
            "  Created wheel for spark: filename=spark-0.2.1-py3-none-any.whl size=58748 sha256=71cc675fb3973efe43f3f447435935cec377595584680e4b797c1bf536557ca9\n",
            "  Stored in directory: /root/.cache/pip/wheels/67/c2/7c/a53325365fba358ffff35af84a2e14cf88c18052f88acfa5f0\n",
            "Successfully built spark\n",
            "Installing collected packages: spark\n",
            "Successfully installed spark-0.2.1\n"
          ]
        }
      ],
      "source": [
        "!pip install spark"
      ]
    },
    {
      "cell_type": "code",
      "source": [
        "import pyspark\n",
        "from pyspark.sql import SparkSession\n",
        "from pyspark.sql.functions import *"
      ],
      "metadata": {
        "id": "8r-FyGkkoAAI"
      },
      "execution_count": 2,
      "outputs": []
    },
    {
      "cell_type": "code",
      "source": [
        "from google.colab import files\n",
        "uploaded = files.upload()"
      ],
      "metadata": {
        "colab": {
          "base_uri": "https://localhost:8080/",
          "height": 281
        },
        "id": "58XPvQEqoTWe",
        "outputId": "d1a457d4-eedc-4b5d-8a66-d446f341531a"
      },
      "execution_count": 3,
      "outputs": [
        {
          "output_type": "display_data",
          "data": {
            "text/plain": [
              "<IPython.core.display.HTML object>"
            ],
            "text/html": [
              "\n",
              "     <input type=\"file\" id=\"files-25768666-3647-45bc-8d65-cf84f133b1c5\" name=\"files[]\" multiple disabled\n",
              "        style=\"border:none\" />\n",
              "     <output id=\"result-25768666-3647-45bc-8d65-cf84f133b1c5\">\n",
              "      Upload widget is only available when the cell has been executed in the\n",
              "      current browser session. Please rerun this cell to enable.\n",
              "      </output>\n",
              "      <script>// Copyright 2017 Google LLC\n",
              "//\n",
              "// Licensed under the Apache License, Version 2.0 (the \"License\");\n",
              "// you may not use this file except in compliance with the License.\n",
              "// You may obtain a copy of the License at\n",
              "//\n",
              "//      http://www.apache.org/licenses/LICENSE-2.0\n",
              "//\n",
              "// Unless required by applicable law or agreed to in writing, software\n",
              "// distributed under the License is distributed on an \"AS IS\" BASIS,\n",
              "// WITHOUT WARRANTIES OR CONDITIONS OF ANY KIND, either express or implied.\n",
              "// See the License for the specific language governing permissions and\n",
              "// limitations under the License.\n",
              "\n",
              "/**\n",
              " * @fileoverview Helpers for google.colab Python module.\n",
              " */\n",
              "(function(scope) {\n",
              "function span(text, styleAttributes = {}) {\n",
              "  const element = document.createElement('span');\n",
              "  element.textContent = text;\n",
              "  for (const key of Object.keys(styleAttributes)) {\n",
              "    element.style[key] = styleAttributes[key];\n",
              "  }\n",
              "  return element;\n",
              "}\n",
              "\n",
              "// Max number of bytes which will be uploaded at a time.\n",
              "const MAX_PAYLOAD_SIZE = 100 * 1024;\n",
              "\n",
              "function _uploadFiles(inputId, outputId) {\n",
              "  const steps = uploadFilesStep(inputId, outputId);\n",
              "  const outputElement = document.getElementById(outputId);\n",
              "  // Cache steps on the outputElement to make it available for the next call\n",
              "  // to uploadFilesContinue from Python.\n",
              "  outputElement.steps = steps;\n",
              "\n",
              "  return _uploadFilesContinue(outputId);\n",
              "}\n",
              "\n",
              "// This is roughly an async generator (not supported in the browser yet),\n",
              "// where there are multiple asynchronous steps and the Python side is going\n",
              "// to poll for completion of each step.\n",
              "// This uses a Promise to block the python side on completion of each step,\n",
              "// then passes the result of the previous step as the input to the next step.\n",
              "function _uploadFilesContinue(outputId) {\n",
              "  const outputElement = document.getElementById(outputId);\n",
              "  const steps = outputElement.steps;\n",
              "\n",
              "  const next = steps.next(outputElement.lastPromiseValue);\n",
              "  return Promise.resolve(next.value.promise).then((value) => {\n",
              "    // Cache the last promise value to make it available to the next\n",
              "    // step of the generator.\n",
              "    outputElement.lastPromiseValue = value;\n",
              "    return next.value.response;\n",
              "  });\n",
              "}\n",
              "\n",
              "/**\n",
              " * Generator function which is called between each async step of the upload\n",
              " * process.\n",
              " * @param {string} inputId Element ID of the input file picker element.\n",
              " * @param {string} outputId Element ID of the output display.\n",
              " * @return {!Iterable<!Object>} Iterable of next steps.\n",
              " */\n",
              "function* uploadFilesStep(inputId, outputId) {\n",
              "  const inputElement = document.getElementById(inputId);\n",
              "  inputElement.disabled = false;\n",
              "\n",
              "  const outputElement = document.getElementById(outputId);\n",
              "  outputElement.innerHTML = '';\n",
              "\n",
              "  const pickedPromise = new Promise((resolve) => {\n",
              "    inputElement.addEventListener('change', (e) => {\n",
              "      resolve(e.target.files);\n",
              "    });\n",
              "  });\n",
              "\n",
              "  const cancel = document.createElement('button');\n",
              "  inputElement.parentElement.appendChild(cancel);\n",
              "  cancel.textContent = 'Cancel upload';\n",
              "  const cancelPromise = new Promise((resolve) => {\n",
              "    cancel.onclick = () => {\n",
              "      resolve(null);\n",
              "    };\n",
              "  });\n",
              "\n",
              "  // Wait for the user to pick the files.\n",
              "  const files = yield {\n",
              "    promise: Promise.race([pickedPromise, cancelPromise]),\n",
              "    response: {\n",
              "      action: 'starting',\n",
              "    }\n",
              "  };\n",
              "\n",
              "  cancel.remove();\n",
              "\n",
              "  // Disable the input element since further picks are not allowed.\n",
              "  inputElement.disabled = true;\n",
              "\n",
              "  if (!files) {\n",
              "    return {\n",
              "      response: {\n",
              "        action: 'complete',\n",
              "      }\n",
              "    };\n",
              "  }\n",
              "\n",
              "  for (const file of files) {\n",
              "    const li = document.createElement('li');\n",
              "    li.append(span(file.name, {fontWeight: 'bold'}));\n",
              "    li.append(span(\n",
              "        `(${file.type || 'n/a'}) - ${file.size} bytes, ` +\n",
              "        `last modified: ${\n",
              "            file.lastModifiedDate ? file.lastModifiedDate.toLocaleDateString() :\n",
              "                                    'n/a'} - `));\n",
              "    const percent = span('0% done');\n",
              "    li.appendChild(percent);\n",
              "\n",
              "    outputElement.appendChild(li);\n",
              "\n",
              "    const fileDataPromise = new Promise((resolve) => {\n",
              "      const reader = new FileReader();\n",
              "      reader.onload = (e) => {\n",
              "        resolve(e.target.result);\n",
              "      };\n",
              "      reader.readAsArrayBuffer(file);\n",
              "    });\n",
              "    // Wait for the data to be ready.\n",
              "    let fileData = yield {\n",
              "      promise: fileDataPromise,\n",
              "      response: {\n",
              "        action: 'continue',\n",
              "      }\n",
              "    };\n",
              "\n",
              "    // Use a chunked sending to avoid message size limits. See b/62115660.\n",
              "    let position = 0;\n",
              "    do {\n",
              "      const length = Math.min(fileData.byteLength - position, MAX_PAYLOAD_SIZE);\n",
              "      const chunk = new Uint8Array(fileData, position, length);\n",
              "      position += length;\n",
              "\n",
              "      const base64 = btoa(String.fromCharCode.apply(null, chunk));\n",
              "      yield {\n",
              "        response: {\n",
              "          action: 'append',\n",
              "          file: file.name,\n",
              "          data: base64,\n",
              "        },\n",
              "      };\n",
              "\n",
              "      let percentDone = fileData.byteLength === 0 ?\n",
              "          100 :\n",
              "          Math.round((position / fileData.byteLength) * 100);\n",
              "      percent.textContent = `${percentDone}% done`;\n",
              "\n",
              "    } while (position < fileData.byteLength);\n",
              "  }\n",
              "\n",
              "  // All done.\n",
              "  yield {\n",
              "    response: {\n",
              "      action: 'complete',\n",
              "    }\n",
              "  };\n",
              "}\n",
              "\n",
              "scope.google = scope.google || {};\n",
              "scope.google.colab = scope.google.colab || {};\n",
              "scope.google.colab._files = {\n",
              "  _uploadFiles,\n",
              "  _uploadFilesContinue,\n",
              "};\n",
              "})(self);\n",
              "</script> "
            ]
          },
          "metadata": {}
        },
        {
          "output_type": "stream",
          "name": "stdout",
          "text": [
            "Saving avaliacoes_pedido.csv to avaliacoes_pedido.csv\n",
            "Saving clientes.csv to clientes.csv\n",
            "Saving itens_pedido.csv to itens_pedido.csv\n",
            "Saving pagamentos_pedido.csv to pagamentos_pedido.csv\n",
            "Saving pedidos.csv to pedidos.csv\n",
            "Saving produtos.csv to produtos.csv\n",
            "Saving vendedores.csv to vendedores.csv\n"
          ]
        }
      ]
    },
    {
      "cell_type": "code",
      "source": [
        "from google.colab import drive\n",
        "drive.mount('/content/drive')"
      ],
      "metadata": {
        "colab": {
          "base_uri": "https://localhost:8080/"
        },
        "id": "JUkvT2C4ofgT",
        "outputId": "4acb0c66-9381-448a-f3cb-728525d9844b"
      },
      "execution_count": 4,
      "outputs": [
        {
          "output_type": "stream",
          "name": "stdout",
          "text": [
            "Mounted at /content/drive\n"
          ]
        }
      ]
    },
    {
      "cell_type": "code",
      "source": [
        "spark = SparkSession.builder.getOrCreate()"
      ],
      "metadata": {
        "id": "JM18cABvoitI"
      },
      "execution_count": 5,
      "outputs": []
    },
    {
      "cell_type": "code",
      "source": [
        "clientes = spark.read.csv(\"clientes.csv\", header=True, inferSchema=True)\n",
        "itens_pedido = spark.read.csv(\"itens_pedido.csv\", header=True, inferSchema=True)\n",
        "pagamentos_pedido = spark.read.csv(\"pagamentos_pedido.csv\", header=True, inferSchema=True)\n",
        "pedidos = spark.read.csv(\"pedidos.csv\", header=True, inferSchema=True)"
      ],
      "metadata": {
        "id": "jQotOuG0pkLI"
      },
      "execution_count": 6,
      "outputs": []
    },
    {
      "cell_type": "code",
      "source": [
        "clientes.show()\n",
        "pagamentos_pedido.show()\n",
        "pedidos.show()\n",
        "itens_pedido.show()"
      ],
      "metadata": {
        "colab": {
          "base_uri": "https://localhost:8080/"
        },
        "collapsed": true,
        "id": "5I4zJffSqUDG",
        "outputId": "0e844bde-b146-405a-b007-fd8afe3d0bdd"
      },
      "execution_count": 7,
      "outputs": [
        {
          "output_type": "stream",
          "name": "stdout",
          "text": [
            "+--------------------+--------------------+-----------+--------------------+--------------+\n",
            "|          id_cliente|    id_unico_cliente|cep_cliente|      cidade_cliente|estado_cliente|\n",
            "+--------------------+--------------------+-----------+--------------------+--------------+\n",
            "|06b8999e2fba1a1fb...|861eff4711a542e4b...|      14409|              franca|            SP|\n",
            "|18955e83d337fd6b2...|290c77bc529b7ac93...|       9790|sao bernardo do c...|            SP|\n",
            "|4e7b3e00288586ebd...|060e732b5b29e8181...|       1151|           sao paulo|            SP|\n",
            "|b2b6027bc5c5109e5...|259dac757896d24d7...|       8775|     mogi das cruzes|            SP|\n",
            "|4f2d8ab171c80ec83...|345ecd01c38d18a90...|      13056|            campinas|            SP|\n",
            "|879864dab9bc30475...|4c93744516667ad3b...|      89254|      jaragua do sul|            SC|\n",
            "|fd826e7cf63160e53...|addec96d2e059c80c...|       4534|           sao paulo|            SP|\n",
            "|5e274e7a0c3809e14...|57b2a98a409812fe9...|      35182|             timoteo|            MG|\n",
            "|5adf08e34b2e99398...|1175e95fb47ddff9d...|      81560|            curitiba|            PR|\n",
            "|4b7139f34592b3a31...|9afe194fb833f79e3...|      30575|      belo horizonte|            MG|\n",
            "|9fb35e4ed6f0a14a4...|2a7745e1ed516b289...|      39400|       montes claros|            MG|\n",
            "|5aa9e4fdd4dfd2095...|2a46fb94aef5cbeeb...|      20231|      rio de janeiro|            RJ|\n",
            "|b2d1536598b73a9ab...|918dc87cd72cd9f6e...|      18682|    lencois paulista|            SP|\n",
            "|eabebad39a88bb6f5...|295c05e81917928d7...|       5704|           sao paulo|            SP|\n",
            "|1f1c7bf1c9b041b29...|3151a81801c838636...|      95110|       caxias do sul|            RS|\n",
            "|206f3129c0e4d7d0b...|21f748a16f4e1688a...|      13412|          piracicaba|            SP|\n",
            "|a7c125a0a07b75146...|5c2991dbd08bbf3cf...|      22750|      rio de janeiro|            RJ|\n",
            "|c5c61596a3b6bd0ce...|b6e99561fe6f34a55...|       7124|           guarulhos|            SP|\n",
            "|9b8ce803689b3562d...|7f3a72e8f988c6e73...|       5416|           sao paulo|            SP|\n",
            "|49d0ea0986edde72d...|3e6fd6b2f0d499456...|      68485|              pacaja|            PA|\n",
            "+--------------------+--------------------+-----------+--------------------+--------------+\n",
            "only showing top 20 rows\n",
            "\n",
            "+--------------------+-------------------+--------------+------------------+---------------+\n",
            "|           id_pedido|sequencia_pagamento|tipo_pagamento|parcelas_pagamento|valor_pagamento|\n",
            "+--------------------+-------------------+--------------+------------------+---------------+\n",
            "|b81ef226f3fe1789b...|                  1|   credit_card|                 8|          99.33|\n",
            "|a9810da82917af2d9...|                  1|   credit_card|                 1|          24.39|\n",
            "|25e8ea4e93396b6fa...|                  1|   credit_card|                 1|          65.71|\n",
            "|ba78997921bbcdc13...|                  1|   credit_card|                 8|         107.78|\n",
            "|42fdf880ba16b47b5...|                  1|   credit_card|                 2|         128.45|\n",
            "|298fcdf1f73eb413e...|                  1|   credit_card|                 2|          96.12|\n",
            "|771ee386b001f0620...|                  1|   credit_card|                 1|          81.16|\n",
            "|3d7239c394a212faa...|                  1|   credit_card|                 3|          51.84|\n",
            "|1f78449c87a54faf9...|                  1|   credit_card|                 6|         341.09|\n",
            "|0573b5e23cbd79800...|                  1|        boleto|                 1|          51.95|\n",
            "|d88e0d5fa41661ce0...|                  1|   credit_card|                 8|         188.73|\n",
            "|2480f727e869fdeb3...|                  1|   credit_card|                 1|          141.9|\n",
            "|616105c9352a9668c...|                  1|   credit_card|                 1|          75.78|\n",
            "|cf95215a722f3ebf2...|                  1|   credit_card|                 5|         102.66|\n",
            "|769214176682788a9...|                  1|   credit_card|                 4|         105.28|\n",
            "|12e5cfe0e4716b59a...|                  1|   credit_card|                10|         157.45|\n",
            "|61059985a6fc0ad64...|                  1|   credit_card|                 1|         132.04|\n",
            "|79da3f5fe31ad1e45...|                  1|   credit_card|                 1|          98.94|\n",
            "|8ac09207f415d55ac...|                  1|   credit_card|                 4|         244.15|\n",
            "|b2349a3f20dfbeef6...|                  1|   credit_card|                 3|         136.71|\n",
            "+--------------------+-------------------+--------------+------------------+---------------+\n",
            "only showing top 20 rows\n",
            "\n",
            "+--------------------+--------------------+-------------+-------------------+---------------------+-------------------------+--------------------+---------------------+\n",
            "|           id_pedido|          id_cliente|status_pedido| data_compra_pedido|data_aprovacao_pedido|data_envio_transportadora|data_entrega_cliente|data_estimada_entrega|\n",
            "+--------------------+--------------------+-------------+-------------------+---------------------+-------------------------+--------------------+---------------------+\n",
            "|e481f51cbdc54678b...|9ef432eb625129730...|    delivered|2017-10-02 10:56:33|  2017-10-02 11:07:15|      2017-10-04 19:55:00| 2017-10-10 21:25:13|  2017-10-18 00:00:00|\n",
            "|53cdb2fc8bc7dce0b...|b0830fb4747a6c6d2...|    delivered|2018-07-24 20:41:37|  2018-07-26 03:24:27|      2018-07-26 14:31:00| 2018-08-07 15:27:45|  2018-08-13 00:00:00|\n",
            "|47770eb9100c2d0c4...|41ce2a54c0b03bf34...|    delivered|2018-08-08 08:38:49|  2018-08-08 08:55:23|      2018-08-08 13:50:00| 2018-08-17 18:06:29|  2018-09-04 00:00:00|\n",
            "|949d5b44dbf5de918...|f88197465ea7920ad...|    delivered|2017-11-18 19:28:06|  2017-11-18 19:45:59|      2017-11-22 13:39:59| 2017-12-02 00:28:42|  2017-12-15 00:00:00|\n",
            "|ad21c59c0840e6cb8...|8ab97904e6daea886...|    delivered|2018-02-13 21:18:39|  2018-02-13 22:20:29|      2018-02-14 19:46:34| 2018-02-16 18:17:02|  2018-02-26 00:00:00|\n",
            "|a4591c265e18cb1dc...|503740e9ca751ccdd...|    delivered|2017-07-09 21:57:05|  2017-07-09 22:10:13|      2017-07-11 14:58:04| 2017-07-26 10:57:55|  2017-08-01 00:00:00|\n",
            "|136cce7faa42fdb2c...|ed0271e0b7da060a3...|     invoiced|2017-04-11 12:22:08|  2017-04-13 13:25:17|                     NULL|                NULL|  2017-05-09 00:00:00|\n",
            "|6514b8ad8028c9f2c...|9bdf08b4b3b52b552...|    delivered|2017-05-16 13:10:30|  2017-05-16 13:22:11|      2017-05-22 10:07:46| 2017-05-26 12:55:51|  2017-06-07 00:00:00|\n",
            "|76c6e866289321a7c...|f54a9f0e6b351c431...|    delivered|2017-01-23 18:29:09|  2017-01-25 02:50:47|      2017-01-26 14:16:31| 2017-02-02 14:08:10|  2017-03-06 00:00:00|\n",
            "|e69bfb5eb88e0ed6a...|31ad1d1b63eb99624...|    delivered|2017-07-29 11:55:02|  2017-07-29 12:05:32|      2017-08-10 19:45:24| 2017-08-16 17:14:30|  2017-08-23 00:00:00|\n",
            "|e6ce16cb79ec1d90b...|494dded5b201313c6...|    delivered|2017-05-16 19:41:10|  2017-05-16 19:50:18|      2017-05-18 11:40:40| 2017-05-29 11:18:31|  2017-06-07 00:00:00|\n",
            "|34513ce0c4fab462a...|7711cf624183d843a...|    delivered|2017-07-13 19:58:11|  2017-07-13 20:10:08|      2017-07-14 18:43:29| 2017-07-19 14:04:48|  2017-08-08 00:00:00|\n",
            "|82566a660a982b15f...|d3e3b74c766bc6214...|    delivered|2018-06-07 10:06:19|  2018-06-09 03:13:12|      2018-06-11 13:29:00| 2018-06-19 12:05:52|  2018-07-18 00:00:00|\n",
            "|5ff96c15d0b717ac6...|19402a48fe860416a...|    delivered|2018-07-25 17:44:10|  2018-07-25 17:55:14|      2018-07-26 13:16:00| 2018-07-30 15:52:25|  2018-08-08 00:00:00|\n",
            "|432aaf21d85167c2c...|3df704f53d3f1d481...|    delivered|2018-03-01 14:14:28|  2018-03-01 15:10:47|      2018-03-02 21:09:20| 2018-03-12 23:36:26|  2018-03-21 00:00:00|\n",
            "|dcb36b511fcac050b...|3b6828a50ffe54694...|    delivered|2018-06-07 19:03:12|  2018-06-12 23:31:02|      2018-06-11 14:54:00| 2018-06-21 15:34:32|  2018-07-04 00:00:00|\n",
            "|403b97836b0c04a62...|738b086814c6fcc74...|    delivered|2018-01-02 19:00:43|  2018-01-02 19:09:04|      2018-01-03 18:19:09| 2018-01-20 01:38:59|  2018-02-06 00:00:00|\n",
            "|116f0b09343b49556...|3187789bec9909876...|    delivered|2017-12-26 23:41:31|  2017-12-26 23:50:22|      2017-12-28 18:33:05| 2018-01-08 22:36:36|  2018-01-29 00:00:00|\n",
            "|85ce859fd6dc634de...|059f7fc5719c7da6c...|    delivered|2017-11-21 00:03:41|  2017-11-21 00:14:22|      2017-11-23 21:32:26| 2017-11-27 18:28:00|  2017-12-11 00:00:00|\n",
            "|83018ec114eee8641...|7f8c8b9c2ae27bf33...|    delivered|2017-10-26 15:54:26|  2017-10-26 16:08:14|      2017-10-26 21:46:53| 2017-11-08 22:22:00|  2017-11-23 00:00:00|\n",
            "+--------------------+--------------------+-------------+-------------------+---------------------+-------------------------+--------------------+---------------------+\n",
            "only showing top 20 rows\n",
            "\n",
            "+--------------------+--------------+--------------------+--------------------+-------------------+------+-----------+\n",
            "|           id_pedido|item_id_pedido|          id_produto|         id_vendedor|  data_limite_envio| preco|valor_frete|\n",
            "+--------------------+--------------+--------------------+--------------------+-------------------+------+-----------+\n",
            "|00010242fe8c5a6d1...|             1|4244733e06e7ecb49...|48436dade18ac8b2b...|2017-09-19 09:45:35|  58.9|      13.29|\n",
            "|00018f77f2f0320c5...|             1|e5f2d52b802189ee6...|dd7ddc04e1b6c2c61...|2017-05-03 11:05:13| 239.9|      19.93|\n",
            "|000229ec398224ef6...|             1|c777355d18b72b67a...|5b51032eddd242adc...|2018-01-18 14:48:30| 199.0|      17.87|\n",
            "|00024acbcdf0a6daa...|             1|7634da152a4610f15...|9d7a1d34a50524090...|2018-08-15 10:10:18| 12.99|      12.79|\n",
            "|00042b26cf59d7ce6...|             1|ac6c3623068f30de0...|df560393f3a51e745...|2017-02-13 13:57:51| 199.9|      18.14|\n",
            "|00048cc3ae777c65d...|             1|ef92defde845ab845...|6426d21aca402a131...|2017-05-23 03:55:27|  21.9|      12.69|\n",
            "|00054e8431b9d7675...|             1|8d4f2bb7e93e6710a...|7040e82f899a04d1b...|2017-12-14 12:10:31|  19.9|      11.85|\n",
            "|000576fe39319847c...|             1|557d850972a7d6f79...|5996cddab893a4652...|2018-07-10 12:30:45| 810.0|      70.75|\n",
            "|0005a1a1728c9d785...|             1|310ae3c140ff94b03...|a416b6a846a117243...|2018-03-26 18:31:29|145.95|      11.65|\n",
            "|0005f50442cb953dc...|             1|4535b0e1091c278df...|ba143b05f0110f0dc...|2018-07-06 14:10:56| 53.99|       11.4|\n",
            "|00061f2a7bc09da83...|             1|d63c1011f49d98b97...|cc419e0650a3c5ba7...|2018-03-29 22:28:09| 59.99|       8.88|\n",
            "|00063b381e2406b52...|             1|f177554ea93259a5b...|8602a61d680a10a82...|2018-07-31 17:30:39|  45.0|      12.98|\n",
            "|0006ec9db01a64e59...|             1|99a4788cb24856965...|4a3ca9315b744ce9f...|2018-07-26 17:24:20|  74.0|      23.32|\n",
            "|0008288aa423d2a3f...|             1|368c6c730842d7801...|1f50f920176fa81da...|2018-02-21 02:55:52|  49.9|      13.37|\n",
            "|0008288aa423d2a3f...|             2|368c6c730842d7801...|1f50f920176fa81da...|2018-02-21 02:55:52|  49.9|      13.37|\n",
            "|0009792311464db53...|             1|8cab8abac59158715...|530ec6109d11eaaf8...|2018-08-17 12:15:10|  99.9|      27.65|\n",
            "|0009c9a17f916a706...|             1|3f27ac8e699df3d30...|fcb5ace8bcc92f757...|2018-05-02 09:31:53| 639.0|      11.34|\n",
            "|000aed2e25dbad2f9...|             1|4fa33915031a8cde0...|fe2032dab1a61af87...|2018-05-16 20:57:03| 144.0|       8.77|\n",
            "|000c3e6612759851c...|             1|b50c950aba0dcead2...|218d46b86c1881d02...|2017-08-21 03:33:13|  99.0|      13.71|\n",
            "|000e562887b1f2006...|             1|5ed9eaf534f6936b5...|8cbac7e12637ed9cf...|2018-02-28 12:08:37|  25.0|      16.11|\n",
            "+--------------------+--------------+--------------------+--------------------+-------------------+------+-----------+\n",
            "only showing top 20 rows\n",
            "\n"
          ]
        }
      ]
    },
    {
      "cell_type": "code",
      "source": [
        "clientes.agg(countDistinct(col('estado_cliente')).alias('qtd_estados_distintos')).show()"
      ],
      "metadata": {
        "colab": {
          "base_uri": "https://localhost:8080/"
        },
        "id": "uIBLsaECq4yh",
        "outputId": "dd862ef9-95f9-409d-e0ae-dd31e8bb21e8"
      },
      "execution_count": 8,
      "outputs": [
        {
          "output_type": "stream",
          "name": "stdout",
          "text": [
            "+---------------------+\n",
            "|qtd_estados_distintos|\n",
            "+---------------------+\n",
            "|                   27|\n",
            "+---------------------+\n",
            "\n"
          ]
        }
      ]
    },
    {
      "cell_type": "code",
      "source": [
        "pagamentos_pedido.groupBy('tipo_pagamento').agg(\n",
        "    avg('valor_pagamento').alias('Pagamento médio'),\n",
        "    var_samp('valor_pagamento').alias('Pagamento variância')\n",
        ").show()\n"
      ],
      "metadata": {
        "colab": {
          "base_uri": "https://localhost:8080/"
        },
        "id": "SYkAGtm9tREp",
        "outputId": "f5484591-450e-44e8-e3bd-3579f951e66a"
      },
      "execution_count": 9,
      "outputs": [
        {
          "output_type": "stream",
          "name": "stdout",
          "text": [
            "+--------------+------------------+-------------------+\n",
            "|tipo_pagamento|   Pagamento médio|Pagamento variância|\n",
            "+--------------+------------------+-------------------+\n",
            "|        boleto| 145.0344354023452| 45616.869821012544|\n",
            "|   not_defined|               0.0|                0.0|\n",
            "|   credit_card|163.31902063935797|  49336.98820414979|\n",
            "|       voucher| 65.70335411255421| 13344.682202516573|\n",
            "|    debit_card|142.57017004578165| 60414.395995128165|\n",
            "+--------------+------------------+-------------------+\n",
            "\n"
          ]
        }
      ]
    },
    {
      "cell_type": "code",
      "source": [
        "pagamentos_pedido.groupBy('tipo_pagamento').agg(\n",
        "    format_number(avg('valor_pagamento'),2).alias('Pagamento médio'),\n",
        "    format_number(var_samp('valor_pagamento'),2).alias('Pagamento variância')\n",
        ").show()\n"
      ],
      "metadata": {
        "colab": {
          "base_uri": "https://localhost:8080/"
        },
        "id": "b7gz3Q1hyajS",
        "outputId": "b0fc24a6-6f93-46ba-e8c4-065ba2f63f40"
      },
      "execution_count": 11,
      "outputs": [
        {
          "output_type": "stream",
          "name": "stdout",
          "text": [
            "+--------------+---------------+-------------------+\n",
            "|tipo_pagamento|Pagamento médio|Pagamento variância|\n",
            "+--------------+---------------+-------------------+\n",
            "|        boleto|         145.03|          45,616.87|\n",
            "|   not_defined|           0.00|               0.00|\n",
            "|   credit_card|         163.32|          49,336.99|\n",
            "|       voucher|          65.70|          13,344.68|\n",
            "|    debit_card|         142.57|          60,414.40|\n",
            "+--------------+---------------+-------------------+\n",
            "\n"
          ]
        }
      ]
    },
    {
      "cell_type": "code",
      "source": [
        "pedidos.printSchema()"
      ],
      "metadata": {
        "colab": {
          "base_uri": "https://localhost:8080/"
        },
        "id": "p2Ddrl44zTYq",
        "outputId": "07b54833-ec4f-4eab-8ddb-69bb36dbb544"
      },
      "execution_count": 12,
      "outputs": [
        {
          "output_type": "stream",
          "name": "stdout",
          "text": [
            "root\n",
            " |-- id_pedido: string (nullable = true)\n",
            " |-- id_cliente: string (nullable = true)\n",
            " |-- status_pedido: string (nullable = true)\n",
            " |-- data_compra_pedido: timestamp (nullable = true)\n",
            " |-- data_aprovacao_pedido: timestamp (nullable = true)\n",
            " |-- data_envio_transportadora: timestamp (nullable = true)\n",
            " |-- data_entrega_cliente: timestamp (nullable = true)\n",
            " |-- data_estimada_entrega: timestamp (nullable = true)\n",
            "\n"
          ]
        }
      ]
    },
    {
      "cell_type": "code",
      "source": [
        "pedidos_ordenados = pedidos.orderBy('data_compra_pedido')\n"
      ],
      "metadata": {
        "id": "JP35kBm-zw47"
      },
      "execution_count": 19,
      "outputs": []
    },
    {
      "cell_type": "code",
      "source": [
        "data_compra_pedido_df = pedidos_ordenados.groupBy('status_pedido').agg(\n",
        "    first('data_compra_pedido').alias('primeira_compra'),\n",
        "    last('data_compra_pedido').alias('ultima_compra')\n",
        ")\n",
        "data_compra_pedido_df.show()"
      ],
      "metadata": {
        "colab": {
          "base_uri": "https://localhost:8080/"
        },
        "id": "YZ1MAYYU0n-m",
        "outputId": "b45ff12c-6fa6-43c6-a756-8f51a1b85d8b"
      },
      "execution_count": 20,
      "outputs": [
        {
          "output_type": "stream",
          "name": "stdout",
          "text": [
            "+-------------+-------------------+-------------------+\n",
            "|status_pedido|    primeira_compra|      ultima_compra|\n",
            "+-------------+-------------------+-------------------+\n",
            "|      shipped|2016-09-04 21:15:19|2018-09-03 09:06:57|\n",
            "|     canceled|2016-09-05 00:15:34|2018-10-17 17:30:18|\n",
            "|     approved|2017-02-06 20:18:17|2017-04-25 01:25:34|\n",
            "|     invoiced|2016-10-04 13:02:10|2018-08-14 18:45:08|\n",
            "|      created|2017-11-06 13:12:34|2018-02-09 17:21:04|\n",
            "|    delivered|2016-09-15 12:16:38|2018-08-29 15:00:37|\n",
            "|  unavailable|2016-10-05 14:16:28|2018-08-21 12:21:00|\n",
            "|   processing|2016-10-05 22:44:13|2018-07-23 18:03:03|\n",
            "+-------------+-------------------+-------------------+\n",
            "\n"
          ]
        }
      ]
    },
    {
      "cell_type": "code",
      "source": [
        "pedidos.withColumn(\"compra_anual\", year(\"data_compra_pedido\")).groupBy(\"compra_anual\").count().orderBy(asc(\"compra_anual\")).show()"
      ],
      "metadata": {
        "colab": {
          "base_uri": "https://localhost:8080/"
        },
        "id": "NDa2pr9d28qp",
        "outputId": "b1dcd254-2f55-49a7-a04f-5c82741387df"
      },
      "execution_count": 22,
      "outputs": [
        {
          "output_type": "stream",
          "name": "stdout",
          "text": [
            "+------------+-----+\n",
            "|compra_anual|count|\n",
            "+------------+-----+\n",
            "|        2016|  329|\n",
            "|        2017|45101|\n",
            "|        2018|54011|\n",
            "+------------+-----+\n",
            "\n"
          ]
        }
      ]
    },
    {
      "cell_type": "code",
      "source": [
        "itens_pedido.groupBy('id_pedido').agg(\n",
        "    sum(col(\"preco\") + col(\"valor_frete\")), # Changed 'frete' to 'valor_frete'\n",
        "    sum(col(\"preco\") + col(\"valor_frete\")).alias(\"valor_total_pedido\"),\n",
        "    format_number(sum(col(\"preco\") + col(\"valor_frete\")),2).alias(\"valor_total_pedido_formatado\")\n",
        ").show()"
      ],
      "metadata": {
        "colab": {
          "base_uri": "https://localhost:8080/"
        },
        "id": "-QI7PCG6Cw4O",
        "outputId": "ee032553-6aa4-4468-9eeb-d8c119605a90"
      },
      "execution_count": 29,
      "outputs": [
        {
          "output_type": "stream",
          "name": "stdout",
          "text": [
            "+--------------------+--------------------------+------------------+----------------------------+\n",
            "|           id_pedido|sum((preco + valor_frete))|valor_total_pedido|valor_total_pedido_formatado|\n",
            "+--------------------+--------------------------+------------------+----------------------------+\n",
            "|014405982914c2cde...|         78.42999999999999| 78.42999999999999|                       78.43|\n",
            "|019886de8f385a39b...|                     188.4|             188.4|                      188.40|\n",
            "|01a6ad782455876aa...|                     50.09|             50.09|                       50.09|\n",
            "|01d907b3e209269e1...|        169.76000000000002|169.76000000000002|                      169.76|\n",
            "|028dc52e12ddda803...|                     61.72|             61.72|                       61.72|\n",
            "|036dd381dfb3ec75e...|                     69.14|             69.14|                       69.14|\n",
            "|03ebfa9712b7dbc70...|                     55.78|             55.78|                       55.78|\n",
            "|0420da8d50a378401...|                     74.63|             74.63|                       74.63|\n",
            "|05afef1c185862cab...|                    101.32|            101.32|                      101.32|\n",
            "|05bef443b85068505...|                     79.52|             79.52|                       79.52|\n",
            "|05d46826bd0fb605d...|                     61.36|             61.36|                       61.36|\n",
            "|06fec3f6e9e72edb6...|        137.23000000000002|137.23000000000002|                      137.23|\n",
            "|077700dcf4e3bb412...|                    215.05|            215.05|                      215.05|\n",
            "|078c2d9bb7e5905e8...|                    135.28|            135.28|                      135.28|\n",
            "|08791ec24b12af5af...|                    445.87|            445.87|                      445.87|\n",
            "|08b450b388221bfe5...|                    167.41|            167.41|                      167.41|\n",
            "|0957ed870116e596b...|                    157.99|            157.99|                      157.99|\n",
            "|09868b0eb512bfbbe...|                    129.98|            129.98|                      129.98|\n",
            "|099d60cb800db65a7...|                    324.63|            324.63|                      324.63|\n",
            "|09e90e3936db197d4...|         86.99000000000001| 86.99000000000001|                       86.99|\n",
            "+--------------------+--------------------------+------------------+----------------------------+\n",
            "only showing top 20 rows\n",
            "\n"
          ]
        }
      ]
    },
    {
      "cell_type": "code",
      "source": [
        "spark.stop()"
      ],
      "metadata": {
        "id": "V9XrQWvgDIQY"
      },
      "execution_count": 30,
      "outputs": []
    }
  ]
}