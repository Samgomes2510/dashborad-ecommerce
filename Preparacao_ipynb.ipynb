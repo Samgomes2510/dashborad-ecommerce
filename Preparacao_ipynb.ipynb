{
  "nbformat": 4,
  "nbformat_minor": 0,
  "metadata": {
    "colab": {
      "provenance": [],
      "authorship_tag": "ABX9TyNaKSDHrymvUOdySkoLzbNH",
      "include_colab_link": true
    },
    "kernelspec": {
      "name": "python3",
      "display_name": "Python 3"
    },
    "language_info": {
      "name": "python"
    }
  },
  "cells": [
    {
      "cell_type": "markdown",
      "metadata": {
        "id": "view-in-github",
        "colab_type": "text"
      },
      "source": [
        "<a href=\"https://colab.research.google.com/github/Samgomes2510/dashborad-ecommerce/blob/main/Preparacao_ipynb.ipynb\" target=\"_parent\"><img src=\"https://colab.research.google.com/assets/colab-badge.svg\" alt=\"Open In Colab\"/></a>"
      ]
    },
    {
      "cell_type": "code",
      "source": [
        "!pip install pyspark"
      ],
      "metadata": {
        "colab": {
          "base_uri": "https://localhost:8080/"
        },
        "id": "iGvH8rTrjPmO",
        "outputId": "9cc0c6cf-dc49-4c40-ea13-ee2edc9e9a22"
      },
      "execution_count": 60,
      "outputs": [
        {
          "output_type": "stream",
          "name": "stdout",
          "text": [
            "Requirement already satisfied: pyspark in /usr/local/lib/python3.11/dist-packages (3.5.1)\n",
            "Requirement already satisfied: py4j==0.10.9.7 in /usr/local/lib/python3.11/dist-packages (from pyspark) (0.10.9.7)\n"
          ]
        }
      ]
    },
    {
      "cell_type": "code",
      "source": [
        "import pyspark\n",
        "from pyspark.sql import SparkSession\n",
        "from pyspark.sql.functions import col, month\n",
        "from pyspark.ml.feature import VectorAssembler, MinMaxScaler, PCA\n",
        "from pyspark.ml.clustering import KMeans\n",
        "from pyspark.ml.classification import DecisionTreeClassifier\n",
        "from pyspark.ml.evaluation import ClusteringEvaluator"
      ],
      "metadata": {
        "id": "uTrqHy5ijYgd"
      },
      "execution_count": 61,
      "outputs": []
    },
    {
      "cell_type": "code",
      "source": [
        "from google.colab import files\n",
        "uploaded = files.upload()"
      ],
      "metadata": {
        "colab": {
          "base_uri": "https://localhost:8080/",
          "height": 73
        },
        "id": "noAM_OGtjch7",
        "outputId": "dc0719de-b537-4946-b3f2-4f11826a7e70"
      },
      "execution_count": 3,
      "outputs": [
        {
          "output_type": "display_data",
          "data": {
            "text/plain": [
              "<IPython.core.display.HTML object>"
            ],
            "text/html": [
              "\n",
              "     <input type=\"file\" id=\"files-5b343ce2-19aa-4f7a-ae28-87c6a6522df2\" name=\"files[]\" multiple disabled\n",
              "        style=\"border:none\" />\n",
              "     <output id=\"result-5b343ce2-19aa-4f7a-ae28-87c6a6522df2\">\n",
              "      Upload widget is only available when the cell has been executed in the\n",
              "      current browser session. Please rerun this cell to enable.\n",
              "      </output>\n",
              "      <script>// Copyright 2017 Google LLC\n",
              "//\n",
              "// Licensed under the Apache License, Version 2.0 (the \"License\");\n",
              "// you may not use this file except in compliance with the License.\n",
              "// You may obtain a copy of the License at\n",
              "//\n",
              "//      http://www.apache.org/licenses/LICENSE-2.0\n",
              "//\n",
              "// Unless required by applicable law or agreed to in writing, software\n",
              "// distributed under the License is distributed on an \"AS IS\" BASIS,\n",
              "// WITHOUT WARRANTIES OR CONDITIONS OF ANY KIND, either express or implied.\n",
              "// See the License for the specific language governing permissions and\n",
              "// limitations under the License.\n",
              "\n",
              "/**\n",
              " * @fileoverview Helpers for google.colab Python module.\n",
              " */\n",
              "(function(scope) {\n",
              "function span(text, styleAttributes = {}) {\n",
              "  const element = document.createElement('span');\n",
              "  element.textContent = text;\n",
              "  for (const key of Object.keys(styleAttributes)) {\n",
              "    element.style[key] = styleAttributes[key];\n",
              "  }\n",
              "  return element;\n",
              "}\n",
              "\n",
              "// Max number of bytes which will be uploaded at a time.\n",
              "const MAX_PAYLOAD_SIZE = 100 * 1024;\n",
              "\n",
              "function _uploadFiles(inputId, outputId) {\n",
              "  const steps = uploadFilesStep(inputId, outputId);\n",
              "  const outputElement = document.getElementById(outputId);\n",
              "  // Cache steps on the outputElement to make it available for the next call\n",
              "  // to uploadFilesContinue from Python.\n",
              "  outputElement.steps = steps;\n",
              "\n",
              "  return _uploadFilesContinue(outputId);\n",
              "}\n",
              "\n",
              "// This is roughly an async generator (not supported in the browser yet),\n",
              "// where there are multiple asynchronous steps and the Python side is going\n",
              "// to poll for completion of each step.\n",
              "// This uses a Promise to block the python side on completion of each step,\n",
              "// then passes the result of the previous step as the input to the next step.\n",
              "function _uploadFilesContinue(outputId) {\n",
              "  const outputElement = document.getElementById(outputId);\n",
              "  const steps = outputElement.steps;\n",
              "\n",
              "  const next = steps.next(outputElement.lastPromiseValue);\n",
              "  return Promise.resolve(next.value.promise).then((value) => {\n",
              "    // Cache the last promise value to make it available to the next\n",
              "    // step of the generator.\n",
              "    outputElement.lastPromiseValue = value;\n",
              "    return next.value.response;\n",
              "  });\n",
              "}\n",
              "\n",
              "/**\n",
              " * Generator function which is called between each async step of the upload\n",
              " * process.\n",
              " * @param {string} inputId Element ID of the input file picker element.\n",
              " * @param {string} outputId Element ID of the output display.\n",
              " * @return {!Iterable<!Object>} Iterable of next steps.\n",
              " */\n",
              "function* uploadFilesStep(inputId, outputId) {\n",
              "  const inputElement = document.getElementById(inputId);\n",
              "  inputElement.disabled = false;\n",
              "\n",
              "  const outputElement = document.getElementById(outputId);\n",
              "  outputElement.innerHTML = '';\n",
              "\n",
              "  const pickedPromise = new Promise((resolve) => {\n",
              "    inputElement.addEventListener('change', (e) => {\n",
              "      resolve(e.target.files);\n",
              "    });\n",
              "  });\n",
              "\n",
              "  const cancel = document.createElement('button');\n",
              "  inputElement.parentElement.appendChild(cancel);\n",
              "  cancel.textContent = 'Cancel upload';\n",
              "  const cancelPromise = new Promise((resolve) => {\n",
              "    cancel.onclick = () => {\n",
              "      resolve(null);\n",
              "    };\n",
              "  });\n",
              "\n",
              "  // Wait for the user to pick the files.\n",
              "  const files = yield {\n",
              "    promise: Promise.race([pickedPromise, cancelPromise]),\n",
              "    response: {\n",
              "      action: 'starting',\n",
              "    }\n",
              "  };\n",
              "\n",
              "  cancel.remove();\n",
              "\n",
              "  // Disable the input element since further picks are not allowed.\n",
              "  inputElement.disabled = true;\n",
              "\n",
              "  if (!files) {\n",
              "    return {\n",
              "      response: {\n",
              "        action: 'complete',\n",
              "      }\n",
              "    };\n",
              "  }\n",
              "\n",
              "  for (const file of files) {\n",
              "    const li = document.createElement('li');\n",
              "    li.append(span(file.name, {fontWeight: 'bold'}));\n",
              "    li.append(span(\n",
              "        `(${file.type || 'n/a'}) - ${file.size} bytes, ` +\n",
              "        `last modified: ${\n",
              "            file.lastModifiedDate ? file.lastModifiedDate.toLocaleDateString() :\n",
              "                                    'n/a'} - `));\n",
              "    const percent = span('0% done');\n",
              "    li.appendChild(percent);\n",
              "\n",
              "    outputElement.appendChild(li);\n",
              "\n",
              "    const fileDataPromise = new Promise((resolve) => {\n",
              "      const reader = new FileReader();\n",
              "      reader.onload = (e) => {\n",
              "        resolve(e.target.result);\n",
              "      };\n",
              "      reader.readAsArrayBuffer(file);\n",
              "    });\n",
              "    // Wait for the data to be ready.\n",
              "    let fileData = yield {\n",
              "      promise: fileDataPromise,\n",
              "      response: {\n",
              "        action: 'continue',\n",
              "      }\n",
              "    };\n",
              "\n",
              "    // Use a chunked sending to avoid message size limits. See b/62115660.\n",
              "    let position = 0;\n",
              "    do {\n",
              "      const length = Math.min(fileData.byteLength - position, MAX_PAYLOAD_SIZE);\n",
              "      const chunk = new Uint8Array(fileData, position, length);\n",
              "      position += length;\n",
              "\n",
              "      const base64 = btoa(String.fromCharCode.apply(null, chunk));\n",
              "      yield {\n",
              "        response: {\n",
              "          action: 'append',\n",
              "          file: file.name,\n",
              "          data: base64,\n",
              "        },\n",
              "      };\n",
              "\n",
              "      let percentDone = fileData.byteLength === 0 ?\n",
              "          100 :\n",
              "          Math.round((position / fileData.byteLength) * 100);\n",
              "      percent.textContent = `${percentDone}% done`;\n",
              "\n",
              "    } while (position < fileData.byteLength);\n",
              "  }\n",
              "\n",
              "  // All done.\n",
              "  yield {\n",
              "    response: {\n",
              "      action: 'complete',\n",
              "    }\n",
              "  };\n",
              "}\n",
              "\n",
              "scope.google = scope.google || {};\n",
              "scope.google.colab = scope.google.colab || {};\n",
              "scope.google.colab._files = {\n",
              "  _uploadFiles,\n",
              "  _uploadFilesContinue,\n",
              "};\n",
              "})(self);\n",
              "</script> "
            ]
          },
          "metadata": {}
        },
        {
          "output_type": "stream",
          "name": "stdout",
          "text": [
            "Saving videos-comments-tratados.snappy.parquet to videos-comments-tratados.snappy.parquet\n"
          ]
        }
      ]
    },
    {
      "cell_type": "code",
      "source": [
        "from google.colab import drive\n",
        "drive.mount('/content/drive')"
      ],
      "metadata": {
        "colab": {
          "base_uri": "https://localhost:8080/"
        },
        "id": "Nmu6hHcMjg7l",
        "outputId": "1ad91c51-8915-4319-cd79-6b90cf62cc7d"
      },
      "execution_count": 62,
      "outputs": [
        {
          "output_type": "stream",
          "name": "stdout",
          "text": [
            "Drive already mounted at /content/drive; to attempt to forcibly remount, call drive.mount(\"/content/drive\", force_remount=True).\n"
          ]
        }
      ]
    },
    {
      "cell_type": "code",
      "source": [
        "spark = SparkSession.builder.getOrCreate()"
      ],
      "metadata": {
        "id": "zh7GKthWjkRk"
      },
      "execution_count": 63,
      "outputs": []
    },
    {
      "cell_type": "code",
      "source": [
        "#1. Ler o arquivo\n",
        "\n",
        "df_videos = spark.read.option('heaser', 'true').parquet('videos-comments-tratados.snappy.parquet')"
      ],
      "metadata": {
        "id": "BK18qzs4kJlL"
      },
      "execution_count": 64,
      "outputs": []
    },
    {
      "cell_type": "code",
      "source": [
        "from pyspark.sql.functions import month"
      ],
      "metadata": {
        "id": "THdO02FGm6Uh"
      },
      "execution_count": 65,
      "outputs": []
    },
    {
      "cell_type": "code",
      "source": [
        "from pyspark.sql.types import IntegerType # import the IntegerType\n",
        "\n",
        "df_video = df_video.withColumn('Year', col('Year').cast(IntegerType())) # Now IntegerType will be recognized."
      ],
      "metadata": {
        "id": "LunkXihktz8J"
      },
      "execution_count": 66,
      "outputs": []
    },
    {
      "cell_type": "code",
      "source": [
        "df_video = df_video.withColumn('Year', col('Year').cast(IntegerType()))"
      ],
      "metadata": {
        "id": "ER9HUdMUtoiB"
      },
      "execution_count": 67,
      "outputs": []
    },
    {
      "cell_type": "code",
      "source": [
        "from pyspark.sql import SparkSession\n",
        "from pyspark.sql.functions import month\n",
        "\n",
        "spark = SparkSession.builder.getOrCreate()\n",
        "\n",
        "# Ler o parquet corrigindo o typo e conferindo a coluna certa\n",
        "df_video = spark.read.option('header', 'true').parquet('videos-comments-tratados.snappy.parquet')\n",
        "\n",
        "# 2 Adicionar a coluna 'Month' usando o nome correto\n",
        "df_video = df_video.withColumn('Month', month(df_video['Published At']))"
      ],
      "metadata": {
        "id": "g6Ng4n49oOWm"
      },
      "execution_count": 69,
      "outputs": []
    },
    {
      "cell_type": "code",
      "source": [
        "\n",
        "df_video = df_video.withColumn('Month', month(df_video['Published At']))"
      ],
      "metadata": {
        "id": "oAzqZSvSodQp"
      },
      "execution_count": 70,
      "outputs": []
    },
    {
      "cell_type": "code",
      "source": [
        "#3. Transformação da coluna 'keyword' para valores numéricos ('Keyword Index')\n",
        "from pyspark.ml.feature import StringIndexer\n",
        "\n",
        "indexer = StringIndexer(\n",
        "    inputCol='Keyword',\n",
        "    outputCol='Keyword Index'\n",
        "    )\n",
        "\n",
        "df_video = indexer.fit(df_video).transform(df_video)"
      ],
      "metadata": {
        "id": "HVNxXJ4OpPcw"
      },
      "execution_count": 71,
      "outputs": []
    },
    {
      "cell_type": "code",
      "source": [
        "# 4. Criar vetor 'Features' com as colunas numéricas\n",
        "from pyspark.sql.types import IntegerType\n",
        "from pyspark.sql.functions import col\n",
        "\n",
        "# Cast 'Year' column to IntegerType before assembling features\n",
        "df_video = df_video.withColumn('Year', col('Year').cast(IntegerType()))\n",
        "\n",
        "assembler = VectorAssembler(\n",
        "    inputCols=['Likes', 'Views', 'Year', 'Month', 'Keyword Index'],\n",
        "    outputCol='Features'\n",
        ")\n",
        "df_video = assembler.transform(df_video)"
      ],
      "metadata": {
        "id": "bkv8-z6vucwy"
      },
      "execution_count": 72,
      "outputs": []
    },
    {
      "cell_type": "code",
      "source": [
        "# 5. Normalizar o vetor 'Features'\n",
        "from pyspark.ml.feature import Normalizer # Import the Normalizer class\n",
        "\n",
        "normalizer = Normalizer(inputCol='Features', outputCol='Features Normal') # Correct the class name to Normalizer\n",
        "df_video = normalizer.transform(df_video)"
      ],
      "metadata": {
        "id": "IZa4kS2ku3WF"
      },
      "execution_count": 73,
      "outputs": []
    },
    {
      "cell_type": "code",
      "source": [
        "# 6. Aplicar PCA para reduzir de 5 dimensões para 1\n",
        "pca = PCA(k=1, inputCol='Features Normal', outputCol='Features PCA')\n",
        "pca_model = pca.fit(df_video)\n",
        "df_video = pca_model.transform(df_video)"
      ],
      "metadata": {
        "id": "2RPvxZF1u-z7"
      },
      "execution_count": 74,
      "outputs": []
    },
    {
      "cell_type": "code",
      "source": [
        "# 7. Separar os dados em treino (80%) e teste (20%)\n",
        "train_data, test_data = df_video.randomSplit([0.8, 0.2], seed=42)"
      ],
      "metadata": {
        "id": "-K557sibvHaI"
      },
      "execution_count": 75,
      "outputs": []
    },
    {
      "cell_type": "code",
      "source": [
        "# 8. Treinar modelo de regressão linear para prever 'Comments'\n",
        "from pyspark.ml.regression import LinearRegression # Import LinearRegression\n",
        "\n",
        "lr = LinearRegression(featuresCol='Features Normal', labelCol='Comments')\n",
        "lr_model = lr.fit(train_data)"
      ],
      "metadata": {
        "id": "4YJZe4r-vezT"
      },
      "execution_count": 76,
      "outputs": []
    },
    {
      "cell_type": "code",
      "source": [
        "df_video.show()"
      ],
      "metadata": {
        "collapsed": true,
        "colab": {
          "base_uri": "https://localhost:8080/"
        },
        "id": "ZqjvB5E7wNkF",
        "outputId": "2d03f2aa-3c72-4ef7-8829-c21aad719518"
      },
      "execution_count": 77,
      "outputs": [
        {
          "output_type": "stream",
          "name": "stdout",
          "text": [
            "+-----------+--------------------+------------+-------+-----+--------+-------+-----------+----+--------------------+---------+-------------+-----+-------------+--------------------+--------------------+--------------------+\n",
            "|   Video ID|               Title|Published At|Keyword|Likes|Comments|  Views|Interaction|Year|             Comment|Sentiment|Likes Comment|Month|Keyword Index|            Features|     Features Normal|        Features PCA|\n",
            "+-----------+--------------------+------------+-------+-----+--------+-------+-----------+----+--------------------+---------+-------------+-----+-------------+--------------------+--------------------+--------------------+\n",
            "|wAZZ-UWGVHI|Apple Pay Is Kill...|  2022-08-23|   tech| 3407|     672| 135612|     139691|2022|Let's not forget ...|        1|           95|    8|         17.0|[3407.0,135612.0,...|[0.02511243093431...|[0.39522435928489...|\n",
            "|wAZZ-UWGVHI|Apple Pay Is Kill...|  2022-08-23|   tech| 3407|     672| 135612|     139691|2022|Here in NZ 50% of...|        0|           19|    8|         17.0|[3407.0,135612.0,...|[0.02511243093431...|[0.39522435928489...|\n",
            "|wAZZ-UWGVHI|Apple Pay Is Kill...|  2022-08-23|   tech| 3407|     672| 135612|     139691|2022|I will forever ac...|        2|          161|    8|         17.0|[3407.0,135612.0,...|[0.02511243093431...|[0.39522435928489...|\n",
            "|wAZZ-UWGVHI|Apple Pay Is Kill...|  2022-08-23|   tech| 3407|     672| 135612|     139691|2022|Whenever I go to ...|        0|            8|    8|         17.0|[3407.0,135612.0,...|[0.02511243093431...|[0.39522435928489...|\n",
            "|wAZZ-UWGVHI|Apple Pay Is Kill...|  2022-08-23|   tech| 3407|     672| 135612|     139691|2022|Apple Pay is so c...|        2|           34|    8|         17.0|[3407.0,135612.0,...|[0.02511243093431...|[0.39522435928489...|\n",
            "|wAZZ-UWGVHI|Apple Pay Is Kill...|  2022-08-23|   tech| 3407|     672| 135612|     139691|2022|We’ve been houndi...|        1|            8|    8|         17.0|[3407.0,135612.0,...|[0.02511243093431...|[0.39522435928489...|\n",
            "|wAZZ-UWGVHI|Apple Pay Is Kill...|  2022-08-23|   tech| 3407|     672| 135612|     139691|2022|We only got Apple...|        2|           29|    8|         17.0|[3407.0,135612.0,...|[0.02511243093431...|[0.39522435928489...|\n",
            "|wAZZ-UWGVHI|Apple Pay Is Kill...|  2022-08-23|   tech| 3407|     672| 135612|     139691|2022|For now, I need b...|        1|            7|    8|         17.0|[3407.0,135612.0,...|[0.02511243093431...|[0.39522435928489...|\n",
            "|wAZZ-UWGVHI|Apple Pay Is Kill...|  2022-08-23|   tech| 3407|     672| 135612|     139691|2022|In the United Sta...|        2|            2|    8|         17.0|[3407.0,135612.0,...|[0.02511243093431...|[0.39522435928489...|\n",
            "|wAZZ-UWGVHI|Apple Pay Is Kill...|  2022-08-23|   tech| 3407|     672| 135612|     139691|2022|In Cambodia, we h...|        1|           28|    8|         17.0|[3407.0,135612.0,...|[0.02511243093431...|[0.39522435928489...|\n",
            "|b3x28s61q3c|The most EXPENSIV...|  2022-08-24|   tech|76779|    4306|1758063|    1839148|2022|Wow, you really w...|        2|         1344|    8|         17.0|[76779.0,1758063....|[0.04363087906364...|[0.4067649098962346]|\n",
            "|b3x28s61q3c|The most EXPENSIV...|  2022-08-24|   tech|76779|    4306|1758063|    1839148|2022|The lab is the mo...|        2|          198|    8|         17.0|[76779.0,1758063....|[0.04363087906364...|[0.4067649098962346]|\n",
            "|b3x28s61q3c|The most EXPENSIV...|  2022-08-24|   tech|76779|    4306|1758063|    1839148|2022|Linus, I'm an eng...|        2|          365|    8|         17.0|[76779.0,1758063....|[0.04363087906364...|[0.4067649098962346]|\n",
            "|b3x28s61q3c|The most EXPENSIV...|  2022-08-24|   tech|76779|    4306|1758063|    1839148|2022|There used to be ...|        2|          211|    8|         17.0|[76779.0,1758063....|[0.04363087906364...|[0.4067649098962346]|\n",
            "|b3x28s61q3c|The most EXPENSIV...|  2022-08-24|   tech|76779|    4306|1758063|    1839148|2022|Holy crap. I was ...|        0|          821|    8|         17.0|[76779.0,1758063....|[0.04363087906364...|[0.4067649098962346]|\n",
            "|b3x28s61q3c|The most EXPENSIV...|  2022-08-24|   tech|76779|    4306|1758063|    1839148|2022|I love the direct...|        2|          150|    8|         17.0|[76779.0,1758063....|[0.04363087906364...|[0.4067649098962346]|\n",
            "|b3x28s61q3c|The most EXPENSIV...|  2022-08-24|   tech|76779|    4306|1758063|    1839148|2022|I am more excited...|        2|           49|    8|         17.0|[76779.0,1758063....|[0.04363087906364...|[0.4067649098962346]|\n",
            "|b3x28s61q3c|The most EXPENSIV...|  2022-08-24|   tech|76779|    4306|1758063|    1839148|2022|I adore the worki...|        2|           19|    8|         17.0|[76779.0,1758063....|[0.04363087906364...|[0.4067649098962346]|\n",
            "|b3x28s61q3c|The most EXPENSIV...|  2022-08-24|   tech|76779|    4306|1758063|    1839148|2022|LMGs growth is ho...|     NULL|         NULL|    8|         17.0|[76779.0,1758063....|[0.04363087906364...|[0.4067649098962346]|\n",
            "|b3x28s61q3c|The most EXPENSIV...|  2022-08-24|   tech|76779|    4306|1758063|    1839148|2022|I love all the pe...|        2|         2808|    8|         17.0|[76779.0,1758063....|[0.04363087906364...|[0.4067649098962346]|\n",
            "+-----------+--------------------+------------+-------+-----+--------+-------+-----------+----+--------------------+---------+-------------+-----+-------------+--------------------+--------------------+--------------------+\n",
            "only showing top 20 rows\n",
            "\n"
          ]
        }
      ]
    },
    {
      "cell_type": "code",
      "source": [
        "# Avaliar modelo nos dados de teste\n",
        "test_results = lr_model.evaluate(test_data)\n",
        "print(f\"RMSE (Erro Quadrático Médio): {test_results.rootMeanSquaredError}\")\n",
        "print(f\"R² (Coeficiente de Determinação): {test_results.r2}\")"
      ],
      "metadata": {
        "colab": {
          "base_uri": "https://localhost:8080/"
        },
        "id": "va2GwOsOvqz0",
        "outputId": "fc983f6f-2855-4704-e225-feff814c2cac"
      },
      "execution_count": 78,
      "outputs": [
        {
          "output_type": "stream",
          "name": "stdout",
          "text": [
            "RMSE (Erro Quadrático Médio): 43345.23343236093\n",
            "R² (Coeficiente de Determinação): 0.008252984288786291\n"
          ]
        }
      ]
    },
    {
      "cell_type": "code",
      "source": [
        "# 9. Salvar o dataframe final como parquet\n",
        "df_video.write.mode('overwrite').parquet('drive/MyDrive/Colab Notebooks/spar/videos-preparados-parquet')"
      ],
      "metadata": {
        "id": "dwp_Ht8Mvw3Z"
      },
      "execution_count": 79,
      "outputs": []
    }
  ]
}