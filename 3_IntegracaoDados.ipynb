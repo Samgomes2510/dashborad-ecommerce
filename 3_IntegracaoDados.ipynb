{
  "nbformat": 4,
  "nbformat_minor": 0,
  "metadata": {
    "colab": {
      "provenance": [],
      "authorship_tag": "ABX9TyMLmKFyIMiRb2/GeU3/j7v1",
      "include_colab_link": true
    },
    "kernelspec": {
      "name": "python3",
      "display_name": "Python 3"
    },
    "language_info": {
      "name": "python"
    }
  },
  "cells": [
    {
      "cell_type": "markdown",
      "metadata": {
        "id": "view-in-github",
        "colab_type": "text"
      },
      "source": [
        "<a href=\"https://colab.research.google.com/github/Samgomes2510/dashborad-ecommerce/blob/main/3_IntegracaoDados.ipynb\" target=\"_parent\"><img src=\"https://colab.research.google.com/assets/colab-badge.svg\" alt=\"Open In Colab\"/></a>"
      ]
    },
    {
      "cell_type": "code",
      "execution_count": 2,
      "metadata": {
        "colab": {
          "base_uri": "https://localhost:8080/"
        },
        "id": "eNVGV2V084VD",
        "outputId": "9d7d95e3-0e6f-4987-a44e-a233e2ac6dbf"
      },
      "outputs": [
        {
          "output_type": "stream",
          "name": "stdout",
          "text": [
            "Requirement already satisfied: pyspark in /usr/local/lib/python3.11/dist-packages (3.5.5)\n",
            "Requirement already satisfied: py4j==0.10.9.7 in /usr/local/lib/python3.11/dist-packages (from pyspark) (0.10.9.7)\n"
          ]
        }
      ],
      "source": [
        "!pip install pyspark"
      ]
    },
    {
      "cell_type": "code",
      "source": [
        "import pyspark\n",
        "from pyspark.sql import SparkSession\n",
        "from pyspark.sql.functions import  col, concat, lit"
      ],
      "metadata": {
        "id": "XseKD_AR9FaI"
      },
      "execution_count": 3,
      "outputs": []
    },
    {
      "cell_type": "code",
      "source": [
        "spark = SparkSession.builder.getOrCreate()"
      ],
      "metadata": {
        "id": "3b0rVTSz9c4K"
      },
      "execution_count": 4,
      "outputs": []
    },
    {
      "cell_type": "code",
      "source": [
        "from google.colab import files\n",
        "uploaded = files.upload()"
      ],
      "metadata": {
        "colab": {
          "base_uri": "https://localhost:8080/",
          "height": 287
        },
        "id": "zZpcfbne_6X4",
        "outputId": "ad4079da-32ff-4e6f-eac2-a4a24f7d7853"
      },
      "execution_count": 6,
      "outputs": [
        {
          "output_type": "display_data",
          "data": {
            "text/plain": [
              "<IPython.core.display.HTML object>"
            ],
            "text/html": [
              "\n",
              "     <input type=\"file\" id=\"files-5b6a7cb8-8f25-4da9-8f96-c8abcc6b3f42\" name=\"files[]\" multiple disabled\n",
              "        style=\"border:none\" />\n",
              "     <output id=\"result-5b6a7cb8-8f25-4da9-8f96-c8abcc6b3f42\">\n",
              "      Upload widget is only available when the cell has been executed in the\n",
              "      current browser session. Please rerun this cell to enable.\n",
              "      </output>\n",
              "      <script>// Copyright 2017 Google LLC\n",
              "//\n",
              "// Licensed under the Apache License, Version 2.0 (the \"License\");\n",
              "// you may not use this file except in compliance with the License.\n",
              "// You may obtain a copy of the License at\n",
              "//\n",
              "//      http://www.apache.org/licenses/LICENSE-2.0\n",
              "//\n",
              "// Unless required by applicable law or agreed to in writing, software\n",
              "// distributed under the License is distributed on an \"AS IS\" BASIS,\n",
              "// WITHOUT WARRANTIES OR CONDITIONS OF ANY KIND, either express or implied.\n",
              "// See the License for the specific language governing permissions and\n",
              "// limitations under the License.\n",
              "\n",
              "/**\n",
              " * @fileoverview Helpers for google.colab Python module.\n",
              " */\n",
              "(function(scope) {\n",
              "function span(text, styleAttributes = {}) {\n",
              "  const element = document.createElement('span');\n",
              "  element.textContent = text;\n",
              "  for (const key of Object.keys(styleAttributes)) {\n",
              "    element.style[key] = styleAttributes[key];\n",
              "  }\n",
              "  return element;\n",
              "}\n",
              "\n",
              "// Max number of bytes which will be uploaded at a time.\n",
              "const MAX_PAYLOAD_SIZE = 100 * 1024;\n",
              "\n",
              "function _uploadFiles(inputId, outputId) {\n",
              "  const steps = uploadFilesStep(inputId, outputId);\n",
              "  const outputElement = document.getElementById(outputId);\n",
              "  // Cache steps on the outputElement to make it available for the next call\n",
              "  // to uploadFilesContinue from Python.\n",
              "  outputElement.steps = steps;\n",
              "\n",
              "  return _uploadFilesContinue(outputId);\n",
              "}\n",
              "\n",
              "// This is roughly an async generator (not supported in the browser yet),\n",
              "// where there are multiple asynchronous steps and the Python side is going\n",
              "// to poll for completion of each step.\n",
              "// This uses a Promise to block the python side on completion of each step,\n",
              "// then passes the result of the previous step as the input to the next step.\n",
              "function _uploadFilesContinue(outputId) {\n",
              "  const outputElement = document.getElementById(outputId);\n",
              "  const steps = outputElement.steps;\n",
              "\n",
              "  const next = steps.next(outputElement.lastPromiseValue);\n",
              "  return Promise.resolve(next.value.promise).then((value) => {\n",
              "    // Cache the last promise value to make it available to the next\n",
              "    // step of the generator.\n",
              "    outputElement.lastPromiseValue = value;\n",
              "    return next.value.response;\n",
              "  });\n",
              "}\n",
              "\n",
              "/**\n",
              " * Generator function which is called between each async step of the upload\n",
              " * process.\n",
              " * @param {string} inputId Element ID of the input file picker element.\n",
              " * @param {string} outputId Element ID of the output display.\n",
              " * @return {!Iterable<!Object>} Iterable of next steps.\n",
              " */\n",
              "function* uploadFilesStep(inputId, outputId) {\n",
              "  const inputElement = document.getElementById(inputId);\n",
              "  inputElement.disabled = false;\n",
              "\n",
              "  const outputElement = document.getElementById(outputId);\n",
              "  outputElement.innerHTML = '';\n",
              "\n",
              "  const pickedPromise = new Promise((resolve) => {\n",
              "    inputElement.addEventListener('change', (e) => {\n",
              "      resolve(e.target.files);\n",
              "    });\n",
              "  });\n",
              "\n",
              "  const cancel = document.createElement('button');\n",
              "  inputElement.parentElement.appendChild(cancel);\n",
              "  cancel.textContent = 'Cancel upload';\n",
              "  const cancelPromise = new Promise((resolve) => {\n",
              "    cancel.onclick = () => {\n",
              "      resolve(null);\n",
              "    };\n",
              "  });\n",
              "\n",
              "  // Wait for the user to pick the files.\n",
              "  const files = yield {\n",
              "    promise: Promise.race([pickedPromise, cancelPromise]),\n",
              "    response: {\n",
              "      action: 'starting',\n",
              "    }\n",
              "  };\n",
              "\n",
              "  cancel.remove();\n",
              "\n",
              "  // Disable the input element since further picks are not allowed.\n",
              "  inputElement.disabled = true;\n",
              "\n",
              "  if (!files) {\n",
              "    return {\n",
              "      response: {\n",
              "        action: 'complete',\n",
              "      }\n",
              "    };\n",
              "  }\n",
              "\n",
              "  for (const file of files) {\n",
              "    const li = document.createElement('li');\n",
              "    li.append(span(file.name, {fontWeight: 'bold'}));\n",
              "    li.append(span(\n",
              "        `(${file.type || 'n/a'}) - ${file.size} bytes, ` +\n",
              "        `last modified: ${\n",
              "            file.lastModifiedDate ? file.lastModifiedDate.toLocaleDateString() :\n",
              "                                    'n/a'} - `));\n",
              "    const percent = span('0% done');\n",
              "    li.appendChild(percent);\n",
              "\n",
              "    outputElement.appendChild(li);\n",
              "\n",
              "    const fileDataPromise = new Promise((resolve) => {\n",
              "      const reader = new FileReader();\n",
              "      reader.onload = (e) => {\n",
              "        resolve(e.target.result);\n",
              "      };\n",
              "      reader.readAsArrayBuffer(file);\n",
              "    });\n",
              "    // Wait for the data to be ready.\n",
              "    let fileData = yield {\n",
              "      promise: fileDataPromise,\n",
              "      response: {\n",
              "        action: 'continue',\n",
              "      }\n",
              "    };\n",
              "\n",
              "    // Use a chunked sending to avoid message size limits. See b/62115660.\n",
              "    let position = 0;\n",
              "    do {\n",
              "      const length = Math.min(fileData.byteLength - position, MAX_PAYLOAD_SIZE);\n",
              "      const chunk = new Uint8Array(fileData, position, length);\n",
              "      position += length;\n",
              "\n",
              "      const base64 = btoa(String.fromCharCode.apply(null, chunk));\n",
              "      yield {\n",
              "        response: {\n",
              "          action: 'append',\n",
              "          file: file.name,\n",
              "          data: base64,\n",
              "        },\n",
              "      };\n",
              "\n",
              "      let percentDone = fileData.byteLength === 0 ?\n",
              "          100 :\n",
              "          Math.round((position / fileData.byteLength) * 100);\n",
              "      percent.textContent = `${percentDone}% done`;\n",
              "\n",
              "    } while (position < fileData.byteLength);\n",
              "  }\n",
              "\n",
              "  // All done.\n",
              "  yield {\n",
              "    response: {\n",
              "      action: 'complete',\n",
              "    }\n",
              "  };\n",
              "}\n",
              "\n",
              "scope.google = scope.google || {};\n",
              "scope.google.colab = scope.google.colab || {};\n",
              "scope.google.colab._files = {\n",
              "  _uploadFiles,\n",
              "  _uploadFilesContinue,\n",
              "};\n",
              "})(self);\n",
              "</script> "
            ]
          },
          "metadata": {}
        },
        {
          "output_type": "stream",
          "name": "stdout",
          "text": [
            "Saving avaliacoes_pedido.csv to avaliacoes_pedido.csv\n",
            "Saving clientes.csv to clientes.csv\n",
            "Saving itens_pedido.csv to itens_pedido.csv\n",
            "Saving pagamentos_pedido.csv to pagamentos_pedido.csv\n",
            "Saving pedidos.csv to pedidos.csv\n",
            "Saving produtos.csv to produtos.csv\n",
            "Saving vendedores.csv to vendedores.csv\n"
          ]
        }
      ]
    },
    {
      "cell_type": "code",
      "source": [
        "from google.colab import drive\n",
        "drive.mount('/content/drive')"
      ],
      "metadata": {
        "colab": {
          "base_uri": "https://localhost:8080/"
        },
        "id": "45s056PR9qbY",
        "outputId": "0bc2f485-d76d-44eb-845e-6a2b20b9e68d"
      },
      "execution_count": 5,
      "outputs": [
        {
          "output_type": "stream",
          "name": "stdout",
          "text": [
            "Mounted at /content/drive\n"
          ]
        }
      ]
    },
    {
      "cell_type": "code",
      "source": [
        "produtos = spark.read.csv(\"produtos.csv\", header=True, inferSchema=True)\n",
        "clientes = spark.read.csv(\"clientes.csv\", header=True, inferSchema=True)\n",
        "itens_pedido = spark.read.csv(\"itens_pedido.csv\", header=True, inferSchema=True)\n",
        "pedidos = spark.read.csv(\"pedidos.csv\", header=True, inferSchema=True)"
      ],
      "metadata": {
        "id": "MZ-4T4-xAFVh"
      },
      "execution_count": 7,
      "outputs": []
    },
    {
      "cell_type": "code",
      "source": [
        "join_pedidos_clientes_df = pedidos.join(clientes, pedidos['id_cliente'] == clientes['id_cliente'], \"inner\")\n",
        "join_pedidos_clientes_df = pedidos.join(clientes, 'id_cliente', 'inner')\n",
        "\"\"\"\n",
        "inner\n",
        "outer\n",
        "left_outer\n",
        "right_outer\n",
        "\"\"\"\n",
        "pedidos.show(5)\n",
        "clientes.show(5)\n",
        "join_pedidos_clientes_df.show(5)"
      ],
      "metadata": {
        "colab": {
          "base_uri": "https://localhost:8080/"
        },
        "collapsed": true,
        "id": "JY_t4Gn1B5iE",
        "outputId": "7265a997-1187-42d5-e3e6-deb403071477"
      },
      "execution_count": 9,
      "outputs": [
        {
          "output_type": "stream",
          "name": "stdout",
          "text": [
            "+--------------------+--------------------+-------------+-------------------+---------------------+-------------------------+--------------------+---------------------+\n",
            "|           id_pedido|          id_cliente|status_pedido| data_compra_pedido|data_aprovacao_pedido|data_envio_transportadora|data_entrega_cliente|data_estimada_entrega|\n",
            "+--------------------+--------------------+-------------+-------------------+---------------------+-------------------------+--------------------+---------------------+\n",
            "|e481f51cbdc54678b...|9ef432eb625129730...|    delivered|2017-10-02 10:56:33|  2017-10-02 11:07:15|      2017-10-04 19:55:00| 2017-10-10 21:25:13|  2017-10-18 00:00:00|\n",
            "|53cdb2fc8bc7dce0b...|b0830fb4747a6c6d2...|    delivered|2018-07-24 20:41:37|  2018-07-26 03:24:27|      2018-07-26 14:31:00| 2018-08-07 15:27:45|  2018-08-13 00:00:00|\n",
            "|47770eb9100c2d0c4...|41ce2a54c0b03bf34...|    delivered|2018-08-08 08:38:49|  2018-08-08 08:55:23|      2018-08-08 13:50:00| 2018-08-17 18:06:29|  2018-09-04 00:00:00|\n",
            "|949d5b44dbf5de918...|f88197465ea7920ad...|    delivered|2017-11-18 19:28:06|  2017-11-18 19:45:59|      2017-11-22 13:39:59| 2017-12-02 00:28:42|  2017-12-15 00:00:00|\n",
            "|ad21c59c0840e6cb8...|8ab97904e6daea886...|    delivered|2018-02-13 21:18:39|  2018-02-13 22:20:29|      2018-02-14 19:46:34| 2018-02-16 18:17:02|  2018-02-26 00:00:00|\n",
            "+--------------------+--------------------+-------------+-------------------+---------------------+-------------------------+--------------------+---------------------+\n",
            "only showing top 5 rows\n",
            "\n",
            "+--------------------+--------------------+-----------+--------------------+--------------+\n",
            "|          id_cliente|    id_unico_cliente|cep_cliente|      cidade_cliente|estado_cliente|\n",
            "+--------------------+--------------------+-----------+--------------------+--------------+\n",
            "|06b8999e2fba1a1fb...|861eff4711a542e4b...|      14409|              franca|            SP|\n",
            "|18955e83d337fd6b2...|290c77bc529b7ac93...|       9790|sao bernardo do c...|            SP|\n",
            "|4e7b3e00288586ebd...|060e732b5b29e8181...|       1151|           sao paulo|            SP|\n",
            "|b2b6027bc5c5109e5...|259dac757896d24d7...|       8775|     mogi das cruzes|            SP|\n",
            "|4f2d8ab171c80ec83...|345ecd01c38d18a90...|      13056|            campinas|            SP|\n",
            "+--------------------+--------------------+-----------+--------------------+--------------+\n",
            "only showing top 5 rows\n",
            "\n",
            "+--------------------+--------------------+-------------+-------------------+---------------------+-------------------------+--------------------+---------------------+--------------------+-----------+--------------------+--------------+\n",
            "|          id_cliente|           id_pedido|status_pedido| data_compra_pedido|data_aprovacao_pedido|data_envio_transportadora|data_entrega_cliente|data_estimada_entrega|    id_unico_cliente|cep_cliente|      cidade_cliente|estado_cliente|\n",
            "+--------------------+--------------------+-------------+-------------------+---------------------+-------------------------+--------------------+---------------------+--------------------+-----------+--------------------+--------------+\n",
            "|9ef432eb625129730...|e481f51cbdc54678b...|    delivered|2017-10-02 10:56:33|  2017-10-02 11:07:15|      2017-10-04 19:55:00| 2017-10-10 21:25:13|  2017-10-18 00:00:00|7c396fd4830fd0422...|       3149|           sao paulo|            SP|\n",
            "|b0830fb4747a6c6d2...|53cdb2fc8bc7dce0b...|    delivered|2018-07-24 20:41:37|  2018-07-26 03:24:27|      2018-07-26 14:31:00| 2018-08-07 15:27:45|  2018-08-13 00:00:00|af07308b275d755c9...|      47813|           barreiras|            BA|\n",
            "|41ce2a54c0b03bf34...|47770eb9100c2d0c4...|    delivered|2018-08-08 08:38:49|  2018-08-08 08:55:23|      2018-08-08 13:50:00| 2018-08-17 18:06:29|  2018-09-04 00:00:00|3a653a41f6f9fc3d2...|      75265|          vianopolis|            GO|\n",
            "|f88197465ea7920ad...|949d5b44dbf5de918...|    delivered|2017-11-18 19:28:06|  2017-11-18 19:45:59|      2017-11-22 13:39:59| 2017-12-02 00:28:42|  2017-12-15 00:00:00|7c142cf63193a1473...|      59296|sao goncalo do am...|            RN|\n",
            "|8ab97904e6daea886...|ad21c59c0840e6cb8...|    delivered|2018-02-13 21:18:39|  2018-02-13 22:20:29|      2018-02-14 19:46:34| 2018-02-16 18:17:02|  2018-02-26 00:00:00|72632f0f9dd73dfee...|       9195|         santo andre|            SP|\n",
            "+--------------------+--------------------+-------------+-------------------+---------------------+-------------------------+--------------------+---------------------+--------------------+-----------+--------------------+--------------+\n",
            "only showing top 5 rows\n",
            "\n"
          ]
        }
      ]
    },
    {
      "cell_type": "code",
      "source": [
        "join_itens_pedido_df = itens_pedido.join(pedidos, 'id_pedido').join(produtos, 'id_produto')\n",
        "join_itens_pedido_df.show()"
      ],
      "metadata": {
        "colab": {
          "base_uri": "https://localhost:8080/"
        },
        "collapsed": true,
        "id": "uef7-PUTEdjv",
        "outputId": "bf83ba94-2e16-45c5-c3f7-a1f191008940"
      },
      "execution_count": 10,
      "outputs": [
        {
          "output_type": "stream",
          "name": "stdout",
          "text": [
            "+--------------------+--------------------+--------------+--------------------+-------------------+------+-----------+--------------------+-------------+-------------------+---------------------+-------------------------+--------------------+---------------------+--------------------+--------------------+-------------------------+------------------------+--------------+----------------------+-----------------+------------------+\n",
            "|          id_produto|           id_pedido|item_id_pedido|         id_vendedor|  data_limite_envio| preco|valor_frete|          id_cliente|status_pedido| data_compra_pedido|data_aprovacao_pedido|data_envio_transportadora|data_entrega_cliente|data_estimada_entrega|   categoria_produto|tamanho_nome_produto|tamanho_descricao_produto|quantidade_fotos_produto|peso_produto_g|comprimento_produto_cm|altura_produto_cm|largura_produto_cm|\n",
            "+--------------------+--------------------+--------------+--------------------+-------------------+------+-----------+--------------------+-------------+-------------------+---------------------+-------------------------+--------------------+---------------------+--------------------+--------------------+-------------------------+------------------------+--------------+----------------------+-----------------+------------------+\n",
            "|e5f2d52b802189ee6...|00018f77f2f0320c5...|             1|dd7ddc04e1b6c2c61...|2017-05-03 11:05:13| 239.9|      19.93|f6dd3ec061db4e398...|    delivered|2017-04-26 10:53:06|  2017-04-26 11:05:13|      2017-05-04 14:35:00| 2017-05-12 16:04:24|  2017-05-15 00:00:00|            pet_shop|                  56|                      239|                       2|         30000|                    50|               30|                40|\n",
            "|c777355d18b72b67a...|000229ec398224ef6...|             1|5b51032eddd242adc...|2018-01-18 14:48:30| 199.0|      17.87|6489ae5e4333f3693...|    delivered|2018-01-14 14:33:31|  2018-01-14 14:48:30|      2018-01-16 12:36:48| 2018-01-22 13:19:16|  2018-02-05 00:00:00|    moveis_decoracao|                  59|                      695|                       2|          3050|                    33|               13|                33|\n",
            "|7634da152a4610f15...|00024acbcdf0a6daa...|             1|9d7a1d34a50524090...|2018-08-15 10:10:18| 12.99|      12.79|d4eb9395c8c0431ee...|    delivered|2018-08-08 10:00:35|  2018-08-08 10:10:18|      2018-08-10 13:28:00| 2018-08-14 13:32:39|  2018-08-20 00:00:00|          perfumaria|                  42|                      480|                       1|           200|                    16|               10|                15|\n",
            "|ac6c3623068f30de0...|00042b26cf59d7ce6...|             1|df560393f3a51e745...|2017-02-13 13:57:51| 199.9|      18.14|58dbd0b2d70206bf4...|    delivered|2017-02-04 13:57:51|  2017-02-04 14:10:13|      2017-02-16 09:46:09| 2017-03-01 16:42:31|  2017-03-17 00:00:00|  ferramentas_jardim|                  59|                      409|                       1|          3750|                    35|               40|                30|\n",
            "|8d4f2bb7e93e6710a...|00054e8431b9d7675...|             1|7040e82f899a04d1b...|2017-12-14 12:10:31|  19.9|      11.85|32e2e6ab09e778d99...|    delivered|2017-12-10 11:53:48|  2017-12-10 12:10:31|      2017-12-12 01:07:48| 2017-12-18 22:03:38|  2018-01-04 00:00:00|           telefonia|                  52|                      815|                       1|           200|                    27|                5|                20|\n",
            "|310ae3c140ff94b03...|0005a1a1728c9d785...|             1|a416b6a846a117243...|2018-03-26 18:31:29|145.95|      11.65|16150771dfd477626...|    delivered|2018-03-19 18:40:33|  2018-03-20 18:35:21|      2018-03-28 00:37:42| 2018-03-29 18:17:31|  2018-03-29 00:00:00|        beleza_saude|                  59|                      493|                       1|          2000|                    30|               12|                16|\n",
            "|4535b0e1091c278df...|0005f50442cb953dc...|             1|ba143b05f0110f0dc...|2018-07-06 14:10:56| 53.99|       11.4|351d3cb2cee3c7fd0...|    delivered|2018-07-02 13:59:39|  2018-07-02 14:10:56|      2018-07-03 14:25:00| 2018-07-04 17:28:31|  2018-07-23 00:00:00|     livros_tecnicos|                  52|                     1192|                       1|           850|                    29|                3|                21|\n",
            "|f177554ea93259a5b...|00063b381e2406b52...|             1|8602a61d680a10a82...|2018-07-31 17:30:39|  45.0|      12.98|6a899e55865de6549...|    delivered|2018-07-27 17:21:27|  2018-07-27 18:00:06|      2018-07-30 14:52:00| 2018-08-07 13:56:52|  2018-08-07 00:00:00|fashion_bolsas_e_...|                  35|                       60|                       1|           200|                    16|               16|                11|\n",
            "|99a4788cb24856965...|0006ec9db01a64e59...|             1|4a3ca9315b744ce9f...|2018-07-26 17:24:20|  74.0|      23.32|5d178120c29c61748...|    delivered|2018-07-24 17:04:17|  2018-07-24 17:24:20|      2018-07-25 11:02:00| 2018-07-31 01:04:15|  2018-08-22 00:00:00|     cama_mesa_banho|                  54|                      245|                       1|          1383|                    50|               10|                40|\n",
            "|368c6c730842d7801...|0008288aa423d2a3f...|             1|1f50f920176fa81da...|2018-02-21 02:55:52|  49.9|      13.37|2355af7c75e7c98b4...|    delivered|2018-02-13 22:10:21|  2018-02-15 03:55:52|      2018-02-20 18:23:28| 2018-02-26 13:55:22|  2018-03-06 00:00:00|  ferramentas_jardim|                  57|                      366|                       2|          1650|                    30|               22|                30|\n",
            "|368c6c730842d7801...|0008288aa423d2a3f...|             2|1f50f920176fa81da...|2018-02-21 02:55:52|  49.9|      13.37|2355af7c75e7c98b4...|    delivered|2018-02-13 22:10:21|  2018-02-15 03:55:52|      2018-02-20 18:23:28| 2018-02-26 13:55:22|  2018-03-06 00:00:00|  ferramentas_jardim|                  57|                      366|                       2|          1650|                    30|               22|                30|\n",
            "|8cab8abac59158715...|0009792311464db53...|             1|530ec6109d11eaaf8...|2018-08-17 12:15:10|  99.9|      27.65|2a30c97668e81df7c...|    delivered|2018-08-14 20:43:09|  2018-08-15 12:15:10|      2018-08-15 15:28:00| 2018-08-22 12:02:27|  2018-08-28 00:00:00|       esporte_lazer|                  56|                     1392|                       4|          1050|                    40|               20|                30|\n",
            "|4fa33915031a8cde0...|000aed2e25dbad2f9...|             1|fe2032dab1a61af87...|2018-05-16 20:57:03| 144.0|       8.77|fff5169e583fd07fa...|    delivered|2018-05-11 20:33:38|  2018-05-11 20:57:03|      2018-05-16 14:26:00| 2018-05-18 16:46:31|  2018-05-22 00:00:00|          perfumaria|                  43|                      116|                       1|           468|                    23|               18|                19|\n",
            "|b50c950aba0dcead2...|000c3e6612759851c...|             1|218d46b86c1881d02...|2017-08-21 03:33:13|  99.0|      13.71|3773bcf1a6fbd2923...|    delivered|2017-08-12 10:08:57|  2017-08-15 03:35:32|      2017-08-15 15:32:51| 2017-08-19 15:22:17|  2017-09-01 00:00:00|       esporte_lazer|                  58|                     2584|                       1|          1800|                    16|               16|                16|\n",
            "|57d79905de06d8897...|000e906b789b55f64...|             1|ea8482cd71df3c196...|2017-11-27 19:09:02| 21.99|      11.85|6a3b2fc9f270df258...|    delivered|2017-11-21 18:54:23|  2017-11-21 19:09:02|      2017-11-22 20:46:54| 2017-12-09 17:27:23|  2017-12-07 00:00:00|           telefonia|                  59|                      540|                       4|           300|                    17|                4|                12|\n",
            "|1c05e0964302b6cf6...|000f25f4d72195062...|             1|7c67e1448b00f6e96...|2018-03-21 11:10:11|119.99|       44.4|86ade8ebc14f18dd6...|    delivered|2018-03-07 10:33:13|  2018-03-07 11:10:11|      2018-03-16 15:58:31| 2018-03-22 16:51:52|  2018-04-11 00:00:00|   moveis_escritorio|                  46|                     1159|                       1|          9375|                    55|               54|                19|\n",
            "|c389f712c4b4510bc...|0011d82c4b53e22e8...|             1|bfd27a966d91cfaaf...|2018-01-29 21:51:25| 289.0|      26.33|2013d892495e1a101...|    delivered|2018-01-16 21:43:23|  2018-01-16 21:51:25|      2018-01-23 22:08:06| 2018-01-26 22:14:02|  2018-02-15 00:00:00|    malas_acessorios|                  41|                      500|                       1|          2965|                    41|               27|                34|\n",
            "|e95ee6822b66ac605...|00143d0f86d6fbd9f...|             1|a17f621c590ea0fab...|2017-10-20 16:07:52| 21.33|       15.1|2e45292979b9b2700...|    delivered|2017-10-16 15:29:43|  2017-10-16 16:07:52|      2017-10-16 23:04:43| 2017-10-27 18:43:56|  2017-11-06 00:00:00|       esporte_lazer|                  52|                     1153|                       1|           180|                    17|               11|                14|\n",
            "|e95ee6822b66ac605...|00143d0f86d6fbd9f...|             2|a17f621c590ea0fab...|2017-10-20 16:07:52| 21.33|       15.1|2e45292979b9b2700...|    delivered|2017-10-16 15:29:43|  2017-10-16 16:07:52|      2017-10-16 23:04:43| 2017-10-27 18:43:56|  2017-11-06 00:00:00|       esporte_lazer|                  52|                     1153|                       1|           180|                    17|               11|                14|\n",
            "|e95ee6822b66ac605...|00143d0f86d6fbd9f...|             3|a17f621c590ea0fab...|2017-10-20 16:07:52| 21.33|       15.1|2e45292979b9b2700...|    delivered|2017-10-16 15:29:43|  2017-10-16 16:07:52|      2017-10-16 23:04:43| 2017-10-27 18:43:56|  2017-11-06 00:00:00|       esporte_lazer|                  52|                     1153|                       1|           180|                    17|               11|                14|\n",
            "+--------------------+--------------------+--------------+--------------------+-------------------+------+-----------+--------------------+-------------+-------------------+---------------------+-------------------------+--------------------+---------------------+--------------------+--------------------+-------------------------+------------------------+--------------+----------------------+-----------------+------------------+\n",
            "only showing top 20 rows\n",
            "\n"
          ]
        }
      ]
    },
    {
      "cell_type": "code",
      "source": [
        "join_pedidos_entregues_df = pedidos.filter(col('status_pedido') == 'canceled').join(clientes, 'id_cliente')\n",
        "join_pedidos_entregues_df.show()"
      ],
      "metadata": {
        "colab": {
          "base_uri": "https://localhost:8080/"
        },
        "collapsed": true,
        "id": "GbiZg_JZFnpt",
        "outputId": "22cf656f-ab6a-44ea-e168-c97f21ec8b18"
      },
      "execution_count": 11,
      "outputs": [
        {
          "output_type": "stream",
          "name": "stdout",
          "text": [
            "+--------------------+--------------------+-------------+-------------------+---------------------+-------------------------+--------------------+---------------------+--------------------+-----------+--------------------+--------------+\n",
            "|          id_cliente|           id_pedido|status_pedido| data_compra_pedido|data_aprovacao_pedido|data_envio_transportadora|data_entrega_cliente|data_estimada_entrega|    id_unico_cliente|cep_cliente|      cidade_cliente|estado_cliente|\n",
            "+--------------------+--------------------+-------------+-------------------+---------------------+-------------------------+--------------------+---------------------+--------------------+-----------+--------------------+--------------+\n",
            "|6d6b50b66d79f8082...|1b9ecfe83cdc25925...|     canceled|2018-08-04 14:29:27|  2018-08-07 04:10:26|                     NULL|                NULL|  2018-08-14 00:00:00|8ea097b1824dbd4d1...|       5514|           sao paulo|            SP|\n",
            "|e3fe72696c4713d64...|714fb133a6730ab81...|     canceled|2018-01-26 21:34:08|  2018-01-26 21:58:39|      2018-01-29 22:33:25|                NULL|  2018-02-22 00:00:00|c4ebedb09beb89cc0...|       9961|             diadema|            SP|\n",
            "|0913cdce793684e52...|3a129877493c8189c...|     canceled|2018-01-25 13:34:24|  2018-01-25 13:50:20|      2018-01-26 21:42:18|                NULL|  2018-02-23 00:00:00|11c3d6c93dea6ce86...|      87013|             maringa|            PR|\n",
            "|3532ba38a3fd24225...|00b1cb0320190ca0d...|     canceled|2018-08-28 15:26:39|                 NULL|                     NULL|                NULL|  2018-09-12 00:00:00|4fa4365000c7090fc...|       1151|           sao paulo|            SP|\n",
            "|191984a8ba4cbb214...|ed3efbd3a87bea76c...|     canceled|2018-09-20 13:54:16|                 NULL|                     NULL|                NULL|  2018-10-17 00:00:00|08642cd329066fe11...|      33030|         santa luzia|            MG|\n",
            "|2fcc597b8934d9971...|0966b61e30c4a07ed...|     canceled|2018-05-22 18:50:55|  2018-05-22 19:17:15|                     NULL|                NULL|  2018-07-03 00:00:00|da4f38e2697f8013c...|      28898|      rio das ostras|            RJ|\n",
            "|7acf55df0298e1d2c...|9021cf1919f615a12...|     canceled|2018-07-04 16:05:56|  2018-07-06 02:55:16|                     NULL|                NULL|  2018-08-22 00:00:00|54d7a15160876f868...|      39230|          buenopolis|            MG|\n",
            "|aa797b187b5466bc6...|df8282afe61008dc2...|     canceled|2017-03-04 12:14:30|                 NULL|                     NULL|                NULL|  2017-04-10 00:00:00|c219f4ac1bc7f1aea...|      68742|           castanhal|            PA|\n",
            "|ec66df2cb66dfda07...|a39d3db795a5cf4c8...|     canceled|2017-03-13 16:12:24|  2017-03-13 16:12:24|                     NULL|                NULL|  2017-03-30 00:00:00|8c36d7644f5966816...|       9050|         santo andre|            SP|\n",
            "|b1dd715db389a2077...|8d4c637f1accf7a88...|     canceled|2018-08-29 16:27:49|                 NULL|                     NULL|                NULL|  2018-09-13 00:00:00|a8dd81392e5eee5d9...|      13059|            campinas|            SP|\n",
            "|7f71ae48074c0cfec...|7a9d4c7f9b0683378...|     canceled|2017-05-01 16:12:39|                 NULL|                     NULL|                NULL|  2017-05-30 00:00:00|29dc4aeff866d6a94...|       5752|           sao paulo|            SP|\n",
            "|8f6e5911262a87423...|375f80ffc05feb35c...|     canceled|2017-06-13 21:10:05|  2017-06-13 21:22:35|                     NULL|                NULL|  2017-07-06 00:00:00|1262c5e6cb8a5dc8c...|      20560|      rio de janeiro|            RJ|\n",
            "|6ccb997c97b073422...|6bfa92d3952f762df...|     canceled|2018-04-27 21:28:24|  2018-04-27 21:52:18|                     NULL|                NULL|  2018-05-10 00:00:00|6eb9314151358fa32...|       3282|           sao paulo|            SP|\n",
            "|d5420a7dc4c5c1f95...|2eb5ba20812f78127...|     canceled|2017-05-29 18:10:06|  2017-05-31 07:02:46|                     NULL|                NULL|  2017-06-20 00:00:00|4d024a9c22e0d1232...|      16370|           promissao|            SP|\n",
            "|1bccb206de9f0f25a...|1950d777989f6a877...|     canceled|2018-02-19 19:48:52|  2018-02-19 20:56:05|      2018-02-20 19:57:13| 2018-03-21 22:03:51|  2018-03-09 00:00:00|6a04c8339c44b23e1...|      32071|            contagem|            MG|\n",
            "|68f4ad79cc0c2ad06...|ddaec6fff982b13e7...|     canceled|2016-10-04 19:41:32|                 NULL|                     NULL|                NULL|  2016-11-16 00:00:00|00f0b70fdcb8a6e16...|       5362|           sao paulo|            SP|\n",
            "|92af427e290117f39...|5290c34bd38a8a095...|     canceled|2018-08-21 10:25:18|                 NULL|                     NULL|                NULL|  2018-09-06 00:00:00|e61f0f032bc92cadf...|      13848|          mogi-guacu|            SP|\n",
            "|59c0ac147fb499a0f...|6261f3240a8778c65...|     canceled|2017-05-31 13:21:35|  2017-06-01 13:35:20|                     NULL|                NULL|  2017-07-04 00:00:00|23643c53099bde88b...|      45075|vitoria da conquista|            BA|\n",
            "|a76e74100709762a4...|5ad5a1ef522da1732...|     canceled|2017-06-22 19:53:09|  2017-06-22 20:05:23|                     NULL|                NULL|  2017-07-05 00:00:00|25909109137a0ddcd...|       3166|           sao paulo|            SP|\n",
            "|25dbbf0c477fd4ae0...|03310aa823a660562...|     canceled|2018-08-07 16:33:59|                 NULL|                     NULL|                NULL|  2018-09-04 00:00:00|46450c74a0d8c5ca9...|      88034|       florianopolis|            SC|\n",
            "+--------------------+--------------------+-------------+-------------------+---------------------+-------------------------+--------------------+---------------------+--------------------+-----------+--------------------+--------------+\n",
            "only showing top 20 rows\n",
            "\n"
          ]
        }
      ]
    },
    {
      "cell_type": "code",
      "source": [
        "pedidos_concat_df = pedidos.withColumn('id_pedido_cliente', concat(col('id_pedido'), lit('_'), col('id_cliente')))\n",
        "\n",
        "colunas = pedidos_concat_df.columns\n",
        "print(colunas)\n",
        "\n",
        "colunas.remove('id_pedido_cliente')\n",
        "colunas.insert(0, 'id_pedido_cliente')\n",
        "\n",
        "pedidos_reorganizar_df = pedidos_concat_df.select(colunas)\n",
        "pedidos_reorganizar_df.show(n=5, truncate=False)"
      ],
      "metadata": {
        "colab": {
          "base_uri": "https://localhost:8080/"
        },
        "collapsed": true,
        "id": "gUDXl3GJHxGu",
        "outputId": "16364be2-b71b-4cfd-c078-e9a8f93fff32"
      },
      "execution_count": 13,
      "outputs": [
        {
          "output_type": "stream",
          "name": "stdout",
          "text": [
            "['id_pedido', 'id_cliente', 'status_pedido', 'data_compra_pedido', 'data_aprovacao_pedido', 'data_envio_transportadora', 'data_entrega_cliente', 'data_estimada_entrega', 'id_pedido_cliente']\n",
            "+-----------------------------------------------------------------+--------------------------------+--------------------------------+-------------+-------------------+---------------------+-------------------------+--------------------+---------------------+\n",
            "|id_pedido_cliente                                                |id_pedido                       |id_cliente                      |status_pedido|data_compra_pedido |data_aprovacao_pedido|data_envio_transportadora|data_entrega_cliente|data_estimada_entrega|\n",
            "+-----------------------------------------------------------------+--------------------------------+--------------------------------+-------------+-------------------+---------------------+-------------------------+--------------------+---------------------+\n",
            "|e481f51cbdc54678b7cc49136f2d6af7_9ef432eb6251297304e76186b10a928d|e481f51cbdc54678b7cc49136f2d6af7|9ef432eb6251297304e76186b10a928d|delivered    |2017-10-02 10:56:33|2017-10-02 11:07:15  |2017-10-04 19:55:00      |2017-10-10 21:25:13 |2017-10-18 00:00:00  |\n",
            "|53cdb2fc8bc7dce0b6741e2150273451_b0830fb4747a6c6d20dea0b8c802d7ef|53cdb2fc8bc7dce0b6741e2150273451|b0830fb4747a6c6d20dea0b8c802d7ef|delivered    |2018-07-24 20:41:37|2018-07-26 03:24:27  |2018-07-26 14:31:00      |2018-08-07 15:27:45 |2018-08-13 00:00:00  |\n",
            "|47770eb9100c2d0c44946d9cf07ec65d_41ce2a54c0b03bf3443c3d931a367089|47770eb9100c2d0c44946d9cf07ec65d|41ce2a54c0b03bf3443c3d931a367089|delivered    |2018-08-08 08:38:49|2018-08-08 08:55:23  |2018-08-08 13:50:00      |2018-08-17 18:06:29 |2018-09-04 00:00:00  |\n",
            "|949d5b44dbf5de918fe9c16f97b45f8a_f88197465ea7920adcdbec7375364d82|949d5b44dbf5de918fe9c16f97b45f8a|f88197465ea7920adcdbec7375364d82|delivered    |2017-11-18 19:28:06|2017-11-18 19:45:59  |2017-11-22 13:39:59      |2017-12-02 00:28:42 |2017-12-15 00:00:00  |\n",
            "|ad21c59c0840e6cb83a9ceb5573f8159_8ab97904e6daea8866dbdbc4fb7aad2c|ad21c59c0840e6cb83a9ceb5573f8159|8ab97904e6daea8866dbdbc4fb7aad2c|delivered    |2018-02-13 21:18:39|2018-02-13 22:20:29  |2018-02-14 19:46:34      |2018-02-16 18:17:02 |2018-02-26 00:00:00  |\n",
            "+-----------------------------------------------------------------+--------------------------------+--------------------------------+-------------+-------------------+---------------------+-------------------------+--------------------+---------------------+\n",
            "only showing top 5 rows\n",
            "\n"
          ]
        }
      ]
    },
    {
      "cell_type": "code",
      "source": [
        "join_itens_pedido_df.write.mode('overwrite').option('header', 'true').parquet('join_itens_pedido_parquet')"
      ],
      "metadata": {
        "id": "xIjgUVL1J0Um"
      },
      "execution_count": 19,
      "outputs": []
    },
    {
      "cell_type": "code",
      "source": [
        "join_itens_pedido_df.write.mode('overwrite').option('header', 'true').parquet('drive/MyDrive/Colab Notebooks/spark/join_itens_pedido_parquet')"
      ],
      "metadata": {
        "id": "jgQBD83NN1LB"
      },
      "execution_count": 18,
      "outputs": []
    },
    {
      "cell_type": "code",
      "source": [
        "spark.read.option('header', 'true').parquet('drive/MyDrive/Colab Notebooks/spark/join_itens_pedido_parquet').show()"
      ],
      "metadata": {
        "colab": {
          "base_uri": "https://localhost:8080/"
        },
        "collapsed": true,
        "id": "l7uwiuPuOKrF",
        "outputId": "989479be-d159-4b1c-f23c-0aeb7fb214f2"
      },
      "execution_count": 20,
      "outputs": [
        {
          "output_type": "stream",
          "name": "stdout",
          "text": [
            "+--------------------+--------------------+--------------+--------------------+-------------------+-----+-----------+--------------------+-------------+-------------------+---------------------+-------------------------+--------------------+---------------------+--------------------+--------------------+-------------------------+------------------------+--------------+----------------------+-----------------+------------------+\n",
            "|          id_produto|           id_pedido|item_id_pedido|         id_vendedor|  data_limite_envio|preco|valor_frete|          id_cliente|status_pedido| data_compra_pedido|data_aprovacao_pedido|data_envio_transportadora|data_entrega_cliente|data_estimada_entrega|   categoria_produto|tamanho_nome_produto|tamanho_descricao_produto|quantidade_fotos_produto|peso_produto_g|comprimento_produto_cm|altura_produto_cm|largura_produto_cm|\n",
            "+--------------------+--------------------+--------------+--------------------+-------------------+-----+-----------+--------------------+-------------+-------------------+---------------------+-------------------------+--------------------+---------------------+--------------------+--------------------+-------------------------+------------------------+--------------+----------------------+-----------------+------------------+\n",
            "|4244733e06e7ecb49...|00010242fe8c5a6d1...|             1|48436dade18ac8b2b...|2017-09-19 09:45:35| 58.9|      13.29|3ce436f183e68e078...|    delivered|2017-09-13 08:59:02|  2017-09-13 09:45:35|      2017-09-19 18:34:16| 2017-09-20 23:43:48|  2017-09-29 00:00:00|          cool_stuff|                  58|                      598|                       4|           650|                    28|                9|                14|\n",
            "|ef92defde845ab845...|00048cc3ae777c65d...|             1|6426d21aca402a131...|2017-05-23 03:55:27| 21.9|      12.69|816cbea969fe5b689...|    delivered|2017-05-15 21:42:34|  2017-05-17 03:55:27|      2017-05-17 11:05:55| 2017-05-22 13:44:35|  2017-06-06 00:00:00|utilidades_domest...|                  36|                      558|                       1|           450|                    24|                8|                15|\n",
            "|557d850972a7d6f79...|000576fe39319847c...|             1|5996cddab893a4652...|2018-07-10 12:30:45|810.0|      70.75|9ed5e522dd9dd85b4...|    delivered|2018-07-04 12:08:27|  2018-07-05 16:35:48|      2018-07-05 12:15:00| 2018-07-09 14:04:07|  2018-07-25 00:00:00|  ferramentas_jardim|                  39|                     1310|                       3|         13805|                    35|               75|                45|\n",
            "|d63c1011f49d98b97...|00061f2a7bc09da83...|             1|cc419e0650a3c5ba7...|2018-03-29 22:28:09|59.99|       8.88|c6fc061d86fab1e2b...|    delivered|2018-03-24 22:16:10|  2018-03-24 22:28:09|      2018-03-27 05:26:55| 2018-03-29 00:04:19|  2018-04-09 00:00:00|        beleza_saude|                  57|                      614|                       1|           950|                    35|               25|                20|\n",
            "|3f27ac8e699df3d30...|0009c9a17f916a706...|             1|fcb5ace8bcc92f757...|2018-05-02 09:31:53|639.0|      11.34|8a250edc40ebc5c39...|    delivered|2018-04-25 09:10:41|  2018-04-25 09:33:19|      2018-04-27 15:14:00| 2018-04-30 17:54:25|  2018-05-09 00:00:00|      consoles_games|                  37|                     1172|                       2|           200|                    16|                5|                12|\n",
            "|5ed9eaf534f6936b5...|000e562887b1f2006...|             1|8cbac7e12637ed9cf...|2018-02-28 12:08:37| 25.0|      16.11|2b01d668726fb0b75...|    delivered|2018-02-22 11:54:42|  2018-02-22 12:08:37|      2018-02-26 14:18:32| 2018-03-12 18:46:34|  2018-03-19 00:00:00|          cool_stuff|                  51|                      693|                       3|           600|                    20|               20|                21|\n",
            "|553e0e7590d3116a0...|000e63d38ae8c00bb...|             1|1c129092bf23f28a5...|2018-03-29 20:07:49| 47.9|       8.88|98884e672c5ba85f4...|    delivered|2018-03-23 19:48:26|  2018-03-23 20:07:49|      2018-03-26 21:38:48| 2018-03-27 14:51:47|  2018-04-05 00:00:00|     cama_mesa_banho|                  38|                      735|                       5|           800|                    20|               20|                20|\n",
            "|5d7c23067ed3fc8c6...|001021efaa8636c29...|             1|6560211a19b47992c...|2018-03-05 09:35:41| 49.0|       15.1|2dfbf74859104caf1...|    delivered|2018-02-27 09:27:14|  2018-02-27 09:35:41|      2018-02-27 21:43:46| 2018-03-08 20:06:33|  2018-03-23 00:00:00|fashion_bolsas_e_...|                  54|                      151|                       3|           250|                    16|                2|                20|\n",
            "|5a419dbf24a8c9718...|0010b2e5201cc5f1a...|             1|3504c0cb71d7fa48d...|2017-09-15 18:04:37| 48.9|       16.6|57ef317d4818cb426...|    delivered|2017-09-11 17:39:33|  2017-09-11 18:04:37|      2017-09-12 17:02:57| 2017-09-23 13:21:21|  2017-09-27 00:00:00|          cool_stuff|                  53|                      537|                       2|          1800|                    34|                5|                34|\n",
            "|21b1c2f67a9aafb5a...|00119ff934e539cf2...|             1|c864036feaab8c165...|2017-08-11 00:35:12|219.9|      16.98|7dd2e283f47deac85...|    delivered|2017-08-06 00:42:49|  2017-08-07 00:35:12|      2017-08-07 21:12:34| 2017-08-16 17:29:59|  2017-08-31 00:00:00|       esporte_lazer|                  35|                     1132|                       8|          9800|                   105|               15|                28|\n",
            "|1c0c0093a48f13ba7...|00125cb692d048878...|             1|41b39e28db005d973...|2017-03-29 13:05:42|109.9|      25.51|8afb90a97ee661103...|    delivered|2017-03-23 12:21:17|  2017-03-23 13:05:42|      2017-03-27 08:58:04| 2017-04-07 15:32:47|  2017-04-20 00:00:00|    moveis_decoracao|                  49|                      300|                       1|          2500|                    47|               21|                41|\n",
            "|89321f94e35fc6d79...|00130c0eee84a3d90...|             1|16090f2ca825584b5...|2018-06-14 05:16:24| 27.9|       7.94|47d656c08a282ec5a...|    delivered|2018-06-11 21:17:00|  2018-06-12 05:16:24|      2018-06-12 14:22:00| 2018-06-13 15:28:25|  2018-06-20 00:00:00|           alimentos|                  59|                      982|                       1|           150|                    17|               13|                13|\n",
            "|38afdf723b95d455b...|0013503b13da1eac6...|             1|1554a68530182680a...|2017-12-13 03:16:36|119.9|      17.32|f7277fce45fad3165...|    delivered|2017-12-05 23:40:59|  2017-12-07 03:16:36|      2017-12-07 22:59:30| 2017-12-20 22:46:28|  2017-12-28 00:00:00|    moveis_decoracao|                  38|                      479|                       3|          2500|                    34|                6|                28|\n",
            "|672e757f331900b9d...|00137e170939bba5a...|             1|e59aa562b9f8076dd...|2017-11-30 06:30:55|397.0|      24.65|7b63cba66b8e6d002...|    delivered|2017-11-24 16:50:38|  2017-11-25 06:30:55|      2017-11-28 19:43:52| 2017-12-11 19:12:55|  2017-12-18 00:00:00|agro_industria_e_...|                  39|                      383|                       1|          2650|                    30|               30|                20|\n",
            "|28b4eced95a52d9c4...|001427c0ec99cf8af...|             1|77530e9772f57a62c...|2018-04-12 19:08:28| 59.9|      23.35|eab9c552374be06ed...|    delivered|2018-04-07 18:51:22|  2018-04-07 19:08:28|      2018-04-09 23:29:32| 2018-04-25 23:38:41|  2018-05-10 00:00:00|    moveis_decoracao|                  60|                     1953|                       1|           750|                    69|               11|                11|\n",
            "|b10eba910a974df70...|00169e31ef4b29dea...|             1|a3e9a2c700480d9bb...|2018-01-23 03:35:47| 39.0|      16.11|efb3830adb68fb8a8...|    delivered|2018-01-16 09:26:39|  2018-01-17 03:35:47|      2018-01-17 16:46:04| 2018-01-23 20:19:04|  2018-02-07 00:00:00|     cama_mesa_banho|                  46|                      246|                       1|           550|                    51|                4|                41|\n",
            "|4089861a1bd4685da...|0016dfedd97fc2950...|             1|a35124e2d763d7ca3...|2017-05-05 10:05:12|49.75|       20.8|2c8b917c5d7dd720e...|    delivered|2017-04-28 19:54:40|  2017-04-29 10:05:12|      2017-05-16 08:40:49| 2017-05-22 18:32:21|  2017-06-01 00:00:00|  ferramentas_jardim|                  44|                      152|                       1|          1500|                    27|                6|                23|\n",
            "|fe59a1e006df3ac42...|0017afd5076e074a4...|             1|25c5c91f63607446a...|2017-04-24 22:25:19|809.1|      44.29|8085a9af46f619bc2...|    delivered|2017-04-06 22:16:10|  2017-04-06 22:25:19|      2017-04-17 13:54:37| 2017-05-23 08:32:07|  2017-05-19 00:00:00|informatica_acess...|                  60|                     2136|                       1|          3407|                    28|               22|                23|\n",
            "|0b0172eb0fd18479d...|001ab0a7578dd66cd...|             1|5656537e588803a55...|2018-01-04 02:33:42|24.89|      17.63|8bb3bef4e75a95524...|    delivered|2017-12-27 00:38:47|  2017-12-28 02:33:42|      2017-12-28 18:09:35| 2018-01-17 20:43:29|  2018-01-29 00:00:00|         eletronicos|                  53|                      265|                       2|           150|                    22|               13|                15|\n",
            "|0b0172eb0fd18479d...|001ab0a7578dd66cd...|             2|5656537e588803a55...|2018-01-04 02:33:42|24.89|      17.63|8bb3bef4e75a95524...|    delivered|2017-12-27 00:38:47|  2017-12-28 02:33:42|      2017-12-28 18:09:35| 2018-01-17 20:43:29|  2018-01-29 00:00:00|         eletronicos|                  53|                      265|                       2|           150|                    22|               13|                15|\n",
            "+--------------------+--------------------+--------------+--------------------+-------------------+-----+-----------+--------------------+-------------+-------------------+---------------------+-------------------------+--------------------+---------------------+--------------------+--------------------+-------------------------+------------------------+--------------+----------------------+-----------------+------------------+\n",
            "only showing top 20 rows\n",
            "\n"
          ]
        }
      ]
    },
    {
      "cell_type": "code",
      "source": [
        "spark.stop()"
      ],
      "metadata": {
        "id": "latJUsWXObXp"
      },
      "execution_count": 21,
      "outputs": []
    }
  ]
}