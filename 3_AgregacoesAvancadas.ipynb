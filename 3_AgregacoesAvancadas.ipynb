{
  "nbformat": 4,
  "nbformat_minor": 0,
  "metadata": {
    "colab": {
      "provenance": [],
      "authorship_tag": "ABX9TyOAEaoLmT4/KbMGz3sJq1ri",
      "include_colab_link": true
    },
    "kernelspec": {
      "name": "python3",
      "display_name": "Python 3"
    },
    "language_info": {
      "name": "python"
    }
  },
  "cells": [
    {
      "cell_type": "markdown",
      "metadata": {
        "id": "view-in-github",
        "colab_type": "text"
      },
      "source": [
        "<a href=\"https://colab.research.google.com/github/Samgomes2510/dashborad-ecommerce/blob/main/3_AgregacoesAvancadas.ipynb\" target=\"_parent\"><img src=\"https://colab.research.google.com/assets/colab-badge.svg\" alt=\"Open In Colab\"/></a>"
      ]
    },
    {
      "cell_type": "code",
      "execution_count": 1,
      "metadata": {
        "colab": {
          "base_uri": "https://localhost:8080/"
        },
        "id": "zaOLpaL4rzp9",
        "outputId": "5fbaa4de-af84-49a6-cb0e-4dcf02fad6f6"
      },
      "outputs": [
        {
          "output_type": "stream",
          "name": "stdout",
          "text": [
            "Collecting spark\n",
            "  Downloading spark-0.2.1.tar.gz (41 kB)\n",
            "\u001b[?25l     \u001b[90m━━━━━━━━━━━━━━━━━━━━━━━━━━━━━━━━━━━━━━━━\u001b[0m \u001b[32m0.0/41.0 kB\u001b[0m \u001b[31m?\u001b[0m eta \u001b[36m-:--:--\u001b[0m\r\u001b[2K     \u001b[90m━━━━━━━━━━━━━━━━━━━━━━━━━━━━━━━━━━━━━━━━\u001b[0m \u001b[32m41.0/41.0 kB\u001b[0m \u001b[31m1.7 MB/s\u001b[0m eta \u001b[36m0:00:00\u001b[0m\n",
            "\u001b[?25h  Preparing metadata (setup.py) ... \u001b[?25l\u001b[?25hdone\n",
            "Building wheels for collected packages: spark\n",
            "  Building wheel for spark (setup.py) ... \u001b[?25l\u001b[?25hdone\n",
            "  Created wheel for spark: filename=spark-0.2.1-py3-none-any.whl size=58748 sha256=0da2b76d9ac092f9d41846649444e6e2163ea417ab1739976e4ea244aabaa136\n",
            "  Stored in directory: /root/.cache/pip/wheels/67/c2/7c/a53325365fba358ffff35af84a2e14cf88c18052f88acfa5f0\n",
            "Successfully built spark\n",
            "Installing collected packages: spark\n",
            "Successfully installed spark-0.2.1\n"
          ]
        }
      ],
      "source": [
        "!pip install spark"
      ]
    },
    {
      "cell_type": "code",
      "source": [
        "import pyspark\n",
        "from pyspark.sql import SparkSession\n",
        "from pyspark.sql.functions import *"
      ],
      "metadata": {
        "id": "DU6pWOQKswUi"
      },
      "execution_count": 2,
      "outputs": []
    },
    {
      "cell_type": "code",
      "source": [
        "from google.colab import files\n",
        "uploaded = files.upload()"
      ],
      "metadata": {
        "colab": {
          "base_uri": "https://localhost:8080/",
          "height": 281
        },
        "id": "r7jFWUhjs5aQ",
        "outputId": "a50b6d8f-a0d2-4976-acfa-b295d48c780a"
      },
      "execution_count": 3,
      "outputs": [
        {
          "output_type": "display_data",
          "data": {
            "text/plain": [
              "<IPython.core.display.HTML object>"
            ],
            "text/html": [
              "\n",
              "     <input type=\"file\" id=\"files-4284e560-d03e-4ad5-8c22-4fa15e3c99d3\" name=\"files[]\" multiple disabled\n",
              "        style=\"border:none\" />\n",
              "     <output id=\"result-4284e560-d03e-4ad5-8c22-4fa15e3c99d3\">\n",
              "      Upload widget is only available when the cell has been executed in the\n",
              "      current browser session. Please rerun this cell to enable.\n",
              "      </output>\n",
              "      <script>// Copyright 2017 Google LLC\n",
              "//\n",
              "// Licensed under the Apache License, Version 2.0 (the \"License\");\n",
              "// you may not use this file except in compliance with the License.\n",
              "// You may obtain a copy of the License at\n",
              "//\n",
              "//      http://www.apache.org/licenses/LICENSE-2.0\n",
              "//\n",
              "// Unless required by applicable law or agreed to in writing, software\n",
              "// distributed under the License is distributed on an \"AS IS\" BASIS,\n",
              "// WITHOUT WARRANTIES OR CONDITIONS OF ANY KIND, either express or implied.\n",
              "// See the License for the specific language governing permissions and\n",
              "// limitations under the License.\n",
              "\n",
              "/**\n",
              " * @fileoverview Helpers for google.colab Python module.\n",
              " */\n",
              "(function(scope) {\n",
              "function span(text, styleAttributes = {}) {\n",
              "  const element = document.createElement('span');\n",
              "  element.textContent = text;\n",
              "  for (const key of Object.keys(styleAttributes)) {\n",
              "    element.style[key] = styleAttributes[key];\n",
              "  }\n",
              "  return element;\n",
              "}\n",
              "\n",
              "// Max number of bytes which will be uploaded at a time.\n",
              "const MAX_PAYLOAD_SIZE = 100 * 1024;\n",
              "\n",
              "function _uploadFiles(inputId, outputId) {\n",
              "  const steps = uploadFilesStep(inputId, outputId);\n",
              "  const outputElement = document.getElementById(outputId);\n",
              "  // Cache steps on the outputElement to make it available for the next call\n",
              "  // to uploadFilesContinue from Python.\n",
              "  outputElement.steps = steps;\n",
              "\n",
              "  return _uploadFilesContinue(outputId);\n",
              "}\n",
              "\n",
              "// This is roughly an async generator (not supported in the browser yet),\n",
              "// where there are multiple asynchronous steps and the Python side is going\n",
              "// to poll for completion of each step.\n",
              "// This uses a Promise to block the python side on completion of each step,\n",
              "// then passes the result of the previous step as the input to the next step.\n",
              "function _uploadFilesContinue(outputId) {\n",
              "  const outputElement = document.getElementById(outputId);\n",
              "  const steps = outputElement.steps;\n",
              "\n",
              "  const next = steps.next(outputElement.lastPromiseValue);\n",
              "  return Promise.resolve(next.value.promise).then((value) => {\n",
              "    // Cache the last promise value to make it available to the next\n",
              "    // step of the generator.\n",
              "    outputElement.lastPromiseValue = value;\n",
              "    return next.value.response;\n",
              "  });\n",
              "}\n",
              "\n",
              "/**\n",
              " * Generator function which is called between each async step of the upload\n",
              " * process.\n",
              " * @param {string} inputId Element ID of the input file picker element.\n",
              " * @param {string} outputId Element ID of the output display.\n",
              " * @return {!Iterable<!Object>} Iterable of next steps.\n",
              " */\n",
              "function* uploadFilesStep(inputId, outputId) {\n",
              "  const inputElement = document.getElementById(inputId);\n",
              "  inputElement.disabled = false;\n",
              "\n",
              "  const outputElement = document.getElementById(outputId);\n",
              "  outputElement.innerHTML = '';\n",
              "\n",
              "  const pickedPromise = new Promise((resolve) => {\n",
              "    inputElement.addEventListener('change', (e) => {\n",
              "      resolve(e.target.files);\n",
              "    });\n",
              "  });\n",
              "\n",
              "  const cancel = document.createElement('button');\n",
              "  inputElement.parentElement.appendChild(cancel);\n",
              "  cancel.textContent = 'Cancel upload';\n",
              "  const cancelPromise = new Promise((resolve) => {\n",
              "    cancel.onclick = () => {\n",
              "      resolve(null);\n",
              "    };\n",
              "  });\n",
              "\n",
              "  // Wait for the user to pick the files.\n",
              "  const files = yield {\n",
              "    promise: Promise.race([pickedPromise, cancelPromise]),\n",
              "    response: {\n",
              "      action: 'starting',\n",
              "    }\n",
              "  };\n",
              "\n",
              "  cancel.remove();\n",
              "\n",
              "  // Disable the input element since further picks are not allowed.\n",
              "  inputElement.disabled = true;\n",
              "\n",
              "  if (!files) {\n",
              "    return {\n",
              "      response: {\n",
              "        action: 'complete',\n",
              "      }\n",
              "    };\n",
              "  }\n",
              "\n",
              "  for (const file of files) {\n",
              "    const li = document.createElement('li');\n",
              "    li.append(span(file.name, {fontWeight: 'bold'}));\n",
              "    li.append(span(\n",
              "        `(${file.type || 'n/a'}) - ${file.size} bytes, ` +\n",
              "        `last modified: ${\n",
              "            file.lastModifiedDate ? file.lastModifiedDate.toLocaleDateString() :\n",
              "                                    'n/a'} - `));\n",
              "    const percent = span('0% done');\n",
              "    li.appendChild(percent);\n",
              "\n",
              "    outputElement.appendChild(li);\n",
              "\n",
              "    const fileDataPromise = new Promise((resolve) => {\n",
              "      const reader = new FileReader();\n",
              "      reader.onload = (e) => {\n",
              "        resolve(e.target.result);\n",
              "      };\n",
              "      reader.readAsArrayBuffer(file);\n",
              "    });\n",
              "    // Wait for the data to be ready.\n",
              "    let fileData = yield {\n",
              "      promise: fileDataPromise,\n",
              "      response: {\n",
              "        action: 'continue',\n",
              "      }\n",
              "    };\n",
              "\n",
              "    // Use a chunked sending to avoid message size limits. See b/62115660.\n",
              "    let position = 0;\n",
              "    do {\n",
              "      const length = Math.min(fileData.byteLength - position, MAX_PAYLOAD_SIZE);\n",
              "      const chunk = new Uint8Array(fileData, position, length);\n",
              "      position += length;\n",
              "\n",
              "      const base64 = btoa(String.fromCharCode.apply(null, chunk));\n",
              "      yield {\n",
              "        response: {\n",
              "          action: 'append',\n",
              "          file: file.name,\n",
              "          data: base64,\n",
              "        },\n",
              "      };\n",
              "\n",
              "      let percentDone = fileData.byteLength === 0 ?\n",
              "          100 :\n",
              "          Math.round((position / fileData.byteLength) * 100);\n",
              "      percent.textContent = `${percentDone}% done`;\n",
              "\n",
              "    } while (position < fileData.byteLength);\n",
              "  }\n",
              "\n",
              "  // All done.\n",
              "  yield {\n",
              "    response: {\n",
              "      action: 'complete',\n",
              "    }\n",
              "  };\n",
              "}\n",
              "\n",
              "scope.google = scope.google || {};\n",
              "scope.google.colab = scope.google.colab || {};\n",
              "scope.google.colab._files = {\n",
              "  _uploadFiles,\n",
              "  _uploadFilesContinue,\n",
              "};\n",
              "})(self);\n",
              "</script> "
            ]
          },
          "metadata": {}
        },
        {
          "output_type": "stream",
          "name": "stdout",
          "text": [
            "Saving avaliacoes_pedido.csv to avaliacoes_pedido.csv\n",
            "Saving clientes.csv to clientes.csv\n",
            "Saving itens_pedido.csv to itens_pedido.csv\n",
            "Saving pagamentos_pedido.csv to pagamentos_pedido.csv\n",
            "Saving pedidos.csv to pedidos.csv\n",
            "Saving produtos.csv to produtos.csv\n",
            "Saving vendedores.csv to vendedores.csv\n"
          ]
        }
      ]
    },
    {
      "cell_type": "code",
      "source": [
        "from google.colab import drive\n",
        "drive.mount('/content/drive')"
      ],
      "metadata": {
        "colab": {
          "base_uri": "https://localhost:8080/"
        },
        "id": "PZxQtHGbtA8n",
        "outputId": "8f652acd-eeb6-4e6e-f4f4-607683a271aa"
      },
      "execution_count": 4,
      "outputs": [
        {
          "output_type": "stream",
          "name": "stdout",
          "text": [
            "Mounted at /content/drive\n"
          ]
        }
      ]
    },
    {
      "cell_type": "code",
      "source": [
        "spark = SparkSession.builder.getOrCreate()"
      ],
      "metadata": {
        "id": "_UeEXajptJNV"
      },
      "execution_count": 6,
      "outputs": []
    },
    {
      "cell_type": "code",
      "source": [
        "produtos = spark.read.csv(\"produtos.csv\", header=True, inferSchema=True)\n",
        "vendedores = spark.read.csv(\"vendedores.csv\", header=True, inferSchema=True)\n",
        "clientes = spark.read.csv(\"clientes.csv\", header=True, inferSchema=True)\n",
        "itens_pedido = spark.read.csv(\"itens_pedido.csv\", header=True, inferSchema=True)\n",
        "pagamentos_pedido = spark.read.csv(\"pagamentos_pedido.csv\", header=True, inferSchema=True)\n",
        "avaliacoes_pedido = spark.read.csv(\"avaliacoes_pedido.csv\", header=True, inferSchema=True)\n",
        "pedidos = spark.read.csv(\"pedidos.csv\", header=True, inferSchema=True)"
      ],
      "metadata": {
        "id": "3wcHI22GtWpf"
      },
      "execution_count": 7,
      "outputs": []
    },
    {
      "cell_type": "code",
      "source": [
        "pedidos.show()"
      ],
      "metadata": {
        "colab": {
          "base_uri": "https://localhost:8080/"
        },
        "collapsed": true,
        "id": "_jVsa3iTt5-Y",
        "outputId": "447f0acf-c6dd-400e-ff55-5859e45e33b4"
      },
      "execution_count": 8,
      "outputs": [
        {
          "output_type": "stream",
          "name": "stdout",
          "text": [
            "+--------------------+--------------------+-------------+-------------------+---------------------+-------------------------+--------------------+---------------------+\n",
            "|           id_pedido|          id_cliente|status_pedido| data_compra_pedido|data_aprovacao_pedido|data_envio_transportadora|data_entrega_cliente|data_estimada_entrega|\n",
            "+--------------------+--------------------+-------------+-------------------+---------------------+-------------------------+--------------------+---------------------+\n",
            "|e481f51cbdc54678b...|9ef432eb625129730...|    delivered|2017-10-02 10:56:33|  2017-10-02 11:07:15|      2017-10-04 19:55:00| 2017-10-10 21:25:13|  2017-10-18 00:00:00|\n",
            "|53cdb2fc8bc7dce0b...|b0830fb4747a6c6d2...|    delivered|2018-07-24 20:41:37|  2018-07-26 03:24:27|      2018-07-26 14:31:00| 2018-08-07 15:27:45|  2018-08-13 00:00:00|\n",
            "|47770eb9100c2d0c4...|41ce2a54c0b03bf34...|    delivered|2018-08-08 08:38:49|  2018-08-08 08:55:23|      2018-08-08 13:50:00| 2018-08-17 18:06:29|  2018-09-04 00:00:00|\n",
            "|949d5b44dbf5de918...|f88197465ea7920ad...|    delivered|2017-11-18 19:28:06|  2017-11-18 19:45:59|      2017-11-22 13:39:59| 2017-12-02 00:28:42|  2017-12-15 00:00:00|\n",
            "|ad21c59c0840e6cb8...|8ab97904e6daea886...|    delivered|2018-02-13 21:18:39|  2018-02-13 22:20:29|      2018-02-14 19:46:34| 2018-02-16 18:17:02|  2018-02-26 00:00:00|\n",
            "|a4591c265e18cb1dc...|503740e9ca751ccdd...|    delivered|2017-07-09 21:57:05|  2017-07-09 22:10:13|      2017-07-11 14:58:04| 2017-07-26 10:57:55|  2017-08-01 00:00:00|\n",
            "|136cce7faa42fdb2c...|ed0271e0b7da060a3...|     invoiced|2017-04-11 12:22:08|  2017-04-13 13:25:17|                     NULL|                NULL|  2017-05-09 00:00:00|\n",
            "|6514b8ad8028c9f2c...|9bdf08b4b3b52b552...|    delivered|2017-05-16 13:10:30|  2017-05-16 13:22:11|      2017-05-22 10:07:46| 2017-05-26 12:55:51|  2017-06-07 00:00:00|\n",
            "|76c6e866289321a7c...|f54a9f0e6b351c431...|    delivered|2017-01-23 18:29:09|  2017-01-25 02:50:47|      2017-01-26 14:16:31| 2017-02-02 14:08:10|  2017-03-06 00:00:00|\n",
            "|e69bfb5eb88e0ed6a...|31ad1d1b63eb99624...|    delivered|2017-07-29 11:55:02|  2017-07-29 12:05:32|      2017-08-10 19:45:24| 2017-08-16 17:14:30|  2017-08-23 00:00:00|\n",
            "|e6ce16cb79ec1d90b...|494dded5b201313c6...|    delivered|2017-05-16 19:41:10|  2017-05-16 19:50:18|      2017-05-18 11:40:40| 2017-05-29 11:18:31|  2017-06-07 00:00:00|\n",
            "|34513ce0c4fab462a...|7711cf624183d843a...|    delivered|2017-07-13 19:58:11|  2017-07-13 20:10:08|      2017-07-14 18:43:29| 2017-07-19 14:04:48|  2017-08-08 00:00:00|\n",
            "|82566a660a982b15f...|d3e3b74c766bc6214...|    delivered|2018-06-07 10:06:19|  2018-06-09 03:13:12|      2018-06-11 13:29:00| 2018-06-19 12:05:52|  2018-07-18 00:00:00|\n",
            "|5ff96c15d0b717ac6...|19402a48fe860416a...|    delivered|2018-07-25 17:44:10|  2018-07-25 17:55:14|      2018-07-26 13:16:00| 2018-07-30 15:52:25|  2018-08-08 00:00:00|\n",
            "|432aaf21d85167c2c...|3df704f53d3f1d481...|    delivered|2018-03-01 14:14:28|  2018-03-01 15:10:47|      2018-03-02 21:09:20| 2018-03-12 23:36:26|  2018-03-21 00:00:00|\n",
            "|dcb36b511fcac050b...|3b6828a50ffe54694...|    delivered|2018-06-07 19:03:12|  2018-06-12 23:31:02|      2018-06-11 14:54:00| 2018-06-21 15:34:32|  2018-07-04 00:00:00|\n",
            "|403b97836b0c04a62...|738b086814c6fcc74...|    delivered|2018-01-02 19:00:43|  2018-01-02 19:09:04|      2018-01-03 18:19:09| 2018-01-20 01:38:59|  2018-02-06 00:00:00|\n",
            "|116f0b09343b49556...|3187789bec9909876...|    delivered|2017-12-26 23:41:31|  2017-12-26 23:50:22|      2017-12-28 18:33:05| 2018-01-08 22:36:36|  2018-01-29 00:00:00|\n",
            "|85ce859fd6dc634de...|059f7fc5719c7da6c...|    delivered|2017-11-21 00:03:41|  2017-11-21 00:14:22|      2017-11-23 21:32:26| 2017-11-27 18:28:00|  2017-12-11 00:00:00|\n",
            "|83018ec114eee8641...|7f8c8b9c2ae27bf33...|    delivered|2017-10-26 15:54:26|  2017-10-26 16:08:14|      2017-10-26 21:46:53| 2017-11-08 22:22:00|  2017-11-23 00:00:00|\n",
            "+--------------------+--------------------+-------------+-------------------+---------------------+-------------------------+--------------------+---------------------+\n",
            "only showing top 20 rows\n",
            "\n"
          ]
        }
      ]
    },
    {
      "cell_type": "code",
      "source": [
        "pedidos.withColumn('compra_anual', year('data_compra_pedido')).withColumn('compra_mensal', month('data_compra_pedido')).groupBy('compra_anual', 'compra_mensal').count().orderBy(desc('compra_anual'), 'compra_mensal').show()"
      ],
      "metadata": {
        "colab": {
          "base_uri": "https://localhost:8080/"
        },
        "id": "3YncckVxt56z",
        "outputId": "5c522ece-9778-48d1-ac32-7af56c2e2cf7"
      },
      "execution_count": 9,
      "outputs": [
        {
          "output_type": "stream",
          "name": "stdout",
          "text": [
            "+------------+-------------+-----+\n",
            "|compra_anual|compra_mensal|count|\n",
            "+------------+-------------+-----+\n",
            "|        2018|            1| 7269|\n",
            "|        2018|            2| 6728|\n",
            "|        2018|            3| 7211|\n",
            "|        2018|            4| 6939|\n",
            "|        2018|            5| 6873|\n",
            "|        2018|            6| 6167|\n",
            "|        2018|            7| 6292|\n",
            "|        2018|            8| 6512|\n",
            "|        2018|            9|   16|\n",
            "|        2018|           10|    4|\n",
            "|        2017|            1|  800|\n",
            "|        2017|            2| 1780|\n",
            "|        2017|            3| 2682|\n",
            "|        2017|            4| 2404|\n",
            "|        2017|            5| 3700|\n",
            "|        2017|            6| 3245|\n",
            "|        2017|            7| 4026|\n",
            "|        2017|            8| 4331|\n",
            "|        2017|            9| 4285|\n",
            "|        2017|           10| 4631|\n",
            "+------------+-------------+-----+\n",
            "only showing top 20 rows\n",
            "\n"
          ]
        }
      ]
    },
    {
      "cell_type": "code",
      "source": [
        "avaliacoes_pedido.show(2)\n",
        "itens_pedido.show(2)\n",
        "avaliacoes_pedido.join(itens_pedido, 'id_pedido').groupBy('id_produto').agg(format_number(avg('nota_avaliacao'), 2).alias('media_avaliacao')).show()"
      ],
      "metadata": {
        "colab": {
          "base_uri": "https://localhost:8080/"
        },
        "id": "eSdl76M1xKdu",
        "outputId": "2fcd9337-e699-4b6c-b4b9-d8062fb0061b"
      },
      "execution_count": 10,
      "outputs": [
        {
          "output_type": "stream",
          "name": "stdout",
          "text": [
            "+--------------------+--------------------+--------------+-----------------+-------------------+----------------------+-----------------------+\n",
            "|        id_avaliacao|           id_pedido|nota_avaliacao|titulo_comentario|mensagem_comentario|data_criacao_avaliacao|data_resposta_avaliacao|\n",
            "+--------------------+--------------------+--------------+-----------------+-------------------+----------------------+-----------------------+\n",
            "|7bc2406110b926393...|73fc7af87114b3971...|             4|             NULL|               NULL|   2018-01-18 00:00:00|    2018-01-18 21:46:59|\n",
            "|80e641a11e56f04c1...|a548910a1c6147796...|             5|             NULL|               NULL|   2018-03-10 00:00:00|    2018-03-11 03:05:13|\n",
            "+--------------------+--------------------+--------------+-----------------+-------------------+----------------------+-----------------------+\n",
            "only showing top 2 rows\n",
            "\n",
            "+--------------------+--------------+--------------------+--------------------+-------------------+-----+-----------+\n",
            "|           id_pedido|item_id_pedido|          id_produto|         id_vendedor|  data_limite_envio|preco|valor_frete|\n",
            "+--------------------+--------------+--------------------+--------------------+-------------------+-----+-----------+\n",
            "|00010242fe8c5a6d1...|             1|4244733e06e7ecb49...|48436dade18ac8b2b...|2017-09-19 09:45:35| 58.9|      13.29|\n",
            "|00018f77f2f0320c5...|             1|e5f2d52b802189ee6...|dd7ddc04e1b6c2c61...|2017-05-03 11:05:13|239.9|      19.93|\n",
            "+--------------------+--------------+--------------------+--------------------+-------------------+-----+-----------+\n",
            "only showing top 2 rows\n",
            "\n",
            "+--------------------+---------------+\n",
            "|          id_produto|media_avaliacao|\n",
            "+--------------------+---------------+\n",
            "|0b0172eb0fd18479d...|           3.88|\n",
            "|42a2bd596fda1baef...|           4.00|\n",
            "|460a66fcc404a3d73...|           3.83|\n",
            "|30360c8b0b2ac6918...|           4.67|\n",
            "|13b4ff901d43edec6...|           5.00|\n",
            "|290ada89b05e1dca2...|           5.00|\n",
            "|7724696de32f44179...|           4.00|\n",
            "|abe236a52dbc43e90...|           4.11|\n",
            "|e85cdca8790ea0026...|           3.80|\n",
            "|35bc6c77029697004...|           3.89|\n",
            "|878699846fa5ea02a...|           1.00|\n",
            "|2f9c2888168b8c2d8...|           3.33|\n",
            "|75f3ef6a5cb0f2d5a...|           1.67|\n",
            "|3f1a741cf55913844...|           4.25|\n",
            "|526e24e5c44ede53f...|           4.33|\n",
            "|be7f0912ba0112670...|           4.20|\n",
            "|18d87751433e4198e...|           3.67|\n",
            "|b23cfa104a0f29745...|           3.00|\n",
            "|5a57a59c44429be19...|           4.40|\n",
            "|ed464125465d8ab04...|           3.22|\n",
            "+--------------------+---------------+\n",
            "only showing top 20 rows\n",
            "\n"
          ]
        }
      ]
    },
    {
      "cell_type": "code",
      "source": [
        "# Converter timestamp para long(segundos) - Unix timestamp\n",
        "pedidos_long = pedidos.withColumn('data_compra_pedido_long', unix_timestamp(col('data_compra_pedido')))\n",
        "pedidos_long = pedidos_long.withColumn('data_aprovacao_pedido_long', unix_timestamp(col('data_aprovacao_pedido')))\n",
        "\n",
        "# Converter em horas\n",
        "pedidos_horas = pedidos_long.withColumn('diferenca_horas',\n",
        "                                        (col('data_aprovacao_pedido_long') - col('data_compra_pedido_long')) / 3600)\n",
        "\n",
        "pedidos_horas.select('data_compra_pedido', 'data_aprovacao_pedido', 'diferenca_horas').show()"
      ],
      "metadata": {
        "colab": {
          "base_uri": "https://localhost:8080/"
        },
        "id": "kBCBwA1hCWdu",
        "outputId": "9936ed26-8b13-4a0f-ae0b-3edb43e15229"
      },
      "execution_count": 12,
      "outputs": [
        {
          "output_type": "stream",
          "name": "stdout",
          "text": [
            "+-------------------+---------------------+-------------------+\n",
            "| data_compra_pedido|data_aprovacao_pedido|    diferenca_horas|\n",
            "+-------------------+---------------------+-------------------+\n",
            "|2017-10-02 10:56:33|  2017-10-02 11:07:15|0.17833333333333334|\n",
            "|2018-07-24 20:41:37|  2018-07-26 03:24:27|  30.71388888888889|\n",
            "|2018-08-08 08:38:49|  2018-08-08 08:55:23| 0.2761111111111111|\n",
            "|2017-11-18 19:28:06|  2017-11-18 19:45:59| 0.2980555555555556|\n",
            "|2018-02-13 21:18:39|  2018-02-13 22:20:29| 1.0305555555555554|\n",
            "|2017-07-09 21:57:05|  2017-07-09 22:10:13|0.21888888888888888|\n",
            "|2017-04-11 12:22:08|  2017-04-13 13:25:17|            49.0525|\n",
            "|2017-05-16 13:10:30|  2017-05-16 13:22:11| 0.1947222222222222|\n",
            "|2017-01-23 18:29:09|  2017-01-25 02:50:47|  32.36055555555556|\n",
            "|2017-07-29 11:55:02|  2017-07-29 12:05:32|              0.175|\n",
            "|2017-05-16 19:41:10|  2017-05-16 19:50:18|0.15222222222222223|\n",
            "|2017-07-13 19:58:11|  2017-07-13 20:10:08|0.19916666666666666|\n",
            "|2018-06-07 10:06:19|  2018-06-09 03:13:12|  41.11472222222222|\n",
            "|2018-07-25 17:44:10|  2018-07-25 17:55:14|0.18444444444444444|\n",
            "|2018-03-01 14:14:28|  2018-03-01 15:10:47| 0.9386111111111111|\n",
            "|2018-06-07 19:03:12|  2018-06-12 23:31:02| 124.46388888888889|\n",
            "|2018-01-02 19:00:43|  2018-01-02 19:09:04|0.13916666666666666|\n",
            "|2017-12-26 23:41:31|  2017-12-26 23:50:22|             0.1475|\n",
            "|2017-11-21 00:03:41|  2017-11-21 00:14:22|0.17805555555555555|\n",
            "|2017-10-26 15:54:26|  2017-10-26 16:08:14|               0.23|\n",
            "+-------------------+---------------------+-------------------+\n",
            "only showing top 20 rows\n",
            "\n"
          ]
        }
      ]
    },
    {
      "cell_type": "code",
      "source": [
        "pedidos.withColumn(\n",
        "    'tempo_aprovacao',\n",
        "    col('data_aprovacao_pedido').cast('long') - col('data_compra_pedido').cast('long')\n",
        ").groupBy().agg(\n",
        "    (avg('tempo_aprovacao')/3600).alias('tempo_medio_aprovacao_horas')\n",
        ").show()"
      ],
      "metadata": {
        "colab": {
          "base_uri": "https://localhost:8080/"
        },
        "id": "JlpeC-JqEJAM",
        "outputId": "ba766c35-dab0-448c-87ae-a83fd5d7ba3c"
      },
      "execution_count": 15,
      "outputs": [
        {
          "output_type": "stream",
          "name": "stdout",
          "text": [
            "+---------------------------+\n",
            "|tempo_medio_aprovacao_horas|\n",
            "+---------------------------+\n",
            "|         10.419094301919692|\n",
            "+---------------------------+\n",
            "\n"
          ]
        }
      ]
    },
    {
      "cell_type": "code",
      "source": [
        "pedidos.select('data_entrega_cliente', 'data_aprovacao_pedido').show(2)\n",
        "\n",
        "pedidos_antecipados = pedidos.withColumn(\n",
        "    'entrega_antecipada',\n",
        "    when(col('data_entrega_cliente') < col('data_estimada_entrega'), 1).otherwise(0)\n",
        ").groupBy().agg(\n",
        "    count(when(col('entrega_antecipada') ==1, True)).alias('total_entrega_antecipada')\n",
        ")\n",
        "\n",
        "pedidos_antecipados.show()"
      ],
      "metadata": {
        "colab": {
          "base_uri": "https://localhost:8080/"
        },
        "id": "nb0NdwGSGVil",
        "outputId": "4300fd86-5254-4ffb-f609-b86e2c6a8de2"
      },
      "execution_count": 18,
      "outputs": [
        {
          "output_type": "stream",
          "name": "stdout",
          "text": [
            "+--------------------+---------------------+\n",
            "|data_entrega_cliente|data_aprovacao_pedido|\n",
            "+--------------------+---------------------+\n",
            "| 2017-10-10 21:25:13|  2017-10-02 11:07:15|\n",
            "| 2018-08-07 15:27:45|  2018-07-26 03:24:27|\n",
            "+--------------------+---------------------+\n",
            "only showing top 2 rows\n",
            "\n",
            "+------------------------+\n",
            "|total_entrega_antecipada|\n",
            "+------------------------+\n",
            "|                   88649|\n",
            "+------------------------+\n",
            "\n"
          ]
        }
      ]
    },
    {
      "cell_type": "code",
      "source": [
        "pedidos.select('data_entrega_cliente', 'data_aprovacaO_pedido').show(2)\n",
        "\n",
        "tempo_media_envio_status = pedidos.withColumn(\n",
        "    'tempo_envio',\n",
        "    col('data_entrega_cliente').cast('long') - col('data_aprovacao_pedido').cast('long')\n",
        ").groupBy('status_pedido').agg(\n",
        "    format_number(avg('tempo_envio')/86400, 2).alias('tempo_medio_envio_dias')\n",
        ")\n",
        "\n",
        "tempo_media_envio_status.show()"
      ],
      "metadata": {
        "colab": {
          "base_uri": "https://localhost:8080/"
        },
        "id": "FogGlJp0J7ty",
        "outputId": "ff6e43dc-83ab-4459-c0bd-94f3e8cada36"
      },
      "execution_count": 19,
      "outputs": [
        {
          "output_type": "stream",
          "name": "stdout",
          "text": [
            "+--------------------+---------------------+\n",
            "|data_entrega_cliente|data_aprovacaO_pedido|\n",
            "+--------------------+---------------------+\n",
            "| 2017-10-10 21:25:13|  2017-10-02 11:07:15|\n",
            "| 2018-08-07 15:27:45|  2018-07-26 03:24:27|\n",
            "+--------------------+---------------------+\n",
            "only showing top 2 rows\n",
            "\n",
            "+-------------+----------------------+\n",
            "|status_pedido|tempo_medio_envio_dias|\n",
            "+-------------+----------------------+\n",
            "|      shipped|                  NULL|\n",
            "|     canceled|                 19.91|\n",
            "|     approved|                  NULL|\n",
            "|     invoiced|                  NULL|\n",
            "|      created|                  NULL|\n",
            "|    delivered|                 12.13|\n",
            "|  unavailable|                  NULL|\n",
            "|   processing|                  NULL|\n",
            "+-------------+----------------------+\n",
            "\n"
          ]
        }
      ]
    },
    {
      "cell_type": "code",
      "source": [
        "pagamentos_pedido.show(2)\n",
        "itens_pedido.show(2)\n",
        "pedidos.show(2)\n",
        "clientes.show(2)"
      ],
      "metadata": {
        "colab": {
          "base_uri": "https://localhost:8080/"
        },
        "id": "J16NyBEMKz7w",
        "outputId": "c668f03f-5a9f-45c5-8fce-6febb9989068"
      },
      "execution_count": 20,
      "outputs": [
        {
          "output_type": "stream",
          "name": "stdout",
          "text": [
            "+--------------------+-------------------+--------------+------------------+---------------+\n",
            "|           id_pedido|sequencia_pagamento|tipo_pagamento|parcelas_pagamento|valor_pagamento|\n",
            "+--------------------+-------------------+--------------+------------------+---------------+\n",
            "|b81ef226f3fe1789b...|                  1|   credit_card|                 8|          99.33|\n",
            "|a9810da82917af2d9...|                  1|   credit_card|                 1|          24.39|\n",
            "+--------------------+-------------------+--------------+------------------+---------------+\n",
            "only showing top 2 rows\n",
            "\n",
            "+--------------------+--------------+--------------------+--------------------+-------------------+-----+-----------+\n",
            "|           id_pedido|item_id_pedido|          id_produto|         id_vendedor|  data_limite_envio|preco|valor_frete|\n",
            "+--------------------+--------------+--------------------+--------------------+-------------------+-----+-----------+\n",
            "|00010242fe8c5a6d1...|             1|4244733e06e7ecb49...|48436dade18ac8b2b...|2017-09-19 09:45:35| 58.9|      13.29|\n",
            "|00018f77f2f0320c5...|             1|e5f2d52b802189ee6...|dd7ddc04e1b6c2c61...|2017-05-03 11:05:13|239.9|      19.93|\n",
            "+--------------------+--------------+--------------------+--------------------+-------------------+-----+-----------+\n",
            "only showing top 2 rows\n",
            "\n",
            "+--------------------+--------------------+-------------+-------------------+---------------------+-------------------------+--------------------+---------------------+\n",
            "|           id_pedido|          id_cliente|status_pedido| data_compra_pedido|data_aprovacao_pedido|data_envio_transportadora|data_entrega_cliente|data_estimada_entrega|\n",
            "+--------------------+--------------------+-------------+-------------------+---------------------+-------------------------+--------------------+---------------------+\n",
            "|e481f51cbdc54678b...|9ef432eb625129730...|    delivered|2017-10-02 10:56:33|  2017-10-02 11:07:15|      2017-10-04 19:55:00| 2017-10-10 21:25:13|  2017-10-18 00:00:00|\n",
            "|53cdb2fc8bc7dce0b...|b0830fb4747a6c6d2...|    delivered|2018-07-24 20:41:37|  2018-07-26 03:24:27|      2018-07-26 14:31:00| 2018-08-07 15:27:45|  2018-08-13 00:00:00|\n",
            "+--------------------+--------------------+-------------+-------------------+---------------------+-------------------------+--------------------+---------------------+\n",
            "only showing top 2 rows\n",
            "\n",
            "+--------------------+--------------------+-----------+--------------------+--------------+\n",
            "|          id_cliente|    id_unico_cliente|cep_cliente|      cidade_cliente|estado_cliente|\n",
            "+--------------------+--------------------+-----------+--------------------+--------------+\n",
            "|06b8999e2fba1a1fb...|861eff4711a542e4b...|      14409|              franca|            SP|\n",
            "|18955e83d337fd6b2...|290c77bc529b7ac93...|       9790|sao bernardo do c...|            SP|\n",
            "+--------------------+--------------------+-----------+--------------------+--------------+\n",
            "only showing top 2 rows\n",
            "\n"
          ]
        }
      ]
    },
    {
      "cell_type": "code",
      "source": [
        "vendas_pedido_join = pagamentos_pedido.join(itens_pedido, 'id_pedido').join(pedidos, 'id_pedido').join(clientes, 'id_cliente')\n",
        "\n",
        "vendas_por_estado = vendas_pedido_join.groupBy('estado_cliente').agg(sum('valor_pagamento').alias('total_vendas'))\n",
        "vendas_por_estado.show()\n",
        "\n",
        "vendas_por_estado.show(2)"
      ],
      "metadata": {
        "colab": {
          "base_uri": "https://localhost:8080/"
        },
        "id": "qIIvi4ldMSXA",
        "outputId": "d4687e29-6838-4e81-cfd2-89f4d9f07cd9"
      },
      "execution_count": 21,
      "outputs": [
        {
          "output_type": "stream",
          "name": "stdout",
          "text": [
            "+--------------+------------------+\n",
            "|estado_cliente|      total_vendas|\n",
            "+--------------+------------------+\n",
            "|            SC| 786343.7099999998|\n",
            "|            RO|           65886.0|\n",
            "|            PI|136779.95999999996|\n",
            "|            AM|34753.299999999996|\n",
            "|            RR|          12462.21|\n",
            "|            GO|513879.00000000035|\n",
            "|            TO|          72281.17|\n",
            "|            MT|256804.61999999994|\n",
            "|            SP| 7597209.659999931|\n",
            "|            ES| 405805.3400000009|\n",
            "|            PB| 180984.1899999999|\n",
            "|            RS|1147277.0000000023|\n",
            "|            MS|164337.27999999997|\n",
            "|            AL|         111284.42|\n",
            "|            MG|2326151.6399999885|\n",
            "|            PA|261788.34999999992|\n",
            "|            BA| 797410.3600000021|\n",
            "|            SE| 88437.50999999998|\n",
            "|            PE|376377.26999999967|\n",
            "|            CE| 343847.8300000001|\n",
            "+--------------+------------------+\n",
            "only showing top 20 rows\n",
            "\n",
            "+--------------+-----------------+\n",
            "|estado_cliente|     total_vendas|\n",
            "+--------------+-----------------+\n",
            "|            SC|786343.7099999998|\n",
            "|            RO|          65886.0|\n",
            "+--------------+-----------------+\n",
            "only showing top 2 rows\n",
            "\n"
          ]
        }
      ]
    }
  ]
}