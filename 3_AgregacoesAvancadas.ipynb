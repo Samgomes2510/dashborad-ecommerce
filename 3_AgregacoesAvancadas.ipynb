{
  "nbformat": 4,
  "nbformat_minor": 0,
  "metadata": {
    "colab": {
      "provenance": [],
      "authorship_tag": "ABX9TyOraOduTxpF1IMyM8r/ALMb",
      "include_colab_link": true
    },
    "kernelspec": {
      "name": "python3",
      "display_name": "Python 3"
    },
    "language_info": {
      "name": "python"
    }
  },
  "cells": [
    {
      "cell_type": "markdown",
      "metadata": {
        "id": "view-in-github",
        "colab_type": "text"
      },
      "source": [
        "<a href=\"https://colab.research.google.com/github/Samgomes2510/dashborad-ecommerce/blob/main/3_AgregacoesAvancadas.ipynb\" target=\"_parent\"><img src=\"https://colab.research.google.com/assets/colab-badge.svg\" alt=\"Open In Colab\"/></a>"
      ]
    },
    {
      "cell_type": "code",
      "execution_count": 12,
      "metadata": {
        "colab": {
          "base_uri": "https://localhost:8080/"
        },
        "id": "zaOLpaL4rzp9",
        "outputId": "755b79bd-c65c-474e-d1b8-8cdc31306443"
      },
      "outputs": [
        {
          "output_type": "stream",
          "name": "stdout",
          "text": [
            "Requirement already satisfied: spark in /usr/local/lib/python3.11/dist-packages (0.2.1)\n"
          ]
        }
      ],
      "source": [
        "!pip install spark"
      ]
    },
    {
      "cell_type": "code",
      "source": [
        "import pyspark\n",
        "from pyspark.sql import SparkSession\n",
        "from pyspark.sql.functions import *\n",
        "from pyspark.sql.window import Window"
      ],
      "metadata": {
        "id": "DU6pWOQKswUi"
      },
      "execution_count": 29,
      "outputs": []
    },
    {
      "cell_type": "code",
      "source": [
        "from google.colab import files\n",
        "uploaded = files.upload()"
      ],
      "metadata": {
        "colab": {
          "base_uri": "https://localhost:8080/",
          "height": 281
        },
        "id": "r7jFWUhjs5aQ",
        "outputId": "6d34ae17-55b9-43fe-ac87-f366710fef01"
      },
      "execution_count": 3,
      "outputs": [
        {
          "output_type": "display_data",
          "data": {
            "text/plain": [
              "<IPython.core.display.HTML object>"
            ],
            "text/html": [
              "\n",
              "     <input type=\"file\" id=\"files-f0f3e5a6-9efa-49b3-8f94-31337ccb5d3d\" name=\"files[]\" multiple disabled\n",
              "        style=\"border:none\" />\n",
              "     <output id=\"result-f0f3e5a6-9efa-49b3-8f94-31337ccb5d3d\">\n",
              "      Upload widget is only available when the cell has been executed in the\n",
              "      current browser session. Please rerun this cell to enable.\n",
              "      </output>\n",
              "      <script>// Copyright 2017 Google LLC\n",
              "//\n",
              "// Licensed under the Apache License, Version 2.0 (the \"License\");\n",
              "// you may not use this file except in compliance with the License.\n",
              "// You may obtain a copy of the License at\n",
              "//\n",
              "//      http://www.apache.org/licenses/LICENSE-2.0\n",
              "//\n",
              "// Unless required by applicable law or agreed to in writing, software\n",
              "// distributed under the License is distributed on an \"AS IS\" BASIS,\n",
              "// WITHOUT WARRANTIES OR CONDITIONS OF ANY KIND, either express or implied.\n",
              "// See the License for the specific language governing permissions and\n",
              "// limitations under the License.\n",
              "\n",
              "/**\n",
              " * @fileoverview Helpers for google.colab Python module.\n",
              " */\n",
              "(function(scope) {\n",
              "function span(text, styleAttributes = {}) {\n",
              "  const element = document.createElement('span');\n",
              "  element.textContent = text;\n",
              "  for (const key of Object.keys(styleAttributes)) {\n",
              "    element.style[key] = styleAttributes[key];\n",
              "  }\n",
              "  return element;\n",
              "}\n",
              "\n",
              "// Max number of bytes which will be uploaded at a time.\n",
              "const MAX_PAYLOAD_SIZE = 100 * 1024;\n",
              "\n",
              "function _uploadFiles(inputId, outputId) {\n",
              "  const steps = uploadFilesStep(inputId, outputId);\n",
              "  const outputElement = document.getElementById(outputId);\n",
              "  // Cache steps on the outputElement to make it available for the next call\n",
              "  // to uploadFilesContinue from Python.\n",
              "  outputElement.steps = steps;\n",
              "\n",
              "  return _uploadFilesContinue(outputId);\n",
              "}\n",
              "\n",
              "// This is roughly an async generator (not supported in the browser yet),\n",
              "// where there are multiple asynchronous steps and the Python side is going\n",
              "// to poll for completion of each step.\n",
              "// This uses a Promise to block the python side on completion of each step,\n",
              "// then passes the result of the previous step as the input to the next step.\n",
              "function _uploadFilesContinue(outputId) {\n",
              "  const outputElement = document.getElementById(outputId);\n",
              "  const steps = outputElement.steps;\n",
              "\n",
              "  const next = steps.next(outputElement.lastPromiseValue);\n",
              "  return Promise.resolve(next.value.promise).then((value) => {\n",
              "    // Cache the last promise value to make it available to the next\n",
              "    // step of the generator.\n",
              "    outputElement.lastPromiseValue = value;\n",
              "    return next.value.response;\n",
              "  });\n",
              "}\n",
              "\n",
              "/**\n",
              " * Generator function which is called between each async step of the upload\n",
              " * process.\n",
              " * @param {string} inputId Element ID of the input file picker element.\n",
              " * @param {string} outputId Element ID of the output display.\n",
              " * @return {!Iterable<!Object>} Iterable of next steps.\n",
              " */\n",
              "function* uploadFilesStep(inputId, outputId) {\n",
              "  const inputElement = document.getElementById(inputId);\n",
              "  inputElement.disabled = false;\n",
              "\n",
              "  const outputElement = document.getElementById(outputId);\n",
              "  outputElement.innerHTML = '';\n",
              "\n",
              "  const pickedPromise = new Promise((resolve) => {\n",
              "    inputElement.addEventListener('change', (e) => {\n",
              "      resolve(e.target.files);\n",
              "    });\n",
              "  });\n",
              "\n",
              "  const cancel = document.createElement('button');\n",
              "  inputElement.parentElement.appendChild(cancel);\n",
              "  cancel.textContent = 'Cancel upload';\n",
              "  const cancelPromise = new Promise((resolve) => {\n",
              "    cancel.onclick = () => {\n",
              "      resolve(null);\n",
              "    };\n",
              "  });\n",
              "\n",
              "  // Wait for the user to pick the files.\n",
              "  const files = yield {\n",
              "    promise: Promise.race([pickedPromise, cancelPromise]),\n",
              "    response: {\n",
              "      action: 'starting',\n",
              "    }\n",
              "  };\n",
              "\n",
              "  cancel.remove();\n",
              "\n",
              "  // Disable the input element since further picks are not allowed.\n",
              "  inputElement.disabled = true;\n",
              "\n",
              "  if (!files) {\n",
              "    return {\n",
              "      response: {\n",
              "        action: 'complete',\n",
              "      }\n",
              "    };\n",
              "  }\n",
              "\n",
              "  for (const file of files) {\n",
              "    const li = document.createElement('li');\n",
              "    li.append(span(file.name, {fontWeight: 'bold'}));\n",
              "    li.append(span(\n",
              "        `(${file.type || 'n/a'}) - ${file.size} bytes, ` +\n",
              "        `last modified: ${\n",
              "            file.lastModifiedDate ? file.lastModifiedDate.toLocaleDateString() :\n",
              "                                    'n/a'} - `));\n",
              "    const percent = span('0% done');\n",
              "    li.appendChild(percent);\n",
              "\n",
              "    outputElement.appendChild(li);\n",
              "\n",
              "    const fileDataPromise = new Promise((resolve) => {\n",
              "      const reader = new FileReader();\n",
              "      reader.onload = (e) => {\n",
              "        resolve(e.target.result);\n",
              "      };\n",
              "      reader.readAsArrayBuffer(file);\n",
              "    });\n",
              "    // Wait for the data to be ready.\n",
              "    let fileData = yield {\n",
              "      promise: fileDataPromise,\n",
              "      response: {\n",
              "        action: 'continue',\n",
              "      }\n",
              "    };\n",
              "\n",
              "    // Use a chunked sending to avoid message size limits. See b/62115660.\n",
              "    let position = 0;\n",
              "    do {\n",
              "      const length = Math.min(fileData.byteLength - position, MAX_PAYLOAD_SIZE);\n",
              "      const chunk = new Uint8Array(fileData, position, length);\n",
              "      position += length;\n",
              "\n",
              "      const base64 = btoa(String.fromCharCode.apply(null, chunk));\n",
              "      yield {\n",
              "        response: {\n",
              "          action: 'append',\n",
              "          file: file.name,\n",
              "          data: base64,\n",
              "        },\n",
              "      };\n",
              "\n",
              "      let percentDone = fileData.byteLength === 0 ?\n",
              "          100 :\n",
              "          Math.round((position / fileData.byteLength) * 100);\n",
              "      percent.textContent = `${percentDone}% done`;\n",
              "\n",
              "    } while (position < fileData.byteLength);\n",
              "  }\n",
              "\n",
              "  // All done.\n",
              "  yield {\n",
              "    response: {\n",
              "      action: 'complete',\n",
              "    }\n",
              "  };\n",
              "}\n",
              "\n",
              "scope.google = scope.google || {};\n",
              "scope.google.colab = scope.google.colab || {};\n",
              "scope.google.colab._files = {\n",
              "  _uploadFiles,\n",
              "  _uploadFilesContinue,\n",
              "};\n",
              "})(self);\n",
              "</script> "
            ]
          },
          "metadata": {}
        },
        {
          "output_type": "stream",
          "name": "stdout",
          "text": [
            "Saving avaliacoes_pedido.csv to avaliacoes_pedido.csv\n",
            "Saving clientes.csv to clientes.csv\n",
            "Saving itens_pedido.csv to itens_pedido.csv\n",
            "Saving pagamentos_pedido.csv to pagamentos_pedido.csv\n",
            "Saving pedidos.csv to pedidos.csv\n",
            "Saving produtos.csv to produtos.csv\n",
            "Saving vendedores.csv to vendedores.csv\n"
          ]
        }
      ]
    },
    {
      "cell_type": "code",
      "source": [
        "from google.colab import drive\n",
        "drive.mount('/content/drive')"
      ],
      "metadata": {
        "colab": {
          "base_uri": "https://localhost:8080/"
        },
        "id": "PZxQtHGbtA8n",
        "outputId": "f891621e-29a4-4039-8534-43b8cd0fc171"
      },
      "execution_count": 30,
      "outputs": [
        {
          "output_type": "stream",
          "name": "stdout",
          "text": [
            "Drive already mounted at /content/drive; to attempt to forcibly remount, call drive.mount(\"/content/drive\", force_remount=True).\n"
          ]
        }
      ]
    },
    {
      "cell_type": "code",
      "source": [
        "spark = SparkSession.builder.getOrCreate()"
      ],
      "metadata": {
        "id": "_UeEXajptJNV"
      },
      "execution_count": 31,
      "outputs": []
    },
    {
      "cell_type": "code",
      "source": [
        "produtos = spark.read.csv(\"produtos.csv\", header=True, inferSchema=True)\n",
        "vendedores = spark.read.csv(\"vendedores.csv\", header=True, inferSchema=True)\n",
        "clientes = spark.read.csv(\"clientes.csv\", header=True, inferSchema=True)\n",
        "itens_pedido = spark.read.csv(\"itens_pedido.csv\", header=True, inferSchema=True)\n",
        "pagamentos_pedido = spark.read.csv(\"pagamentos_pedido.csv\", header=True, inferSchema=True)\n",
        "avaliacoes_pedido = spark.read.csv(\"avaliacoes_pedido.csv\", header=True, inferSchema=True)\n",
        "pedidos = spark.read.csv(\"pedidos.csv\", header=True, inferSchema=True)"
      ],
      "metadata": {
        "id": "3wcHI22GtWpf"
      },
      "execution_count": 32,
      "outputs": []
    },
    {
      "cell_type": "code",
      "source": [
        "pedidos.show()"
      ],
      "metadata": {
        "colab": {
          "base_uri": "https://localhost:8080/"
        },
        "collapsed": true,
        "id": "_jVsa3iTt5-Y",
        "outputId": "12da5fef-0cb4-42b0-e36d-a0a08667e25f"
      },
      "execution_count": 33,
      "outputs": [
        {
          "output_type": "stream",
          "name": "stdout",
          "text": [
            "+--------------------+--------------------+-------------+-------------------+---------------------+-------------------------+--------------------+---------------------+\n",
            "|           id_pedido|          id_cliente|status_pedido| data_compra_pedido|data_aprovacao_pedido|data_envio_transportadora|data_entrega_cliente|data_estimada_entrega|\n",
            "+--------------------+--------------------+-------------+-------------------+---------------------+-------------------------+--------------------+---------------------+\n",
            "|e481f51cbdc54678b...|9ef432eb625129730...|    delivered|2017-10-02 10:56:33|  2017-10-02 11:07:15|      2017-10-04 19:55:00| 2017-10-10 21:25:13|  2017-10-18 00:00:00|\n",
            "|53cdb2fc8bc7dce0b...|b0830fb4747a6c6d2...|    delivered|2018-07-24 20:41:37|  2018-07-26 03:24:27|      2018-07-26 14:31:00| 2018-08-07 15:27:45|  2018-08-13 00:00:00|\n",
            "|47770eb9100c2d0c4...|41ce2a54c0b03bf34...|    delivered|2018-08-08 08:38:49|  2018-08-08 08:55:23|      2018-08-08 13:50:00| 2018-08-17 18:06:29|  2018-09-04 00:00:00|\n",
            "|949d5b44dbf5de918...|f88197465ea7920ad...|    delivered|2017-11-18 19:28:06|  2017-11-18 19:45:59|      2017-11-22 13:39:59| 2017-12-02 00:28:42|  2017-12-15 00:00:00|\n",
            "|ad21c59c0840e6cb8...|8ab97904e6daea886...|    delivered|2018-02-13 21:18:39|  2018-02-13 22:20:29|      2018-02-14 19:46:34| 2018-02-16 18:17:02|  2018-02-26 00:00:00|\n",
            "|a4591c265e18cb1dc...|503740e9ca751ccdd...|    delivered|2017-07-09 21:57:05|  2017-07-09 22:10:13|      2017-07-11 14:58:04| 2017-07-26 10:57:55|  2017-08-01 00:00:00|\n",
            "|136cce7faa42fdb2c...|ed0271e0b7da060a3...|     invoiced|2017-04-11 12:22:08|  2017-04-13 13:25:17|                     NULL|                NULL|  2017-05-09 00:00:00|\n",
            "|6514b8ad8028c9f2c...|9bdf08b4b3b52b552...|    delivered|2017-05-16 13:10:30|  2017-05-16 13:22:11|      2017-05-22 10:07:46| 2017-05-26 12:55:51|  2017-06-07 00:00:00|\n",
            "|76c6e866289321a7c...|f54a9f0e6b351c431...|    delivered|2017-01-23 18:29:09|  2017-01-25 02:50:47|      2017-01-26 14:16:31| 2017-02-02 14:08:10|  2017-03-06 00:00:00|\n",
            "|e69bfb5eb88e0ed6a...|31ad1d1b63eb99624...|    delivered|2017-07-29 11:55:02|  2017-07-29 12:05:32|      2017-08-10 19:45:24| 2017-08-16 17:14:30|  2017-08-23 00:00:00|\n",
            "|e6ce16cb79ec1d90b...|494dded5b201313c6...|    delivered|2017-05-16 19:41:10|  2017-05-16 19:50:18|      2017-05-18 11:40:40| 2017-05-29 11:18:31|  2017-06-07 00:00:00|\n",
            "|34513ce0c4fab462a...|7711cf624183d843a...|    delivered|2017-07-13 19:58:11|  2017-07-13 20:10:08|      2017-07-14 18:43:29| 2017-07-19 14:04:48|  2017-08-08 00:00:00|\n",
            "|82566a660a982b15f...|d3e3b74c766bc6214...|    delivered|2018-06-07 10:06:19|  2018-06-09 03:13:12|      2018-06-11 13:29:00| 2018-06-19 12:05:52|  2018-07-18 00:00:00|\n",
            "|5ff96c15d0b717ac6...|19402a48fe860416a...|    delivered|2018-07-25 17:44:10|  2018-07-25 17:55:14|      2018-07-26 13:16:00| 2018-07-30 15:52:25|  2018-08-08 00:00:00|\n",
            "|432aaf21d85167c2c...|3df704f53d3f1d481...|    delivered|2018-03-01 14:14:28|  2018-03-01 15:10:47|      2018-03-02 21:09:20| 2018-03-12 23:36:26|  2018-03-21 00:00:00|\n",
            "|dcb36b511fcac050b...|3b6828a50ffe54694...|    delivered|2018-06-07 19:03:12|  2018-06-12 23:31:02|      2018-06-11 14:54:00| 2018-06-21 15:34:32|  2018-07-04 00:00:00|\n",
            "|403b97836b0c04a62...|738b086814c6fcc74...|    delivered|2018-01-02 19:00:43|  2018-01-02 19:09:04|      2018-01-03 18:19:09| 2018-01-20 01:38:59|  2018-02-06 00:00:00|\n",
            "|116f0b09343b49556...|3187789bec9909876...|    delivered|2017-12-26 23:41:31|  2017-12-26 23:50:22|      2017-12-28 18:33:05| 2018-01-08 22:36:36|  2018-01-29 00:00:00|\n",
            "|85ce859fd6dc634de...|059f7fc5719c7da6c...|    delivered|2017-11-21 00:03:41|  2017-11-21 00:14:22|      2017-11-23 21:32:26| 2017-11-27 18:28:00|  2017-12-11 00:00:00|\n",
            "|83018ec114eee8641...|7f8c8b9c2ae27bf33...|    delivered|2017-10-26 15:54:26|  2017-10-26 16:08:14|      2017-10-26 21:46:53| 2017-11-08 22:22:00|  2017-11-23 00:00:00|\n",
            "+--------------------+--------------------+-------------+-------------------+---------------------+-------------------------+--------------------+---------------------+\n",
            "only showing top 20 rows\n",
            "\n"
          ]
        }
      ]
    },
    {
      "cell_type": "code",
      "source": [
        "pedidos.withColumn('compra_anual', year('data_compra_pedido')).withColumn('compra_mensal', month('data_compra_pedido')).groupBy('compra_anual', 'compra_mensal').count().orderBy(desc('compra_anual'), 'compra_mensal').show()"
      ],
      "metadata": {
        "colab": {
          "base_uri": "https://localhost:8080/"
        },
        "id": "3YncckVxt56z",
        "outputId": "59fc370e-41e1-4b0b-aa65-5e46b14e8149"
      },
      "execution_count": 18,
      "outputs": [
        {
          "output_type": "stream",
          "name": "stdout",
          "text": [
            "+------------+-------------+-----+\n",
            "|compra_anual|compra_mensal|count|\n",
            "+------------+-------------+-----+\n",
            "|        2018|            1| 7269|\n",
            "|        2018|            2| 6728|\n",
            "|        2018|            3| 7211|\n",
            "|        2018|            4| 6939|\n",
            "|        2018|            5| 6873|\n",
            "|        2018|            6| 6167|\n",
            "|        2018|            7| 6292|\n",
            "|        2018|            8| 6512|\n",
            "|        2018|            9|   16|\n",
            "|        2018|           10|    4|\n",
            "|        2017|            1|  800|\n",
            "|        2017|            2| 1780|\n",
            "|        2017|            3| 2682|\n",
            "|        2017|            4| 2404|\n",
            "|        2017|            5| 3700|\n",
            "|        2017|            6| 3245|\n",
            "|        2017|            7| 4026|\n",
            "|        2017|            8| 4331|\n",
            "|        2017|            9| 4285|\n",
            "|        2017|           10| 4631|\n",
            "+------------+-------------+-----+\n",
            "only showing top 20 rows\n",
            "\n"
          ]
        }
      ]
    },
    {
      "cell_type": "code",
      "source": [
        "avaliacoes_pedido.show(2)\n",
        "itens_pedido.show(2)\n",
        "avaliacoes_pedido.join(itens_pedido, 'id_pedido').groupBy('id_produto').agg(format_number(avg('nota_avaliacao'), 2).alias('media_avaliacao')).show()"
      ],
      "metadata": {
        "colab": {
          "base_uri": "https://localhost:8080/"
        },
        "id": "eSdl76M1xKdu",
        "outputId": "1a6b5613-3889-4298-c642-6e07d7a0b92b"
      },
      "execution_count": 19,
      "outputs": [
        {
          "output_type": "stream",
          "name": "stdout",
          "text": [
            "+--------------------+--------------------+--------------+-----------------+-------------------+----------------------+-----------------------+\n",
            "|        id_avaliacao|           id_pedido|nota_avaliacao|titulo_comentario|mensagem_comentario|data_criacao_avaliacao|data_resposta_avaliacao|\n",
            "+--------------------+--------------------+--------------+-----------------+-------------------+----------------------+-----------------------+\n",
            "|7bc2406110b926393...|73fc7af87114b3971...|             4|             NULL|               NULL|   2018-01-18 00:00:00|    2018-01-18 21:46:59|\n",
            "|80e641a11e56f04c1...|a548910a1c6147796...|             5|             NULL|               NULL|   2018-03-10 00:00:00|    2018-03-11 03:05:13|\n",
            "+--------------------+--------------------+--------------+-----------------+-------------------+----------------------+-----------------------+\n",
            "only showing top 2 rows\n",
            "\n",
            "+--------------------+--------------+--------------------+--------------------+-------------------+-----+-----------+\n",
            "|           id_pedido|item_id_pedido|          id_produto|         id_vendedor|  data_limite_envio|preco|valor_frete|\n",
            "+--------------------+--------------+--------------------+--------------------+-------------------+-----+-----------+\n",
            "|00010242fe8c5a6d1...|             1|4244733e06e7ecb49...|48436dade18ac8b2b...|2017-09-19 09:45:35| 58.9|      13.29|\n",
            "|00018f77f2f0320c5...|             1|e5f2d52b802189ee6...|dd7ddc04e1b6c2c61...|2017-05-03 11:05:13|239.9|      19.93|\n",
            "+--------------------+--------------+--------------------+--------------------+-------------------+-----+-----------+\n",
            "only showing top 2 rows\n",
            "\n",
            "+--------------------+---------------+\n",
            "|          id_produto|media_avaliacao|\n",
            "+--------------------+---------------+\n",
            "|0b0172eb0fd18479d...|           3.88|\n",
            "|42a2bd596fda1baef...|           4.00|\n",
            "|460a66fcc404a3d73...|           3.83|\n",
            "|30360c8b0b2ac6918...|           4.67|\n",
            "|13b4ff901d43edec6...|           5.00|\n",
            "|290ada89b05e1dca2...|           5.00|\n",
            "|7724696de32f44179...|           4.00|\n",
            "|abe236a52dbc43e90...|           4.11|\n",
            "|e85cdca8790ea0026...|           3.80|\n",
            "|35bc6c77029697004...|           3.89|\n",
            "|878699846fa5ea02a...|           1.00|\n",
            "|2f9c2888168b8c2d8...|           3.33|\n",
            "|75f3ef6a5cb0f2d5a...|           1.67|\n",
            "|3f1a741cf55913844...|           4.25|\n",
            "|526e24e5c44ede53f...|           4.33|\n",
            "|be7f0912ba0112670...|           4.20|\n",
            "|18d87751433e4198e...|           3.67|\n",
            "|b23cfa104a0f29745...|           3.00|\n",
            "|5a57a59c44429be19...|           4.40|\n",
            "|ed464125465d8ab04...|           3.22|\n",
            "+--------------------+---------------+\n",
            "only showing top 20 rows\n",
            "\n"
          ]
        }
      ]
    },
    {
      "cell_type": "code",
      "source": [
        "# Converter timestamp para long(segundos) - Unix timestamp\n",
        "pedidos_long = pedidos.withColumn('data_compra_pedido_long', unix_timestamp(col('data_compra_pedido')))\n",
        "pedidos_long = pedidos_long.withColumn('data_aprovacao_pedido_long', unix_timestamp(col('data_aprovacao_pedido')))\n",
        "\n",
        "# Converter em horas\n",
        "pedidos_horas = pedidos_long.withColumn('diferenca_horas',\n",
        "                                        (col('data_aprovacao_pedido_long') - col('data_compra_pedido_long')) / 3600)\n",
        "\n",
        "pedidos_horas.select('data_compra_pedido', 'data_aprovacao_pedido', 'diferenca_horas').show()"
      ],
      "metadata": {
        "colab": {
          "base_uri": "https://localhost:8080/"
        },
        "id": "kBCBwA1hCWdu",
        "outputId": "115b1437-0327-4b55-9592-9634383dd01a"
      },
      "execution_count": 20,
      "outputs": [
        {
          "output_type": "stream",
          "name": "stdout",
          "text": [
            "+-------------------+---------------------+-------------------+\n",
            "| data_compra_pedido|data_aprovacao_pedido|    diferenca_horas|\n",
            "+-------------------+---------------------+-------------------+\n",
            "|2017-10-02 10:56:33|  2017-10-02 11:07:15|0.17833333333333334|\n",
            "|2018-07-24 20:41:37|  2018-07-26 03:24:27|  30.71388888888889|\n",
            "|2018-08-08 08:38:49|  2018-08-08 08:55:23| 0.2761111111111111|\n",
            "|2017-11-18 19:28:06|  2017-11-18 19:45:59| 0.2980555555555556|\n",
            "|2018-02-13 21:18:39|  2018-02-13 22:20:29| 1.0305555555555554|\n",
            "|2017-07-09 21:57:05|  2017-07-09 22:10:13|0.21888888888888888|\n",
            "|2017-04-11 12:22:08|  2017-04-13 13:25:17|            49.0525|\n",
            "|2017-05-16 13:10:30|  2017-05-16 13:22:11| 0.1947222222222222|\n",
            "|2017-01-23 18:29:09|  2017-01-25 02:50:47|  32.36055555555556|\n",
            "|2017-07-29 11:55:02|  2017-07-29 12:05:32|              0.175|\n",
            "|2017-05-16 19:41:10|  2017-05-16 19:50:18|0.15222222222222223|\n",
            "|2017-07-13 19:58:11|  2017-07-13 20:10:08|0.19916666666666666|\n",
            "|2018-06-07 10:06:19|  2018-06-09 03:13:12|  41.11472222222222|\n",
            "|2018-07-25 17:44:10|  2018-07-25 17:55:14|0.18444444444444444|\n",
            "|2018-03-01 14:14:28|  2018-03-01 15:10:47| 0.9386111111111111|\n",
            "|2018-06-07 19:03:12|  2018-06-12 23:31:02| 124.46388888888889|\n",
            "|2018-01-02 19:00:43|  2018-01-02 19:09:04|0.13916666666666666|\n",
            "|2017-12-26 23:41:31|  2017-12-26 23:50:22|             0.1475|\n",
            "|2017-11-21 00:03:41|  2017-11-21 00:14:22|0.17805555555555555|\n",
            "|2017-10-26 15:54:26|  2017-10-26 16:08:14|               0.23|\n",
            "+-------------------+---------------------+-------------------+\n",
            "only showing top 20 rows\n",
            "\n"
          ]
        }
      ]
    },
    {
      "cell_type": "code",
      "source": [
        "pedidos.withColumn(\n",
        "    'tempo_aprovacao',\n",
        "    col('data_aprovacao_pedido').cast('long') - col('data_compra_pedido').cast('long')\n",
        ").groupBy().agg(\n",
        "    (avg('tempo_aprovacao')/3600).alias('tempo_medio_aprovacao_horas')\n",
        ").show()"
      ],
      "metadata": {
        "colab": {
          "base_uri": "https://localhost:8080/"
        },
        "id": "JlpeC-JqEJAM",
        "outputId": "0ae3ba9e-80d0-463c-d0bf-c3510cfeb3cf"
      },
      "execution_count": 21,
      "outputs": [
        {
          "output_type": "stream",
          "name": "stdout",
          "text": [
            "+---------------------------+\n",
            "|tempo_medio_aprovacao_horas|\n",
            "+---------------------------+\n",
            "|         10.419094301919692|\n",
            "+---------------------------+\n",
            "\n"
          ]
        }
      ]
    },
    {
      "cell_type": "code",
      "source": [
        "pedidos.select('data_entrega_cliente', 'data_aprovacao_pedido').show(2)\n",
        "\n",
        "pedidos_antecipados = pedidos.withColumn(\n",
        "    'entrega_antecipada',\n",
        "    when(col('data_entrega_cliente') < col('data_estimada_entrega'), 1).otherwise(0)\n",
        ").groupBy().agg(\n",
        "    count(when(col('entrega_antecipada') ==1, True)).alias('total_entrega_antecipada')\n",
        ")\n",
        "\n",
        "pedidos_antecipados.show()"
      ],
      "metadata": {
        "colab": {
          "base_uri": "https://localhost:8080/"
        },
        "id": "nb0NdwGSGVil",
        "outputId": "c5a0ab85-15d1-4d6a-a524-389c04953e76"
      },
      "execution_count": 22,
      "outputs": [
        {
          "output_type": "stream",
          "name": "stdout",
          "text": [
            "+--------------------+---------------------+\n",
            "|data_entrega_cliente|data_aprovacao_pedido|\n",
            "+--------------------+---------------------+\n",
            "| 2017-10-10 21:25:13|  2017-10-02 11:07:15|\n",
            "| 2018-08-07 15:27:45|  2018-07-26 03:24:27|\n",
            "+--------------------+---------------------+\n",
            "only showing top 2 rows\n",
            "\n",
            "+------------------------+\n",
            "|total_entrega_antecipada|\n",
            "+------------------------+\n",
            "|                   88649|\n",
            "+------------------------+\n",
            "\n"
          ]
        }
      ]
    },
    {
      "cell_type": "code",
      "source": [
        "pedidos.select('data_entrega_cliente', 'data_aprovacaO_pedido').show(2)\n",
        "\n",
        "tempo_media_envio_status = pedidos.withColumn(\n",
        "    'tempo_envio',\n",
        "    col('data_entrega_cliente').cast('long') - col('data_aprovacao_pedido').cast('long')\n",
        ").groupBy('status_pedido').agg(\n",
        "    format_number(avg('tempo_envio')/86400, 2).alias('tempo_medio_envio_dias')\n",
        ")\n",
        "\n",
        "tempo_media_envio_status.show()"
      ],
      "metadata": {
        "colab": {
          "base_uri": "https://localhost:8080/"
        },
        "id": "FogGlJp0J7ty",
        "outputId": "6a5d86e7-506a-49e1-cfe1-9a8ac3433072"
      },
      "execution_count": 23,
      "outputs": [
        {
          "output_type": "stream",
          "name": "stdout",
          "text": [
            "+--------------------+---------------------+\n",
            "|data_entrega_cliente|data_aprovacaO_pedido|\n",
            "+--------------------+---------------------+\n",
            "| 2017-10-10 21:25:13|  2017-10-02 11:07:15|\n",
            "| 2018-08-07 15:27:45|  2018-07-26 03:24:27|\n",
            "+--------------------+---------------------+\n",
            "only showing top 2 rows\n",
            "\n",
            "+-------------+----------------------+\n",
            "|status_pedido|tempo_medio_envio_dias|\n",
            "+-------------+----------------------+\n",
            "|      shipped|                  NULL|\n",
            "|     canceled|                 19.91|\n",
            "|     approved|                  NULL|\n",
            "|     invoiced|                  NULL|\n",
            "|      created|                  NULL|\n",
            "|    delivered|                 12.13|\n",
            "|  unavailable|                  NULL|\n",
            "|   processing|                  NULL|\n",
            "+-------------+----------------------+\n",
            "\n"
          ]
        }
      ]
    },
    {
      "cell_type": "code",
      "source": [
        "pagamentos_pedido.show(2)\n",
        "itens_pedido.show(2)\n",
        "pedidos.show(2)\n",
        "clientes.show(2)"
      ],
      "metadata": {
        "colab": {
          "base_uri": "https://localhost:8080/"
        },
        "id": "J16NyBEMKz7w",
        "outputId": "076b3922-2fbc-4ccb-d147-9a5c281cfecd"
      },
      "execution_count": 24,
      "outputs": [
        {
          "output_type": "stream",
          "name": "stdout",
          "text": [
            "+--------------------+-------------------+--------------+------------------+---------------+\n",
            "|           id_pedido|sequencia_pagamento|tipo_pagamento|parcelas_pagamento|valor_pagamento|\n",
            "+--------------------+-------------------+--------------+------------------+---------------+\n",
            "|b81ef226f3fe1789b...|                  1|   credit_card|                 8|          99.33|\n",
            "|a9810da82917af2d9...|                  1|   credit_card|                 1|          24.39|\n",
            "+--------------------+-------------------+--------------+------------------+---------------+\n",
            "only showing top 2 rows\n",
            "\n",
            "+--------------------+--------------+--------------------+--------------------+-------------------+-----+-----------+\n",
            "|           id_pedido|item_id_pedido|          id_produto|         id_vendedor|  data_limite_envio|preco|valor_frete|\n",
            "+--------------------+--------------+--------------------+--------------------+-------------------+-----+-----------+\n",
            "|00010242fe8c5a6d1...|             1|4244733e06e7ecb49...|48436dade18ac8b2b...|2017-09-19 09:45:35| 58.9|      13.29|\n",
            "|00018f77f2f0320c5...|             1|e5f2d52b802189ee6...|dd7ddc04e1b6c2c61...|2017-05-03 11:05:13|239.9|      19.93|\n",
            "+--------------------+--------------+--------------------+--------------------+-------------------+-----+-----------+\n",
            "only showing top 2 rows\n",
            "\n",
            "+--------------------+--------------------+-------------+-------------------+---------------------+-------------------------+--------------------+---------------------+\n",
            "|           id_pedido|          id_cliente|status_pedido| data_compra_pedido|data_aprovacao_pedido|data_envio_transportadora|data_entrega_cliente|data_estimada_entrega|\n",
            "+--------------------+--------------------+-------------+-------------------+---------------------+-------------------------+--------------------+---------------------+\n",
            "|e481f51cbdc54678b...|9ef432eb625129730...|    delivered|2017-10-02 10:56:33|  2017-10-02 11:07:15|      2017-10-04 19:55:00| 2017-10-10 21:25:13|  2017-10-18 00:00:00|\n",
            "|53cdb2fc8bc7dce0b...|b0830fb4747a6c6d2...|    delivered|2018-07-24 20:41:37|  2018-07-26 03:24:27|      2018-07-26 14:31:00| 2018-08-07 15:27:45|  2018-08-13 00:00:00|\n",
            "+--------------------+--------------------+-------------+-------------------+---------------------+-------------------------+--------------------+---------------------+\n",
            "only showing top 2 rows\n",
            "\n",
            "+--------------------+--------------------+-----------+--------------------+--------------+\n",
            "|          id_cliente|    id_unico_cliente|cep_cliente|      cidade_cliente|estado_cliente|\n",
            "+--------------------+--------------------+-----------+--------------------+--------------+\n",
            "|06b8999e2fba1a1fb...|861eff4711a542e4b...|      14409|              franca|            SP|\n",
            "|18955e83d337fd6b2...|290c77bc529b7ac93...|       9790|sao bernardo do c...|            SP|\n",
            "+--------------------+--------------------+-----------+--------------------+--------------+\n",
            "only showing top 2 rows\n",
            "\n"
          ]
        }
      ]
    },
    {
      "cell_type": "code",
      "source": [
        "vendas_pedido_join = pagamentos_pedido.join(itens_pedido, 'id_pedido').join(pedidos, 'id_pedido').join(clientes, 'id_cliente')\n",
        "\n",
        "vendas_por_estado = vendas_pedido_join.groupBy('estado_cliente').agg(sum('valor_pagamento').alias('total_vendas'))\n",
        "vendas_por_estado.show()\n",
        "\n",
        "vendas_por_estado.show(2)"
      ],
      "metadata": {
        "colab": {
          "base_uri": "https://localhost:8080/"
        },
        "id": "qIIvi4ldMSXA",
        "outputId": "ef43f944-b38b-4b38-cbc2-5f0b72dfe7cd"
      },
      "execution_count": 25,
      "outputs": [
        {
          "output_type": "stream",
          "name": "stdout",
          "text": [
            "+--------------+------------------+\n",
            "|estado_cliente|      total_vendas|\n",
            "+--------------+------------------+\n",
            "|            SC| 786343.7099999998|\n",
            "|            RO|           65886.0|\n",
            "|            PI|136779.95999999996|\n",
            "|            AM|34753.299999999996|\n",
            "|            RR|          12462.21|\n",
            "|            GO|513879.00000000035|\n",
            "|            TO|          72281.17|\n",
            "|            MT|256804.61999999994|\n",
            "|            SP| 7597209.659999931|\n",
            "|            ES| 405805.3400000009|\n",
            "|            PB| 180984.1899999999|\n",
            "|            RS|1147277.0000000023|\n",
            "|            MS|164337.27999999997|\n",
            "|            AL|         111284.42|\n",
            "|            MG|2326151.6399999885|\n",
            "|            PA|261788.34999999992|\n",
            "|            BA| 797410.3600000021|\n",
            "|            SE| 88437.50999999998|\n",
            "|            PE|376377.26999999967|\n",
            "|            CE| 343847.8300000001|\n",
            "+--------------+------------------+\n",
            "only showing top 20 rows\n",
            "\n",
            "+--------------+-----------------+\n",
            "|estado_cliente|     total_vendas|\n",
            "+--------------+-----------------+\n",
            "|            SC|786343.7099999998|\n",
            "|            RO|          65886.0|\n",
            "+--------------+-----------------+\n",
            "only showing top 2 rows\n",
            "\n"
          ]
        }
      ]
    },
    {
      "cell_type": "code",
      "source": [
        "vendas_por_estado_tipo_pagamento =  vendas_pedido_join.groupBy('estado_cliente', 'tipo_pagamento')\\\n",
        "                                          .agg(sum('valor_pagamento').alias('total_vendas'))\\\n",
        "                                          .orderBy(col('estado_cliente'),desc('total_vendas'))\n",
        "vendas_por_estado_tipo_pagamento = vendas_por_estado_tipo_pagamento.withColumn('total_vendas', format_number(col('total_vendas'),2))\n",
        "vendas_por_estado_tipo_pagamento.show()"
      ],
      "metadata": {
        "colab": {
          "base_uri": "https://localhost:8080/"
        },
        "id": "OSA7tNDfqW3m",
        "outputId": "2c134891-2413-4b1e-d89c-607ce95941bd"
      },
      "execution_count": 26,
      "outputs": [
        {
          "output_type": "stream",
          "name": "stdout",
          "text": [
            "+--------------+--------------+------------+\n",
            "|estado_cliente|tipo_pagamento|total_vendas|\n",
            "+--------------+--------------+------------+\n",
            "|            AC|   credit_card|   19,929.65|\n",
            "|            AC|        boleto|    3,908.46|\n",
            "|            AC|       voucher|      797.13|\n",
            "|            AC|    debit_card|      349.62|\n",
            "|            AL|   credit_card|   91,964.27|\n",
            "|            AL|        boleto|   16,388.24|\n",
            "|            AL|       voucher|    1,705.79|\n",
            "|            AL|    debit_card|    1,226.12|\n",
            "|            AM|   credit_card|   26,751.24|\n",
            "|            AM|        boleto|    7,639.22|\n",
            "|            AM|       voucher|      210.82|\n",
            "|            AM|    debit_card|      152.02|\n",
            "|            AP|   credit_card|   16,471.08|\n",
            "|            AP|        boleto|    4,934.20|\n",
            "|            AP|       voucher|      237.42|\n",
            "|            BA|   credit_card|  641,001.97|\n",
            "|            BA|        boleto|  132,269.38|\n",
            "|            BA|       voucher|   17,106.15|\n",
            "|            BA|    debit_card|    7,032.86|\n",
            "|            CE|   credit_card|  286,032.01|\n",
            "+--------------+--------------+------------+\n",
            "only showing top 20 rows\n",
            "\n"
          ]
        }
      ]
    },
    {
      "cell_type": "code",
      "source": [
        "produtos_categoria_nulos = produtos.groupBy('categoria_produto').agg(\n",
        "    count(when(col('tamanho_descricao_produto').isNull(), True)).alias('qtd_produtos_nulos')\n",
        ")\n",
        "produtos_categoria_nulos.show()\n",
        "\n",
        "produtos_categoria_nao_nulos = produtos.groupBy('categoria_produto').agg(\n",
        "    count(when(col('tamanho_descricao_produto').isNotNull(), True)).alias('qtd_produtos_nao_nulos')\n",
        ")\n",
        "produtos_categoria_nao_nulos.show()"
      ],
      "metadata": {
        "colab": {
          "base_uri": "https://localhost:8080/"
        },
        "id": "d-fkTQgQxdlp",
        "outputId": "9b412a9b-060a-400f-8904-a85e13c9342b"
      },
      "execution_count": 27,
      "outputs": [
        {
          "output_type": "stream",
          "name": "stdout",
          "text": [
            "+--------------------+------------------+\n",
            "|   categoria_produto|qtd_produtos_nulos|\n",
            "+--------------------+------------------+\n",
            "|                 pcs|                 0|\n",
            "|               bebes|                 0|\n",
            "|               artes|                 0|\n",
            "|           cine_foto|                 0|\n",
            "|    moveis_decoracao|                 0|\n",
            "|            pc_gamer|                 0|\n",
            "|construcao_ferram...|                 0|\n",
            "|tablets_impressao...|                 0|\n",
            "|fashion_roupa_mas...|                 0|\n",
            "|   artigos_de_festas|                 0|\n",
            "|    artigos_de_natal|                 0|\n",
            "|          la_cuisine|                 0|\n",
            "|              flores|                 0|\n",
            "|     livros_tecnicos|                 0|\n",
            "|                NULL|               610|\n",
            "|      telefonia_fixa|                 0|\n",
            "|construcao_ferram...|                 0|\n",
            "|          cool_stuff|                 0|\n",
            "|    eletrodomesticos|                 0|\n",
            "|   livros_importados|                 0|\n",
            "+--------------------+------------------+\n",
            "only showing top 20 rows\n",
            "\n",
            "+--------------------+----------------------+\n",
            "|   categoria_produto|qtd_produtos_nao_nulos|\n",
            "+--------------------+----------------------+\n",
            "|                 pcs|                    30|\n",
            "|               bebes|                   919|\n",
            "|               artes|                    55|\n",
            "|           cine_foto|                    28|\n",
            "|    moveis_decoracao|                  2657|\n",
            "|            pc_gamer|                     3|\n",
            "|construcao_ferram...|                   400|\n",
            "|tablets_impressao...|                     9|\n",
            "|fashion_roupa_mas...|                    95|\n",
            "|   artigos_de_festas|                    26|\n",
            "|    artigos_de_natal|                    65|\n",
            "|          la_cuisine|                    10|\n",
            "|              flores|                    14|\n",
            "|     livros_tecnicos|                   123|\n",
            "|                NULL|                     0|\n",
            "|      telefonia_fixa|                   116|\n",
            "|construcao_ferram...|                    91|\n",
            "|          cool_stuff|                   789|\n",
            "|    eletrodomesticos|                   370|\n",
            "|   livros_importados|                    31|\n",
            "+--------------------+----------------------+\n",
            "only showing top 20 rows\n",
            "\n"
          ]
        }
      ]
    },
    {
      "cell_type": "code",
      "source": [
        "from pyspark.sql.window import Window"
      ],
      "metadata": {
        "id": "8Lmazy0I2cZ4"
      },
      "execution_count": 34,
      "outputs": []
    },
    {
      "cell_type": "code",
      "source": [
        "qtd_produto = produtos.groupBy('categoria_produto').agg(\n",
        "    count_distinct('id_produto').alias('contagem unicos exata'),\n",
        "    approx_count_distinct('id_produto').alias('contagem unicos aproximada') # Fixed indentation\n",
        ")\n",
        "qtd_produto.show()"
      ],
      "metadata": {
        "colab": {
          "base_uri": "https://localhost:8080/"
        },
        "id": "2CweosN-3zcn",
        "outputId": "dbdaa3e9-ac24-4704-a2b6-5be2104acc1a"
      },
      "execution_count": 37,
      "outputs": [
        {
          "output_type": "stream",
          "name": "stdout",
          "text": [
            "+--------------------+---------------------+--------------------------+\n",
            "|   categoria_produto|contagem unicos exata|contagem unicos aproximada|\n",
            "+--------------------+---------------------+--------------------------+\n",
            "|                 pcs|                   30|                        30|\n",
            "|               bebes|                  919|                       873|\n",
            "|               artes|                   55|                        56|\n",
            "|           cine_foto|                   28|                        29|\n",
            "|    moveis_decoracao|                 2657|                      2715|\n",
            "|            pc_gamer|                    3|                         3|\n",
            "|tablets_impressao...|                    9|                         9|\n",
            "|construcao_ferram...|                  400|                       401|\n",
            "|fashion_roupa_mas...|                   95|                        98|\n",
            "|   artigos_de_festas|                   26|                        26|\n",
            "|    artigos_de_natal|                   65|                        65|\n",
            "|          la_cuisine|                   10|                        10|\n",
            "|              flores|                   14|                        13|\n",
            "|     livros_tecnicos|                  123|                       125|\n",
            "|                NULL|                  610|                       592|\n",
            "|      telefonia_fixa|                  116|                       118|\n",
            "|construcao_ferram...|                   91|                        92|\n",
            "|          cool_stuff|                  789|                       769|\n",
            "|    eletrodomesticos|                  370|                       367|\n",
            "|   livros_importados|                   31|                        32|\n",
            "+--------------------+---------------------+--------------------------+\n",
            "only showing top 20 rows\n",
            "\n"
          ]
        }
      ]
    },
    {
      "cell_type": "code",
      "source": [
        "pedidos_completos_df = pedidos.dropna()"
      ],
      "metadata": {
        "id": "kLCO1t5U4zMg"
      },
      "execution_count": 38,
      "outputs": []
    },
    {
      "cell_type": "code",
      "source": [
        "pedidos_completos_df = pedidos_completos_df.withColumn(\n",
        "    \"tempo_envio_dias\",\n",
        "    (col(\"data_entrega_cliente\").cast(\"long\") - col(\"data_compra_pedido\").cast(\"long\")) / 86400 # Changed 'data_operacao_pedido' to 'data_compra_pedido'\n",
        ")\n",
        "pedidos_completos_df.show()"
      ],
      "metadata": {
        "colab": {
          "base_uri": "https://localhost:8080/"
        },
        "id": "DaQrU8dR5_nt",
        "outputId": "ef20f61a-449c-4285-c7f3-86578aab96f6"
      },
      "execution_count": 41,
      "outputs": [
        {
          "output_type": "stream",
          "name": "stdout",
          "text": [
            "+--------------------+--------------------+-------------+-------------------+---------------------+-------------------------+--------------------+---------------------+------------------+\n",
            "|           id_pedido|          id_cliente|status_pedido| data_compra_pedido|data_aprovacao_pedido|data_envio_transportadora|data_entrega_cliente|data_estimada_entrega|  tempo_envio_dias|\n",
            "+--------------------+--------------------+-------------+-------------------+---------------------+-------------------------+--------------------+---------------------+------------------+\n",
            "|e481f51cbdc54678b...|9ef432eb625129730...|    delivered|2017-10-02 10:56:33|  2017-10-02 11:07:15|      2017-10-04 19:55:00| 2017-10-10 21:25:13|  2017-10-18 00:00:00| 8.436574074074073|\n",
            "|53cdb2fc8bc7dce0b...|b0830fb4747a6c6d2...|    delivered|2018-07-24 20:41:37|  2018-07-26 03:24:27|      2018-07-26 14:31:00| 2018-08-07 15:27:45|  2018-08-13 00:00:00|13.782037037037037|\n",
            "|47770eb9100c2d0c4...|41ce2a54c0b03bf34...|    delivered|2018-08-08 08:38:49|  2018-08-08 08:55:23|      2018-08-08 13:50:00| 2018-08-17 18:06:29|  2018-09-04 00:00:00| 9.394212962962962|\n",
            "|949d5b44dbf5de918...|f88197465ea7920ad...|    delivered|2017-11-18 19:28:06|  2017-11-18 19:45:59|      2017-11-22 13:39:59| 2017-12-02 00:28:42|  2017-12-15 00:00:00|          13.20875|\n",
            "|ad21c59c0840e6cb8...|8ab97904e6daea886...|    delivered|2018-02-13 21:18:39|  2018-02-13 22:20:29|      2018-02-14 19:46:34| 2018-02-16 18:17:02|  2018-02-26 00:00:00| 2.873877314814815|\n",
            "|a4591c265e18cb1dc...|503740e9ca751ccdd...|    delivered|2017-07-09 21:57:05|  2017-07-09 22:10:13|      2017-07-11 14:58:04| 2017-07-26 10:57:55|  2017-08-01 00:00:00| 16.54224537037037|\n",
            "|6514b8ad8028c9f2c...|9bdf08b4b3b52b552...|    delivered|2017-05-16 13:10:30|  2017-05-16 13:22:11|      2017-05-22 10:07:46| 2017-05-26 12:55:51|  2017-06-07 00:00:00| 9.989826388888888|\n",
            "|76c6e866289321a7c...|f54a9f0e6b351c431...|    delivered|2017-01-23 18:29:09|  2017-01-25 02:50:47|      2017-01-26 14:16:31| 2017-02-02 14:08:10|  2017-03-06 00:00:00| 9.818761574074074|\n",
            "|e69bfb5eb88e0ed6a...|31ad1d1b63eb99624...|    delivered|2017-07-29 11:55:02|  2017-07-29 12:05:32|      2017-08-10 19:45:24| 2017-08-16 17:14:30|  2017-08-23 00:00:00|18.221851851851852|\n",
            "|e6ce16cb79ec1d90b...|494dded5b201313c6...|    delivered|2017-05-16 19:41:10|  2017-05-16 19:50:18|      2017-05-18 11:40:40| 2017-05-29 11:18:31|  2017-06-07 00:00:00|        12.6509375|\n",
            "|34513ce0c4fab462a...|7711cf624183d843a...|    delivered|2017-07-13 19:58:11|  2017-07-13 20:10:08|      2017-07-14 18:43:29| 2017-07-19 14:04:48|  2017-08-08 00:00:00| 5.754594907407407|\n",
            "|82566a660a982b15f...|d3e3b74c766bc6214...|    delivered|2018-06-07 10:06:19|  2018-06-09 03:13:12|      2018-06-11 13:29:00| 2018-06-19 12:05:52|  2018-07-18 00:00:00|12.083020833333334|\n",
            "|5ff96c15d0b717ac6...|19402a48fe860416a...|    delivered|2018-07-25 17:44:10|  2018-07-25 17:55:14|      2018-07-26 13:16:00| 2018-07-30 15:52:25|  2018-08-08 00:00:00| 4.922395833333334|\n",
            "|432aaf21d85167c2c...|3df704f53d3f1d481...|    delivered|2018-03-01 14:14:28|  2018-03-01 15:10:47|      2018-03-02 21:09:20| 2018-03-12 23:36:26|  2018-03-21 00:00:00|11.390254629629629|\n",
            "|dcb36b511fcac050b...|3b6828a50ffe54694...|    delivered|2018-06-07 19:03:12|  2018-06-12 23:31:02|      2018-06-11 14:54:00| 2018-06-21 15:34:32|  2018-07-04 00:00:00|13.855092592592593|\n",
            "|403b97836b0c04a62...|738b086814c6fcc74...|    delivered|2018-01-02 19:00:43|  2018-01-02 19:09:04|      2018-01-03 18:19:09| 2018-01-20 01:38:59|  2018-02-06 00:00:00|17.276574074074073|\n",
            "|116f0b09343b49556...|3187789bec9909876...|    delivered|2017-12-26 23:41:31|  2017-12-26 23:50:22|      2017-12-28 18:33:05| 2018-01-08 22:36:36|  2018-01-29 00:00:00|12.954918981481482|\n",
            "|85ce859fd6dc634de...|059f7fc5719c7da6c...|    delivered|2017-11-21 00:03:41|  2017-11-21 00:14:22|      2017-11-23 21:32:26| 2017-11-27 18:28:00|  2017-12-11 00:00:00| 6.766886574074074|\n",
            "|83018ec114eee8641...|7f8c8b9c2ae27bf33...|    delivered|2017-10-26 15:54:26|  2017-10-26 16:08:14|      2017-10-26 21:46:53| 2017-11-08 22:22:00|  2017-11-23 00:00:00|13.269143518518518|\n",
            "|203096f03d82e0dff...|d2b091571da224a1b...|    delivered|2017-09-18 14:31:30|  2017-09-19 04:04:09|      2017-10-06 17:50:03| 2017-10-09 22:23:46|  2017-09-28 00:00:00|21.327962962962964|\n",
            "+--------------------+--------------------+-------------+-------------------+---------------------+-------------------------+--------------------+---------------------+------------------+\n",
            "only showing top 20 rows\n",
            "\n"
          ]
        }
      ]
    },
    {
      "cell_type": "code",
      "source": [
        "janela_acumulativa = Window.partitionBy(\"status_pedido\").orderBy(\"data_aprovacao_pedido\").rowsBetween(Window.unboundedPreceding, Window.currentRow)\n",
        "\n",
        "pedidos_completos_df = pedidos_completos_df.withColumn(\n",
        "    \"media_tempo_envio_cumulatica\",\n",
        "    avg(\"tempo_envio_dias\").over(janela_acumulativa)\n",
        ")\n",
        "\n",
        "pedidos_completos_df.show()\n"
      ],
      "metadata": {
        "colab": {
          "base_uri": "https://localhost:8080/"
        },
        "id": "hflSfTc39PqP",
        "outputId": "26d16acf-419a-48dd-d624-3df47113e9a5"
      },
      "execution_count": 42,
      "outputs": [
        {
          "output_type": "stream",
          "name": "stdout",
          "text": [
            "+--------------------+--------------------+-------------+-------------------+---------------------+-------------------------+--------------------+---------------------+------------------+----------------------------+\n",
            "|           id_pedido|          id_cliente|status_pedido| data_compra_pedido|data_aprovacao_pedido|data_envio_transportadora|data_entrega_cliente|data_estimada_entrega|  tempo_envio_dias|media_tempo_envio_cumulatica|\n",
            "+--------------------+--------------------+-------------+-------------------+---------------------+-------------------------+--------------------+---------------------+------------------+----------------------------+\n",
            "|65d1e226dfaeb8cdc...|70fc57eeae2926759...|     canceled|2016-10-03 21:01:41|  2016-10-04 10:18:57|      2016-10-25 12:14:28| 2016-11-08 10:58:34|  2016-11-25 00:00:00| 35.58116898148148|           35.58116898148148|\n",
            "|770d331c84e5b214b...|6c57e6119369185e5...|     canceled|2016-10-07 14:52:30|  2016-10-07 15:07:10|      2016-10-11 15:07:11| 2016-10-14 15:07:11|  2016-11-29 00:00:00|  7.01019675925926|           21.29568287037037|\n",
            "|dabf2b0e35b423f94...|5cdec0bb8cbdf53ff...|     canceled|2016-10-09 00:56:52|  2016-10-09 13:36:58|      2016-10-13 13:36:59| 2016-10-16 14:36:59|  2016-11-30 00:00:00| 7.569525462962963|          16.720297067901235|\n",
            "|8beb59392e21af5eb...|bf609b5741f71697f...|     canceled|2016-10-08 20:17:50|  2016-10-09 14:34:30|      2016-10-14 22:45:26| 2016-10-19 18:47:43|  2016-11-30 00:00:00|10.937418981481482|          15.274577546296296|\n",
            "|2c45c33d2f9cb8ff8...|de4caa97afa80c8ee...|     canceled|2016-10-09 15:39:56|  2016-10-10 10:40:49|      2016-10-14 10:40:50| 2016-11-09 14:53:50|  2016-12-08 00:00:00| 30.96798611111111|          18.413259259259256|\n",
            "|1950d777989f6a877...|1bccb206de9f0f25a...|     canceled|2018-02-19 19:48:52|  2018-02-19 20:56:05|      2018-02-20 19:57:13| 2018-03-21 22:03:51|  2018-03-09 00:00:00|30.093738425925928|          20.360005787037036|\n",
            "|bfbd0f9bdef843021...|86dc2ffce2dfff336...|    delivered|2016-09-15 12:16:38|  2016-09-15 12:16:38|      2016-11-07 17:11:53| 2016-11-09 07:47:38|  2016-10-04 00:00:00| 54.81319444444444|           54.81319444444444|\n",
            "|1ff217aa612f6cd7c...|b3a9bf200375f53cc...|    delivered|2016-10-04 09:16:33|  2016-10-04 09:43:32|      2016-10-21 16:33:45| 2016-10-24 16:33:45|  2016-11-24 00:00:00| 20.30361111111111|           37.55840277777777|\n",
            "|cd3b8574c82b42fc8...|7812fcebfc5e8065d...|    delivered|2016-10-03 22:31:31|  2016-10-04 10:19:23|      2016-10-08 10:34:01| 2016-10-14 16:08:00|  2016-11-23 00:00:00| 10.73366898148148|           28.61682484567901|\n",
            "|ed8c7b1b3eb256c70...|da0ba2a9935bca5b4...|    delivered|2016-10-04 09:59:03|  2016-10-04 10:25:46|      2016-11-11 15:29:14| 2016-11-18 08:51:07|  2016-11-24 00:00:00| 44.95282407407407|          32.700824652777776|\n",
            "|d207cc272675637bf...|b8cf418e97ae79567...|    delivered|2016-10-03 22:06:03|  2016-10-04 10:28:07|      2016-10-21 14:23:37| 2016-10-31 11:07:42|  2016-11-23 00:00:00|        27.5428125|           31.66922222222222|\n",
            "|ef1b29b591d31d57c...|dc607dc98d6a11d5d...|    delivered|2016-10-03 22:51:30|  2016-10-04 10:28:19|      2016-10-21 14:23:36| 2016-11-01 15:14:45|  2016-11-25 00:00:00|        28.6828125|           31.17148726851852|\n",
            "|ae8a60e4b03c5a4ba...|e6f959bf384d1d53b...|    delivered|2016-10-03 22:44:10|  2016-10-04 10:28:25|      2016-10-30 14:22:04| 2016-11-03 14:04:50|  2016-12-01 00:00:00|30.639351851851853|           31.09546792328042|\n",
            "|c3d9e402b6a0fbe2a...|5720a15d022c09d26...|    delivered|2016-10-04 10:16:04|  2016-10-04 10:45:33|      2016-10-28 15:34:00| 2016-11-08 10:41:54|  2016-12-08 00:00:00| 35.01793981481482|           31.58577690972222|\n",
            "|46046adea0e222a29...|e9722ab28655e0776...|    delivered|2016-10-04 10:41:17|  2016-10-04 11:06:07|      2016-10-21 16:29:32| 2016-10-24 16:29:32|  2016-11-28 00:00:00| 20.24184027777778|           30.32533950617284|\n",
            "|79ffdd52a918bbe86...|f9808148a262b51d2...|    delivered|2016-10-04 12:06:11|  2016-10-04 12:25:20|      2016-10-25 14:16:48| 2016-10-26 16:41:21|  2016-11-24 00:00:00|22.191087962962964|           29.51191435185185|\n",
            "|c4b41c36dd589e901...|4bb880cac21c7a9e1...|    delivered|2016-10-04 12:53:17|  2016-10-04 13:26:11|      2016-11-07 16:21:26| 2016-11-09 13:37:38|  2016-11-24 00:00:00| 36.03079861111111|           30.10454019360269|\n",
            "|36989eb07a0de2d3d...|aadd27185177fc7ac...|    delivered|2016-10-04 13:11:29|  2016-10-04 13:46:31|      2016-10-08 13:46:32| 2016-10-11 13:46:32|  2016-12-06 00:00:00| 7.024340277777778|           28.18119020061728|\n",
            "|3f72d2b757e725cd4...|e0de521fbb397bd7e...|    delivered|2016-10-04 13:15:46|  2016-10-04 13:47:04|      2016-10-10 16:45:50| 2016-10-17 11:25:59|  2016-11-28 00:00:00|12.923761574074074|          27.007541844729342|\n",
            "|f3f12fc90564a9b03...|3c521eac04e2dca47...|    delivered|2016-10-04 13:15:52|  2016-10-04 13:47:06|      2016-10-30 13:37:48| 2016-11-01 18:07:25|  2016-11-24 00:00:00|28.202465277777776|          27.092893518518515|\n",
            "+--------------------+--------------------+-------------+-------------------+---------------------+-------------------------+--------------------+---------------------+------------------+----------------------------+\n",
            "only showing top 20 rows\n",
            "\n"
          ]
        }
      ]
    },
    {
      "cell_type": "code",
      "source": [
        "janela_10dias = Window.partitionBy(\"status_pedido\").orderBy(\"data_aprovacao_pedido\").rowsBetween(-9, 0)\n",
        "\n",
        "pedidos_completos_df = pedidos_completos_df.withColumn(\n",
        "    \"media_tempo_envio_cumulatica\",\n",
        "    avg(\"tempo_envio_dias\").over(janela_10dias)\n",
        ")\n",
        "\n",
        "pedidos_completos_df.show()\n"
      ],
      "metadata": {
        "colab": {
          "base_uri": "https://localhost:8080/"
        },
        "id": "ER4faWrL_6ZJ",
        "outputId": "b12bcfa9-a026-42df-ca28-1582699fbe76"
      },
      "execution_count": 43,
      "outputs": [
        {
          "output_type": "stream",
          "name": "stdout",
          "text": [
            "+--------------------+--------------------+-------------+-------------------+---------------------+-------------------------+--------------------+---------------------+------------------+----------------------------+\n",
            "|           id_pedido|          id_cliente|status_pedido| data_compra_pedido|data_aprovacao_pedido|data_envio_transportadora|data_entrega_cliente|data_estimada_entrega|  tempo_envio_dias|media_tempo_envio_cumulatica|\n",
            "+--------------------+--------------------+-------------+-------------------+---------------------+-------------------------+--------------------+---------------------+------------------+----------------------------+\n",
            "|65d1e226dfaeb8cdc...|70fc57eeae2926759...|     canceled|2016-10-03 21:01:41|  2016-10-04 10:18:57|      2016-10-25 12:14:28| 2016-11-08 10:58:34|  2016-11-25 00:00:00| 35.58116898148148|           35.58116898148148|\n",
            "|770d331c84e5b214b...|6c57e6119369185e5...|     canceled|2016-10-07 14:52:30|  2016-10-07 15:07:10|      2016-10-11 15:07:11| 2016-10-14 15:07:11|  2016-11-29 00:00:00|  7.01019675925926|           21.29568287037037|\n",
            "|dabf2b0e35b423f94...|5cdec0bb8cbdf53ff...|     canceled|2016-10-09 00:56:52|  2016-10-09 13:36:58|      2016-10-13 13:36:59| 2016-10-16 14:36:59|  2016-11-30 00:00:00| 7.569525462962963|          16.720297067901235|\n",
            "|8beb59392e21af5eb...|bf609b5741f71697f...|     canceled|2016-10-08 20:17:50|  2016-10-09 14:34:30|      2016-10-14 22:45:26| 2016-10-19 18:47:43|  2016-11-30 00:00:00|10.937418981481482|          15.274577546296296|\n",
            "|2c45c33d2f9cb8ff8...|de4caa97afa80c8ee...|     canceled|2016-10-09 15:39:56|  2016-10-10 10:40:49|      2016-10-14 10:40:50| 2016-11-09 14:53:50|  2016-12-08 00:00:00| 30.96798611111111|          18.413259259259256|\n",
            "|1950d777989f6a877...|1bccb206de9f0f25a...|     canceled|2018-02-19 19:48:52|  2018-02-19 20:56:05|      2018-02-20 19:57:13| 2018-03-21 22:03:51|  2018-03-09 00:00:00|30.093738425925928|          20.360005787037036|\n",
            "|bfbd0f9bdef843021...|86dc2ffce2dfff336...|    delivered|2016-09-15 12:16:38|  2016-09-15 12:16:38|      2016-11-07 17:11:53| 2016-11-09 07:47:38|  2016-10-04 00:00:00| 54.81319444444444|           54.81319444444444|\n",
            "|1ff217aa612f6cd7c...|b3a9bf200375f53cc...|    delivered|2016-10-04 09:16:33|  2016-10-04 09:43:32|      2016-10-21 16:33:45| 2016-10-24 16:33:45|  2016-11-24 00:00:00| 20.30361111111111|           37.55840277777777|\n",
            "|cd3b8574c82b42fc8...|7812fcebfc5e8065d...|    delivered|2016-10-03 22:31:31|  2016-10-04 10:19:23|      2016-10-08 10:34:01| 2016-10-14 16:08:00|  2016-11-23 00:00:00| 10.73366898148148|           28.61682484567901|\n",
            "|ed8c7b1b3eb256c70...|da0ba2a9935bca5b4...|    delivered|2016-10-04 09:59:03|  2016-10-04 10:25:46|      2016-11-11 15:29:14| 2016-11-18 08:51:07|  2016-11-24 00:00:00| 44.95282407407407|          32.700824652777776|\n",
            "|d207cc272675637bf...|b8cf418e97ae79567...|    delivered|2016-10-03 22:06:03|  2016-10-04 10:28:07|      2016-10-21 14:23:37| 2016-10-31 11:07:42|  2016-11-23 00:00:00|        27.5428125|           31.66922222222222|\n",
            "|ef1b29b591d31d57c...|dc607dc98d6a11d5d...|    delivered|2016-10-03 22:51:30|  2016-10-04 10:28:19|      2016-10-21 14:23:36| 2016-11-01 15:14:45|  2016-11-25 00:00:00|        28.6828125|           31.17148726851852|\n",
            "|ae8a60e4b03c5a4ba...|e6f959bf384d1d53b...|    delivered|2016-10-03 22:44:10|  2016-10-04 10:28:25|      2016-10-30 14:22:04| 2016-11-03 14:04:50|  2016-12-01 00:00:00|30.639351851851853|           31.09546792328042|\n",
            "|c3d9e402b6a0fbe2a...|5720a15d022c09d26...|    delivered|2016-10-04 10:16:04|  2016-10-04 10:45:33|      2016-10-28 15:34:00| 2016-11-08 10:41:54|  2016-12-08 00:00:00| 35.01793981481482|           31.58577690972222|\n",
            "|46046adea0e222a29...|e9722ab28655e0776...|    delivered|2016-10-04 10:41:17|  2016-10-04 11:06:07|      2016-10-21 16:29:32| 2016-10-24 16:29:32|  2016-11-28 00:00:00| 20.24184027777778|           30.32533950617284|\n",
            "|79ffdd52a918bbe86...|f9808148a262b51d2...|    delivered|2016-10-04 12:06:11|  2016-10-04 12:25:20|      2016-10-25 14:16:48| 2016-10-26 16:41:21|  2016-11-24 00:00:00|22.191087962962964|           29.51191435185185|\n",
            "|c4b41c36dd589e901...|4bb880cac21c7a9e1...|    delivered|2016-10-04 12:53:17|  2016-10-04 13:26:11|      2016-11-07 16:21:26| 2016-11-09 13:37:38|  2016-11-24 00:00:00| 36.03079861111111|          27.633674768518517|\n",
            "|36989eb07a0de2d3d...|aadd27185177fc7ac...|    delivered|2016-10-04 13:11:29|  2016-10-04 13:46:31|      2016-10-08 13:46:32| 2016-10-11 13:46:32|  2016-12-06 00:00:00| 7.024340277777778|          26.305747685185185|\n",
            "|3f72d2b757e725cd4...|e0de521fbb397bd7e...|    delivered|2016-10-04 13:15:46|  2016-10-04 13:47:04|      2016-10-10 16:45:50| 2016-10-17 11:25:59|  2016-11-28 00:00:00|12.923761574074074|           26.52475694444444|\n",
            "|f3f12fc90564a9b03...|3c521eac04e2dca47...|    delivered|2016-10-04 13:15:52|  2016-10-04 13:47:06|      2016-10-30 13:37:48| 2016-11-01 18:07:25|  2016-11-24 00:00:00|28.202465277777776|          24.849721064814815|\n",
            "+--------------------+--------------------+-------------+-------------------+---------------------+-------------------------+--------------------+---------------------+------------------+----------------------------+\n",
            "only showing top 20 rows\n",
            "\n"
          ]
        }
      ]
    },
    {
      "cell_type": "code",
      "source": [
        "pedidos_com_mes = pedidos.withColumn(\"mes_compra\", month(\"data_compra_pedido\"))\n",
        "pedidos_com_mes.show()"
      ],
      "metadata": {
        "colab": {
          "base_uri": "https://localhost:8080/"
        },
        "id": "UW3vqcaUB6om",
        "outputId": "d3036151-1315-4b51-822b-8ed22aad1026"
      },
      "execution_count": 44,
      "outputs": [
        {
          "output_type": "stream",
          "name": "stdout",
          "text": [
            "+--------------------+--------------------+-------------+-------------------+---------------------+-------------------------+--------------------+---------------------+----------+\n",
            "|           id_pedido|          id_cliente|status_pedido| data_compra_pedido|data_aprovacao_pedido|data_envio_transportadora|data_entrega_cliente|data_estimada_entrega|mes_compra|\n",
            "+--------------------+--------------------+-------------+-------------------+---------------------+-------------------------+--------------------+---------------------+----------+\n",
            "|e481f51cbdc54678b...|9ef432eb625129730...|    delivered|2017-10-02 10:56:33|  2017-10-02 11:07:15|      2017-10-04 19:55:00| 2017-10-10 21:25:13|  2017-10-18 00:00:00|        10|\n",
            "|53cdb2fc8bc7dce0b...|b0830fb4747a6c6d2...|    delivered|2018-07-24 20:41:37|  2018-07-26 03:24:27|      2018-07-26 14:31:00| 2018-08-07 15:27:45|  2018-08-13 00:00:00|         7|\n",
            "|47770eb9100c2d0c4...|41ce2a54c0b03bf34...|    delivered|2018-08-08 08:38:49|  2018-08-08 08:55:23|      2018-08-08 13:50:00| 2018-08-17 18:06:29|  2018-09-04 00:00:00|         8|\n",
            "|949d5b44dbf5de918...|f88197465ea7920ad...|    delivered|2017-11-18 19:28:06|  2017-11-18 19:45:59|      2017-11-22 13:39:59| 2017-12-02 00:28:42|  2017-12-15 00:00:00|        11|\n",
            "|ad21c59c0840e6cb8...|8ab97904e6daea886...|    delivered|2018-02-13 21:18:39|  2018-02-13 22:20:29|      2018-02-14 19:46:34| 2018-02-16 18:17:02|  2018-02-26 00:00:00|         2|\n",
            "|a4591c265e18cb1dc...|503740e9ca751ccdd...|    delivered|2017-07-09 21:57:05|  2017-07-09 22:10:13|      2017-07-11 14:58:04| 2017-07-26 10:57:55|  2017-08-01 00:00:00|         7|\n",
            "|136cce7faa42fdb2c...|ed0271e0b7da060a3...|     invoiced|2017-04-11 12:22:08|  2017-04-13 13:25:17|                     NULL|                NULL|  2017-05-09 00:00:00|         4|\n",
            "|6514b8ad8028c9f2c...|9bdf08b4b3b52b552...|    delivered|2017-05-16 13:10:30|  2017-05-16 13:22:11|      2017-05-22 10:07:46| 2017-05-26 12:55:51|  2017-06-07 00:00:00|         5|\n",
            "|76c6e866289321a7c...|f54a9f0e6b351c431...|    delivered|2017-01-23 18:29:09|  2017-01-25 02:50:47|      2017-01-26 14:16:31| 2017-02-02 14:08:10|  2017-03-06 00:00:00|         1|\n",
            "|e69bfb5eb88e0ed6a...|31ad1d1b63eb99624...|    delivered|2017-07-29 11:55:02|  2017-07-29 12:05:32|      2017-08-10 19:45:24| 2017-08-16 17:14:30|  2017-08-23 00:00:00|         7|\n",
            "|e6ce16cb79ec1d90b...|494dded5b201313c6...|    delivered|2017-05-16 19:41:10|  2017-05-16 19:50:18|      2017-05-18 11:40:40| 2017-05-29 11:18:31|  2017-06-07 00:00:00|         5|\n",
            "|34513ce0c4fab462a...|7711cf624183d843a...|    delivered|2017-07-13 19:58:11|  2017-07-13 20:10:08|      2017-07-14 18:43:29| 2017-07-19 14:04:48|  2017-08-08 00:00:00|         7|\n",
            "|82566a660a982b15f...|d3e3b74c766bc6214...|    delivered|2018-06-07 10:06:19|  2018-06-09 03:13:12|      2018-06-11 13:29:00| 2018-06-19 12:05:52|  2018-07-18 00:00:00|         6|\n",
            "|5ff96c15d0b717ac6...|19402a48fe860416a...|    delivered|2018-07-25 17:44:10|  2018-07-25 17:55:14|      2018-07-26 13:16:00| 2018-07-30 15:52:25|  2018-08-08 00:00:00|         7|\n",
            "|432aaf21d85167c2c...|3df704f53d3f1d481...|    delivered|2018-03-01 14:14:28|  2018-03-01 15:10:47|      2018-03-02 21:09:20| 2018-03-12 23:36:26|  2018-03-21 00:00:00|         3|\n",
            "|dcb36b511fcac050b...|3b6828a50ffe54694...|    delivered|2018-06-07 19:03:12|  2018-06-12 23:31:02|      2018-06-11 14:54:00| 2018-06-21 15:34:32|  2018-07-04 00:00:00|         6|\n",
            "|403b97836b0c04a62...|738b086814c6fcc74...|    delivered|2018-01-02 19:00:43|  2018-01-02 19:09:04|      2018-01-03 18:19:09| 2018-01-20 01:38:59|  2018-02-06 00:00:00|         1|\n",
            "|116f0b09343b49556...|3187789bec9909876...|    delivered|2017-12-26 23:41:31|  2017-12-26 23:50:22|      2017-12-28 18:33:05| 2018-01-08 22:36:36|  2018-01-29 00:00:00|        12|\n",
            "|85ce859fd6dc634de...|059f7fc5719c7da6c...|    delivered|2017-11-21 00:03:41|  2017-11-21 00:14:22|      2017-11-23 21:32:26| 2017-11-27 18:28:00|  2017-12-11 00:00:00|        11|\n",
            "|83018ec114eee8641...|7f8c8b9c2ae27bf33...|    delivered|2017-10-26 15:54:26|  2017-10-26 16:08:14|      2017-10-26 21:46:53| 2017-11-08 22:22:00|  2017-11-23 00:00:00|        10|\n",
            "+--------------------+--------------------+-------------+-------------------+---------------------+-------------------------+--------------------+---------------------+----------+\n",
            "only showing top 20 rows\n",
            "\n"
          ]
        }
      ]
    },
    {
      "cell_type": "code",
      "source": [
        "pedidos_com_mes = pedidos_com_mes.withColumn(\"mes_compra\", month(\"data_compra_pedido\"))\n",
        "\n",
        "vendas_por_mes_status = pedidos_com_mes.groupBy(\"mes_compra\").pivot(\"status_pedido\").agg(\n",
        "    count(\"id_pedido\").alias(\"total_pedidos\")).orderBy(\"mes_compra\")\n",
        "\n",
        "vendas_por_mes_status.show()"
      ],
      "metadata": {
        "colab": {
          "base_uri": "https://localhost:8080/"
        },
        "id": "nDo4k5noCD5p",
        "outputId": "a879b561-d4db-4629-8316-0b093e62a12a"
      },
      "execution_count": 46,
      "outputs": [
        {
          "output_type": "stream",
          "name": "stdout",
          "text": [
            "+----------+--------+--------+-------+---------+--------+----------+-------+-----------+\n",
            "|mes_compra|approved|canceled|created|delivered|invoiced|processing|shipped|unavailable|\n",
            "+----------+--------+--------+-------+---------+--------+----------+-------+-----------+\n",
            "|         1|    NULL|      37|   NULL|     7819|      27|        38|     90|         58|\n",
            "|         2|       1|      90|      1|     8208|      17|        38|     78|         75|\n",
            "|         3|    NULL|      59|   NULL|     9549|      26|        32|    178|         49|\n",
            "|         4|       1|      33|   NULL|     9101|      28|        18|    148|         14|\n",
            "|         5|    NULL|      53|   NULL|    10295|      40|        29|    109|         47|\n",
            "|         6|    NULL|      34|   NULL|     9234|      14|        12|     90|         28|\n",
            "|         7|    NULL|      69|   NULL|    10031|      20|        12|    116|         70|\n",
            "|         8|    NULL|     111|   NULL|    10544|      43|        18|     88|         39|\n",
            "|         9|    NULL|      37|   NULL|     4151|      17|        22|     40|         38|\n",
            "|        10|    NULL|      54|   NULL|     4743|      34|        22|     41|         65|\n",
            "|        11|    NULL|      37|      2|     7289|      35|        25|     72|         84|\n",
            "|        12|    NULL|      11|      2|     5514|      13|        35|     57|         42|\n",
            "+----------+--------+--------+-------+---------+--------+----------+-------+-----------+\n",
            "\n"
          ]
        }
      ]
    },
    {
      "cell_type": "code",
      "source": [
        "spark.stop()"
      ],
      "metadata": {
        "id": "QeJ0qzWhDfrA"
      },
      "execution_count": 48,
      "outputs": []
    }
  ]
}