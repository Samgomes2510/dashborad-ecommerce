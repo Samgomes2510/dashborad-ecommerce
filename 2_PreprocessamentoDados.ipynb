{
  "nbformat": 4,
  "nbformat_minor": 0,
  "metadata": {
    "colab": {
      "provenance": [],
      "authorship_tag": "ABX9TyNVdUNt1OG4cq0we+wha3Ei",
      "include_colab_link": true
    },
    "kernelspec": {
      "name": "python3",
      "display_name": "Python 3"
    },
    "language_info": {
      "name": "python"
    }
  },
  "cells": [
    {
      "cell_type": "markdown",
      "metadata": {
        "id": "view-in-github",
        "colab_type": "text"
      },
      "source": [
        "<a href=\"https://colab.research.google.com/github/Samgomes2510/dashborad-ecommerce/blob/main/2_PreprocessamentoDados.ipynb\" target=\"_parent\"><img src=\"https://colab.research.google.com/assets/colab-badge.svg\" alt=\"Open In Colab\"/></a>"
      ]
    },
    {
      "cell_type": "code",
      "execution_count": 1,
      "metadata": {
        "colab": {
          "base_uri": "https://localhost:8080/"
        },
        "id": "dqLPsSTjgeM6",
        "outputId": "01201978-4801-43b3-efc1-fdcfa949b23e"
      },
      "outputs": [
        {
          "output_type": "stream",
          "name": "stdout",
          "text": [
            "Requirement already satisfied: pyspark in /usr/local/lib/python3.11/dist-packages (3.5.5)\n",
            "Requirement already satisfied: py4j==0.10.9.7 in /usr/local/lib/python3.11/dist-packages (from pyspark) (0.10.9.7)\n"
          ]
        }
      ],
      "source": [
        "!pip install pyspark"
      ]
    },
    {
      "cell_type": "code",
      "source": [
        "from google.colab import files\n",
        "uploaded = files.upload()"
      ],
      "metadata": {
        "colab": {
          "base_uri": "https://localhost:8080/",
          "height": 281
        },
        "id": "Zh7B7oiDhZ6i",
        "outputId": "0e946eef-62c4-4f13-bc33-7bceca53c25d"
      },
      "execution_count": 2,
      "outputs": [
        {
          "output_type": "display_data",
          "data": {
            "text/plain": [
              "<IPython.core.display.HTML object>"
            ],
            "text/html": [
              "\n",
              "     <input type=\"file\" id=\"files-24a7c4d4-9c2c-48ae-b224-5aadbf08671d\" name=\"files[]\" multiple disabled\n",
              "        style=\"border:none\" />\n",
              "     <output id=\"result-24a7c4d4-9c2c-48ae-b224-5aadbf08671d\">\n",
              "      Upload widget is only available when the cell has been executed in the\n",
              "      current browser session. Please rerun this cell to enable.\n",
              "      </output>\n",
              "      <script>// Copyright 2017 Google LLC\n",
              "//\n",
              "// Licensed under the Apache License, Version 2.0 (the \"License\");\n",
              "// you may not use this file except in compliance with the License.\n",
              "// You may obtain a copy of the License at\n",
              "//\n",
              "//      http://www.apache.org/licenses/LICENSE-2.0\n",
              "//\n",
              "// Unless required by applicable law or agreed to in writing, software\n",
              "// distributed under the License is distributed on an \"AS IS\" BASIS,\n",
              "// WITHOUT WARRANTIES OR CONDITIONS OF ANY KIND, either express or implied.\n",
              "// See the License for the specific language governing permissions and\n",
              "// limitations under the License.\n",
              "\n",
              "/**\n",
              " * @fileoverview Helpers for google.colab Python module.\n",
              " */\n",
              "(function(scope) {\n",
              "function span(text, styleAttributes = {}) {\n",
              "  const element = document.createElement('span');\n",
              "  element.textContent = text;\n",
              "  for (const key of Object.keys(styleAttributes)) {\n",
              "    element.style[key] = styleAttributes[key];\n",
              "  }\n",
              "  return element;\n",
              "}\n",
              "\n",
              "// Max number of bytes which will be uploaded at a time.\n",
              "const MAX_PAYLOAD_SIZE = 100 * 1024;\n",
              "\n",
              "function _uploadFiles(inputId, outputId) {\n",
              "  const steps = uploadFilesStep(inputId, outputId);\n",
              "  const outputElement = document.getElementById(outputId);\n",
              "  // Cache steps on the outputElement to make it available for the next call\n",
              "  // to uploadFilesContinue from Python.\n",
              "  outputElement.steps = steps;\n",
              "\n",
              "  return _uploadFilesContinue(outputId);\n",
              "}\n",
              "\n",
              "// This is roughly an async generator (not supported in the browser yet),\n",
              "// where there are multiple asynchronous steps and the Python side is going\n",
              "// to poll for completion of each step.\n",
              "// This uses a Promise to block the python side on completion of each step,\n",
              "// then passes the result of the previous step as the input to the next step.\n",
              "function _uploadFilesContinue(outputId) {\n",
              "  const outputElement = document.getElementById(outputId);\n",
              "  const steps = outputElement.steps;\n",
              "\n",
              "  const next = steps.next(outputElement.lastPromiseValue);\n",
              "  return Promise.resolve(next.value.promise).then((value) => {\n",
              "    // Cache the last promise value to make it available to the next\n",
              "    // step of the generator.\n",
              "    outputElement.lastPromiseValue = value;\n",
              "    return next.value.response;\n",
              "  });\n",
              "}\n",
              "\n",
              "/**\n",
              " * Generator function which is called between each async step of the upload\n",
              " * process.\n",
              " * @param {string} inputId Element ID of the input file picker element.\n",
              " * @param {string} outputId Element ID of the output display.\n",
              " * @return {!Iterable<!Object>} Iterable of next steps.\n",
              " */\n",
              "function* uploadFilesStep(inputId, outputId) {\n",
              "  const inputElement = document.getElementById(inputId);\n",
              "  inputElement.disabled = false;\n",
              "\n",
              "  const outputElement = document.getElementById(outputId);\n",
              "  outputElement.innerHTML = '';\n",
              "\n",
              "  const pickedPromise = new Promise((resolve) => {\n",
              "    inputElement.addEventListener('change', (e) => {\n",
              "      resolve(e.target.files);\n",
              "    });\n",
              "  });\n",
              "\n",
              "  const cancel = document.createElement('button');\n",
              "  inputElement.parentElement.appendChild(cancel);\n",
              "  cancel.textContent = 'Cancel upload';\n",
              "  const cancelPromise = new Promise((resolve) => {\n",
              "    cancel.onclick = () => {\n",
              "      resolve(null);\n",
              "    };\n",
              "  });\n",
              "\n",
              "  // Wait for the user to pick the files.\n",
              "  const files = yield {\n",
              "    promise: Promise.race([pickedPromise, cancelPromise]),\n",
              "    response: {\n",
              "      action: 'starting',\n",
              "    }\n",
              "  };\n",
              "\n",
              "  cancel.remove();\n",
              "\n",
              "  // Disable the input element since further picks are not allowed.\n",
              "  inputElement.disabled = true;\n",
              "\n",
              "  if (!files) {\n",
              "    return {\n",
              "      response: {\n",
              "        action: 'complete',\n",
              "      }\n",
              "    };\n",
              "  }\n",
              "\n",
              "  for (const file of files) {\n",
              "    const li = document.createElement('li');\n",
              "    li.append(span(file.name, {fontWeight: 'bold'}));\n",
              "    li.append(span(\n",
              "        `(${file.type || 'n/a'}) - ${file.size} bytes, ` +\n",
              "        `last modified: ${\n",
              "            file.lastModifiedDate ? file.lastModifiedDate.toLocaleDateString() :\n",
              "                                    'n/a'} - `));\n",
              "    const percent = span('0% done');\n",
              "    li.appendChild(percent);\n",
              "\n",
              "    outputElement.appendChild(li);\n",
              "\n",
              "    const fileDataPromise = new Promise((resolve) => {\n",
              "      const reader = new FileReader();\n",
              "      reader.onload = (e) => {\n",
              "        resolve(e.target.result);\n",
              "      };\n",
              "      reader.readAsArrayBuffer(file);\n",
              "    });\n",
              "    // Wait for the data to be ready.\n",
              "    let fileData = yield {\n",
              "      promise: fileDataPromise,\n",
              "      response: {\n",
              "        action: 'continue',\n",
              "      }\n",
              "    };\n",
              "\n",
              "    // Use a chunked sending to avoid message size limits. See b/62115660.\n",
              "    let position = 0;\n",
              "    do {\n",
              "      const length = Math.min(fileData.byteLength - position, MAX_PAYLOAD_SIZE);\n",
              "      const chunk = new Uint8Array(fileData, position, length);\n",
              "      position += length;\n",
              "\n",
              "      const base64 = btoa(String.fromCharCode.apply(null, chunk));\n",
              "      yield {\n",
              "        response: {\n",
              "          action: 'append',\n",
              "          file: file.name,\n",
              "          data: base64,\n",
              "        },\n",
              "      };\n",
              "\n",
              "      let percentDone = fileData.byteLength === 0 ?\n",
              "          100 :\n",
              "          Math.round((position / fileData.byteLength) * 100);\n",
              "      percent.textContent = `${percentDone}% done`;\n",
              "\n",
              "    } while (position < fileData.byteLength);\n",
              "  }\n",
              "\n",
              "  // All done.\n",
              "  yield {\n",
              "    response: {\n",
              "      action: 'complete',\n",
              "    }\n",
              "  };\n",
              "}\n",
              "\n",
              "scope.google = scope.google || {};\n",
              "scope.google.colab = scope.google.colab || {};\n",
              "scope.google.colab._files = {\n",
              "  _uploadFiles,\n",
              "  _uploadFilesContinue,\n",
              "};\n",
              "})(self);\n",
              "</script> "
            ]
          },
          "metadata": {}
        },
        {
          "output_type": "stream",
          "name": "stdout",
          "text": [
            "Saving avaliacoes_pedido.csv to avaliacoes_pedido.csv\n",
            "Saving clientes.csv to clientes.csv\n",
            "Saving itens_pedido.csv to itens_pedido.csv\n",
            "Saving pagamentos_pedido.csv to pagamentos_pedido.csv\n",
            "Saving pedidos.csv to pedidos.csv\n",
            "Saving produtos.csv to produtos.csv\n",
            "Saving vendedores.csv to vendedores.csv\n"
          ]
        }
      ]
    },
    {
      "cell_type": "code",
      "source": [
        "import pyspark\n",
        "from pyspark.sql import SparkSession\n",
        "from pyspark.sql.functions import col, min, max\n",
        "from pyspark.ml.feature import StringIndexer, MinMaxScaler, PCA, VectorAssembler"
      ],
      "metadata": {
        "id": "5NjbiiV3grbX"
      },
      "execution_count": 4,
      "outputs": []
    },
    {
      "cell_type": "code",
      "source": [
        "from google.colab import drive\n",
        "drive.mount('/content/drive')"
      ],
      "metadata": {
        "colab": {
          "base_uri": "https://localhost:8080/"
        },
        "id": "bTOurelHhRRL",
        "outputId": "3e8b8d5d-1353-4154-8688-adae8ab36217"
      },
      "execution_count": 5,
      "outputs": [
        {
          "output_type": "stream",
          "name": "stdout",
          "text": [
            "Mounted at /content/drive\n"
          ]
        }
      ]
    },
    {
      "cell_type": "code",
      "source": [
        "spark = SparkSession.builder.getOrCreate()"
      ],
      "metadata": {
        "id": "HlnGB4ivhmEa"
      },
      "execution_count": 7,
      "outputs": []
    },
    {
      "cell_type": "code",
      "source": [
        "produtos = spark.read.csv('produtos.csv', header=True, inferSchema=True)\n",
        "pagamentos_pedido = spark.read.csv('pagamentos_pedido.csv', header=True, inferSchema=True)"
      ],
      "metadata": {
        "id": "TMULVfnuhrxg"
      },
      "execution_count": 8,
      "outputs": []
    },
    {
      "cell_type": "code",
      "source": [
        "# Valores categóricos\n",
        "indexador = StringIndexer(inputCol='categoria_produto', outputCol='categoria_produto_index')\n",
        "modelo_indexer = indexador.fit(produtos)\n",
        "produtos_indexado_df = modelo_indexer.transform(produtos)\n",
        "\n",
        "\n",
        "produtos_indexado_df.show()\n"
      ],
      "metadata": {
        "colab": {
          "base_uri": "https://localhost:8080/"
        },
        "id": "XC7vIJiCh6ff",
        "outputId": "694350b8-f457-4a53-e5ef-763142987e96"
      },
      "execution_count": 9,
      "outputs": [
        {
          "output_type": "stream",
          "name": "stdout",
          "text": [
            "+--------------------+--------------------+--------------------+-------------------------+------------------------+--------------+----------------------+-----------------+------------------+-----------------------+\n",
            "|          id_produto|   categoria_produto|tamanho_nome_produto|tamanho_descricao_produto|quantidade_fotos_produto|peso_produto_g|comprimento_produto_cm|altura_produto_cm|largura_produto_cm|categoria_produto_index|\n",
            "+--------------------+--------------------+--------------------+-------------------------+------------------------+--------------+----------------------+-----------------+------------------+-----------------------+\n",
            "|1e9e8ef04dbcff454...|          perfumaria|                  40|                      287|                       1|           225|                    16|               10|                14|                   11.0|\n",
            "|3aa071139cb16b67c...|               artes|                  44|                      276|                       1|          1000|                    30|               18|                20|                   48.0|\n",
            "|96bd76ec8810374ed...|       esporte_lazer|                  46|                      250|                       1|           154|                    18|                9|                15|                    1.0|\n",
            "|cef67bcfe19066a93...|               bebes|                  27|                      261|                       1|           371|                    26|                4|                26|                   10.0|\n",
            "|9dc1a7de274444849...|utilidades_domest...|                  37|                      402|                       4|           625|                    20|               17|                13|                    4.0|\n",
            "|41d3672d4792049fa...|instrumentos_musi...|                  60|                      745|                       1|           200|                    38|                5|                11|                   23.0|\n",
            "|732bd381ad09e530f...|          cool_stuff|                  56|                     1272|                       4|         18350|                    70|               24|                44|                   14.0|\n",
            "|2548af3e6e77a690c...|    moveis_decoracao|                  56|                      184|                       2|           900|                    40|                8|                40|                    2.0|\n",
            "|37cc742be07708b53...|    eletrodomesticos|                  57|                      163|                       1|           400|                    27|               13|                17|                   19.0|\n",
            "|8c92109888e8cdf9d...|          brinquedos|                  36|                     1156|                       1|           600|                    17|               10|                12|                    7.0|\n",
            "|14aa47b7fe5c25522...|     cama_mesa_banho|                  54|                      630|                       1|          1100|                    16|               10|                16|                    0.0|\n",
            "|03b63c5fc16691530...|               bebes|                  49|                      728|                       4|          7150|                    50|               19|                45|                   10.0|\n",
            "|cf55509ea8edaaac1...|instrumentos_musi...|                  43|                     1827|                       3|           250|                    17|                7|                17|                   23.0|\n",
            "|7bb6f29c2be577161...|    moveis_decoracao|                  51|                     2083|                       2|           600|                    68|               11|                13|                    2.0|\n",
            "|eb31436580a610f20...|construcao_ferram...|                  59|                     1602|                       4|           200|                    17|                7|                17|                   38.0|\n",
            "|3bb7f144022e67327...|       esporte_lazer|                  22|                     3021|                       1|           800|                    16|                2|                11|                    1.0|\n",
            "|6a2fb4dd53d2cdb88...|          perfumaria|                  39|                      346|                       2|           400|                    27|                5|                20|                   11.0|\n",
            "|a1b71017a84f92fd8...|informatica_acess...|                  59|                      636|                       1|           900|                    40|               15|                20|                    6.0|\n",
            "|a0736b92e52f6cead...|    moveis_decoracao|                  56|                      296|                       2|          1700|                   100|                7|                15|                    2.0|\n",
            "|f53103a77d9cf245e...|     cama_mesa_banho|                  52|                      206|                       1|           500|                    16|               10|                16|                    0.0|\n",
            "+--------------------+--------------------+--------------------+-------------------------+------------------------+--------------+----------------------+-----------------+------------------+-----------------------+\n",
            "only showing top 20 rows\n",
            "\n"
          ]
        }
      ]
    },
    {
      "cell_type": "code",
      "source": [
        "# Normalização manual\n",
        "min_val, max_val = pagamentos_pedido.select(min('valor_pagamento'), max('valor_pagamento')).first()\n",
        "pagamentos_normalizado_df = pagamentos_pedido.withColumn('valor_pagamento_normalizado', (col('valor_pagamento') - min_val) / (max_val - min_val))\n",
        "\n",
        "min_parc, max_parc = pagamentos_normalizado_df.select(min('parcelas_pagamento'), max('parcelas_pagamento')).first()\n",
        "pagamentos_normalizado_df = pagamentos_normalizado_df.withColumn('parcelas_pagamento_normalizado', (col('parcelas_pagamento') - min_parc) / (max_parc - min_parc))\n",
        "pagamentos_normalizado_df.show()\n"
      ],
      "metadata": {
        "colab": {
          "base_uri": "https://localhost:8080/"
        },
        "id": "Lic0LlnVnTd0",
        "outputId": "b724f749-1a26-4b6e-9423-cad044e52fcf"
      },
      "execution_count": 10,
      "outputs": [
        {
          "output_type": "stream",
          "name": "stdout",
          "text": [
            "+--------------------+-------------------+--------------+------------------+---------------+---------------------------+------------------------------+\n",
            "|           id_pedido|sequencia_pagamento|tipo_pagamento|parcelas_pagamento|valor_pagamento|valor_pagamento_normalizado|parcelas_pagamento_normalizado|\n",
            "+--------------------+-------------------+--------------+------------------+---------------+---------------------------+------------------------------+\n",
            "|b81ef226f3fe1789b...|                  1|   credit_card|                 8|          99.33|       0.007269424652080491|            0.3333333333333333|\n",
            "|a9810da82917af2d9...|                  1|   credit_card|                 1|          24.39|       0.001784971984941...|          0.041666666666666664|\n",
            "|25e8ea4e93396b6fa...|                  1|   credit_card|                 1|          65.71|       0.004808958963940492|          0.041666666666666664|\n",
            "|ba78997921bbcdc13...|                  1|   credit_card|                 8|         107.78|        0.00788783438036077|            0.3333333333333333|\n",
            "|42fdf880ba16b47b5...|                  1|   credit_card|                 2|         128.45|        0.00940055971569253|           0.08333333333333333|\n",
            "|298fcdf1f73eb413e...|                  1|   credit_card|                 2|          96.12|       0.007034502139917214|           0.08333333333333333|\n",
            "|771ee386b001f0620...|                  1|   credit_card|                 1|          81.16|        0.00593966077481982|          0.041666666666666664|\n",
            "|3d7239c394a212faa...|                  1|   credit_card|                 3|          51.84|       0.003793888794562093|                         0.125|\n",
            "|1f78449c87a54faf9...|                  1|   credit_card|                 6|         341.09|        0.02496252949338704|                          0.25|\n",
            "|0573b5e23cbd79800...|                  1|        boleto|                 1|          51.95|       0.003801939098717221|          0.041666666666666664|\n",
            "|d88e0d5fa41661ce0...|                  1|   credit_card|                 8|         188.73|       0.013812126392702618|            0.3333333333333333|\n",
            "|2480f727e869fdeb3...|                  1|   credit_card|                 1|          141.9|       0.010384892360114988|          0.041666666666666664|\n",
            "|616105c9352a9668c...|                  1|   credit_card|                 1|          75.78|       0.005545927717050837|          0.041666666666666664|\n",
            "|cf95215a722f3ebf2...|                  1|   credit_card|                 5|         102.66|       0.007513129314231181|           0.20833333333333334|\n",
            "|769214176682788a9...|                  1|   credit_card|                 4|         105.28|       0.007704872922289682|           0.16666666666666666|\n",
            "|12e5cfe0e4716b59a...|                  1|   credit_card|                10|         157.45|       0.011522912629317157|            0.4166666666666667|\n",
            "|61059985a6fc0ad64...|                  1|   credit_card|                 1|         132.04|       0.009663292369482613|          0.041666666666666664|\n",
            "|79da3f5fe31ad1e45...|                  1|   credit_card|                 1|          98.94|       0.007240882664621401|          0.041666666666666664|\n",
            "|8ac09207f415d55ac...|                  1|   credit_card|                 4|         244.15|        0.01786801599522251|           0.16666666666666666|\n",
            "|b2349a3f20dfbeef6...|                  1|   credit_card|                 3|         136.71|       0.010005064373159409|                         0.125|\n",
            "+--------------------+-------------------+--------------+------------------+---------------+---------------------------+------------------------------+\n",
            "only showing top 20 rows\n",
            "\n"
          ]
        }
      ]
    },
    {
      "cell_type": "code",
      "source": [
        "montar_vetor = VectorAssembler(\n",
        "    inputCols=[\"peso_produto_g\", \"comprimento_produto_cm\", \"altura_produto_cm\", \"largura_produto_cm\"],\n",
        "    outputCol=\"caracteristicas\")\n",
        "produtos_caracteristicas_df = montar_vetor.transform(produtos)\n",
        "produtos_caracteristicas_df.show()"
      ],
      "metadata": {
        "colab": {
          "base_uri": "https://localhost:8080/"
        },
        "id": "WUEbeudqqFgO",
        "outputId": "f2af4f1b-794c-4471-e18a-3ecf74ffc9f3"
      },
      "execution_count": 11,
      "outputs": [
        {
          "output_type": "stream",
          "name": "stdout",
          "text": [
            "+--------------------+--------------------+--------------------+-------------------------+------------------------+--------------+----------------------+-----------------+------------------+--------------------+\n",
            "|          id_produto|   categoria_produto|tamanho_nome_produto|tamanho_descricao_produto|quantidade_fotos_produto|peso_produto_g|comprimento_produto_cm|altura_produto_cm|largura_produto_cm|     caracteristicas|\n",
            "+--------------------+--------------------+--------------------+-------------------------+------------------------+--------------+----------------------+-----------------+------------------+--------------------+\n",
            "|1e9e8ef04dbcff454...|          perfumaria|                  40|                      287|                       1|           225|                    16|               10|                14|[225.0,16.0,10.0,...|\n",
            "|3aa071139cb16b67c...|               artes|                  44|                      276|                       1|          1000|                    30|               18|                20|[1000.0,30.0,18.0...|\n",
            "|96bd76ec8810374ed...|       esporte_lazer|                  46|                      250|                       1|           154|                    18|                9|                15|[154.0,18.0,9.0,1...|\n",
            "|cef67bcfe19066a93...|               bebes|                  27|                      261|                       1|           371|                    26|                4|                26|[371.0,26.0,4.0,2...|\n",
            "|9dc1a7de274444849...|utilidades_domest...|                  37|                      402|                       4|           625|                    20|               17|                13|[625.0,20.0,17.0,...|\n",
            "|41d3672d4792049fa...|instrumentos_musi...|                  60|                      745|                       1|           200|                    38|                5|                11|[200.0,38.0,5.0,1...|\n",
            "|732bd381ad09e530f...|          cool_stuff|                  56|                     1272|                       4|         18350|                    70|               24|                44|[18350.0,70.0,24....|\n",
            "|2548af3e6e77a690c...|    moveis_decoracao|                  56|                      184|                       2|           900|                    40|                8|                40|[900.0,40.0,8.0,4...|\n",
            "|37cc742be07708b53...|    eletrodomesticos|                  57|                      163|                       1|           400|                    27|               13|                17|[400.0,27.0,13.0,...|\n",
            "|8c92109888e8cdf9d...|          brinquedos|                  36|                     1156|                       1|           600|                    17|               10|                12|[600.0,17.0,10.0,...|\n",
            "|14aa47b7fe5c25522...|     cama_mesa_banho|                  54|                      630|                       1|          1100|                    16|               10|                16|[1100.0,16.0,10.0...|\n",
            "|03b63c5fc16691530...|               bebes|                  49|                      728|                       4|          7150|                    50|               19|                45|[7150.0,50.0,19.0...|\n",
            "|cf55509ea8edaaac1...|instrumentos_musi...|                  43|                     1827|                       3|           250|                    17|                7|                17|[250.0,17.0,7.0,1...|\n",
            "|7bb6f29c2be577161...|    moveis_decoracao|                  51|                     2083|                       2|           600|                    68|               11|                13|[600.0,68.0,11.0,...|\n",
            "|eb31436580a610f20...|construcao_ferram...|                  59|                     1602|                       4|           200|                    17|                7|                17|[200.0,17.0,7.0,1...|\n",
            "|3bb7f144022e67327...|       esporte_lazer|                  22|                     3021|                       1|           800|                    16|                2|                11|[800.0,16.0,2.0,1...|\n",
            "|6a2fb4dd53d2cdb88...|          perfumaria|                  39|                      346|                       2|           400|                    27|                5|                20|[400.0,27.0,5.0,2...|\n",
            "|a1b71017a84f92fd8...|informatica_acess...|                  59|                      636|                       1|           900|                    40|               15|                20|[900.0,40.0,15.0,...|\n",
            "|a0736b92e52f6cead...|    moveis_decoracao|                  56|                      296|                       2|          1700|                   100|                7|                15|[1700.0,100.0,7.0...|\n",
            "|f53103a77d9cf245e...|     cama_mesa_banho|                  52|                      206|                       1|           500|                    16|               10|                16|[500.0,16.0,10.0,...|\n",
            "+--------------------+--------------------+--------------------+-------------------------+------------------------+--------------+----------------------+-----------------+------------------+--------------------+\n",
            "only showing top 20 rows\n",
            "\n"
          ]
        }
      ]
    },
    {
      "cell_type": "code",
      "source": [
        "from pyspark.ml.feature import Imputer, VectorAssembler, MinMaxScaler\n",
        "\n",
        "# Imputar valores nulos com a média\n",
        "imputer = Imputer(\n",
        "    inputCols=[\"peso_produto_g\", \"comprimento_produto_cm\", \"altura_produto_cm\", \"largura_produto_cm\"],\n",
        "    outputCols=[\"peso_produto_g\", \"comprimento_produto_cm\", \"altura_produto_cm\", \"largura_produto_cm\"]\n",
        ")\n",
        "produtos_imputados = imputer.fit(produtos).transform(produtos)\n",
        "\n",
        "# Montar vetor de características\n",
        "montar_vetor = VectorAssembler(\n",
        "    inputCols=[\"peso_produto_g\", \"comprimento_produto_cm\", \"altura_produto_cm\", \"largura_produto_cm\"],\n",
        "    outputCol=\"caracteristicas\"\n",
        ")\n",
        "produtos_caracteristicas_df = montar_vetor.transform(produtos_imputados)\n",
        "\n",
        "# Normalizar os dados\n",
        "scaler = MinMaxScaler(\n",
        "    inputCol=\"caracteristicas\",\n",
        "    outputCol=\"caracteristicas_normalizado\"\n",
        ")\n",
        "modelo_scaler = scaler.fit(produtos_caracteristicas_df)\n",
        "produtos_caracteristicas_normalizado_df = modelo_scaler.transform(produtos_caracteristicas_df)\n",
        "\n",
        "# Mostrar o resultado\n",
        "produtos_caracteristicas_normalizado_df.show(truncate=False)"
      ],
      "metadata": {
        "colab": {
          "base_uri": "https://localhost:8080/"
        },
        "id": "Y7bTB-YTyBAx",
        "outputId": "adf871db-b39d-487a-bd42-cd76631b2612"
      },
      "execution_count": 16,
      "outputs": [
        {
          "output_type": "stream",
          "name": "stdout",
          "text": [
            "+--------------------------------+--------------------------------+--------------------+-------------------------+------------------------+--------------+----------------------+-----------------+------------------+------------------------+-----------------------------------------------------------------------------------+\n",
            "|id_produto                      |categoria_produto               |tamanho_nome_produto|tamanho_descricao_produto|quantidade_fotos_produto|peso_produto_g|comprimento_produto_cm|altura_produto_cm|largura_produto_cm|caracteristicas         |caracteristicas_normalizado                                                        |\n",
            "+--------------------------------+--------------------------------+--------------------+-------------------------+------------------------+--------------+----------------------+-----------------+------------------+------------------------+-----------------------------------------------------------------------------------+\n",
            "|1e9e8ef04dbcff4541ed26657ea517e5|perfumaria                      |40                  |287                      |1                       |225           |16                    |10               |14                |[225.0,16.0,10.0,14.0]  |[0.005565862708719852,0.09183673469387754,0.07766990291262135,0.07142857142857142] |\n",
            "|3aa071139cb16b67ca9e5dea641aaa2f|artes                           |44                  |276                      |1                       |1000          |30                    |18               |20                |[1000.0,30.0,18.0,20.0] |[0.024737167594310452,0.2346938775510204,0.1553398058252427,0.125]                 |\n",
            "|96bd76ec8810374ed1b65e291975717f|esporte_lazer                   |46                  |250                      |1                       |154           |18                    |9                |15                |[154.0,18.0,9.0,15.0]   |[0.00380952380952381,0.11224489795918366,0.06796116504854369,0.08035714285714285]  |\n",
            "|cef67bcfe19066a932b7673e239eb23d|bebes                           |27                  |261                      |1                       |371           |26                    |4                |26                |[371.0,26.0,4.0,26.0]   |[0.009177489177489178,0.19387755102040816,0.019417475728155338,0.17857142857142855]|\n",
            "|9dc1a7de274444849c219cff195d0b71|utilidades_domesticas           |37                  |402                      |4                       |625           |20                    |17               |13                |[625.0,20.0,17.0,13.0]  |[0.015460729746444033,0.13265306122448978,0.14563106796116504,0.0625]              |\n",
            "|41d3672d4792049fa1779bb35283ed13|instrumentos_musicais           |60                  |745                      |1                       |200           |38                    |5                |11                |[200.0,38.0,5.0,11.0]   |[0.004947433518862091,0.31632653061224486,0.029126213592233007,0.04464285714285714]|\n",
            "|732bd381ad09e530fe0a5f457d81becb|cool_stuff                      |56                  |1272                     |4                       |18350         |70                    |24               |44                |[18350.0,70.0,24.0,44.0]|[0.4539270253555968,0.6428571428571428,0.21359223300970873,0.33928571428571425]    |\n",
            "|2548af3e6e77a690cf3eb6368e9ab61e|moveis_decoracao                |56                  |184                      |2                       |900           |40                    |8                |40                |[900.0,40.0,8.0,40.0]   |[0.02226345083487941,0.336734693877551,0.058252427184466014,0.30357142857142855]   |\n",
            "|37cc742be07708b53a98702e77a21a02|eletrodomesticos                |57                  |163                      |1                       |400           |27                    |13               |17                |[400.0,27.0,13.0,17.0]  |[0.009894867037724181,0.2040816326530612,0.10679611650485436,0.09821428571428571]  |\n",
            "|8c92109888e8cdf9d66dc7e463025574|brinquedos                      |36                  |1156                     |1                       |600           |17                    |10               |12                |[600.0,17.0,10.0,12.0]  |[0.014842300556586271,0.1020408163265306,0.07766990291262135,0.05357142857142857]  |\n",
            "|14aa47b7fe5c25522b47b4b29c98dcb9|cama_mesa_banho                 |54                  |630                      |1                       |1100          |16                    |10               |16                |[1100.0,16.0,10.0,16.0] |[0.0272108843537415,0.09183673469387754,0.07766990291262135,0.08928571428571427]   |\n",
            "|03b63c5fc16691530586ae020c345514|bebes                           |49                  |728                      |4                       |7150          |50                    |19               |45                |[7150.0,50.0,19.0,45.0] |[0.17687074829931973,0.4387755102040816,0.16504854368932037,0.3482142857142857]    |\n",
            "|cf55509ea8edaaac1d28fdb16e48fc22|instrumentos_musicais           |43                  |1827                     |3                       |250           |17                    |7                |17                |[250.0,17.0,7.0,17.0]   |[0.006184291898577613,0.1020408163265306,0.04854368932038834,0.09821428571428571]  |\n",
            "|7bb6f29c2be57716194f96496660c7c2|moveis_decoracao                |51                  |2083                     |2                       |600           |68                    |11               |13                |[600.0,68.0,11.0,13.0]  |[0.014842300556586271,0.6224489795918366,0.08737864077669902,0.0625]               |\n",
            "|eb31436580a610f202c859463d8c7415|construcao_ferramentas_seguranca|59                  |1602                     |4                       |200           |17                    |7                |17                |[200.0,17.0,7.0,17.0]   |[0.004947433518862091,0.1020408163265306,0.04854368932038834,0.09821428571428571]  |\n",
            "|3bb7f144022e6732727d8d838a7b13b3|esporte_lazer                   |22                  |3021                     |1                       |800           |16                    |2                |11                |[800.0,16.0,2.0,11.0]   |[0.019789734075448363,0.09183673469387754,0.0,0.04464285714285714]                 |\n",
            "|6a2fb4dd53d2cdb88e0432f1284a004c|perfumaria                      |39                  |346                      |2                       |400           |27                    |5                |20                |[400.0,27.0,5.0,20.0]   |[0.009894867037724181,0.2040816326530612,0.029126213592233007,0.125]               |\n",
            "|a1b71017a84f92fd8da4aeefba108a24|informatica_acessorios          |59                  |636                      |1                       |900           |40                    |15               |20                |[900.0,40.0,15.0,20.0]  |[0.02226345083487941,0.336734693877551,0.1262135922330097,0.125]                   |\n",
            "|a0736b92e52f6cead290e30b578413b6|moveis_decoracao                |56                  |296                      |2                       |1700          |100                   |7                |15                |[1700.0,100.0,7.0,15.0] |[0.04205318491032777,0.9489795918367346,0.04854368932038834,0.08035714285714285]   |\n",
            "|f53103a77d9cf245e579ea37e5ec51f0|cama_mesa_banho                 |52                  |206                      |1                       |500           |16                    |10               |16                |[500.0,16.0,10.0,16.0]  |[0.012368583797155226,0.09183673469387754,0.07766990291262135,0.08928571428571427] |\n",
            "+--------------------------------+--------------------------------+--------------------+-------------------------+------------------------+--------------+----------------------+-----------------+------------------+------------------------+-----------------------------------------------------------------------------------+\n",
            "only showing top 20 rows\n",
            "\n"
          ]
        }
      ]
    },
    {
      "cell_type": "code",
      "source": [
        "from pyspark.ml.feature import VectorAssembler, MinMaxScaler\n",
        "\n",
        "# Normalizar\n",
        "scaler = MinMaxScaler(inputCol='caracteristicas', outputCol='caracteristicas_normalizado')\n",
        "modelo_scaler = scaler.fit(produtos_caracteristicas_df)\n",
        "\n",
        "produtos_caracteristicas_normalizado_df = modelo_scaler.transform(produtos_caracteristicas_df)\n",
        "produtos_caracteristicas_normalizado_df.show(truncate=False)"
      ],
      "metadata": {
        "colab": {
          "base_uri": "https://localhost:8080/"
        },
        "collapsed": true,
        "id": "C0_EbwthsdDp",
        "outputId": "bd33815a-1b8e-4041-f490-b9ac1f77748c"
      },
      "execution_count": 17,
      "outputs": [
        {
          "output_type": "stream",
          "name": "stdout",
          "text": [
            "+--------------------------------+--------------------------------+--------------------+-------------------------+------------------------+--------------+----------------------+-----------------+------------------+------------------------+-----------------------------------------------------------------------------------+\n",
            "|id_produto                      |categoria_produto               |tamanho_nome_produto|tamanho_descricao_produto|quantidade_fotos_produto|peso_produto_g|comprimento_produto_cm|altura_produto_cm|largura_produto_cm|caracteristicas         |caracteristicas_normalizado                                                        |\n",
            "+--------------------------------+--------------------------------+--------------------+-------------------------+------------------------+--------------+----------------------+-----------------+------------------+------------------------+-----------------------------------------------------------------------------------+\n",
            "|1e9e8ef04dbcff4541ed26657ea517e5|perfumaria                      |40                  |287                      |1                       |225           |16                    |10               |14                |[225.0,16.0,10.0,14.0]  |[0.005565862708719852,0.09183673469387754,0.07766990291262135,0.07142857142857142] |\n",
            "|3aa071139cb16b67ca9e5dea641aaa2f|artes                           |44                  |276                      |1                       |1000          |30                    |18               |20                |[1000.0,30.0,18.0,20.0] |[0.024737167594310452,0.2346938775510204,0.1553398058252427,0.125]                 |\n",
            "|96bd76ec8810374ed1b65e291975717f|esporte_lazer                   |46                  |250                      |1                       |154           |18                    |9                |15                |[154.0,18.0,9.0,15.0]   |[0.00380952380952381,0.11224489795918366,0.06796116504854369,0.08035714285714285]  |\n",
            "|cef67bcfe19066a932b7673e239eb23d|bebes                           |27                  |261                      |1                       |371           |26                    |4                |26                |[371.0,26.0,4.0,26.0]   |[0.009177489177489178,0.19387755102040816,0.019417475728155338,0.17857142857142855]|\n",
            "|9dc1a7de274444849c219cff195d0b71|utilidades_domesticas           |37                  |402                      |4                       |625           |20                    |17               |13                |[625.0,20.0,17.0,13.0]  |[0.015460729746444033,0.13265306122448978,0.14563106796116504,0.0625]              |\n",
            "|41d3672d4792049fa1779bb35283ed13|instrumentos_musicais           |60                  |745                      |1                       |200           |38                    |5                |11                |[200.0,38.0,5.0,11.0]   |[0.004947433518862091,0.31632653061224486,0.029126213592233007,0.04464285714285714]|\n",
            "|732bd381ad09e530fe0a5f457d81becb|cool_stuff                      |56                  |1272                     |4                       |18350         |70                    |24               |44                |[18350.0,70.0,24.0,44.0]|[0.4539270253555968,0.6428571428571428,0.21359223300970873,0.33928571428571425]    |\n",
            "|2548af3e6e77a690cf3eb6368e9ab61e|moveis_decoracao                |56                  |184                      |2                       |900           |40                    |8                |40                |[900.0,40.0,8.0,40.0]   |[0.02226345083487941,0.336734693877551,0.058252427184466014,0.30357142857142855]   |\n",
            "|37cc742be07708b53a98702e77a21a02|eletrodomesticos                |57                  |163                      |1                       |400           |27                    |13               |17                |[400.0,27.0,13.0,17.0]  |[0.009894867037724181,0.2040816326530612,0.10679611650485436,0.09821428571428571]  |\n",
            "|8c92109888e8cdf9d66dc7e463025574|brinquedos                      |36                  |1156                     |1                       |600           |17                    |10               |12                |[600.0,17.0,10.0,12.0]  |[0.014842300556586271,0.1020408163265306,0.07766990291262135,0.05357142857142857]  |\n",
            "|14aa47b7fe5c25522b47b4b29c98dcb9|cama_mesa_banho                 |54                  |630                      |1                       |1100          |16                    |10               |16                |[1100.0,16.0,10.0,16.0] |[0.0272108843537415,0.09183673469387754,0.07766990291262135,0.08928571428571427]   |\n",
            "|03b63c5fc16691530586ae020c345514|bebes                           |49                  |728                      |4                       |7150          |50                    |19               |45                |[7150.0,50.0,19.0,45.0] |[0.17687074829931973,0.4387755102040816,0.16504854368932037,0.3482142857142857]    |\n",
            "|cf55509ea8edaaac1d28fdb16e48fc22|instrumentos_musicais           |43                  |1827                     |3                       |250           |17                    |7                |17                |[250.0,17.0,7.0,17.0]   |[0.006184291898577613,0.1020408163265306,0.04854368932038834,0.09821428571428571]  |\n",
            "|7bb6f29c2be57716194f96496660c7c2|moveis_decoracao                |51                  |2083                     |2                       |600           |68                    |11               |13                |[600.0,68.0,11.0,13.0]  |[0.014842300556586271,0.6224489795918366,0.08737864077669902,0.0625]               |\n",
            "|eb31436580a610f202c859463d8c7415|construcao_ferramentas_seguranca|59                  |1602                     |4                       |200           |17                    |7                |17                |[200.0,17.0,7.0,17.0]   |[0.004947433518862091,0.1020408163265306,0.04854368932038834,0.09821428571428571]  |\n",
            "|3bb7f144022e6732727d8d838a7b13b3|esporte_lazer                   |22                  |3021                     |1                       |800           |16                    |2                |11                |[800.0,16.0,2.0,11.0]   |[0.019789734075448363,0.09183673469387754,0.0,0.04464285714285714]                 |\n",
            "|6a2fb4dd53d2cdb88e0432f1284a004c|perfumaria                      |39                  |346                      |2                       |400           |27                    |5                |20                |[400.0,27.0,5.0,20.0]   |[0.009894867037724181,0.2040816326530612,0.029126213592233007,0.125]               |\n",
            "|a1b71017a84f92fd8da4aeefba108a24|informatica_acessorios          |59                  |636                      |1                       |900           |40                    |15               |20                |[900.0,40.0,15.0,20.0]  |[0.02226345083487941,0.336734693877551,0.1262135922330097,0.125]                   |\n",
            "|a0736b92e52f6cead290e30b578413b6|moveis_decoracao                |56                  |296                      |2                       |1700          |100                   |7                |15                |[1700.0,100.0,7.0,15.0] |[0.04205318491032777,0.9489795918367346,0.04854368932038834,0.08035714285714285]   |\n",
            "|f53103a77d9cf245e579ea37e5ec51f0|cama_mesa_banho                 |52                  |206                      |1                       |500           |16                    |10               |16                |[500.0,16.0,10.0,16.0]  |[0.012368583797155226,0.09183673469387754,0.07766990291262135,0.08928571428571427] |\n",
            "+--------------------------------+--------------------------------+--------------------+-------------------------+------------------------+--------------+----------------------+-----------------+------------------+------------------------+-----------------------------------------------------------------------------------+\n",
            "only showing top 20 rows\n",
            "\n"
          ]
        }
      ]
    },
    {
      "cell_type": "code",
      "source": [
        "# Reduzir dimensionalidade\n",
        "pca = PCA(k=2, inputCol='caracteristicas_normalizado', outputCol='caracteristicas_pca')\n",
        "modelo_pca = pca.fit(produtos_caracteristicas_normalizado_df)\n",
        "produtos_caracteristicas_reduzido_df = modelo_pca.transform(produtos_caracteristicas_normalizado_df)\n",
        "\n",
        "\n",
        "produtos_caracteristicas_reduzido_df.show(truncate=False)"
      ],
      "metadata": {
        "colab": {
          "base_uri": "https://localhost:8080/"
        },
        "id": "wbDx7lFFzwI5",
        "outputId": "9a0a354e-ec7d-4d2f-f832-22d5a11b051c"
      },
      "execution_count": 18,
      "outputs": [
        {
          "output_type": "stream",
          "name": "stdout",
          "text": [
            "+--------------------------------+--------------------------------+--------------------+-------------------------+------------------------+--------------+----------------------+-----------------+------------------+------------------------+-----------------------------------------------------------------------------------+--------------------------------------------+\n",
            "|id_produto                      |categoria_produto               |tamanho_nome_produto|tamanho_descricao_produto|quantidade_fotos_produto|peso_produto_g|comprimento_produto_cm|altura_produto_cm|largura_produto_cm|caracteristicas         |caracteristicas_normalizado                                                        |caracteristicas_pca                         |\n",
            "+--------------------------------+--------------------------------+--------------------+-------------------------+------------------------+--------------+----------------------+-----------------+------------------+------------------------+-----------------------------------------------------------------------------------+--------------------------------------------+\n",
            "|1e9e8ef04dbcff4541ed26657ea517e5|perfumaria                      |40                  |287                      |1                       |225           |16                    |10               |14                |[225.0,16.0,10.0,14.0]  |[0.005565862708719852,0.09183673469387754,0.07766990291262135,0.07142857142857142] |[-0.12675398573692345,0.016636376496695124] |\n",
            "|3aa071139cb16b67ca9e5dea641aaa2f|artes                           |44                  |276                      |1                       |1000          |30                    |18               |20                |[1000.0,30.0,18.0,20.0] |[0.024737167594310452,0.2346938775510204,0.1553398058252427,0.125]                 |[-0.29066996101360276,0.010367003265435576] |\n",
            "|96bd76ec8810374ed1b65e291975717f|esporte_lazer                   |46                  |250                      |1                       |154           |18                    |9                |15                |[154.0,18.0,9.0,15.0]   |[0.00380952380952381,0.11224489795918366,0.06796116504854369,0.08035714285714285]  |[-0.14167471121939784,-0.002201187014421485]|\n",
            "|cef67bcfe19066a932b7673e239eb23d|bebes                           |27                  |261                      |1                       |371           |26                    |4                |26                |[371.0,26.0,4.0,26.0]   |[0.009177489177489178,0.19387755102040816,0.019417475728155338,0.17857142857142855]|[-0.22697991766768943,-0.08083407088986719] |\n",
            "|9dc1a7de274444849c219cff195d0b71|utilidades_domesticas           |37                  |402                      |4                       |625           |20                    |17               |13                |[625.0,20.0,17.0,13.0]  |[0.015460729746444033,0.13265306122448978,0.14563106796116504,0.0625]              |[-0.1818599365876412,0.05242085514161533]   |\n",
            "|41d3672d4792049fa1779bb35283ed13|instrumentos_musicais           |60                  |745                      |1                       |200           |38                    |5                |11                |[200.0,38.0,5.0,11.0]   |[0.004947433518862091,0.31632653061224486,0.029126213592233007,0.04464285714285714]|[-0.27000143615203853,-0.14012909154411574] |\n",
            "|732bd381ad09e530fe0a5f457d81becb|cool_stuff                      |56                  |1272                     |4                       |18350         |70                    |24               |44                |[18350.0,70.0,24.0,44.0]|[0.4539270253555968,0.6428571428571428,0.21359223300970873,0.33928571428571425]    |[-0.8705832976946233,-0.027063155475989586] |\n",
            "|2548af3e6e77a690cf3eb6368e9ab61e|moveis_decoracao                |56                  |184                      |2                       |900           |40                    |8                |40                |[900.0,40.0,8.0,40.0]   |[0.02226345083487941,0.336734693877551,0.058252427184466014,0.30357142857142855]   |[-0.4026748943446591,-0.1190077781178911]   |\n",
            "|37cc742be07708b53a98702e77a21a02|eletrodomesticos                |57                  |163                      |1                       |400           |27                    |13               |17                |[400.0,27.0,13.0,17.0]  |[0.009894867037724181,0.2040816326530612,0.10679611650485436,0.09821428571428571]  |[-0.23434496942872224,-0.017161171712363282]|\n",
            "|8c92109888e8cdf9d66dc7e463025574|brinquedos                      |36                  |1156                     |1                       |600           |17                    |10               |12                |[600.0,17.0,10.0,12.0]  |[0.014842300556586271,0.1020408163265306,0.07766990291262135,0.05357142857142857]  |[-0.131189782446092,0.013802556538806618]   |\n",
            "|14aa47b7fe5c25522b47b4b29c98dcb9|cama_mesa_banho                 |54                  |630                      |1                       |1100          |16                    |10               |16                |[1100.0,16.0,10.0,16.0] |[0.0272108843537415,0.09183673469387754,0.07766990291262135,0.08928571428571427]   |[-0.14204779501729065,0.023259831795428496] |\n",
            "|03b63c5fc16691530586ae020c345514|bebes                           |49                  |728                      |4                       |7150          |50                    |19               |45                |[7150.0,50.0,19.0,45.0] |[0.17687074829931973,0.4387755102040816,0.16504854368932037,0.3482142857142857]    |[-0.594646945549975,-0.04078351742007996]   |\n",
            "|cf55509ea8edaaac1d28fdb16e48fc22|instrumentos_musicais           |43                  |1827                     |3                       |250           |17                    |7                |17                |[250.0,17.0,7.0,17.0]   |[0.006184291898577613,0.1020408163265306,0.04854368932038834,0.09821428571428571]  |[-0.13498112613419763,-0.011451372250973285]|\n",
            "|7bb6f29c2be57716194f96496660c7c2|moveis_decoracao                |51                  |2083                     |2                       |600           |68                    |11               |13                |[600.0,68.0,11.0,13.0]  |[0.014842300556586271,0.6224489795918366,0.08737864077669902,0.0625]               |[-0.5339297737728547,-0.25052756262967696]  |\n",
            "|eb31436580a610f202c859463d8c7415|construcao_ferramentas_seguranca|59                  |1602                     |4                       |200           |17                    |7                |17                |[200.0,17.0,7.0,17.0]   |[0.004947433518862091,0.1020408163265306,0.04854368932038834,0.09821428571428571]  |[-0.1345024501639639,-0.01181645485339241]  |\n",
            "|3bb7f144022e6732727d8d838a7b13b3|esporte_lazer                   |22                  |3021                     |1                       |800           |16                    |2                |11                |[800.0,16.0,2.0,11.0]   |[0.019789734075448363,0.09183673469387754,0.0,0.04464285714285714]                 |[-0.0948156256301625,-0.04160927144699682]  |\n",
            "|6a2fb4dd53d2cdb88e0432f1284a004c|perfumaria                      |39                  |346                      |2                       |400           |27                    |5                |20                |[400.0,27.0,5.0,20.0]   |[0.009894867037724181,0.2040816326530612,0.029126213592233007,0.125]               |[-0.21765277506810365,-0.07890174031467914] |\n",
            "|a1b71017a84f92fd8da4aeefba108a24|informatica_acessorios          |59                  |636                      |1                       |900           |40                    |15               |20                |[900.0,40.0,15.0,20.0]  |[0.02226345083487941,0.336734693877551,0.1262135922330097,0.125]                   |[-0.35718930238660823,-0.06702208409957816] |\n",
            "|a0736b92e52f6cead290e30b578413b6|moveis_decoracao                |56                  |296                      |2                       |1700          |100                   |7                |15                |[1700.0,100.0,7.0,15.0] |[0.04205318491032777,0.9489795918367346,0.04854368932038834,0.08035714285714285]   |[-0.7862504083661606,-0.44410515326677946]  |\n",
            "|f53103a77d9cf245e579ea37e5ec51f0|cama_mesa_banho                 |52                  |206                      |1                       |500           |16                    |10               |16                |[500.0,16.0,10.0,16.0]  |[0.012368583797155226,0.09183673469387754,0.07766990291262135,0.08928571428571427] |[-0.13630368337448578,0.01887884056639899]  |\n",
            "+--------------------------------+--------------------------------+--------------------+-------------------------+------------------------+--------------+----------------------+-----------------+------------------+------------------------+-----------------------------------------------------------------------------------+--------------------------------------------+\n",
            "only showing top 20 rows\n",
            "\n"
          ]
        }
      ]
    },
    {
      "cell_type": "code",
      "source": [
        "produtos_caracteristicas_reduzido_df.write.mode('overwrite').parquet('produtos_caracteristicas_reduzido.parquet')\n",
        "\n",
        "df = spark.read.option('header', 'true').parquet('produtos_caracteristicas_reduzido.parquet')\n",
        "df.show(5)\n",
        "df.printSchema()"
      ],
      "metadata": {
        "colab": {
          "base_uri": "https://localhost:8080/"
        },
        "collapsed": true,
        "id": "iuU5FOwc0SpU",
        "outputId": "4bb37b4c-55e0-42ae-b9d7-a8f65118a05b"
      },
      "execution_count": 19,
      "outputs": [
        {
          "output_type": "stream",
          "name": "stdout",
          "text": [
            "+--------------------+--------------------+--------------------+-------------------------+------------------------+--------------+----------------------+-----------------+------------------+--------------------+---------------------------+--------------------+\n",
            "|          id_produto|   categoria_produto|tamanho_nome_produto|tamanho_descricao_produto|quantidade_fotos_produto|peso_produto_g|comprimento_produto_cm|altura_produto_cm|largura_produto_cm|     caracteristicas|caracteristicas_normalizado| caracteristicas_pca|\n",
            "+--------------------+--------------------+--------------------+-------------------------+------------------------+--------------+----------------------+-----------------+------------------+--------------------+---------------------------+--------------------+\n",
            "|1e9e8ef04dbcff454...|          perfumaria|                  40|                      287|                       1|           225|                    16|               10|                14|[225.0,16.0,10.0,...|       [0.00556586270871...|[-0.1267539857369...|\n",
            "|3aa071139cb16b67c...|               artes|                  44|                      276|                       1|          1000|                    30|               18|                20|[1000.0,30.0,18.0...|       [0.02473716759431...|[-0.2906699610136...|\n",
            "|96bd76ec8810374ed...|       esporte_lazer|                  46|                      250|                       1|           154|                    18|                9|                15|[154.0,18.0,9.0,1...|       [0.00380952380952...|[-0.1416747112193...|\n",
            "|cef67bcfe19066a93...|               bebes|                  27|                      261|                       1|           371|                    26|                4|                26|[371.0,26.0,4.0,2...|       [0.00917748917748...|[-0.2269799176676...|\n",
            "|9dc1a7de274444849...|utilidades_domest...|                  37|                      402|                       4|           625|                    20|               17|                13|[625.0,20.0,17.0,...|       [0.01546072974644...|[-0.1818599365876...|\n",
            "+--------------------+--------------------+--------------------+-------------------------+------------------------+--------------+----------------------+-----------------+------------------+--------------------+---------------------------+--------------------+\n",
            "only showing top 5 rows\n",
            "\n",
            "root\n",
            " |-- id_produto: string (nullable = true)\n",
            " |-- categoria_produto: string (nullable = true)\n",
            " |-- tamanho_nome_produto: integer (nullable = true)\n",
            " |-- tamanho_descricao_produto: integer (nullable = true)\n",
            " |-- quantidade_fotos_produto: integer (nullable = true)\n",
            " |-- peso_produto_g: integer (nullable = true)\n",
            " |-- comprimento_produto_cm: integer (nullable = true)\n",
            " |-- altura_produto_cm: integer (nullable = true)\n",
            " |-- largura_produto_cm: integer (nullable = true)\n",
            " |-- caracteristicas: vector (nullable = true)\n",
            " |-- caracteristicas_normalizado: vector (nullable = true)\n",
            " |-- caracteristicas_pca: vector (nullable = true)\n",
            "\n"
          ]
        }
      ]
    },
    {
      "cell_type": "code",
      "source": [
        "produtos_caracteristicas_reduzido_df.write.mode('overwrite').parquet('drive/MyDrive/Colab Notebooks/spark/produtos_caracteristicas_reduzido.parquet')\n",
        "\n",
        "df = spark.read.option('header', 'true').parquet('produtos_caracteristicas_reduzido.parquet')\n",
        "df.show(5)\n",
        "df.printSchema()"
      ],
      "metadata": {
        "colab": {
          "base_uri": "https://localhost:8080/",
          "height": 1000
        },
        "collapsed": true,
        "id": "IRnaOxpr5H3M",
        "outputId": "cc16859b-bfaa-49e5-dc5f-e13f644d96ea"
      },
      "execution_count": 25,
      "outputs": [
        {
          "output_type": "error",
          "ename": "Py4JJavaError",
          "evalue": "An error occurred while calling o641.parquet.\n: java.util.NoSuchElementException: None.get\n\tat scala.None$.get(Option.scala:529)\n\tat scala.None$.get(Option.scala:527)\n\tat org.apache.spark.sql.execution.datasources.BasicWriteJobStatsTracker$.metrics(BasicWriteStatsTracker.scala:239)\n\tat org.apache.spark.sql.execution.command.DataWritingCommand.metrics(DataWritingCommand.scala:55)\n\tat org.apache.spark.sql.execution.command.DataWritingCommand.metrics$(DataWritingCommand.scala:55)\n\tat org.apache.spark.sql.execution.datasources.InsertIntoHadoopFsRelationCommand.metrics$lzycompute(InsertIntoHadoopFsRelationCommand.scala:47)\n\tat org.apache.spark.sql.execution.datasources.InsertIntoHadoopFsRelationCommand.metrics(InsertIntoHadoopFsRelationCommand.scala:47)\n\tat org.apache.spark.sql.execution.command.DataWritingCommandExec.metrics$lzycompute(commands.scala:109)\n\tat org.apache.spark.sql.execution.command.DataWritingCommandExec.metrics(commands.scala:109)\n\tat org.apache.spark.sql.execution.SparkPlanInfo$.fromSparkPlan(SparkPlanInfo.scala:63)\n\tat org.apache.spark.sql.execution.SQLExecution$.$anonfun$withNewExecutionId$6(SQLExecution.scala:120)\n\tat org.apache.spark.sql.execution.SQLExecution$.withSQLConfPropagated(SQLExecution.scala:201)\n\tat org.apache.spark.sql.execution.SQLExecution$.$anonfun$withNewExecutionId$1(SQLExecution.scala:108)\n\tat org.apache.spark.sql.SparkSession.withActive(SparkSession.scala:900)\n\tat org.apache.spark.sql.execution.SQLExecution$.withNewExecutionId(SQLExecution.scala:66)\n\tat org.apache.spark.sql.execution.QueryExecution$$anonfun$eagerlyExecuteCommands$1.applyOrElse(QueryExecution.scala:107)\n\tat org.apache.spark.sql.execution.QueryExecution$$anonfun$eagerlyExecuteCommands$1.applyOrElse(QueryExecution.scala:98)\n\tat org.apache.spark.sql.catalyst.trees.TreeNode.$anonfun$transformDownWithPruning$1(TreeNode.scala:461)\n\tat org.apache.spark.sql.catalyst.trees.CurrentOrigin$.withOrigin(origin.scala:76)\n\tat org.apache.spark.sql.catalyst.trees.TreeNode.transformDownWithPruning(TreeNode.scala:461)\n\tat org.apache.spark.sql.catalyst.plans.logical.LogicalPlan.org$apache$spark$sql$catalyst$plans$logical$AnalysisHelper$$super$transformDownWithPruning(LogicalPlan.scala:32)\n\tat org.apache.spark.sql.catalyst.plans.logical.AnalysisHelper.transformDownWithPruning(AnalysisHelper.scala:267)\n\tat org.apache.spark.sql.catalyst.plans.logical.AnalysisHelper.transformDownWithPruning$(AnalysisHelper.scala:263)\n\tat org.apache.spark.sql.catalyst.plans.logical.LogicalPlan.transformDownWithPruning(LogicalPlan.scala:32)\n\tat org.apache.spark.sql.catalyst.plans.logical.LogicalPlan.transformDownWithPruning(LogicalPlan.scala:32)\n\tat org.apache.spark.sql.catalyst.trees.TreeNode.transformDown(TreeNode.scala:437)\n\tat org.apache.spark.sql.execution.QueryExecution.eagerlyExecuteCommands(QueryExecution.scala:98)\n\tat org.apache.spark.sql.execution.QueryExecution.commandExecuted$lzycompute(QueryExecution.scala:85)\n\tat org.apache.spark.sql.execution.QueryExecution.commandExecuted(QueryExecution.scala:83)\n\tat org.apache.spark.sql.execution.QueryExecution.assertCommandExecuted(QueryExecution.scala:142)\n\tat org.apache.spark.sql.DataFrameWriter.runCommand(DataFrameWriter.scala:869)\n\tat org.apache.spark.sql.DataFrameWriter.saveToV1Source(DataFrameWriter.scala:391)\n\tat org.apache.spark.sql.DataFrameWriter.saveInternal(DataFrameWriter.scala:364)\n\tat org.apache.spark.sql.DataFrameWriter.save(DataFrameWriter.scala:243)\n\tat org.apache.spark.sql.DataFrameWriter.parquet(DataFrameWriter.scala:802)\n\tat java.base/jdk.internal.reflect.NativeMethodAccessorImpl.invoke0(Native Method)\n\tat java.base/jdk.internal.reflect.NativeMethodAccessorImpl.invoke(NativeMethodAccessorImpl.java:62)\n\tat java.base/jdk.internal.reflect.DelegatingMethodAccessorImpl.invoke(DelegatingMethodAccessorImpl.java:43)\n\tat java.base/java.lang.reflect.Method.invoke(Method.java:566)\n\tat py4j.reflection.MethodInvoker.invoke(MethodInvoker.java:244)\n\tat py4j.reflection.ReflectionEngine.invoke(ReflectionEngine.java:374)\n\tat py4j.Gateway.invoke(Gateway.java:282)\n\tat py4j.commands.AbstractCommand.invokeMethod(AbstractCommand.java:132)\n\tat py4j.commands.CallCommand.execute(CallCommand.java:79)\n\tat py4j.ClientServerConnection.waitForCommands(ClientServerConnection.java:182)\n\tat py4j.ClientServerConnection.run(ClientServerConnection.java:106)\n\tat java.base/java.lang.Thread.run(Thread.java:829)\n",
          "traceback": [
            "\u001b[0;31m---------------------------------------------------------------------------\u001b[0m",
            "\u001b[0;31mPy4JJavaError\u001b[0m                             Traceback (most recent call last)",
            "\u001b[0;32m<ipython-input-25-df0ca99f5715>\u001b[0m in \u001b[0;36m<cell line: 0>\u001b[0;34m()\u001b[0m\n\u001b[0;32m----> 1\u001b[0;31m \u001b[0mprodutos_caracteristicas_reduzido_df\u001b[0m\u001b[0;34m.\u001b[0m\u001b[0mwrite\u001b[0m\u001b[0;34m.\u001b[0m\u001b[0mmode\u001b[0m\u001b[0;34m(\u001b[0m\u001b[0;34m'overwrite'\u001b[0m\u001b[0;34m)\u001b[0m\u001b[0;34m.\u001b[0m\u001b[0mparquet\u001b[0m\u001b[0;34m(\u001b[0m\u001b[0;34m'drive/MyDrive/Colab Notebooks/spark/produtos_caracteristicas_reduzido.parquet'\u001b[0m\u001b[0;34m)\u001b[0m\u001b[0;34m\u001b[0m\u001b[0;34m\u001b[0m\u001b[0m\n\u001b[0m\u001b[1;32m      2\u001b[0m \u001b[0;34m\u001b[0m\u001b[0m\n\u001b[1;32m      3\u001b[0m \u001b[0mdf\u001b[0m \u001b[0;34m=\u001b[0m \u001b[0mspark\u001b[0m\u001b[0;34m.\u001b[0m\u001b[0mread\u001b[0m\u001b[0;34m.\u001b[0m\u001b[0moption\u001b[0m\u001b[0;34m(\u001b[0m\u001b[0;34m'header'\u001b[0m\u001b[0;34m,\u001b[0m \u001b[0;34m'true'\u001b[0m\u001b[0;34m)\u001b[0m\u001b[0;34m.\u001b[0m\u001b[0mparquet\u001b[0m\u001b[0;34m(\u001b[0m\u001b[0;34m'produtos_caracteristicas_reduzido.parquet'\u001b[0m\u001b[0;34m)\u001b[0m\u001b[0;34m\u001b[0m\u001b[0;34m\u001b[0m\u001b[0m\n\u001b[1;32m      4\u001b[0m \u001b[0mdf\u001b[0m\u001b[0;34m.\u001b[0m\u001b[0mshow\u001b[0m\u001b[0;34m(\u001b[0m\u001b[0;36m5\u001b[0m\u001b[0;34m)\u001b[0m\u001b[0;34m\u001b[0m\u001b[0;34m\u001b[0m\u001b[0m\n\u001b[1;32m      5\u001b[0m \u001b[0mdf\u001b[0m\u001b[0;34m.\u001b[0m\u001b[0mprintSchema\u001b[0m\u001b[0;34m(\u001b[0m\u001b[0;34m)\u001b[0m\u001b[0;34m\u001b[0m\u001b[0;34m\u001b[0m\u001b[0m\n",
            "\u001b[0;32m/usr/local/lib/python3.11/dist-packages/pyspark/sql/readwriter.py\u001b[0m in \u001b[0;36mparquet\u001b[0;34m(self, path, mode, partitionBy, compression)\u001b[0m\n\u001b[1;32m   1719\u001b[0m             \u001b[0mself\u001b[0m\u001b[0;34m.\u001b[0m\u001b[0mpartitionBy\u001b[0m\u001b[0;34m(\u001b[0m\u001b[0mpartitionBy\u001b[0m\u001b[0;34m)\u001b[0m\u001b[0;34m\u001b[0m\u001b[0;34m\u001b[0m\u001b[0m\n\u001b[1;32m   1720\u001b[0m         \u001b[0mself\u001b[0m\u001b[0;34m.\u001b[0m\u001b[0m_set_opts\u001b[0m\u001b[0;34m(\u001b[0m\u001b[0mcompression\u001b[0m\u001b[0;34m=\u001b[0m\u001b[0mcompression\u001b[0m\u001b[0;34m)\u001b[0m\u001b[0;34m\u001b[0m\u001b[0;34m\u001b[0m\u001b[0m\n\u001b[0;32m-> 1721\u001b[0;31m         \u001b[0mself\u001b[0m\u001b[0;34m.\u001b[0m\u001b[0m_jwrite\u001b[0m\u001b[0;34m.\u001b[0m\u001b[0mparquet\u001b[0m\u001b[0;34m(\u001b[0m\u001b[0mpath\u001b[0m\u001b[0;34m)\u001b[0m\u001b[0;34m\u001b[0m\u001b[0;34m\u001b[0m\u001b[0m\n\u001b[0m\u001b[1;32m   1722\u001b[0m \u001b[0;34m\u001b[0m\u001b[0m\n\u001b[1;32m   1723\u001b[0m     def text(\n",
            "\u001b[0;32m/usr/local/lib/python3.11/dist-packages/py4j/java_gateway.py\u001b[0m in \u001b[0;36m__call__\u001b[0;34m(self, *args)\u001b[0m\n\u001b[1;32m   1320\u001b[0m \u001b[0;34m\u001b[0m\u001b[0m\n\u001b[1;32m   1321\u001b[0m         \u001b[0manswer\u001b[0m \u001b[0;34m=\u001b[0m \u001b[0mself\u001b[0m\u001b[0;34m.\u001b[0m\u001b[0mgateway_client\u001b[0m\u001b[0;34m.\u001b[0m\u001b[0msend_command\u001b[0m\u001b[0;34m(\u001b[0m\u001b[0mcommand\u001b[0m\u001b[0;34m)\u001b[0m\u001b[0;34m\u001b[0m\u001b[0;34m\u001b[0m\u001b[0m\n\u001b[0;32m-> 1322\u001b[0;31m         return_value = get_return_value(\n\u001b[0m\u001b[1;32m   1323\u001b[0m             answer, self.gateway_client, self.target_id, self.name)\n\u001b[1;32m   1324\u001b[0m \u001b[0;34m\u001b[0m\u001b[0m\n",
            "\u001b[0;32m/usr/local/lib/python3.11/dist-packages/pyspark/errors/exceptions/captured.py\u001b[0m in \u001b[0;36mdeco\u001b[0;34m(*a, **kw)\u001b[0m\n\u001b[1;32m    177\u001b[0m     \u001b[0;32mdef\u001b[0m \u001b[0mdeco\u001b[0m\u001b[0;34m(\u001b[0m\u001b[0;34m*\u001b[0m\u001b[0ma\u001b[0m\u001b[0;34m:\u001b[0m \u001b[0mAny\u001b[0m\u001b[0;34m,\u001b[0m \u001b[0;34m**\u001b[0m\u001b[0mkw\u001b[0m\u001b[0;34m:\u001b[0m \u001b[0mAny\u001b[0m\u001b[0;34m)\u001b[0m \u001b[0;34m->\u001b[0m \u001b[0mAny\u001b[0m\u001b[0;34m:\u001b[0m\u001b[0;34m\u001b[0m\u001b[0;34m\u001b[0m\u001b[0m\n\u001b[1;32m    178\u001b[0m         \u001b[0;32mtry\u001b[0m\u001b[0;34m:\u001b[0m\u001b[0;34m\u001b[0m\u001b[0;34m\u001b[0m\u001b[0m\n\u001b[0;32m--> 179\u001b[0;31m             \u001b[0;32mreturn\u001b[0m \u001b[0mf\u001b[0m\u001b[0;34m(\u001b[0m\u001b[0;34m*\u001b[0m\u001b[0ma\u001b[0m\u001b[0;34m,\u001b[0m \u001b[0;34m**\u001b[0m\u001b[0mkw\u001b[0m\u001b[0;34m)\u001b[0m\u001b[0;34m\u001b[0m\u001b[0;34m\u001b[0m\u001b[0m\n\u001b[0m\u001b[1;32m    180\u001b[0m         \u001b[0;32mexcept\u001b[0m \u001b[0mPy4JJavaError\u001b[0m \u001b[0;32mas\u001b[0m \u001b[0me\u001b[0m\u001b[0;34m:\u001b[0m\u001b[0;34m\u001b[0m\u001b[0;34m\u001b[0m\u001b[0m\n\u001b[1;32m    181\u001b[0m             \u001b[0mconverted\u001b[0m \u001b[0;34m=\u001b[0m \u001b[0mconvert_exception\u001b[0m\u001b[0;34m(\u001b[0m\u001b[0me\u001b[0m\u001b[0;34m.\u001b[0m\u001b[0mjava_exception\u001b[0m\u001b[0;34m)\u001b[0m\u001b[0;34m\u001b[0m\u001b[0;34m\u001b[0m\u001b[0m\n",
            "\u001b[0;32m/usr/local/lib/python3.11/dist-packages/py4j/protocol.py\u001b[0m in \u001b[0;36mget_return_value\u001b[0;34m(answer, gateway_client, target_id, name)\u001b[0m\n\u001b[1;32m    324\u001b[0m             \u001b[0mvalue\u001b[0m \u001b[0;34m=\u001b[0m \u001b[0mOUTPUT_CONVERTER\u001b[0m\u001b[0;34m[\u001b[0m\u001b[0mtype\u001b[0m\u001b[0;34m]\u001b[0m\u001b[0;34m(\u001b[0m\u001b[0manswer\u001b[0m\u001b[0;34m[\u001b[0m\u001b[0;36m2\u001b[0m\u001b[0;34m:\u001b[0m\u001b[0;34m]\u001b[0m\u001b[0;34m,\u001b[0m \u001b[0mgateway_client\u001b[0m\u001b[0;34m)\u001b[0m\u001b[0;34m\u001b[0m\u001b[0;34m\u001b[0m\u001b[0m\n\u001b[1;32m    325\u001b[0m             \u001b[0;32mif\u001b[0m \u001b[0manswer\u001b[0m\u001b[0;34m[\u001b[0m\u001b[0;36m1\u001b[0m\u001b[0;34m]\u001b[0m \u001b[0;34m==\u001b[0m \u001b[0mREFERENCE_TYPE\u001b[0m\u001b[0;34m:\u001b[0m\u001b[0;34m\u001b[0m\u001b[0;34m\u001b[0m\u001b[0m\n\u001b[0;32m--> 326\u001b[0;31m                 raise Py4JJavaError(\n\u001b[0m\u001b[1;32m    327\u001b[0m                     \u001b[0;34m\"An error occurred while calling {0}{1}{2}.\\n\"\u001b[0m\u001b[0;34m.\u001b[0m\u001b[0;34m\u001b[0m\u001b[0;34m\u001b[0m\u001b[0m\n\u001b[1;32m    328\u001b[0m                     format(target_id, \".\", name), value)\n",
            "\u001b[0;31mPy4JJavaError\u001b[0m: An error occurred while calling o641.parquet.\n: java.util.NoSuchElementException: None.get\n\tat scala.None$.get(Option.scala:529)\n\tat scala.None$.get(Option.scala:527)\n\tat org.apache.spark.sql.execution.datasources.BasicWriteJobStatsTracker$.metrics(BasicWriteStatsTracker.scala:239)\n\tat org.apache.spark.sql.execution.command.DataWritingCommand.metrics(DataWritingCommand.scala:55)\n\tat org.apache.spark.sql.execution.command.DataWritingCommand.metrics$(DataWritingCommand.scala:55)\n\tat org.apache.spark.sql.execution.datasources.InsertIntoHadoopFsRelationCommand.metrics$lzycompute(InsertIntoHadoopFsRelationCommand.scala:47)\n\tat org.apache.spark.sql.execution.datasources.InsertIntoHadoopFsRelationCommand.metrics(InsertIntoHadoopFsRelationCommand.scala:47)\n\tat org.apache.spark.sql.execution.command.DataWritingCommandExec.metrics$lzycompute(commands.scala:109)\n\tat org.apache.spark.sql.execution.command.DataWritingCommandExec.metrics(commands.scala:109)\n\tat org.apache.spark.sql.execution.SparkPlanInfo$.fromSparkPlan(SparkPlanInfo.scala:63)\n\tat org.apache.spark.sql.execution.SQLExecution$.$anonfun$withNewExecutionId$6(SQLExecution.scala:120)\n\tat org.apache.spark.sql.execution.SQLExecution$.withSQLConfPropagated(SQLExecution.scala:201)\n\tat org.apache.spark.sql.execution.SQLExecution$.$anonfun$withNewExecutionId$1(SQLExecution.scala:108)\n\tat org.apache.spark.sql.SparkSession.withActive(SparkSession.scala:900)\n\tat org.apache.spark.sql.execution.SQLExecution$.withNewExecutionId(SQLExecution.scala:66)\n\tat org.apache.spark.sql.execution.QueryExecution$$anonfun$eagerlyExecuteCommands$1.applyOrElse(QueryExecution.scala:107)\n\tat org.apache.spark.sql.execution.QueryExecution$$anonfun$eagerlyExecuteCommands$1.applyOrElse(QueryExecution.scala:98)\n\tat org.apache.spark.sql.catalyst.trees.TreeNode.$anonfun$transformDownWithPruning$1(TreeNode.scala:461)\n\tat org.apache.spark.sql.catalyst.trees.CurrentOrigin$.withOrigin(origin.scala:76)\n\tat org.apache.spark.sql.catalyst.trees.TreeNode.transformDownWithPruning(TreeNode.scala:461)\n\tat org.apache.spark.sql.catalyst.plans.logical.LogicalPlan.org$apache$spark$sql$catalyst$plans$logical$AnalysisHelper$$super$transformDownWithPruning(LogicalPlan.scala:32)\n\tat org.apache.spark.sql.catalyst.plans.logical.AnalysisHelper.transformDownWithPruning(AnalysisHelper.scala:267)\n\tat org.apache.spark.sql.catalyst.plans.logical.AnalysisHelper.transformDownWithPruning$(AnalysisHelper.scala:263)\n\tat org.apache.spark.sql.catalyst.plans.logical.LogicalPlan.transformDownWithPruning(LogicalPlan.scala:32)\n\tat org.apache.spark.sql.catalyst.plans.logical.LogicalPlan.transformDownWithPruning(LogicalPlan.scala:32)\n\tat org.apache.spark.sql.catalyst.trees.TreeNode.transformDown(TreeNode.scala:437)\n\tat org.apache.spark.sql.execution.QueryExecution.eagerlyExecuteCommands(QueryExecution.scala:98)\n\tat org.apache.spark.sql.execution.QueryExecution.commandExecuted$lzycompute(QueryExecution.scala:85)\n\tat org.apache.spark.sql.execution.QueryExecution.commandExecuted(QueryExecution.scala:83)\n\tat org.apache.spark.sql.execution.QueryExecution.assertCommandExecuted(QueryExecution.scala:142)\n\tat org.apache.spark.sql.DataFrameWriter.runCommand(DataFrameWriter.scala:869)\n\tat org.apache.spark.sql.DataFrameWriter.saveToV1Source(DataFrameWriter.scala:391)\n\tat org.apache.spark.sql.DataFrameWriter.saveInternal(DataFrameWriter.scala:364)\n\tat org.apache.spark.sql.DataFrameWriter.save(DataFrameWriter.scala:243)\n\tat org.apache.spark.sql.DataFrameWriter.parquet(DataFrameWriter.scala:802)\n\tat java.base/jdk.internal.reflect.NativeMethodAccessorImpl.invoke0(Native Method)\n\tat java.base/jdk.internal.reflect.NativeMethodAccessorImpl.invoke(NativeMethodAccessorImpl.java:62)\n\tat java.base/jdk.internal.reflect.DelegatingMethodAccessorImpl.invoke(DelegatingMethodAccessorImpl.java:43)\n\tat java.base/java.lang.reflect.Method.invoke(Method.java:566)\n\tat py4j.reflection.MethodInvoker.invoke(MethodInvoker.java:244)\n\tat py4j.reflection.ReflectionEngine.invoke(ReflectionEngine.java:374)\n\tat py4j.Gateway.invoke(Gateway.java:282)\n\tat py4j.commands.AbstractCommand.invokeMethod(AbstractCommand.java:132)\n\tat py4j.commands.CallCommand.execute(CallCommand.java:79)\n\tat py4j.ClientServerConnection.waitForCommands(ClientServerConnection.java:182)\n\tat py4j.ClientServerConnection.run(ClientServerConnection.java:106)\n\tat java.base/java.lang.Thread.run(Thread.java:829)\n"
          ]
        }
      ]
    },
    {
      "cell_type": "code",
      "source": [
        "pagamentos_normalizado_df.write.mode('overwrite').parquet('pagamentos_normalizado.parquet')\n",
        "\n",
        "df = spark.read.option('header', 'true').parquet('pagamentos_normalizado.parquet')\n",
        "df.show(5)\n",
        "df.printSchema()"
      ],
      "metadata": {
        "colab": {
          "base_uri": "https://localhost:8080/"
        },
        "collapsed": true,
        "id": "Y-OIOXq14eTs",
        "outputId": "b3c156ba-4a18-463e-a5e0-3607fee62d80"
      },
      "execution_count": 21,
      "outputs": [
        {
          "output_type": "stream",
          "name": "stdout",
          "text": [
            "+--------------------+-------------------+--------------+------------------+---------------+---------------------------+------------------------------+\n",
            "|           id_pedido|sequencia_pagamento|tipo_pagamento|parcelas_pagamento|valor_pagamento|valor_pagamento_normalizado|parcelas_pagamento_normalizado|\n",
            "+--------------------+-------------------+--------------+------------------+---------------+---------------------------+------------------------------+\n",
            "|b81ef226f3fe1789b...|                  1|   credit_card|                 8|          99.33|       0.007269424652080491|            0.3333333333333333|\n",
            "|a9810da82917af2d9...|                  1|   credit_card|                 1|          24.39|       0.001784971984941...|          0.041666666666666664|\n",
            "|25e8ea4e93396b6fa...|                  1|   credit_card|                 1|          65.71|       0.004808958963940492|          0.041666666666666664|\n",
            "|ba78997921bbcdc13...|                  1|   credit_card|                 8|         107.78|        0.00788783438036077|            0.3333333333333333|\n",
            "|42fdf880ba16b47b5...|                  1|   credit_card|                 2|         128.45|        0.00940055971569253|           0.08333333333333333|\n",
            "+--------------------+-------------------+--------------+------------------+---------------+---------------------------+------------------------------+\n",
            "only showing top 5 rows\n",
            "\n",
            "root\n",
            " |-- id_pedido: string (nullable = true)\n",
            " |-- sequencia_pagamento: integer (nullable = true)\n",
            " |-- tipo_pagamento: string (nullable = true)\n",
            " |-- parcelas_pagamento: integer (nullable = true)\n",
            " |-- valor_pagamento: double (nullable = true)\n",
            " |-- valor_pagamento_normalizado: double (nullable = true)\n",
            " |-- parcelas_pagamento_normalizado: double (nullable = true)\n",
            "\n"
          ]
        }
      ]
    },
    {
      "cell_type": "code",
      "source": [
        "pagamentos_normalizado_df.write.mode('overwrite').parquet('drive/MyDrive/Colab Notebooks/spark/pagamentos_normalizado.parquet')\n",
        "\n",
        "df = spark.read.option('header', 'true').parquet('pagamentos_normalizado.parquet')\n",
        "df.show(5)\n",
        "df.printSchema()"
      ],
      "metadata": {
        "colab": {
          "base_uri": "https://localhost:8080/",
          "height": 1000
        },
        "collapsed": true,
        "id": "q7MPLNYa5eFZ",
        "outputId": "b21b7b64-10d3-4271-c3b5-75c5bc0d9db3"
      },
      "execution_count": 27,
      "outputs": [
        {
          "output_type": "error",
          "ename": "Py4JJavaError",
          "evalue": "An error occurred while calling o649.parquet.\n: java.util.NoSuchElementException: None.get\n\tat scala.None$.get(Option.scala:529)\n\tat scala.None$.get(Option.scala:527)\n\tat org.apache.spark.sql.execution.datasources.BasicWriteJobStatsTracker$.metrics(BasicWriteStatsTracker.scala:239)\n\tat org.apache.spark.sql.execution.command.DataWritingCommand.metrics(DataWritingCommand.scala:55)\n\tat org.apache.spark.sql.execution.command.DataWritingCommand.metrics$(DataWritingCommand.scala:55)\n\tat org.apache.spark.sql.execution.datasources.InsertIntoHadoopFsRelationCommand.metrics$lzycompute(InsertIntoHadoopFsRelationCommand.scala:47)\n\tat org.apache.spark.sql.execution.datasources.InsertIntoHadoopFsRelationCommand.metrics(InsertIntoHadoopFsRelationCommand.scala:47)\n\tat org.apache.spark.sql.execution.command.DataWritingCommandExec.metrics$lzycompute(commands.scala:109)\n\tat org.apache.spark.sql.execution.command.DataWritingCommandExec.metrics(commands.scala:109)\n\tat org.apache.spark.sql.execution.SparkPlanInfo$.fromSparkPlan(SparkPlanInfo.scala:63)\n\tat org.apache.spark.sql.execution.SQLExecution$.$anonfun$withNewExecutionId$6(SQLExecution.scala:120)\n\tat org.apache.spark.sql.execution.SQLExecution$.withSQLConfPropagated(SQLExecution.scala:201)\n\tat org.apache.spark.sql.execution.SQLExecution$.$anonfun$withNewExecutionId$1(SQLExecution.scala:108)\n\tat org.apache.spark.sql.SparkSession.withActive(SparkSession.scala:900)\n\tat org.apache.spark.sql.execution.SQLExecution$.withNewExecutionId(SQLExecution.scala:66)\n\tat org.apache.spark.sql.execution.QueryExecution$$anonfun$eagerlyExecuteCommands$1.applyOrElse(QueryExecution.scala:107)\n\tat org.apache.spark.sql.execution.QueryExecution$$anonfun$eagerlyExecuteCommands$1.applyOrElse(QueryExecution.scala:98)\n\tat org.apache.spark.sql.catalyst.trees.TreeNode.$anonfun$transformDownWithPruning$1(TreeNode.scala:461)\n\tat org.apache.spark.sql.catalyst.trees.CurrentOrigin$.withOrigin(origin.scala:76)\n\tat org.apache.spark.sql.catalyst.trees.TreeNode.transformDownWithPruning(TreeNode.scala:461)\n\tat org.apache.spark.sql.catalyst.plans.logical.LogicalPlan.org$apache$spark$sql$catalyst$plans$logical$AnalysisHelper$$super$transformDownWithPruning(LogicalPlan.scala:32)\n\tat org.apache.spark.sql.catalyst.plans.logical.AnalysisHelper.transformDownWithPruning(AnalysisHelper.scala:267)\n\tat org.apache.spark.sql.catalyst.plans.logical.AnalysisHelper.transformDownWithPruning$(AnalysisHelper.scala:263)\n\tat org.apache.spark.sql.catalyst.plans.logical.LogicalPlan.transformDownWithPruning(LogicalPlan.scala:32)\n\tat org.apache.spark.sql.catalyst.plans.logical.LogicalPlan.transformDownWithPruning(LogicalPlan.scala:32)\n\tat org.apache.spark.sql.catalyst.trees.TreeNode.transformDown(TreeNode.scala:437)\n\tat org.apache.spark.sql.execution.QueryExecution.eagerlyExecuteCommands(QueryExecution.scala:98)\n\tat org.apache.spark.sql.execution.QueryExecution.commandExecuted$lzycompute(QueryExecution.scala:85)\n\tat org.apache.spark.sql.execution.QueryExecution.commandExecuted(QueryExecution.scala:83)\n\tat org.apache.spark.sql.execution.QueryExecution.assertCommandExecuted(QueryExecution.scala:142)\n\tat org.apache.spark.sql.DataFrameWriter.runCommand(DataFrameWriter.scala:869)\n\tat org.apache.spark.sql.DataFrameWriter.saveToV1Source(DataFrameWriter.scala:391)\n\tat org.apache.spark.sql.DataFrameWriter.saveInternal(DataFrameWriter.scala:364)\n\tat org.apache.spark.sql.DataFrameWriter.save(DataFrameWriter.scala:243)\n\tat org.apache.spark.sql.DataFrameWriter.parquet(DataFrameWriter.scala:802)\n\tat java.base/jdk.internal.reflect.NativeMethodAccessorImpl.invoke0(Native Method)\n\tat java.base/jdk.internal.reflect.NativeMethodAccessorImpl.invoke(NativeMethodAccessorImpl.java:62)\n\tat java.base/jdk.internal.reflect.DelegatingMethodAccessorImpl.invoke(DelegatingMethodAccessorImpl.java:43)\n\tat java.base/java.lang.reflect.Method.invoke(Method.java:566)\n\tat py4j.reflection.MethodInvoker.invoke(MethodInvoker.java:244)\n\tat py4j.reflection.ReflectionEngine.invoke(ReflectionEngine.java:374)\n\tat py4j.Gateway.invoke(Gateway.java:282)\n\tat py4j.commands.AbstractCommand.invokeMethod(AbstractCommand.java:132)\n\tat py4j.commands.CallCommand.execute(CallCommand.java:79)\n\tat py4j.ClientServerConnection.waitForCommands(ClientServerConnection.java:182)\n\tat py4j.ClientServerConnection.run(ClientServerConnection.java:106)\n\tat java.base/java.lang.Thread.run(Thread.java:829)\n",
          "traceback": [
            "\u001b[0;31m---------------------------------------------------------------------------\u001b[0m",
            "\u001b[0;31mPy4JJavaError\u001b[0m                             Traceback (most recent call last)",
            "\u001b[0;32m<ipython-input-27-0a3b1f808e2d>\u001b[0m in \u001b[0;36m<cell line: 0>\u001b[0;34m()\u001b[0m\n\u001b[0;32m----> 1\u001b[0;31m \u001b[0mpagamentos_normalizado_df\u001b[0m\u001b[0;34m.\u001b[0m\u001b[0mwrite\u001b[0m\u001b[0;34m.\u001b[0m\u001b[0mmode\u001b[0m\u001b[0;34m(\u001b[0m\u001b[0;34m'overwrite'\u001b[0m\u001b[0;34m)\u001b[0m\u001b[0;34m.\u001b[0m\u001b[0mparquet\u001b[0m\u001b[0;34m(\u001b[0m\u001b[0;34m'drive/MyDrive/Colab Notebooks/spark/pagamentos_normalizado.parquet'\u001b[0m\u001b[0;34m)\u001b[0m\u001b[0;34m\u001b[0m\u001b[0;34m\u001b[0m\u001b[0m\n\u001b[0m\u001b[1;32m      2\u001b[0m \u001b[0;34m\u001b[0m\u001b[0m\n\u001b[1;32m      3\u001b[0m \u001b[0mdf\u001b[0m \u001b[0;34m=\u001b[0m \u001b[0mspark\u001b[0m\u001b[0;34m.\u001b[0m\u001b[0mread\u001b[0m\u001b[0;34m.\u001b[0m\u001b[0moption\u001b[0m\u001b[0;34m(\u001b[0m\u001b[0;34m'header'\u001b[0m\u001b[0;34m,\u001b[0m \u001b[0;34m'true'\u001b[0m\u001b[0;34m)\u001b[0m\u001b[0;34m.\u001b[0m\u001b[0mparquet\u001b[0m\u001b[0;34m(\u001b[0m\u001b[0;34m'pagamentos_normalizado.parquet'\u001b[0m\u001b[0;34m)\u001b[0m\u001b[0;34m\u001b[0m\u001b[0;34m\u001b[0m\u001b[0m\n\u001b[1;32m      4\u001b[0m \u001b[0mdf\u001b[0m\u001b[0;34m.\u001b[0m\u001b[0mshow\u001b[0m\u001b[0;34m(\u001b[0m\u001b[0;36m5\u001b[0m\u001b[0;34m)\u001b[0m\u001b[0;34m\u001b[0m\u001b[0;34m\u001b[0m\u001b[0m\n\u001b[1;32m      5\u001b[0m \u001b[0mdf\u001b[0m\u001b[0;34m.\u001b[0m\u001b[0mprintSchema\u001b[0m\u001b[0;34m(\u001b[0m\u001b[0;34m)\u001b[0m\u001b[0;34m\u001b[0m\u001b[0;34m\u001b[0m\u001b[0m\n",
            "\u001b[0;32m/usr/local/lib/python3.11/dist-packages/pyspark/sql/readwriter.py\u001b[0m in \u001b[0;36mparquet\u001b[0;34m(self, path, mode, partitionBy, compression)\u001b[0m\n\u001b[1;32m   1719\u001b[0m             \u001b[0mself\u001b[0m\u001b[0;34m.\u001b[0m\u001b[0mpartitionBy\u001b[0m\u001b[0;34m(\u001b[0m\u001b[0mpartitionBy\u001b[0m\u001b[0;34m)\u001b[0m\u001b[0;34m\u001b[0m\u001b[0;34m\u001b[0m\u001b[0m\n\u001b[1;32m   1720\u001b[0m         \u001b[0mself\u001b[0m\u001b[0;34m.\u001b[0m\u001b[0m_set_opts\u001b[0m\u001b[0;34m(\u001b[0m\u001b[0mcompression\u001b[0m\u001b[0;34m=\u001b[0m\u001b[0mcompression\u001b[0m\u001b[0;34m)\u001b[0m\u001b[0;34m\u001b[0m\u001b[0;34m\u001b[0m\u001b[0m\n\u001b[0;32m-> 1721\u001b[0;31m         \u001b[0mself\u001b[0m\u001b[0;34m.\u001b[0m\u001b[0m_jwrite\u001b[0m\u001b[0;34m.\u001b[0m\u001b[0mparquet\u001b[0m\u001b[0;34m(\u001b[0m\u001b[0mpath\u001b[0m\u001b[0;34m)\u001b[0m\u001b[0;34m\u001b[0m\u001b[0;34m\u001b[0m\u001b[0m\n\u001b[0m\u001b[1;32m   1722\u001b[0m \u001b[0;34m\u001b[0m\u001b[0m\n\u001b[1;32m   1723\u001b[0m     def text(\n",
            "\u001b[0;32m/usr/local/lib/python3.11/dist-packages/py4j/java_gateway.py\u001b[0m in \u001b[0;36m__call__\u001b[0;34m(self, *args)\u001b[0m\n\u001b[1;32m   1320\u001b[0m \u001b[0;34m\u001b[0m\u001b[0m\n\u001b[1;32m   1321\u001b[0m         \u001b[0manswer\u001b[0m \u001b[0;34m=\u001b[0m \u001b[0mself\u001b[0m\u001b[0;34m.\u001b[0m\u001b[0mgateway_client\u001b[0m\u001b[0;34m.\u001b[0m\u001b[0msend_command\u001b[0m\u001b[0;34m(\u001b[0m\u001b[0mcommand\u001b[0m\u001b[0;34m)\u001b[0m\u001b[0;34m\u001b[0m\u001b[0;34m\u001b[0m\u001b[0m\n\u001b[0;32m-> 1322\u001b[0;31m         return_value = get_return_value(\n\u001b[0m\u001b[1;32m   1323\u001b[0m             answer, self.gateway_client, self.target_id, self.name)\n\u001b[1;32m   1324\u001b[0m \u001b[0;34m\u001b[0m\u001b[0m\n",
            "\u001b[0;32m/usr/local/lib/python3.11/dist-packages/pyspark/errors/exceptions/captured.py\u001b[0m in \u001b[0;36mdeco\u001b[0;34m(*a, **kw)\u001b[0m\n\u001b[1;32m    177\u001b[0m     \u001b[0;32mdef\u001b[0m \u001b[0mdeco\u001b[0m\u001b[0;34m(\u001b[0m\u001b[0;34m*\u001b[0m\u001b[0ma\u001b[0m\u001b[0;34m:\u001b[0m \u001b[0mAny\u001b[0m\u001b[0;34m,\u001b[0m \u001b[0;34m**\u001b[0m\u001b[0mkw\u001b[0m\u001b[0;34m:\u001b[0m \u001b[0mAny\u001b[0m\u001b[0;34m)\u001b[0m \u001b[0;34m->\u001b[0m \u001b[0mAny\u001b[0m\u001b[0;34m:\u001b[0m\u001b[0;34m\u001b[0m\u001b[0;34m\u001b[0m\u001b[0m\n\u001b[1;32m    178\u001b[0m         \u001b[0;32mtry\u001b[0m\u001b[0;34m:\u001b[0m\u001b[0;34m\u001b[0m\u001b[0;34m\u001b[0m\u001b[0m\n\u001b[0;32m--> 179\u001b[0;31m             \u001b[0;32mreturn\u001b[0m \u001b[0mf\u001b[0m\u001b[0;34m(\u001b[0m\u001b[0;34m*\u001b[0m\u001b[0ma\u001b[0m\u001b[0;34m,\u001b[0m \u001b[0;34m**\u001b[0m\u001b[0mkw\u001b[0m\u001b[0;34m)\u001b[0m\u001b[0;34m\u001b[0m\u001b[0;34m\u001b[0m\u001b[0m\n\u001b[0m\u001b[1;32m    180\u001b[0m         \u001b[0;32mexcept\u001b[0m \u001b[0mPy4JJavaError\u001b[0m \u001b[0;32mas\u001b[0m \u001b[0me\u001b[0m\u001b[0;34m:\u001b[0m\u001b[0;34m\u001b[0m\u001b[0;34m\u001b[0m\u001b[0m\n\u001b[1;32m    181\u001b[0m             \u001b[0mconverted\u001b[0m \u001b[0;34m=\u001b[0m \u001b[0mconvert_exception\u001b[0m\u001b[0;34m(\u001b[0m\u001b[0me\u001b[0m\u001b[0;34m.\u001b[0m\u001b[0mjava_exception\u001b[0m\u001b[0;34m)\u001b[0m\u001b[0;34m\u001b[0m\u001b[0;34m\u001b[0m\u001b[0m\n",
            "\u001b[0;32m/usr/local/lib/python3.11/dist-packages/py4j/protocol.py\u001b[0m in \u001b[0;36mget_return_value\u001b[0;34m(answer, gateway_client, target_id, name)\u001b[0m\n\u001b[1;32m    324\u001b[0m             \u001b[0mvalue\u001b[0m \u001b[0;34m=\u001b[0m \u001b[0mOUTPUT_CONVERTER\u001b[0m\u001b[0;34m[\u001b[0m\u001b[0mtype\u001b[0m\u001b[0;34m]\u001b[0m\u001b[0;34m(\u001b[0m\u001b[0manswer\u001b[0m\u001b[0;34m[\u001b[0m\u001b[0;36m2\u001b[0m\u001b[0;34m:\u001b[0m\u001b[0;34m]\u001b[0m\u001b[0;34m,\u001b[0m \u001b[0mgateway_client\u001b[0m\u001b[0;34m)\u001b[0m\u001b[0;34m\u001b[0m\u001b[0;34m\u001b[0m\u001b[0m\n\u001b[1;32m    325\u001b[0m             \u001b[0;32mif\u001b[0m \u001b[0manswer\u001b[0m\u001b[0;34m[\u001b[0m\u001b[0;36m1\u001b[0m\u001b[0;34m]\u001b[0m \u001b[0;34m==\u001b[0m \u001b[0mREFERENCE_TYPE\u001b[0m\u001b[0;34m:\u001b[0m\u001b[0;34m\u001b[0m\u001b[0;34m\u001b[0m\u001b[0m\n\u001b[0;32m--> 326\u001b[0;31m                 raise Py4JJavaError(\n\u001b[0m\u001b[1;32m    327\u001b[0m                     \u001b[0;34m\"An error occurred while calling {0}{1}{2}.\\n\"\u001b[0m\u001b[0;34m.\u001b[0m\u001b[0;34m\u001b[0m\u001b[0;34m\u001b[0m\u001b[0m\n\u001b[1;32m    328\u001b[0m                     format(target_id, \".\", name), value)\n",
            "\u001b[0;31mPy4JJavaError\u001b[0m: An error occurred while calling o649.parquet.\n: java.util.NoSuchElementException: None.get\n\tat scala.None$.get(Option.scala:529)\n\tat scala.None$.get(Option.scala:527)\n\tat org.apache.spark.sql.execution.datasources.BasicWriteJobStatsTracker$.metrics(BasicWriteStatsTracker.scala:239)\n\tat org.apache.spark.sql.execution.command.DataWritingCommand.metrics(DataWritingCommand.scala:55)\n\tat org.apache.spark.sql.execution.command.DataWritingCommand.metrics$(DataWritingCommand.scala:55)\n\tat org.apache.spark.sql.execution.datasources.InsertIntoHadoopFsRelationCommand.metrics$lzycompute(InsertIntoHadoopFsRelationCommand.scala:47)\n\tat org.apache.spark.sql.execution.datasources.InsertIntoHadoopFsRelationCommand.metrics(InsertIntoHadoopFsRelationCommand.scala:47)\n\tat org.apache.spark.sql.execution.command.DataWritingCommandExec.metrics$lzycompute(commands.scala:109)\n\tat org.apache.spark.sql.execution.command.DataWritingCommandExec.metrics(commands.scala:109)\n\tat org.apache.spark.sql.execution.SparkPlanInfo$.fromSparkPlan(SparkPlanInfo.scala:63)\n\tat org.apache.spark.sql.execution.SQLExecution$.$anonfun$withNewExecutionId$6(SQLExecution.scala:120)\n\tat org.apache.spark.sql.execution.SQLExecution$.withSQLConfPropagated(SQLExecution.scala:201)\n\tat org.apache.spark.sql.execution.SQLExecution$.$anonfun$withNewExecutionId$1(SQLExecution.scala:108)\n\tat org.apache.spark.sql.SparkSession.withActive(SparkSession.scala:900)\n\tat org.apache.spark.sql.execution.SQLExecution$.withNewExecutionId(SQLExecution.scala:66)\n\tat org.apache.spark.sql.execution.QueryExecution$$anonfun$eagerlyExecuteCommands$1.applyOrElse(QueryExecution.scala:107)\n\tat org.apache.spark.sql.execution.QueryExecution$$anonfun$eagerlyExecuteCommands$1.applyOrElse(QueryExecution.scala:98)\n\tat org.apache.spark.sql.catalyst.trees.TreeNode.$anonfun$transformDownWithPruning$1(TreeNode.scala:461)\n\tat org.apache.spark.sql.catalyst.trees.CurrentOrigin$.withOrigin(origin.scala:76)\n\tat org.apache.spark.sql.catalyst.trees.TreeNode.transformDownWithPruning(TreeNode.scala:461)\n\tat org.apache.spark.sql.catalyst.plans.logical.LogicalPlan.org$apache$spark$sql$catalyst$plans$logical$AnalysisHelper$$super$transformDownWithPruning(LogicalPlan.scala:32)\n\tat org.apache.spark.sql.catalyst.plans.logical.AnalysisHelper.transformDownWithPruning(AnalysisHelper.scala:267)\n\tat org.apache.spark.sql.catalyst.plans.logical.AnalysisHelper.transformDownWithPruning$(AnalysisHelper.scala:263)\n\tat org.apache.spark.sql.catalyst.plans.logical.LogicalPlan.transformDownWithPruning(LogicalPlan.scala:32)\n\tat org.apache.spark.sql.catalyst.plans.logical.LogicalPlan.transformDownWithPruning(LogicalPlan.scala:32)\n\tat org.apache.spark.sql.catalyst.trees.TreeNode.transformDown(TreeNode.scala:437)\n\tat org.apache.spark.sql.execution.QueryExecution.eagerlyExecuteCommands(QueryExecution.scala:98)\n\tat org.apache.spark.sql.execution.QueryExecution.commandExecuted$lzycompute(QueryExecution.scala:85)\n\tat org.apache.spark.sql.execution.QueryExecution.commandExecuted(QueryExecution.scala:83)\n\tat org.apache.spark.sql.execution.QueryExecution.assertCommandExecuted(QueryExecution.scala:142)\n\tat org.apache.spark.sql.DataFrameWriter.runCommand(DataFrameWriter.scala:869)\n\tat org.apache.spark.sql.DataFrameWriter.saveToV1Source(DataFrameWriter.scala:391)\n\tat org.apache.spark.sql.DataFrameWriter.saveInternal(DataFrameWriter.scala:364)\n\tat org.apache.spark.sql.DataFrameWriter.save(DataFrameWriter.scala:243)\n\tat org.apache.spark.sql.DataFrameWriter.parquet(DataFrameWriter.scala:802)\n\tat java.base/jdk.internal.reflect.NativeMethodAccessorImpl.invoke0(Native Method)\n\tat java.base/jdk.internal.reflect.NativeMethodAccessorImpl.invoke(NativeMethodAccessorImpl.java:62)\n\tat java.base/jdk.internal.reflect.DelegatingMethodAccessorImpl.invoke(DelegatingMethodAccessorImpl.java:43)\n\tat java.base/java.lang.reflect.Method.invoke(Method.java:566)\n\tat py4j.reflection.MethodInvoker.invoke(MethodInvoker.java:244)\n\tat py4j.reflection.ReflectionEngine.invoke(ReflectionEngine.java:374)\n\tat py4j.Gateway.invoke(Gateway.java:282)\n\tat py4j.commands.AbstractCommand.invokeMethod(AbstractCommand.java:132)\n\tat py4j.commands.CallCommand.execute(CallCommand.java:79)\n\tat py4j.ClientServerConnection.waitForCommands(ClientServerConnection.java:182)\n\tat py4j.ClientServerConnection.run(ClientServerConnection.java:106)\n\tat java.base/java.lang.Thread.run(Thread.java:829)\n"
          ]
        }
      ]
    },
    {
      "cell_type": "code",
      "source": [
        "spark.stop()"
      ],
      "metadata": {
        "id": "tQOAmW2j50Cc"
      },
      "execution_count": 24,
      "outputs": []
    }
  ]
}