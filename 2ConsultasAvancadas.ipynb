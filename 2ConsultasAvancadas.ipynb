{
  "nbformat": 4,
  "nbformat_minor": 0,
  "metadata": {
    "colab": {
      "provenance": [],
      "authorship_tag": "ABX9TyPlrNLQI0itzKFngp22nMVr",
      "include_colab_link": true
    },
    "kernelspec": {
      "name": "python3",
      "display_name": "Python 3"
    },
    "language_info": {
      "name": "python"
    }
  },
  "cells": [
    {
      "cell_type": "markdown",
      "metadata": {
        "id": "view-in-github",
        "colab_type": "text"
      },
      "source": [
        "<a href=\"https://colab.research.google.com/github/Samgomes2510/dashborad-ecommerce/blob/main/2ConsultasAvancadas.ipynb\" target=\"_parent\"><img src=\"https://colab.research.google.com/assets/colab-badge.svg\" alt=\"Open In Colab\"/></a>"
      ]
    },
    {
      "cell_type": "code",
      "execution_count": 1,
      "metadata": {
        "colab": {
          "base_uri": "https://localhost:8080/"
        },
        "id": "XmvDnAigpC9U",
        "outputId": "895d1f55-4202-4ede-bfe8-33f5c5d8e0a2"
      },
      "outputs": [
        {
          "output_type": "stream",
          "name": "stdout",
          "text": [
            "Requirement already satisfied: pyspark in /usr/local/lib/python3.11/dist-packages (3.5.1)\n",
            "Requirement already satisfied: py4j==0.10.9.7 in /usr/local/lib/python3.11/dist-packages (from pyspark) (0.10.9.7)\n"
          ]
        }
      ],
      "source": [
        "!pip install pyspark"
      ]
    },
    {
      "cell_type": "code",
      "source": [
        "import pyspark\n",
        "from pyspark.sql import SparkSession\n",
        "from pyspark.sql.functions import *"
      ],
      "metadata": {
        "id": "aGVZxCncqtvt"
      },
      "execution_count": 2,
      "outputs": []
    },
    {
      "cell_type": "code",
      "source": [
        "from google.colab import files\n",
        "uploaded = files.upload()"
      ],
      "metadata": {
        "colab": {
          "base_uri": "https://localhost:8080/",
          "height": 281
        },
        "id": "lBj_AFSlq3il",
        "outputId": "ba52de2a-11bf-4a2a-dcf9-531afed7269d"
      },
      "execution_count": 4,
      "outputs": [
        {
          "output_type": "display_data",
          "data": {
            "text/plain": [
              "<IPython.core.display.HTML object>"
            ],
            "text/html": [
              "\n",
              "     <input type=\"file\" id=\"files-43ca7a58-7345-4cf6-b233-684ae314db74\" name=\"files[]\" multiple disabled\n",
              "        style=\"border:none\" />\n",
              "     <output id=\"result-43ca7a58-7345-4cf6-b233-684ae314db74\">\n",
              "      Upload widget is only available when the cell has been executed in the\n",
              "      current browser session. Please rerun this cell to enable.\n",
              "      </output>\n",
              "      <script>// Copyright 2017 Google LLC\n",
              "//\n",
              "// Licensed under the Apache License, Version 2.0 (the \"License\");\n",
              "// you may not use this file except in compliance with the License.\n",
              "// You may obtain a copy of the License at\n",
              "//\n",
              "//      http://www.apache.org/licenses/LICENSE-2.0\n",
              "//\n",
              "// Unless required by applicable law or agreed to in writing, software\n",
              "// distributed under the License is distributed on an \"AS IS\" BASIS,\n",
              "// WITHOUT WARRANTIES OR CONDITIONS OF ANY KIND, either express or implied.\n",
              "// See the License for the specific language governing permissions and\n",
              "// limitations under the License.\n",
              "\n",
              "/**\n",
              " * @fileoverview Helpers for google.colab Python module.\n",
              " */\n",
              "(function(scope) {\n",
              "function span(text, styleAttributes = {}) {\n",
              "  const element = document.createElement('span');\n",
              "  element.textContent = text;\n",
              "  for (const key of Object.keys(styleAttributes)) {\n",
              "    element.style[key] = styleAttributes[key];\n",
              "  }\n",
              "  return element;\n",
              "}\n",
              "\n",
              "// Max number of bytes which will be uploaded at a time.\n",
              "const MAX_PAYLOAD_SIZE = 100 * 1024;\n",
              "\n",
              "function _uploadFiles(inputId, outputId) {\n",
              "  const steps = uploadFilesStep(inputId, outputId);\n",
              "  const outputElement = document.getElementById(outputId);\n",
              "  // Cache steps on the outputElement to make it available for the next call\n",
              "  // to uploadFilesContinue from Python.\n",
              "  outputElement.steps = steps;\n",
              "\n",
              "  return _uploadFilesContinue(outputId);\n",
              "}\n",
              "\n",
              "// This is roughly an async generator (not supported in the browser yet),\n",
              "// where there are multiple asynchronous steps and the Python side is going\n",
              "// to poll for completion of each step.\n",
              "// This uses a Promise to block the python side on completion of each step,\n",
              "// then passes the result of the previous step as the input to the next step.\n",
              "function _uploadFilesContinue(outputId) {\n",
              "  const outputElement = document.getElementById(outputId);\n",
              "  const steps = outputElement.steps;\n",
              "\n",
              "  const next = steps.next(outputElement.lastPromiseValue);\n",
              "  return Promise.resolve(next.value.promise).then((value) => {\n",
              "    // Cache the last promise value to make it available to the next\n",
              "    // step of the generator.\n",
              "    outputElement.lastPromiseValue = value;\n",
              "    return next.value.response;\n",
              "  });\n",
              "}\n",
              "\n",
              "/**\n",
              " * Generator function which is called between each async step of the upload\n",
              " * process.\n",
              " * @param {string} inputId Element ID of the input file picker element.\n",
              " * @param {string} outputId Element ID of the output display.\n",
              " * @return {!Iterable<!Object>} Iterable of next steps.\n",
              " */\n",
              "function* uploadFilesStep(inputId, outputId) {\n",
              "  const inputElement = document.getElementById(inputId);\n",
              "  inputElement.disabled = false;\n",
              "\n",
              "  const outputElement = document.getElementById(outputId);\n",
              "  outputElement.innerHTML = '';\n",
              "\n",
              "  const pickedPromise = new Promise((resolve) => {\n",
              "    inputElement.addEventListener('change', (e) => {\n",
              "      resolve(e.target.files);\n",
              "    });\n",
              "  });\n",
              "\n",
              "  const cancel = document.createElement('button');\n",
              "  inputElement.parentElement.appendChild(cancel);\n",
              "  cancel.textContent = 'Cancel upload';\n",
              "  const cancelPromise = new Promise((resolve) => {\n",
              "    cancel.onclick = () => {\n",
              "      resolve(null);\n",
              "    };\n",
              "  });\n",
              "\n",
              "  // Wait for the user to pick the files.\n",
              "  const files = yield {\n",
              "    promise: Promise.race([pickedPromise, cancelPromise]),\n",
              "    response: {\n",
              "      action: 'starting',\n",
              "    }\n",
              "  };\n",
              "\n",
              "  cancel.remove();\n",
              "\n",
              "  // Disable the input element since further picks are not allowed.\n",
              "  inputElement.disabled = true;\n",
              "\n",
              "  if (!files) {\n",
              "    return {\n",
              "      response: {\n",
              "        action: 'complete',\n",
              "      }\n",
              "    };\n",
              "  }\n",
              "\n",
              "  for (const file of files) {\n",
              "    const li = document.createElement('li');\n",
              "    li.append(span(file.name, {fontWeight: 'bold'}));\n",
              "    li.append(span(\n",
              "        `(${file.type || 'n/a'}) - ${file.size} bytes, ` +\n",
              "        `last modified: ${\n",
              "            file.lastModifiedDate ? file.lastModifiedDate.toLocaleDateString() :\n",
              "                                    'n/a'} - `));\n",
              "    const percent = span('0% done');\n",
              "    li.appendChild(percent);\n",
              "\n",
              "    outputElement.appendChild(li);\n",
              "\n",
              "    const fileDataPromise = new Promise((resolve) => {\n",
              "      const reader = new FileReader();\n",
              "      reader.onload = (e) => {\n",
              "        resolve(e.target.result);\n",
              "      };\n",
              "      reader.readAsArrayBuffer(file);\n",
              "    });\n",
              "    // Wait for the data to be ready.\n",
              "    let fileData = yield {\n",
              "      promise: fileDataPromise,\n",
              "      response: {\n",
              "        action: 'continue',\n",
              "      }\n",
              "    };\n",
              "\n",
              "    // Use a chunked sending to avoid message size limits. See b/62115660.\n",
              "    let position = 0;\n",
              "    do {\n",
              "      const length = Math.min(fileData.byteLength - position, MAX_PAYLOAD_SIZE);\n",
              "      const chunk = new Uint8Array(fileData, position, length);\n",
              "      position += length;\n",
              "\n",
              "      const base64 = btoa(String.fromCharCode.apply(null, chunk));\n",
              "      yield {\n",
              "        response: {\n",
              "          action: 'append',\n",
              "          file: file.name,\n",
              "          data: base64,\n",
              "        },\n",
              "      };\n",
              "\n",
              "      let percentDone = fileData.byteLength === 0 ?\n",
              "          100 :\n",
              "          Math.round((position / fileData.byteLength) * 100);\n",
              "      percent.textContent = `${percentDone}% done`;\n",
              "\n",
              "    } while (position < fileData.byteLength);\n",
              "  }\n",
              "\n",
              "  // All done.\n",
              "  yield {\n",
              "    response: {\n",
              "      action: 'complete',\n",
              "    }\n",
              "  };\n",
              "}\n",
              "\n",
              "scope.google = scope.google || {};\n",
              "scope.google.colab = scope.google.colab || {};\n",
              "scope.google.colab._files = {\n",
              "  _uploadFiles,\n",
              "  _uploadFilesContinue,\n",
              "};\n",
              "})(self);\n",
              "</script> "
            ]
          },
          "metadata": {}
        },
        {
          "output_type": "stream",
          "name": "stdout",
          "text": [
            "Saving avaliacoes_pedido.csv to avaliacoes_pedido (1).csv\n",
            "Saving clientes.csv to clientes (1).csv\n",
            "Saving itens_pedido.csv to itens_pedido (1).csv\n",
            "Saving pagamentos_pedido.csv to pagamentos_pedido (1).csv\n",
            "Saving pedidos.csv to pedidos (1).csv\n",
            "Saving produtos.csv to produtos (1).csv\n",
            "Saving vendedores.csv to vendedores (1).csv\n"
          ]
        }
      ]
    },
    {
      "cell_type": "code",
      "source": [
        "from google.colab import drive\n",
        "drive.mount('/content/drive')"
      ],
      "metadata": {
        "colab": {
          "base_uri": "https://localhost:8080/"
        },
        "id": "qiM-vGAGv_HE",
        "outputId": "8f2d7e81-6aa8-438c-936d-bfbf85c89535"
      },
      "execution_count": 5,
      "outputs": [
        {
          "output_type": "stream",
          "name": "stdout",
          "text": [
            "Mounted at /content/drive\n"
          ]
        }
      ]
    },
    {
      "cell_type": "code",
      "source": [
        "spark = SparkSession.builder.getOrCreate()"
      ],
      "metadata": {
        "id": "JAus81rMq7S8"
      },
      "execution_count": 6,
      "outputs": []
    },
    {
      "cell_type": "code",
      "source": [
        "produtos = spark.read.csv(\"produtos.csv\", header=True, inferSchema=True)\n",
        "vendedores = spark.read.csv(\"vendedores.csv\", header=True, inferSchema=True)\n",
        "clientes = spark.read.csv(\"clientes.csv\", header=True, inferSchema=True)\n",
        "itens_pedido = spark.read.csv(\"itens_pedido.csv\", header=True, inferSchema=True)\n",
        "pagamentos_pedido = spark.read.csv(\"pagamentos_pedido.csv\", header=True, inferSchema=True)\n",
        "avaliacoes_pedido = spark.read.csv(\"avaliacoes_pedido.csv\", header=True, inferSchema=True)\n",
        "pedidos = spark.read.csv(\"pedidos.csv\", header=True, inferSchema=True)"
      ],
      "metadata": {
        "id": "loMNo3OlrAr6"
      },
      "execution_count": 7,
      "outputs": []
    },
    {
      "cell_type": "code",
      "source": [
        "itens_pedido.show()\n",
        "pagamentos_pedido.show()"
      ],
      "metadata": {
        "colab": {
          "base_uri": "https://localhost:8080/"
        },
        "id": "vFh2hUDMrh-O",
        "outputId": "648fcbf2-ea92-4c84-d79e-415fff0b4db6"
      },
      "execution_count": 8,
      "outputs": [
        {
          "output_type": "stream",
          "name": "stdout",
          "text": [
            "+--------------------+--------------+--------------------+--------------------+-------------------+------+-----------+\n",
            "|           id_pedido|item_id_pedido|          id_produto|         id_vendedor|  data_limite_envio| preco|valor_frete|\n",
            "+--------------------+--------------+--------------------+--------------------+-------------------+------+-----------+\n",
            "|00010242fe8c5a6d1...|             1|4244733e06e7ecb49...|48436dade18ac8b2b...|2017-09-19 09:45:35|  58.9|      13.29|\n",
            "|00018f77f2f0320c5...|             1|e5f2d52b802189ee6...|dd7ddc04e1b6c2c61...|2017-05-03 11:05:13| 239.9|      19.93|\n",
            "|000229ec398224ef6...|             1|c777355d18b72b67a...|5b51032eddd242adc...|2018-01-18 14:48:30| 199.0|      17.87|\n",
            "|00024acbcdf0a6daa...|             1|7634da152a4610f15...|9d7a1d34a50524090...|2018-08-15 10:10:18| 12.99|      12.79|\n",
            "|00042b26cf59d7ce6...|             1|ac6c3623068f30de0...|df560393f3a51e745...|2017-02-13 13:57:51| 199.9|      18.14|\n",
            "|00048cc3ae777c65d...|             1|ef92defde845ab845...|6426d21aca402a131...|2017-05-23 03:55:27|  21.9|      12.69|\n",
            "|00054e8431b9d7675...|             1|8d4f2bb7e93e6710a...|7040e82f899a04d1b...|2017-12-14 12:10:31|  19.9|      11.85|\n",
            "|000576fe39319847c...|             1|557d850972a7d6f79...|5996cddab893a4652...|2018-07-10 12:30:45| 810.0|      70.75|\n",
            "|0005a1a1728c9d785...|             1|310ae3c140ff94b03...|a416b6a846a117243...|2018-03-26 18:31:29|145.95|      11.65|\n",
            "|0005f50442cb953dc...|             1|4535b0e1091c278df...|ba143b05f0110f0dc...|2018-07-06 14:10:56| 53.99|       11.4|\n",
            "|00061f2a7bc09da83...|             1|d63c1011f49d98b97...|cc419e0650a3c5ba7...|2018-03-29 22:28:09| 59.99|       8.88|\n",
            "|00063b381e2406b52...|             1|f177554ea93259a5b...|8602a61d680a10a82...|2018-07-31 17:30:39|  45.0|      12.98|\n",
            "|0006ec9db01a64e59...|             1|99a4788cb24856965...|4a3ca9315b744ce9f...|2018-07-26 17:24:20|  74.0|      23.32|\n",
            "|0008288aa423d2a3f...|             1|368c6c730842d7801...|1f50f920176fa81da...|2018-02-21 02:55:52|  49.9|      13.37|\n",
            "|0008288aa423d2a3f...|             2|368c6c730842d7801...|1f50f920176fa81da...|2018-02-21 02:55:52|  49.9|      13.37|\n",
            "|0009792311464db53...|             1|8cab8abac59158715...|530ec6109d11eaaf8...|2018-08-17 12:15:10|  99.9|      27.65|\n",
            "|0009c9a17f916a706...|             1|3f27ac8e699df3d30...|fcb5ace8bcc92f757...|2018-05-02 09:31:53| 639.0|      11.34|\n",
            "|000aed2e25dbad2f9...|             1|4fa33915031a8cde0...|fe2032dab1a61af87...|2018-05-16 20:57:03| 144.0|       8.77|\n",
            "|000c3e6612759851c...|             1|b50c950aba0dcead2...|218d46b86c1881d02...|2017-08-21 03:33:13|  99.0|      13.71|\n",
            "|000e562887b1f2006...|             1|5ed9eaf534f6936b5...|8cbac7e12637ed9cf...|2018-02-28 12:08:37|  25.0|      16.11|\n",
            "+--------------------+--------------+--------------------+--------------------+-------------------+------+-----------+\n",
            "only showing top 20 rows\n",
            "\n",
            "+--------------------+-------------------+--------------+------------------+---------------+\n",
            "|           id_pedido|sequencia_pagamento|tipo_pagamento|parcelas_pagamento|valor_pagamento|\n",
            "+--------------------+-------------------+--------------+------------------+---------------+\n",
            "|b81ef226f3fe1789b...|                  1|   credit_card|                 8|          99.33|\n",
            "|a9810da82917af2d9...|                  1|   credit_card|                 1|          24.39|\n",
            "|25e8ea4e93396b6fa...|                  1|   credit_card|                 1|          65.71|\n",
            "|ba78997921bbcdc13...|                  1|   credit_card|                 8|         107.78|\n",
            "|42fdf880ba16b47b5...|                  1|   credit_card|                 2|         128.45|\n",
            "|298fcdf1f73eb413e...|                  1|   credit_card|                 2|          96.12|\n",
            "|771ee386b001f0620...|                  1|   credit_card|                 1|          81.16|\n",
            "|3d7239c394a212faa...|                  1|   credit_card|                 3|          51.84|\n",
            "|1f78449c87a54faf9...|                  1|   credit_card|                 6|         341.09|\n",
            "|0573b5e23cbd79800...|                  1|        boleto|                 1|          51.95|\n",
            "|d88e0d5fa41661ce0...|                  1|   credit_card|                 8|         188.73|\n",
            "|2480f727e869fdeb3...|                  1|   credit_card|                 1|          141.9|\n",
            "|616105c9352a9668c...|                  1|   credit_card|                 1|          75.78|\n",
            "|cf95215a722f3ebf2...|                  1|   credit_card|                 5|         102.66|\n",
            "|769214176682788a9...|                  1|   credit_card|                 4|         105.28|\n",
            "|12e5cfe0e4716b59a...|                  1|   credit_card|                10|         157.45|\n",
            "|61059985a6fc0ad64...|                  1|   credit_card|                 1|         132.04|\n",
            "|79da3f5fe31ad1e45...|                  1|   credit_card|                 1|          98.94|\n",
            "|8ac09207f415d55ac...|                  1|   credit_card|                 4|         244.15|\n",
            "|b2349a3f20dfbeef6...|                  1|   credit_card|                 3|         136.71|\n",
            "+--------------------+-------------------+--------------+------------------+---------------+\n",
            "only showing top 20 rows\n",
            "\n"
          ]
        }
      ]
    },
    {
      "cell_type": "code",
      "source": [
        "pagamentos_pedido.createOrReplaceTempView('pagamentos_pedido')\n",
        "salario_medio_sql = spark.sql(\"\"\"\n",
        "SELECT*\n",
        "FROM pagamentos_pedido\n",
        "WHERE valor_pagamento >(\n",
        "  SELECT AVG(valor_pagamento)\n",
        "  FROM pagamentos_pedido\n",
        ")\n",
        "\"\"\")\n",
        "\n",
        "salario_medio_df = pagamentos_pedido.agg(avg('valor_pagamento').alias('pagamento_medio'))\n",
        "\n",
        "salario_medio = pagamentos_pedido.agg(avg('valor_pagamento').alias('pagamento_medio')).collect()[0][0] #Carregar a lista para o drive\n",
        "pedidos_filtrados_df = pagamentos_pedido.filter(pagamentos_pedido['valor_pagamento'] > salario_medio)\n",
        "\n",
        "#Corrected variable names to match where they were defined\n",
        "salario_medio_df.show() #Changed avg_salary_df to salario_medio_df\n",
        "print(salario_medio) #Changed avg_salary to salario_medio\n",
        "pedidos_filtrados_df.show() #Changed df_filtered to pedidos_filtrados_df\n"
      ],
      "metadata": {
        "colab": {
          "base_uri": "https://localhost:8080/"
        },
        "id": "iRKTWNq8wTVZ",
        "outputId": "6ab0ba35-4088-490c-ec96-3771317009b8"
      },
      "execution_count": 11,
      "outputs": [
        {
          "output_type": "stream",
          "name": "stdout",
          "text": [
            "+------------------+\n",
            "|   pagamento_medio|\n",
            "+------------------+\n",
            "|154.10038041698573|\n",
            "+------------------+\n",
            "\n",
            "154.10038041698573\n",
            "+--------------------+-------------------+--------------+------------------+---------------+\n",
            "|           id_pedido|sequencia_pagamento|tipo_pagamento|parcelas_pagamento|valor_pagamento|\n",
            "+--------------------+-------------------+--------------+------------------+---------------+\n",
            "|1f78449c87a54faf9...|                  1|   credit_card|                 6|         341.09|\n",
            "|d88e0d5fa41661ce0...|                  1|   credit_card|                 8|         188.73|\n",
            "|12e5cfe0e4716b59a...|                  1|   credit_card|                10|         157.45|\n",
            "|8ac09207f415d55ac...|                  1|   credit_card|                 4|         244.15|\n",
            "|4214cda550ece8ee6...|                  1|   credit_card|                 2|         170.57|\n",
            "|4d680edbaa7d3d9be...|                  1|   credit_card|                10|         353.09|\n",
            "|8cd68144cdb62dc0d...|                  1|        boleto|                 1|         330.66|\n",
            "|d0a945f85ba1074b6...|                  1|   credit_card|                 2|          541.0|\n",
            "|5d9c5817e278892b7...|                  1|   credit_card|                 2|         290.16|\n",
            "|b69b9260e79a0da00...|                  1|        boleto|                 1|         283.34|\n",
            "|b2bb080b6bc860118...|                  1|   credit_card|                 1|         173.84|\n",
            "|1dcf0c8cd36ffaf57...|                  1|   credit_card|                 3|         157.15|\n",
            "|c10d412026c4077b8...|                  1|   credit_card|                 1|         266.16|\n",
            "|d574338f566ca28dd...|                  1|   credit_card|                 4|         278.22|\n",
            "|2e2c60b99754ae1e4...|                  1|   credit_card|                 4|         542.66|\n",
            "|1ffb3c1929b16d9c1...|                  1|        boleto|                 1|         166.04|\n",
            "|95442deb81a5d91c9...|                  1|        boleto|                 1|         368.98|\n",
            "|3ab4eea6776259ae8...|                  1|   credit_card|                 8|          387.8|\n",
            "|c108072ab31ec90a7...|                  1|   credit_card|                 4|         210.82|\n",
            "|110d9355d6338eab0...|                  1|   credit_card|                 5|          566.4|\n",
            "+--------------------+-------------------+--------------+------------------+---------------+\n",
            "only showing top 20 rows\n",
            "\n"
          ]
        }
      ]
    },
    {
      "cell_type": "code",
      "source": [
        "maior_preco_por_vendedor_df = itens_pedido.groupBy(\"id_vendedor\").agg(max(\"preco\").alias(\"max_preco\"))\n",
        "\n",
        "pedidos_com_maior_preco = itens_pedido.join(maior_preco_por_vendedor_df,\n",
        "                                             (itens_pedido[\"id_vendedor\"] == maior_preco_por_vendedor_df[\"id_vendedor\"]) &\n",
        "                                             (itens_pedido[\"preco\"] == maior_preco_por_vendedor_df[\"max_preco\"])\n",
        ").select(itens_pedido[\"*\"])\n",
        "\n",
        "maior_preco_por_vendedor_df.show()\n",
        "pedidos_com_maior_preco.show()"
      ],
      "metadata": {
        "colab": {
          "base_uri": "https://localhost:8080/"
        },
        "id": "i1mzNkqL6FRm",
        "outputId": "c441fb36-94b5-4c50-ea72-598c555bb4b9"
      },
      "execution_count": 12,
      "outputs": [
        {
          "output_type": "stream",
          "name": "stdout",
          "text": [
            "+--------------------+---------+\n",
            "|         id_vendedor|max_preco|\n",
            "+--------------------+---------+\n",
            "|ff063b022a9a0aab9...|   1230.0|\n",
            "|8e6cc767478edae94...|    371.2|\n",
            "|a49928bcdf77c55c6...|     89.9|\n",
            "|da7039f29f90ce5b4...|    128.0|\n",
            "|062ce95fa2ad4dfae...|    369.9|\n",
            "|2009a095de2a2a416...|     36.9|\n",
            "|0ea22c1cfbdc755f8...|     99.9|\n",
            "|6eeed17989b0ae47c...|    279.0|\n",
            "|e63e8bfa530fb1691...|     32.9|\n",
            "|4d600e08ecbe08258...|   699.17|\n",
            "|9803a40e82e45418a...|  2499.75|\n",
            "|b3f19518fcec265b2...|    99.99|\n",
            "|ec8879960bd2221d5...|    254.9|\n",
            "|0b64bcdb0784abc13...|     35.9|\n",
            "|c522be04e020c1e7b...|   139.99|\n",
            "|9c068d10aca38e85c...|    540.0|\n",
            "|297d5eccd19fa9a83...|   114.99|\n",
            "|9b1050e85becf3ae9...|    42.57|\n",
            "|a3082f442524a1be4...|     95.9|\n",
            "|e38db885400cd35c7...|     64.9|\n",
            "+--------------------+---------+\n",
            "only showing top 20 rows\n",
            "\n",
            "+--------------------+--------------+--------------------+--------------------+-------------------+------+-----------+\n",
            "|           id_pedido|item_id_pedido|          id_produto|         id_vendedor|  data_limite_envio| preco|valor_frete|\n",
            "+--------------------+--------------+--------------------+--------------------+-------------------+------+-----------+\n",
            "|000576fe39319847c...|             1|557d850972a7d6f79...|5996cddab893a4652...|2018-07-10 12:30:45| 810.0|      70.75|\n",
            "|00482f26707872922...|             1|a9c404971d1a5b1cb...|702835e4b785b67a0...|2017-02-17 16:18:07|   7.6|      10.96|\n",
            "|0064d74f7de7917d5...|             1|fa11ecd35f999783e...|2e90cb1677d35cfe2...|2017-09-14 21:55:22| 189.9|      31.17|\n",
            "|00789ce015e7e5791...|             1|f9d774a1820f79295...|2709af9587499e95e...|2017-07-04 23:43:34| 154.0|      14.83|\n",
            "|007beb35f98c07574...|             1|ce130b350f529a1d6...|e38db885400cd35c7...|2017-09-28 08:50:17|  64.9|      18.69|\n",
            "|008f831b7185cff7a...|             1|23f91e3d76be3938b...|1690cada046eb7e92...|2018-07-03 11:50:14| 249.0|      37.09|\n",
            "|00a3f1ef430d3984d...|             1|f8b624d4e475bb8d1...|b410bdd36d5db7a65...|2018-05-22 13:55:09| 179.0|      22.99|\n",
            "|00ae7a8b4936674eb...|             1|66f09a6de4f2ef63a...|bf0d50a6410d487dc...|2018-05-15 15:51:32|  27.9|       9.26|\n",
            "|00b4c651133c06fb1...|             1|87ea2f45559e10519...|6a38087bc8ad4f89f...|2018-08-22 14:27:21| 158.9|      14.59|\n",
            "|00c9d0257381c7e9e...|             1|958cd4fc82ce0223c...|abbf6046bbdf10286...|2018-04-24 09:11:59|362.45|      25.12|\n",
            "|00d1e381c0995f0bd...|             1|23227b07fc69250d2...|e38db885400cd35c7...|2018-03-29 16:10:31|  64.9|      20.18|\n",
            "|00d1e381c0995f0bd...|             2|23227b07fc69250d2...|e38db885400cd35c7...|2018-03-29 16:10:31|  64.9|      20.18|\n",
            "|00e32e413e017e64f...|             1|11a0fdc4251f15bb9...|77530e9772f57a62c...|2018-05-07 09:30:28| 299.0|      23.17|\n",
            "|00f86b368251d739f...|             1|9b08a09bf2fd9731c...|392353362d22cc2c2...|2018-08-20 23:30:08| 39.97|      18.38|\n",
            "|00f86b368251d739f...|             2|9b08a09bf2fd9731c...|392353362d22cc2c2...|2018-08-20 23:30:08| 39.97|      18.38|\n",
            "|00f86b368251d739f...|             3|9b08a09bf2fd9731c...|392353362d22cc2c2...|2018-08-20 23:30:08| 39.97|      18.38|\n",
            "|00f8fc0cb9d9b7813...|             1|9fb9a39f2e393018a...|c03121937e54a93fc...|2018-01-26 14:16:49| 149.0|      14.77|\n",
            "|00f9b0236a85fb8a0...|             1|b74cc46deca5ba8f6...|0ec28cec4046a4a19...|2018-04-27 16:32:17| 146.9|      19.72|\n",
            "|011375f941b3695c3...|             1|a6cef514bc1c722ff...|a3b0df0065e264a91...|2017-09-28 18:26:33|127.48|      16.81|\n",
            "|011a56023faf5bbb9...|             1|913eefa4eb54c8a9b...|71dc18fd8cbf5fd77...|2017-05-16 07:05:09| 120.0|      17.28|\n",
            "+--------------------+--------------+--------------------+--------------------+-------------------+------+-----------+\n",
            "only showing top 20 rows\n",
            "\n"
          ]
        }
      ]
    },
    {
      "cell_type": "code",
      "source": [
        "pedido_id_inicial = itens_pedido.withColumn(\"id_incial\", regexp_extract(\"id_pedido\", r\"^(.{5})\", 1))\n",
        "pedido_id_inicial.select(\"id_pedido\", \"id_incial\").show()"
      ],
      "metadata": {
        "colab": {
          "base_uri": "https://localhost:8080/"
        },
        "id": "h7yj3TAqBlsU",
        "outputId": "3097aae5-2364-4457-8c36-aa45dd708cb9"
      },
      "execution_count": 13,
      "outputs": [
        {
          "output_type": "stream",
          "name": "stdout",
          "text": [
            "+--------------------+---------+\n",
            "|           id_pedido|id_incial|\n",
            "+--------------------+---------+\n",
            "|00010242fe8c5a6d1...|    00010|\n",
            "|00018f77f2f0320c5...|    00018|\n",
            "|000229ec398224ef6...|    00022|\n",
            "|00024acbcdf0a6daa...|    00024|\n",
            "|00042b26cf59d7ce6...|    00042|\n",
            "|00048cc3ae777c65d...|    00048|\n",
            "|00054e8431b9d7675...|    00054|\n",
            "|000576fe39319847c...|    00057|\n",
            "|0005a1a1728c9d785...|    0005a|\n",
            "|0005f50442cb953dc...|    0005f|\n",
            "|00061f2a7bc09da83...|    00061|\n",
            "|00063b381e2406b52...|    00063|\n",
            "|0006ec9db01a64e59...|    0006e|\n",
            "|0008288aa423d2a3f...|    00082|\n",
            "|0008288aa423d2a3f...|    00082|\n",
            "|0009792311464db53...|    00097|\n",
            "|0009c9a17f916a706...|    0009c|\n",
            "|000aed2e25dbad2f9...|    000ae|\n",
            "|000c3e6612759851c...|    000c3|\n",
            "|000e562887b1f2006...|    000e5|\n",
            "+--------------------+---------+\n",
            "only showing top 20 rows\n",
            "\n"
          ]
        }
      ]
    },
    {
      "cell_type": "code",
      "source": [
        "from os import truncate\n",
        "vendedores_anonimo_df = itens_pedido.withColumn(\"id_vendedor_anonymized\", regexp_replace(\"id_vendedor\", \"[a-zA-Z]\", \"X\"))\n",
        "vendedores_anonimo_df.select(\"id_vendedor\", \"id_vendedor_anonymized\").show(truncate=False)"
      ],
      "metadata": {
        "colab": {
          "base_uri": "https://localhost:8080/"
        },
        "id": "iQlf7dfKD4vg",
        "outputId": "7232e15c-7710-470a-a527-11778f198b46"
      },
      "execution_count": 14,
      "outputs": [
        {
          "output_type": "stream",
          "name": "stdout",
          "text": [
            "+--------------------------------+--------------------------------+\n",
            "|id_vendedor                     |id_vendedor_anonymized          |\n",
            "+--------------------------------+--------------------------------+\n",
            "|48436dade18ac8b2bce089ec2a041202|48436XXXX18XX8X2XXX089XX2X041202|\n",
            "|dd7ddc04e1b6c2c614352b383efe2d36|XX7XXX04X1X6X2X614352X383XXX2X36|\n",
            "|5b51032eddd242adc84c38acab88f23d|5X51032XXXX242XXX84X38XXXX88X23X|\n",
            "|9d7a1d34a5052409006425275ba1c2b4|9X7X1X34X5052409006425275XX1X2X4|\n",
            "|df560393f3a51e74553ab94004ba5c87|XX560393X3X51X74553XX94004XX5X87|\n",
            "|6426d21aca402a131fc0a5d0960a3c90|6426X21XXX402X131XX0X5X0960X3X90|\n",
            "|7040e82f899a04d1b434b795a43b4617|7040X82X899X04X1X434X795X43X4617|\n",
            "|5996cddab893a4652a15592fb58ab8db|5996XXXXX893X4652X15592XX58XX8XX|\n",
            "|a416b6a846a11724393025641d4edd5e|X416X6X846X11724393025641X4XXX5X|\n",
            "|ba143b05f0110f0dc71ad71b4466ce92|XX143X05X0110X0XX71XX71X4466XX92|\n",
            "|cc419e0650a3c5ba77189a1882b7556a|XX419X0650X3X5XX77189X1882X7556X|\n",
            "|8602a61d680a10a82cceeeda0d99ea3d|8602X61X680X10X82XXXXXXX0X99XX3X|\n",
            "|4a3ca9315b744ce9f8e9374361493884|4X3XX9315X744XX9X8X9374361493884|\n",
            "|1f50f920176fa81dab994f9023523100|1X50X920176XX81XXX994X9023523100|\n",
            "|1f50f920176fa81dab994f9023523100|1X50X920176XX81XXX994X9023523100|\n",
            "|530ec6109d11eaaf87999465c6afee01|530XX6109X11XXXX87999465X6XXXX01|\n",
            "|fcb5ace8bcc92f75707dc0f01a27d269|XXX5XXX8XXX92X75707XX0X01X27X269|\n",
            "|fe2032dab1a61af8794248c8196565c9|XX2032XXX1X61XX8794248X8196565X9|\n",
            "|218d46b86c1881d022bce9c68a7d4b15|218X46X86X1881X022XXX9X68X7X4X15|\n",
            "|8cbac7e12637ed9cffa18c7875207478|8XXXX7X12637XX9XXXX18X7875207478|\n",
            "+--------------------------------+--------------------------------+\n",
            "only showing top 20 rows\n",
            "\n"
          ]
        }
      ]
    },
    {
      "cell_type": "code",
      "source": [
        "def calcular_total(preco, frete):\n",
        "  return preco + frete\n",
        "\n",
        "  calcular_soma_udf = udf(calcular_total, FloatType())\n",
        "\n",
        "  pedidos_valor_total_df = itens_pedido.withColumn(\"valor_total\", round(calcular_soma_udf(itens_pedido[\"preco\"], itens_pedido[\"frete\"]),2))\n",
        "  pedidos_valor_total_df.show()\n",
        "\n",
        "  df_with_total = itens_pedido.withColumn(\"valor_total\", round(col(\"preco\"), col(\"valor_frete\"),2))"
      ],
      "metadata": {
        "id": "UZqzAGx5F_xm"
      },
      "execution_count": 16,
      "outputs": []
    },
    {
      "cell_type": "code",
      "source": [
        "def classificar_preco(preco):\n",
        "  if preco < 50:\n",
        "    return \"Baixo\"\n",
        "  elif preco < 500:\n",
        "    return \"Médio\"\n",
        "  else:\n",
        "    return \"Alto\"\n",
        "\n",
        "classificar_preco_udf = udf(classificar_preco, StringType())\n",
        "\n",
        "pedidos_categoria_df = itens_pedido.withColumn(\"categoria_preco\", classificar_preco_udf(itens_pedido[\"preco\"]))\n",
        "pedidos_categoria_df.show()\n",
        "\n",
        "pedido_categoria_df = itens_pedido.withColumn(\n",
        "    \"categoria_preco\",\n",
        "     when(col(\"preco\") < 50, \"Baixo\")\n",
        "     .when((col(\"preco\") >= 50) & (col(\"preco\") < 500), \"Médio\")\n",
        "     .otherwise(\"Alto\")\n",
        ")"
      ],
      "metadata": {
        "colab": {
          "base_uri": "https://localhost:8080/"
        },
        "id": "5uC19_nzKH_5",
        "outputId": "26abb70e-eaea-4558-b24d-f6d47bd0d649"
      },
      "execution_count": 18,
      "outputs": [
        {
          "output_type": "stream",
          "name": "stdout",
          "text": [
            "+--------------------+--------------+--------------------+--------------------+-------------------+------+-----------+---------------+\n",
            "|           id_pedido|item_id_pedido|          id_produto|         id_vendedor|  data_limite_envio| preco|valor_frete|categoria_preco|\n",
            "+--------------------+--------------+--------------------+--------------------+-------------------+------+-----------+---------------+\n",
            "|00010242fe8c5a6d1...|             1|4244733e06e7ecb49...|48436dade18ac8b2b...|2017-09-19 09:45:35|  58.9|      13.29|          Médio|\n",
            "|00018f77f2f0320c5...|             1|e5f2d52b802189ee6...|dd7ddc04e1b6c2c61...|2017-05-03 11:05:13| 239.9|      19.93|          Médio|\n",
            "|000229ec398224ef6...|             1|c777355d18b72b67a...|5b51032eddd242adc...|2018-01-18 14:48:30| 199.0|      17.87|          Médio|\n",
            "|00024acbcdf0a6daa...|             1|7634da152a4610f15...|9d7a1d34a50524090...|2018-08-15 10:10:18| 12.99|      12.79|          Baixo|\n",
            "|00042b26cf59d7ce6...|             1|ac6c3623068f30de0...|df560393f3a51e745...|2017-02-13 13:57:51| 199.9|      18.14|          Médio|\n",
            "|00048cc3ae777c65d...|             1|ef92defde845ab845...|6426d21aca402a131...|2017-05-23 03:55:27|  21.9|      12.69|          Baixo|\n",
            "|00054e8431b9d7675...|             1|8d4f2bb7e93e6710a...|7040e82f899a04d1b...|2017-12-14 12:10:31|  19.9|      11.85|          Baixo|\n",
            "|000576fe39319847c...|             1|557d850972a7d6f79...|5996cddab893a4652...|2018-07-10 12:30:45| 810.0|      70.75|           Alto|\n",
            "|0005a1a1728c9d785...|             1|310ae3c140ff94b03...|a416b6a846a117243...|2018-03-26 18:31:29|145.95|      11.65|          Médio|\n",
            "|0005f50442cb953dc...|             1|4535b0e1091c278df...|ba143b05f0110f0dc...|2018-07-06 14:10:56| 53.99|       11.4|          Médio|\n",
            "|00061f2a7bc09da83...|             1|d63c1011f49d98b97...|cc419e0650a3c5ba7...|2018-03-29 22:28:09| 59.99|       8.88|          Médio|\n",
            "|00063b381e2406b52...|             1|f177554ea93259a5b...|8602a61d680a10a82...|2018-07-31 17:30:39|  45.0|      12.98|          Baixo|\n",
            "|0006ec9db01a64e59...|             1|99a4788cb24856965...|4a3ca9315b744ce9f...|2018-07-26 17:24:20|  74.0|      23.32|          Médio|\n",
            "|0008288aa423d2a3f...|             1|368c6c730842d7801...|1f50f920176fa81da...|2018-02-21 02:55:52|  49.9|      13.37|          Baixo|\n",
            "|0008288aa423d2a3f...|             2|368c6c730842d7801...|1f50f920176fa81da...|2018-02-21 02:55:52|  49.9|      13.37|          Baixo|\n",
            "|0009792311464db53...|             1|8cab8abac59158715...|530ec6109d11eaaf8...|2018-08-17 12:15:10|  99.9|      27.65|          Médio|\n",
            "|0009c9a17f916a706...|             1|3f27ac8e699df3d30...|fcb5ace8bcc92f757...|2018-05-02 09:31:53| 639.0|      11.34|           Alto|\n",
            "|000aed2e25dbad2f9...|             1|4fa33915031a8cde0...|fe2032dab1a61af87...|2018-05-16 20:57:03| 144.0|       8.77|          Médio|\n",
            "|000c3e6612759851c...|             1|b50c950aba0dcead2...|218d46b86c1881d02...|2017-08-21 03:33:13|  99.0|      13.71|          Médio|\n",
            "|000e562887b1f2006...|             1|5ed9eaf534f6936b5...|8cbac7e12637ed9cf...|2018-02-28 12:08:37|  25.0|      16.11|          Baixo|\n",
            "+--------------------+--------------+--------------------+--------------------+-------------------+------+-----------+---------------+\n",
            "only showing top 20 rows\n",
            "\n"
          ]
        }
      ]
    },
    {
      "cell_type": "code",
      "source": [
        "spark.stop()"
      ],
      "metadata": {
        "id": "C-eu1pN6PExS"
      },
      "execution_count": 19,
      "outputs": []
    }
  ]
}