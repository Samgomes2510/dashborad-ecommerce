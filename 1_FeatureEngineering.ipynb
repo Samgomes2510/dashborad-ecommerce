{
  "nbformat": 4,
  "nbformat_minor": 0,
  "metadata": {
    "colab": {
      "provenance": [],
      "authorship_tag": "ABX9TyOneQtvo5OnKnP7y1VCBalQ",
      "include_colab_link": true
    },
    "kernelspec": {
      "name": "python3",
      "display_name": "Python 3"
    },
    "language_info": {
      "name": "python"
    }
  },
  "cells": [
    {
      "cell_type": "markdown",
      "metadata": {
        "id": "view-in-github",
        "colab_type": "text"
      },
      "source": [
        "<a href=\"https://colab.research.google.com/github/Samgomes2510/dashborad-ecommerce/blob/main/1_FeatureEngineering.ipynb\" target=\"_parent\"><img src=\"https://colab.research.google.com/assets/colab-badge.svg\" alt=\"Open In Colab\"/></a>"
      ]
    },
    {
      "cell_type": "code",
      "execution_count": 1,
      "metadata": {
        "colab": {
          "base_uri": "https://localhost:8080/"
        },
        "id": "wsOYW5y26haI",
        "outputId": "fec60bf1-fadf-4955-a87f-fffdae7d20c3"
      },
      "outputs": [
        {
          "output_type": "stream",
          "name": "stdout",
          "text": [
            "Requirement already satisfied: pyspark in /usr/local/lib/python3.11/dist-packages (3.5.5)\n",
            "Requirement already satisfied: py4j==0.10.9.7 in /usr/local/lib/python3.11/dist-packages (from pyspark) (0.10.9.7)\n"
          ]
        }
      ],
      "source": [
        "!pip install pyspark"
      ]
    },
    {
      "cell_type": "code",
      "source": [
        "from google.colab import files\n",
        "uploaded = files.upload()"
      ],
      "metadata": {
        "colab": {
          "base_uri": "https://localhost:8080/",
          "height": 281
        },
        "id": "aXF4y3tO8-kx",
        "outputId": "6ce47752-65b5-4b2d-fd3b-17e4a88de74c"
      },
      "execution_count": 2,
      "outputs": [
        {
          "output_type": "display_data",
          "data": {
            "text/plain": [
              "<IPython.core.display.HTML object>"
            ],
            "text/html": [
              "\n",
              "     <input type=\"file\" id=\"files-ef4faae4-f733-46a7-9168-331ae7b6dfaf\" name=\"files[]\" multiple disabled\n",
              "        style=\"border:none\" />\n",
              "     <output id=\"result-ef4faae4-f733-46a7-9168-331ae7b6dfaf\">\n",
              "      Upload widget is only available when the cell has been executed in the\n",
              "      current browser session. Please rerun this cell to enable.\n",
              "      </output>\n",
              "      <script>// Copyright 2017 Google LLC\n",
              "//\n",
              "// Licensed under the Apache License, Version 2.0 (the \"License\");\n",
              "// you may not use this file except in compliance with the License.\n",
              "// You may obtain a copy of the License at\n",
              "//\n",
              "//      http://www.apache.org/licenses/LICENSE-2.0\n",
              "//\n",
              "// Unless required by applicable law or agreed to in writing, software\n",
              "// distributed under the License is distributed on an \"AS IS\" BASIS,\n",
              "// WITHOUT WARRANTIES OR CONDITIONS OF ANY KIND, either express or implied.\n",
              "// See the License for the specific language governing permissions and\n",
              "// limitations under the License.\n",
              "\n",
              "/**\n",
              " * @fileoverview Helpers for google.colab Python module.\n",
              " */\n",
              "(function(scope) {\n",
              "function span(text, styleAttributes = {}) {\n",
              "  const element = document.createElement('span');\n",
              "  element.textContent = text;\n",
              "  for (const key of Object.keys(styleAttributes)) {\n",
              "    element.style[key] = styleAttributes[key];\n",
              "  }\n",
              "  return element;\n",
              "}\n",
              "\n",
              "// Max number of bytes which will be uploaded at a time.\n",
              "const MAX_PAYLOAD_SIZE = 100 * 1024;\n",
              "\n",
              "function _uploadFiles(inputId, outputId) {\n",
              "  const steps = uploadFilesStep(inputId, outputId);\n",
              "  const outputElement = document.getElementById(outputId);\n",
              "  // Cache steps on the outputElement to make it available for the next call\n",
              "  // to uploadFilesContinue from Python.\n",
              "  outputElement.steps = steps;\n",
              "\n",
              "  return _uploadFilesContinue(outputId);\n",
              "}\n",
              "\n",
              "// This is roughly an async generator (not supported in the browser yet),\n",
              "// where there are multiple asynchronous steps and the Python side is going\n",
              "// to poll for completion of each step.\n",
              "// This uses a Promise to block the python side on completion of each step,\n",
              "// then passes the result of the previous step as the input to the next step.\n",
              "function _uploadFilesContinue(outputId) {\n",
              "  const outputElement = document.getElementById(outputId);\n",
              "  const steps = outputElement.steps;\n",
              "\n",
              "  const next = steps.next(outputElement.lastPromiseValue);\n",
              "  return Promise.resolve(next.value.promise).then((value) => {\n",
              "    // Cache the last promise value to make it available to the next\n",
              "    // step of the generator.\n",
              "    outputElement.lastPromiseValue = value;\n",
              "    return next.value.response;\n",
              "  });\n",
              "}\n",
              "\n",
              "/**\n",
              " * Generator function which is called between each async step of the upload\n",
              " * process.\n",
              " * @param {string} inputId Element ID of the input file picker element.\n",
              " * @param {string} outputId Element ID of the output display.\n",
              " * @return {!Iterable<!Object>} Iterable of next steps.\n",
              " */\n",
              "function* uploadFilesStep(inputId, outputId) {\n",
              "  const inputElement = document.getElementById(inputId);\n",
              "  inputElement.disabled = false;\n",
              "\n",
              "  const outputElement = document.getElementById(outputId);\n",
              "  outputElement.innerHTML = '';\n",
              "\n",
              "  const pickedPromise = new Promise((resolve) => {\n",
              "    inputElement.addEventListener('change', (e) => {\n",
              "      resolve(e.target.files);\n",
              "    });\n",
              "  });\n",
              "\n",
              "  const cancel = document.createElement('button');\n",
              "  inputElement.parentElement.appendChild(cancel);\n",
              "  cancel.textContent = 'Cancel upload';\n",
              "  const cancelPromise = new Promise((resolve) => {\n",
              "    cancel.onclick = () => {\n",
              "      resolve(null);\n",
              "    };\n",
              "  });\n",
              "\n",
              "  // Wait for the user to pick the files.\n",
              "  const files = yield {\n",
              "    promise: Promise.race([pickedPromise, cancelPromise]),\n",
              "    response: {\n",
              "      action: 'starting',\n",
              "    }\n",
              "  };\n",
              "\n",
              "  cancel.remove();\n",
              "\n",
              "  // Disable the input element since further picks are not allowed.\n",
              "  inputElement.disabled = true;\n",
              "\n",
              "  if (!files) {\n",
              "    return {\n",
              "      response: {\n",
              "        action: 'complete',\n",
              "      }\n",
              "    };\n",
              "  }\n",
              "\n",
              "  for (const file of files) {\n",
              "    const li = document.createElement('li');\n",
              "    li.append(span(file.name, {fontWeight: 'bold'}));\n",
              "    li.append(span(\n",
              "        `(${file.type || 'n/a'}) - ${file.size} bytes, ` +\n",
              "        `last modified: ${\n",
              "            file.lastModifiedDate ? file.lastModifiedDate.toLocaleDateString() :\n",
              "                                    'n/a'} - `));\n",
              "    const percent = span('0% done');\n",
              "    li.appendChild(percent);\n",
              "\n",
              "    outputElement.appendChild(li);\n",
              "\n",
              "    const fileDataPromise = new Promise((resolve) => {\n",
              "      const reader = new FileReader();\n",
              "      reader.onload = (e) => {\n",
              "        resolve(e.target.result);\n",
              "      };\n",
              "      reader.readAsArrayBuffer(file);\n",
              "    });\n",
              "    // Wait for the data to be ready.\n",
              "    let fileData = yield {\n",
              "      promise: fileDataPromise,\n",
              "      response: {\n",
              "        action: 'continue',\n",
              "      }\n",
              "    };\n",
              "\n",
              "    // Use a chunked sending to avoid message size limits. See b/62115660.\n",
              "    let position = 0;\n",
              "    do {\n",
              "      const length = Math.min(fileData.byteLength - position, MAX_PAYLOAD_SIZE);\n",
              "      const chunk = new Uint8Array(fileData, position, length);\n",
              "      position += length;\n",
              "\n",
              "      const base64 = btoa(String.fromCharCode.apply(null, chunk));\n",
              "      yield {\n",
              "        response: {\n",
              "          action: 'append',\n",
              "          file: file.name,\n",
              "          data: base64,\n",
              "        },\n",
              "      };\n",
              "\n",
              "      let percentDone = fileData.byteLength === 0 ?\n",
              "          100 :\n",
              "          Math.round((position / fileData.byteLength) * 100);\n",
              "      percent.textContent = `${percentDone}% done`;\n",
              "\n",
              "    } while (position < fileData.byteLength);\n",
              "  }\n",
              "\n",
              "  // All done.\n",
              "  yield {\n",
              "    response: {\n",
              "      action: 'complete',\n",
              "    }\n",
              "  };\n",
              "}\n",
              "\n",
              "scope.google = scope.google || {};\n",
              "scope.google.colab = scope.google.colab || {};\n",
              "scope.google.colab._files = {\n",
              "  _uploadFiles,\n",
              "  _uploadFilesContinue,\n",
              "};\n",
              "})(self);\n",
              "</script> "
            ]
          },
          "metadata": {}
        },
        {
          "output_type": "stream",
          "name": "stdout",
          "text": [
            "Saving avaliacoes_pedido.csv to avaliacoes_pedido.csv\n",
            "Saving clientes.csv to clientes.csv\n",
            "Saving itens_pedido.csv to itens_pedido.csv\n",
            "Saving pagamentos_pedido.csv to pagamentos_pedido.csv\n",
            "Saving pedidos.csv to pedidos.csv\n",
            "Saving produtos.csv to produtos.csv\n",
            "Saving vendedores.csv to vendedores.csv\n"
          ]
        }
      ]
    },
    {
      "cell_type": "code",
      "source": [
        "import pyspark\n",
        "from pyspark.sql import SparkSession\n",
        "from pyspark.sql.functions import when, col, datediff, substring"
      ],
      "metadata": {
        "id": "igb-tGCd64Tl"
      },
      "execution_count": 3,
      "outputs": []
    },
    {
      "cell_type": "code",
      "source": [
        "from google.colab import drive\n",
        "drive.mount('/content/drive')"
      ],
      "metadata": {
        "colab": {
          "base_uri": "https://localhost:8080/"
        },
        "id": "q3hNP27R7Un6",
        "outputId": "449a4948-f4bf-4598-869b-b6486895bb3b"
      },
      "execution_count": 4,
      "outputs": [
        {
          "output_type": "stream",
          "name": "stdout",
          "text": [
            "Mounted at /content/drive\n"
          ]
        }
      ]
    },
    {
      "cell_type": "code",
      "source": [
        "spark = SparkSession.builder.getOrCreate()"
      ],
      "metadata": {
        "id": "VDgCIzWe7XPE"
      },
      "execution_count": 5,
      "outputs": []
    },
    {
      "cell_type": "code",
      "source": [
        "clientes = spark.read.csv('clientes.csv', header=True, inferSchema=True)\n",
        "itens_pedido =  spark.read.csv('itens_pedido.csv', header=True, inferSchema=True)\n",
        "avaliacoes_pedido = spark.read.csv('avaliacoes_pedido.csv', header=True, inferSchema=True)\n",
        "pedidos = spark.read.csv('pedidos.csv', header=True, inferSchema=True)"
      ],
      "metadata": {
        "id": "0xSBFW367crg"
      },
      "execution_count": 6,
      "outputs": []
    },
    {
      "cell_type": "code",
      "source": [
        "avaliacoes_pedido_nps_df = avaliacoes_pedido.withColumn(\n",
        "    \"NPS_classificacao\",\n",
        "    when(col(\"nota_avaliacao\") == 5, \"Promotor\")\n",
        "    .when(col(\"nota_avaliacao\") == 4, \"Neutro\")\n",
        "    .when(col(\"nota_avaliacao\") == 3, \"Detrator\")\n",
        "    .otherwise(None)\n",
        ")\n",
        "avaliacoes_pedido_nps_df.show()\n"
      ],
      "metadata": {
        "colab": {
          "base_uri": "https://localhost:8080/"
        },
        "id": "dHmZRb0V73uh",
        "outputId": "2f747eb9-be64-4663-8463-88ce194c65a8"
      },
      "execution_count": 8,
      "outputs": [
        {
          "output_type": "stream",
          "name": "stdout",
          "text": [
            "+--------------------+--------------------+--------------+-----------------+--------------------+----------------------+-----------------------+-----------------+\n",
            "|        id_avaliacao|           id_pedido|nota_avaliacao|titulo_comentario| mensagem_comentario|data_criacao_avaliacao|data_resposta_avaliacao|NPS_classificacao|\n",
            "+--------------------+--------------------+--------------+-----------------+--------------------+----------------------+-----------------------+-----------------+\n",
            "|7bc2406110b926393...|73fc7af87114b3971...|             4|             NULL|                NULL|   2018-01-18 00:00:00|    2018-01-18 21:46:59|           Neutro|\n",
            "|80e641a11e56f04c1...|a548910a1c6147796...|             5|             NULL|                NULL|   2018-03-10 00:00:00|    2018-03-11 03:05:13|         Promotor|\n",
            "|228ce5500dc1d8e02...|f9e4b658b201a9f2e...|             5|             NULL|                NULL|   2018-02-17 00:00:00|    2018-02-18 14:36:24|         Promotor|\n",
            "|e64fb393e7b32834b...|658677c97b385a9be...|             5|             NULL|Recebi bem antes ...|   2017-04-21 00:00:00|    2017-04-21 22:02:06|         Promotor|\n",
            "|f7c4243c7fe1938f1...|8e6bfb81e283fa7e4...|             5|             NULL|Parabéns lojas la...|   2018-03-01 00:00:00|    2018-03-02 10:26:53|         Promotor|\n",
            "|15197aa66ff4d0650...|b18dcdf73be663668...|             1|             NULL|                NULL|   2018-04-13 00:00:00|    2018-04-16 00:39:37|             NULL|\n",
            "|07f9bee5d1b850860...|e48aa0d2dcec3a2e8...|             5|             NULL|                NULL|   2017-07-16 00:00:00|    2017-07-18 19:30:34|         Promotor|\n",
            "|7c6400515c67679fb...|c31a859e34e3adac2...|             5|             NULL|                NULL|   2018-08-14 00:00:00|    2018-08-14 21:36:06|         Promotor|\n",
            "|a3f6f7f6f433de0ae...|9c214ac970e842735...|             5|             NULL|                NULL|   2017-05-17 00:00:00|    2017-05-18 12:05:37|         Promotor|\n",
            "|8670d52e15e00043a...|b9bf720beb4ab3728...|             4|        recomendo|aparelho eficient...|   2018-05-22 00:00:00|    2018-05-23 16:45:47|           Neutro|\n",
            "|c9cfd2d5ab5911836...|cdf9aa68e72324eeb...|             5|             NULL|                NULL|   2017-12-23 00:00:00|    2017-12-26 14:36:03|         Promotor|\n",
            "|96052551d87e5f62e...|3d374c9e46530bb5e...|             5|             NULL|                NULL|   2017-12-19 00:00:00|    2017-12-20 10:25:22|         Promotor|\n",
            "|4b49719c8a200003f...|9d6f15f95d01e79bd...|             4|             NULL|Mas um pouco ,tra...|                  NULL|                   NULL|           Neutro|\n",
            "|,2018-02-16 00:00...|                NULL|          NULL|             NULL|                NULL|                  NULL|                   NULL|             NULL|\n",
            "|23f75a37effc35d9a...|2eaf8e099d871cd5c...|             4|             NULL|                NULL|   2018-03-28 00:00:00|    2018-03-30 15:10:55|           Neutro|\n",
            "|9a0abbb668bafb95a...|d7bd0e4afdf94846e...|             3|             NULL|                NULL|   2017-04-30 00:00:00|    2017-05-03 00:02:22|         Detrator|\n",
            "|3948b09f7c818e2d8...|e51478e7e277a8374...|             5|  Super recomendo|Vendedor confiáve...|   2018-05-23 00:00:00|    2018-05-24 03:00:01|         Promotor|\n",
            "|9314d6f9799f5bfba...|0dacf04c5ad59fd5a...|             2|             NULL|GOSTARIA DE SABER...|   2018-01-18 00:00:00|    2018-01-20 21:25:45|             NULL|\n",
            "|8e15a274d95600fa1...|ff1581e08b3011021...|             5|             NULL|                NULL|   2018-03-24 00:00:00|    2018-03-26 15:58:32|         Promotor|\n",
            "|fdbdb2629a7cde0f6...|70a752414a13d09cc...|             3|             NULL|                NULL|   2017-09-29 00:00:00|    2017-10-02 01:12:49|         Detrator|\n",
            "+--------------------+--------------------+--------------+-----------------+--------------------+----------------------+-----------------------+-----------------+\n",
            "only showing top 20 rows\n",
            "\n"
          ]
        }
      ]
    },
    {
      "cell_type": "code",
      "source": [
        "total_respostas = avaliacoes_pedido_nps_df.filter(col(\"nota_avaliacao\").isNotNull()).count()\n",
        "promotores = avaliacoes_pedido_nps_df.filter(col(\"NPS_classificacao\") == \"Promotor\").count()\n",
        "detratores = avaliacoes_pedido_nps_df.filter(col(\"NPS_classificacao\") == \"Detrator\").count()\n",
        "\n",
        "nps = ((promotores - detratores) / total_respostas) * 100 if total_respostas != 0 else 0\n",
        "\n",
        "print(f\"NPS: {nps:.2f}%\")"
      ],
      "metadata": {
        "colab": {
          "base_uri": "https://localhost:8080/"
        },
        "id": "zjGKQnpZAmwp",
        "outputId": "1d875bbc-affd-43ee-b1d4-31bc08111355"
      },
      "execution_count": 9,
      "outputs": [
        {
          "output_type": "stream",
          "name": "stdout",
          "text": [
            "NPS: 48.29%\n"
          ]
        }
      ]
    },
    {
      "cell_type": "code",
      "source": [
        "clientes_regiao_df = clientes.withColumn('Regiao',\n",
        "     when(col('estado_cliente').isin(['AC', 'AM', 'AP', 'PA', 'RO', 'RR', 'TO']),'Norte')\n",
        "     .when(col('estado_cliente').isin(['AL', 'BA', 'CE', 'MA', 'PB','PE', 'PI', 'RN', 'RN', 'SE']),'Nordeste')\n",
        "    .when(col('estado_cliente').isin(['ES', 'SP', 'RJ', 'MG']), 'Sudeste')\n",
        "    .when(col('estado_cliente').isin(['GO', 'MT', 'MS', 'DF']), 'Centro-Oeste')\n",
        "    .otherwise('Desconhecido')\n",
        ")\n",
        "clientes_regiao_df.show()"
      ],
      "metadata": {
        "colab": {
          "base_uri": "https://localhost:8080/"
        },
        "id": "nVWhJYnQC4X5",
        "outputId": "ca39d5b4-750f-4ca3-8e39-fef5f0ded830"
      },
      "execution_count": 11,
      "outputs": [
        {
          "output_type": "stream",
          "name": "stdout",
          "text": [
            "+--------------------+--------------------+-----------+--------------------+--------------+------------+\n",
            "|          id_cliente|    id_unico_cliente|cep_cliente|      cidade_cliente|estado_cliente|      Regiao|\n",
            "+--------------------+--------------------+-----------+--------------------+--------------+------------+\n",
            "|06b8999e2fba1a1fb...|861eff4711a542e4b...|      14409|              franca|            SP|     Sudeste|\n",
            "|18955e83d337fd6b2...|290c77bc529b7ac93...|       9790|sao bernardo do c...|            SP|     Sudeste|\n",
            "|4e7b3e00288586ebd...|060e732b5b29e8181...|       1151|           sao paulo|            SP|     Sudeste|\n",
            "|b2b6027bc5c5109e5...|259dac757896d24d7...|       8775|     mogi das cruzes|            SP|     Sudeste|\n",
            "|4f2d8ab171c80ec83...|345ecd01c38d18a90...|      13056|            campinas|            SP|     Sudeste|\n",
            "|879864dab9bc30475...|4c93744516667ad3b...|      89254|      jaragua do sul|            SC|Desconhecido|\n",
            "|fd826e7cf63160e53...|addec96d2e059c80c...|       4534|           sao paulo|            SP|     Sudeste|\n",
            "|5e274e7a0c3809e14...|57b2a98a409812fe9...|      35182|             timoteo|            MG|     Sudeste|\n",
            "|5adf08e34b2e99398...|1175e95fb47ddff9d...|      81560|            curitiba|            PR|Desconhecido|\n",
            "|4b7139f34592b3a31...|9afe194fb833f79e3...|      30575|      belo horizonte|            MG|     Sudeste|\n",
            "|9fb35e4ed6f0a14a4...|2a7745e1ed516b289...|      39400|       montes claros|            MG|     Sudeste|\n",
            "|5aa9e4fdd4dfd2095...|2a46fb94aef5cbeeb...|      20231|      rio de janeiro|            RJ|     Sudeste|\n",
            "|b2d1536598b73a9ab...|918dc87cd72cd9f6e...|      18682|    lencois paulista|            SP|     Sudeste|\n",
            "|eabebad39a88bb6f5...|295c05e81917928d7...|       5704|           sao paulo|            SP|     Sudeste|\n",
            "|1f1c7bf1c9b041b29...|3151a81801c838636...|      95110|       caxias do sul|            RS|Desconhecido|\n",
            "|206f3129c0e4d7d0b...|21f748a16f4e1688a...|      13412|          piracicaba|            SP|     Sudeste|\n",
            "|a7c125a0a07b75146...|5c2991dbd08bbf3cf...|      22750|      rio de janeiro|            RJ|     Sudeste|\n",
            "|c5c61596a3b6bd0ce...|b6e99561fe6f34a55...|       7124|           guarulhos|            SP|     Sudeste|\n",
            "|9b8ce803689b3562d...|7f3a72e8f988c6e73...|       5416|           sao paulo|            SP|     Sudeste|\n",
            "|49d0ea0986edde72d...|3e6fd6b2f0d499456...|      68485|              pacaja|            PA|       Norte|\n",
            "+--------------------+--------------------+-----------+--------------------+--------------+------------+\n",
            "only showing top 20 rows\n",
            "\n"
          ]
        }
      ]
    },
    {
      "cell_type": "code",
      "source": [
        "pedido_tempo_entrega_df = pedidos.withColumn('tempo_entrega', datediff(col('data_entrega_cliente'), col('data_compra_pedido')))\n",
        "pedido_tempo_entrega_df.show()"
      ],
      "metadata": {
        "colab": {
          "base_uri": "https://localhost:8080/"
        },
        "id": "kGxIjD_rGL9v",
        "outputId": "d7a469fb-3d22-474c-8a41-45878b542a56"
      },
      "execution_count": 14,
      "outputs": [
        {
          "output_type": "stream",
          "name": "stdout",
          "text": [
            "+--------------------+--------------------+-------------+-------------------+---------------------+-------------------------+--------------------+---------------------+-------------+\n",
            "|           id_pedido|          id_cliente|status_pedido| data_compra_pedido|data_aprovacao_pedido|data_envio_transportadora|data_entrega_cliente|data_estimada_entrega|tempo_entrega|\n",
            "+--------------------+--------------------+-------------+-------------------+---------------------+-------------------------+--------------------+---------------------+-------------+\n",
            "|e481f51cbdc54678b...|9ef432eb625129730...|    delivered|2017-10-02 10:56:33|  2017-10-02 11:07:15|      2017-10-04 19:55:00| 2017-10-10 21:25:13|  2017-10-18 00:00:00|            8|\n",
            "|53cdb2fc8bc7dce0b...|b0830fb4747a6c6d2...|    delivered|2018-07-24 20:41:37|  2018-07-26 03:24:27|      2018-07-26 14:31:00| 2018-08-07 15:27:45|  2018-08-13 00:00:00|           14|\n",
            "|47770eb9100c2d0c4...|41ce2a54c0b03bf34...|    delivered|2018-08-08 08:38:49|  2018-08-08 08:55:23|      2018-08-08 13:50:00| 2018-08-17 18:06:29|  2018-09-04 00:00:00|            9|\n",
            "|949d5b44dbf5de918...|f88197465ea7920ad...|    delivered|2017-11-18 19:28:06|  2017-11-18 19:45:59|      2017-11-22 13:39:59| 2017-12-02 00:28:42|  2017-12-15 00:00:00|           14|\n",
            "|ad21c59c0840e6cb8...|8ab97904e6daea886...|    delivered|2018-02-13 21:18:39|  2018-02-13 22:20:29|      2018-02-14 19:46:34| 2018-02-16 18:17:02|  2018-02-26 00:00:00|            3|\n",
            "|a4591c265e18cb1dc...|503740e9ca751ccdd...|    delivered|2017-07-09 21:57:05|  2017-07-09 22:10:13|      2017-07-11 14:58:04| 2017-07-26 10:57:55|  2017-08-01 00:00:00|           17|\n",
            "|136cce7faa42fdb2c...|ed0271e0b7da060a3...|     invoiced|2017-04-11 12:22:08|  2017-04-13 13:25:17|                     NULL|                NULL|  2017-05-09 00:00:00|         NULL|\n",
            "|6514b8ad8028c9f2c...|9bdf08b4b3b52b552...|    delivered|2017-05-16 13:10:30|  2017-05-16 13:22:11|      2017-05-22 10:07:46| 2017-05-26 12:55:51|  2017-06-07 00:00:00|           10|\n",
            "|76c6e866289321a7c...|f54a9f0e6b351c431...|    delivered|2017-01-23 18:29:09|  2017-01-25 02:50:47|      2017-01-26 14:16:31| 2017-02-02 14:08:10|  2017-03-06 00:00:00|           10|\n",
            "|e69bfb5eb88e0ed6a...|31ad1d1b63eb99624...|    delivered|2017-07-29 11:55:02|  2017-07-29 12:05:32|      2017-08-10 19:45:24| 2017-08-16 17:14:30|  2017-08-23 00:00:00|           18|\n",
            "|e6ce16cb79ec1d90b...|494dded5b201313c6...|    delivered|2017-05-16 19:41:10|  2017-05-16 19:50:18|      2017-05-18 11:40:40| 2017-05-29 11:18:31|  2017-06-07 00:00:00|           13|\n",
            "|34513ce0c4fab462a...|7711cf624183d843a...|    delivered|2017-07-13 19:58:11|  2017-07-13 20:10:08|      2017-07-14 18:43:29| 2017-07-19 14:04:48|  2017-08-08 00:00:00|            6|\n",
            "|82566a660a982b15f...|d3e3b74c766bc6214...|    delivered|2018-06-07 10:06:19|  2018-06-09 03:13:12|      2018-06-11 13:29:00| 2018-06-19 12:05:52|  2018-07-18 00:00:00|           12|\n",
            "|5ff96c15d0b717ac6...|19402a48fe860416a...|    delivered|2018-07-25 17:44:10|  2018-07-25 17:55:14|      2018-07-26 13:16:00| 2018-07-30 15:52:25|  2018-08-08 00:00:00|            5|\n",
            "|432aaf21d85167c2c...|3df704f53d3f1d481...|    delivered|2018-03-01 14:14:28|  2018-03-01 15:10:47|      2018-03-02 21:09:20| 2018-03-12 23:36:26|  2018-03-21 00:00:00|           11|\n",
            "|dcb36b511fcac050b...|3b6828a50ffe54694...|    delivered|2018-06-07 19:03:12|  2018-06-12 23:31:02|      2018-06-11 14:54:00| 2018-06-21 15:34:32|  2018-07-04 00:00:00|           14|\n",
            "|403b97836b0c04a62...|738b086814c6fcc74...|    delivered|2018-01-02 19:00:43|  2018-01-02 19:09:04|      2018-01-03 18:19:09| 2018-01-20 01:38:59|  2018-02-06 00:00:00|           18|\n",
            "|116f0b09343b49556...|3187789bec9909876...|    delivered|2017-12-26 23:41:31|  2017-12-26 23:50:22|      2017-12-28 18:33:05| 2018-01-08 22:36:36|  2018-01-29 00:00:00|           13|\n",
            "|85ce859fd6dc634de...|059f7fc5719c7da6c...|    delivered|2017-11-21 00:03:41|  2017-11-21 00:14:22|      2017-11-23 21:32:26| 2017-11-27 18:28:00|  2017-12-11 00:00:00|            6|\n",
            "|83018ec114eee8641...|7f8c8b9c2ae27bf33...|    delivered|2017-10-26 15:54:26|  2017-10-26 16:08:14|      2017-10-26 21:46:53| 2017-11-08 22:22:00|  2017-11-23 00:00:00|           13|\n",
            "+--------------------+--------------------+-------------+-------------------+---------------------+-------------------------+--------------------+---------------------+-------------+\n",
            "only showing top 20 rows\n",
            "\n"
          ]
        }
      ]
    },
    {
      "cell_type": "code",
      "source": [
        "pedido_ano_df = pedido_tempo_entrega_df.withColumn('ano_entrega', substring(col('data_compra_pedido'), 1, 4))\n",
        "pedido_ano_df.show()"
      ],
      "metadata": {
        "colab": {
          "base_uri": "https://localhost:8080/"
        },
        "id": "q3-gs-2cHYA1",
        "outputId": "5cde3b28-1460-4f93-adad-d64ec54f8074"
      },
      "execution_count": 16,
      "outputs": [
        {
          "output_type": "stream",
          "name": "stdout",
          "text": [
            "+--------------------+--------------------+-------------+-------------------+---------------------+-------------------------+--------------------+---------------------+-------------+-----------+\n",
            "|           id_pedido|          id_cliente|status_pedido| data_compra_pedido|data_aprovacao_pedido|data_envio_transportadora|data_entrega_cliente|data_estimada_entrega|tempo_entrega|ano_entrega|\n",
            "+--------------------+--------------------+-------------+-------------------+---------------------+-------------------------+--------------------+---------------------+-------------+-----------+\n",
            "|e481f51cbdc54678b...|9ef432eb625129730...|    delivered|2017-10-02 10:56:33|  2017-10-02 11:07:15|      2017-10-04 19:55:00| 2017-10-10 21:25:13|  2017-10-18 00:00:00|            8|       2017|\n",
            "|53cdb2fc8bc7dce0b...|b0830fb4747a6c6d2...|    delivered|2018-07-24 20:41:37|  2018-07-26 03:24:27|      2018-07-26 14:31:00| 2018-08-07 15:27:45|  2018-08-13 00:00:00|           14|       2018|\n",
            "|47770eb9100c2d0c4...|41ce2a54c0b03bf34...|    delivered|2018-08-08 08:38:49|  2018-08-08 08:55:23|      2018-08-08 13:50:00| 2018-08-17 18:06:29|  2018-09-04 00:00:00|            9|       2018|\n",
            "|949d5b44dbf5de918...|f88197465ea7920ad...|    delivered|2017-11-18 19:28:06|  2017-11-18 19:45:59|      2017-11-22 13:39:59| 2017-12-02 00:28:42|  2017-12-15 00:00:00|           14|       2017|\n",
            "|ad21c59c0840e6cb8...|8ab97904e6daea886...|    delivered|2018-02-13 21:18:39|  2018-02-13 22:20:29|      2018-02-14 19:46:34| 2018-02-16 18:17:02|  2018-02-26 00:00:00|            3|       2018|\n",
            "|a4591c265e18cb1dc...|503740e9ca751ccdd...|    delivered|2017-07-09 21:57:05|  2017-07-09 22:10:13|      2017-07-11 14:58:04| 2017-07-26 10:57:55|  2017-08-01 00:00:00|           17|       2017|\n",
            "|136cce7faa42fdb2c...|ed0271e0b7da060a3...|     invoiced|2017-04-11 12:22:08|  2017-04-13 13:25:17|                     NULL|                NULL|  2017-05-09 00:00:00|         NULL|       2017|\n",
            "|6514b8ad8028c9f2c...|9bdf08b4b3b52b552...|    delivered|2017-05-16 13:10:30|  2017-05-16 13:22:11|      2017-05-22 10:07:46| 2017-05-26 12:55:51|  2017-06-07 00:00:00|           10|       2017|\n",
            "|76c6e866289321a7c...|f54a9f0e6b351c431...|    delivered|2017-01-23 18:29:09|  2017-01-25 02:50:47|      2017-01-26 14:16:31| 2017-02-02 14:08:10|  2017-03-06 00:00:00|           10|       2017|\n",
            "|e69bfb5eb88e0ed6a...|31ad1d1b63eb99624...|    delivered|2017-07-29 11:55:02|  2017-07-29 12:05:32|      2017-08-10 19:45:24| 2017-08-16 17:14:30|  2017-08-23 00:00:00|           18|       2017|\n",
            "|e6ce16cb79ec1d90b...|494dded5b201313c6...|    delivered|2017-05-16 19:41:10|  2017-05-16 19:50:18|      2017-05-18 11:40:40| 2017-05-29 11:18:31|  2017-06-07 00:00:00|           13|       2017|\n",
            "|34513ce0c4fab462a...|7711cf624183d843a...|    delivered|2017-07-13 19:58:11|  2017-07-13 20:10:08|      2017-07-14 18:43:29| 2017-07-19 14:04:48|  2017-08-08 00:00:00|            6|       2017|\n",
            "|82566a660a982b15f...|d3e3b74c766bc6214...|    delivered|2018-06-07 10:06:19|  2018-06-09 03:13:12|      2018-06-11 13:29:00| 2018-06-19 12:05:52|  2018-07-18 00:00:00|           12|       2018|\n",
            "|5ff96c15d0b717ac6...|19402a48fe860416a...|    delivered|2018-07-25 17:44:10|  2018-07-25 17:55:14|      2018-07-26 13:16:00| 2018-07-30 15:52:25|  2018-08-08 00:00:00|            5|       2018|\n",
            "|432aaf21d85167c2c...|3df704f53d3f1d481...|    delivered|2018-03-01 14:14:28|  2018-03-01 15:10:47|      2018-03-02 21:09:20| 2018-03-12 23:36:26|  2018-03-21 00:00:00|           11|       2018|\n",
            "|dcb36b511fcac050b...|3b6828a50ffe54694...|    delivered|2018-06-07 19:03:12|  2018-06-12 23:31:02|      2018-06-11 14:54:00| 2018-06-21 15:34:32|  2018-07-04 00:00:00|           14|       2018|\n",
            "|403b97836b0c04a62...|738b086814c6fcc74...|    delivered|2018-01-02 19:00:43|  2018-01-02 19:09:04|      2018-01-03 18:19:09| 2018-01-20 01:38:59|  2018-02-06 00:00:00|           18|       2018|\n",
            "|116f0b09343b49556...|3187789bec9909876...|    delivered|2017-12-26 23:41:31|  2017-12-26 23:50:22|      2017-12-28 18:33:05| 2018-01-08 22:36:36|  2018-01-29 00:00:00|           13|       2017|\n",
            "|85ce859fd6dc634de...|059f7fc5719c7da6c...|    delivered|2017-11-21 00:03:41|  2017-11-21 00:14:22|      2017-11-23 21:32:26| 2017-11-27 18:28:00|  2017-12-11 00:00:00|            6|       2017|\n",
            "|83018ec114eee8641...|7f8c8b9c2ae27bf33...|    delivered|2017-10-26 15:54:26|  2017-10-26 16:08:14|      2017-10-26 21:46:53| 2017-11-08 22:22:00|  2017-11-23 00:00:00|           13|       2017|\n",
            "+--------------------+--------------------+-------------+-------------------+---------------------+-------------------------+--------------------+---------------------+-------------+-----------+\n",
            "only showing top 20 rows\n",
            "\n"
          ]
        }
      ]
    },
    {
      "cell_type": "code",
      "source": [
        "clientes_regiao_df.write.mode('overwrite').option('header', 'true').parquet('clientes_regiao.parquet')\n",
        "\n",
        "spark.read.option('header', 'true').parquet('clientes_regiao.parquet').show()"
      ],
      "metadata": {
        "colab": {
          "base_uri": "https://localhost:8080/"
        },
        "id": "HpwQTT8YIaeT",
        "outputId": "8f849718-73d9-413e-c406-7eb742f0c012"
      },
      "execution_count": 19,
      "outputs": [
        {
          "output_type": "stream",
          "name": "stdout",
          "text": [
            "+--------------------+--------------------+-----------+--------------------+--------------+------------+\n",
            "|          id_cliente|    id_unico_cliente|cep_cliente|      cidade_cliente|estado_cliente|      Regiao|\n",
            "+--------------------+--------------------+-----------+--------------------+--------------+------------+\n",
            "|06b8999e2fba1a1fb...|861eff4711a542e4b...|      14409|              franca|            SP|     Sudeste|\n",
            "|18955e83d337fd6b2...|290c77bc529b7ac93...|       9790|sao bernardo do c...|            SP|     Sudeste|\n",
            "|4e7b3e00288586ebd...|060e732b5b29e8181...|       1151|           sao paulo|            SP|     Sudeste|\n",
            "|b2b6027bc5c5109e5...|259dac757896d24d7...|       8775|     mogi das cruzes|            SP|     Sudeste|\n",
            "|4f2d8ab171c80ec83...|345ecd01c38d18a90...|      13056|            campinas|            SP|     Sudeste|\n",
            "|879864dab9bc30475...|4c93744516667ad3b...|      89254|      jaragua do sul|            SC|Desconhecido|\n",
            "|fd826e7cf63160e53...|addec96d2e059c80c...|       4534|           sao paulo|            SP|     Sudeste|\n",
            "|5e274e7a0c3809e14...|57b2a98a409812fe9...|      35182|             timoteo|            MG|     Sudeste|\n",
            "|5adf08e34b2e99398...|1175e95fb47ddff9d...|      81560|            curitiba|            PR|Desconhecido|\n",
            "|4b7139f34592b3a31...|9afe194fb833f79e3...|      30575|      belo horizonte|            MG|     Sudeste|\n",
            "|9fb35e4ed6f0a14a4...|2a7745e1ed516b289...|      39400|       montes claros|            MG|     Sudeste|\n",
            "|5aa9e4fdd4dfd2095...|2a46fb94aef5cbeeb...|      20231|      rio de janeiro|            RJ|     Sudeste|\n",
            "|b2d1536598b73a9ab...|918dc87cd72cd9f6e...|      18682|    lencois paulista|            SP|     Sudeste|\n",
            "|eabebad39a88bb6f5...|295c05e81917928d7...|       5704|           sao paulo|            SP|     Sudeste|\n",
            "|1f1c7bf1c9b041b29...|3151a81801c838636...|      95110|       caxias do sul|            RS|Desconhecido|\n",
            "|206f3129c0e4d7d0b...|21f748a16f4e1688a...|      13412|          piracicaba|            SP|     Sudeste|\n",
            "|a7c125a0a07b75146...|5c2991dbd08bbf3cf...|      22750|      rio de janeiro|            RJ|     Sudeste|\n",
            "|c5c61596a3b6bd0ce...|b6e99561fe6f34a55...|       7124|           guarulhos|            SP|     Sudeste|\n",
            "|9b8ce803689b3562d...|7f3a72e8f988c6e73...|       5416|           sao paulo|            SP|     Sudeste|\n",
            "|49d0ea0986edde72d...|3e6fd6b2f0d499456...|      68485|              pacaja|            PA|       Norte|\n",
            "+--------------------+--------------------+-----------+--------------------+--------------+------------+\n",
            "only showing top 20 rows\n",
            "\n"
          ]
        }
      ]
    },
    {
      "cell_type": "code",
      "source": [
        "clientes_regiao_df.write.mode('overwrite').option('header', 'true').parquet('drive/MyDrive/Colab Notbooks/spark/clientes_regiao.parquet')\n",
        "\n",
        "spark.read.option('header', 'true').parquet('drive/MyDrive/Colab Notbooks/spark/clientes_regiao.parquet').show()"
      ],
      "metadata": {
        "colab": {
          "base_uri": "https://localhost:8080/"
        },
        "id": "p5y7CpWDJBkq",
        "outputId": "e0bd9127-35c5-4c40-c95c-2d6955a2ed4b"
      },
      "execution_count": 21,
      "outputs": [
        {
          "output_type": "stream",
          "name": "stdout",
          "text": [
            "+--------------------+--------------------+-----------+--------------------+--------------+------------+\n",
            "|          id_cliente|    id_unico_cliente|cep_cliente|      cidade_cliente|estado_cliente|      Regiao|\n",
            "+--------------------+--------------------+-----------+--------------------+--------------+------------+\n",
            "|06b8999e2fba1a1fb...|861eff4711a542e4b...|      14409|              franca|            SP|     Sudeste|\n",
            "|18955e83d337fd6b2...|290c77bc529b7ac93...|       9790|sao bernardo do c...|            SP|     Sudeste|\n",
            "|4e7b3e00288586ebd...|060e732b5b29e8181...|       1151|           sao paulo|            SP|     Sudeste|\n",
            "|b2b6027bc5c5109e5...|259dac757896d24d7...|       8775|     mogi das cruzes|            SP|     Sudeste|\n",
            "|4f2d8ab171c80ec83...|345ecd01c38d18a90...|      13056|            campinas|            SP|     Sudeste|\n",
            "|879864dab9bc30475...|4c93744516667ad3b...|      89254|      jaragua do sul|            SC|Desconhecido|\n",
            "|fd826e7cf63160e53...|addec96d2e059c80c...|       4534|           sao paulo|            SP|     Sudeste|\n",
            "|5e274e7a0c3809e14...|57b2a98a409812fe9...|      35182|             timoteo|            MG|     Sudeste|\n",
            "|5adf08e34b2e99398...|1175e95fb47ddff9d...|      81560|            curitiba|            PR|Desconhecido|\n",
            "|4b7139f34592b3a31...|9afe194fb833f79e3...|      30575|      belo horizonte|            MG|     Sudeste|\n",
            "|9fb35e4ed6f0a14a4...|2a7745e1ed516b289...|      39400|       montes claros|            MG|     Sudeste|\n",
            "|5aa9e4fdd4dfd2095...|2a46fb94aef5cbeeb...|      20231|      rio de janeiro|            RJ|     Sudeste|\n",
            "|b2d1536598b73a9ab...|918dc87cd72cd9f6e...|      18682|    lencois paulista|            SP|     Sudeste|\n",
            "|eabebad39a88bb6f5...|295c05e81917928d7...|       5704|           sao paulo|            SP|     Sudeste|\n",
            "|1f1c7bf1c9b041b29...|3151a81801c838636...|      95110|       caxias do sul|            RS|Desconhecido|\n",
            "|206f3129c0e4d7d0b...|21f748a16f4e1688a...|      13412|          piracicaba|            SP|     Sudeste|\n",
            "|a7c125a0a07b75146...|5c2991dbd08bbf3cf...|      22750|      rio de janeiro|            RJ|     Sudeste|\n",
            "|c5c61596a3b6bd0ce...|b6e99561fe6f34a55...|       7124|           guarulhos|            SP|     Sudeste|\n",
            "|9b8ce803689b3562d...|7f3a72e8f988c6e73...|       5416|           sao paulo|            SP|     Sudeste|\n",
            "|49d0ea0986edde72d...|3e6fd6b2f0d499456...|      68485|              pacaja|            PA|       Norte|\n",
            "+--------------------+--------------------+-----------+--------------------+--------------+------------+\n",
            "only showing top 20 rows\n",
            "\n"
          ]
        }
      ]
    },
    {
      "cell_type": "code",
      "source": [
        "spark.stop()"
      ],
      "metadata": {
        "id": "ExbeU_YZI8-Y"
      },
      "execution_count": 22,
      "outputs": []
    }
  ]
}