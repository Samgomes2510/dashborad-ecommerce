{
  "nbformat": 4,
  "nbformat_minor": 0,
  "metadata": {
    "colab": {
      "provenance": [],
      "authorship_tag": "ABX9TyNcVKX5f90FdJF92Ij06Yxn",
      "include_colab_link": true
    },
    "kernelspec": {
      "name": "python3",
      "display_name": "Python 3"
    },
    "language_info": {
      "name": "python"
    }
  },
  "cells": [
    {
      "cell_type": "markdown",
      "metadata": {
        "id": "view-in-github",
        "colab_type": "text"
      },
      "source": [
        "<a href=\"https://colab.research.google.com/github/Samgomes2510/dashborad-ecommerce/blob/main/1_IntroAgregacoes.ipynb\" target=\"_parent\"><img src=\"https://colab.research.google.com/assets/colab-badge.svg\" alt=\"Open In Colab\"/></a>"
      ]
    },
    {
      "cell_type": "code",
      "execution_count": 1,
      "metadata": {
        "colab": {
          "base_uri": "https://localhost:8080/"
        },
        "id": "ryTI-MGxXVla",
        "outputId": "9e1cf672-7c45-4bf8-f455-762dd23b3189"
      },
      "outputs": [
        {
          "output_type": "stream",
          "name": "stdout",
          "text": [
            "Requirement already satisfied: pyspark in /usr/local/lib/python3.11/dist-packages (3.5.1)\n",
            "Requirement already satisfied: py4j==0.10.9.7 in /usr/local/lib/python3.11/dist-packages (from pyspark) (0.10.9.7)\n"
          ]
        }
      ],
      "source": [
        "!pip install pyspark"
      ]
    },
    {
      "cell_type": "code",
      "source": [
        "import pyspark\n",
        "from pyspark.sql import SparkSession\n",
        "from pyspark.sql.functions import *"
      ],
      "metadata": {
        "id": "okVsjWHpXka0"
      },
      "execution_count": 2,
      "outputs": []
    },
    {
      "cell_type": "code",
      "source": [
        "from google.colab import files\n",
        "uploaded = files.upload()"
      ],
      "metadata": {
        "colab": {
          "base_uri": "https://localhost:8080/",
          "height": 73
        },
        "id": "XAkoUJYdbwxf",
        "outputId": "a8d5bfe4-2c06-45a4-a375-576bd781d07c"
      },
      "execution_count": 16,
      "outputs": [
        {
          "output_type": "display_data",
          "data": {
            "text/plain": [
              "<IPython.core.display.HTML object>"
            ],
            "text/html": [
              "\n",
              "     <input type=\"file\" id=\"files-fdd5d0ae-07b9-4e61-8cf1-58175162015e\" name=\"files[]\" multiple disabled\n",
              "        style=\"border:none\" />\n",
              "     <output id=\"result-fdd5d0ae-07b9-4e61-8cf1-58175162015e\">\n",
              "      Upload widget is only available when the cell has been executed in the\n",
              "      current browser session. Please rerun this cell to enable.\n",
              "      </output>\n",
              "      <script>// Copyright 2017 Google LLC\n",
              "//\n",
              "// Licensed under the Apache License, Version 2.0 (the \"License\");\n",
              "// you may not use this file except in compliance with the License.\n",
              "// You may obtain a copy of the License at\n",
              "//\n",
              "//      http://www.apache.org/licenses/LICENSE-2.0\n",
              "//\n",
              "// Unless required by applicable law or agreed to in writing, software\n",
              "// distributed under the License is distributed on an \"AS IS\" BASIS,\n",
              "// WITHOUT WARRANTIES OR CONDITIONS OF ANY KIND, either express or implied.\n",
              "// See the License for the specific language governing permissions and\n",
              "// limitations under the License.\n",
              "\n",
              "/**\n",
              " * @fileoverview Helpers for google.colab Python module.\n",
              " */\n",
              "(function(scope) {\n",
              "function span(text, styleAttributes = {}) {\n",
              "  const element = document.createElement('span');\n",
              "  element.textContent = text;\n",
              "  for (const key of Object.keys(styleAttributes)) {\n",
              "    element.style[key] = styleAttributes[key];\n",
              "  }\n",
              "  return element;\n",
              "}\n",
              "\n",
              "// Max number of bytes which will be uploaded at a time.\n",
              "const MAX_PAYLOAD_SIZE = 100 * 1024;\n",
              "\n",
              "function _uploadFiles(inputId, outputId) {\n",
              "  const steps = uploadFilesStep(inputId, outputId);\n",
              "  const outputElement = document.getElementById(outputId);\n",
              "  // Cache steps on the outputElement to make it available for the next call\n",
              "  // to uploadFilesContinue from Python.\n",
              "  outputElement.steps = steps;\n",
              "\n",
              "  return _uploadFilesContinue(outputId);\n",
              "}\n",
              "\n",
              "// This is roughly an async generator (not supported in the browser yet),\n",
              "// where there are multiple asynchronous steps and the Python side is going\n",
              "// to poll for completion of each step.\n",
              "// This uses a Promise to block the python side on completion of each step,\n",
              "// then passes the result of the previous step as the input to the next step.\n",
              "function _uploadFilesContinue(outputId) {\n",
              "  const outputElement = document.getElementById(outputId);\n",
              "  const steps = outputElement.steps;\n",
              "\n",
              "  const next = steps.next(outputElement.lastPromiseValue);\n",
              "  return Promise.resolve(next.value.promise).then((value) => {\n",
              "    // Cache the last promise value to make it available to the next\n",
              "    // step of the generator.\n",
              "    outputElement.lastPromiseValue = value;\n",
              "    return next.value.response;\n",
              "  });\n",
              "}\n",
              "\n",
              "/**\n",
              " * Generator function which is called between each async step of the upload\n",
              " * process.\n",
              " * @param {string} inputId Element ID of the input file picker element.\n",
              " * @param {string} outputId Element ID of the output display.\n",
              " * @return {!Iterable<!Object>} Iterable of next steps.\n",
              " */\n",
              "function* uploadFilesStep(inputId, outputId) {\n",
              "  const inputElement = document.getElementById(inputId);\n",
              "  inputElement.disabled = false;\n",
              "\n",
              "  const outputElement = document.getElementById(outputId);\n",
              "  outputElement.innerHTML = '';\n",
              "\n",
              "  const pickedPromise = new Promise((resolve) => {\n",
              "    inputElement.addEventListener('change', (e) => {\n",
              "      resolve(e.target.files);\n",
              "    });\n",
              "  });\n",
              "\n",
              "  const cancel = document.createElement('button');\n",
              "  inputElement.parentElement.appendChild(cancel);\n",
              "  cancel.textContent = 'Cancel upload';\n",
              "  const cancelPromise = new Promise((resolve) => {\n",
              "    cancel.onclick = () => {\n",
              "      resolve(null);\n",
              "    };\n",
              "  });\n",
              "\n",
              "  // Wait for the user to pick the files.\n",
              "  const files = yield {\n",
              "    promise: Promise.race([pickedPromise, cancelPromise]),\n",
              "    response: {\n",
              "      action: 'starting',\n",
              "    }\n",
              "  };\n",
              "\n",
              "  cancel.remove();\n",
              "\n",
              "  // Disable the input element since further picks are not allowed.\n",
              "  inputElement.disabled = true;\n",
              "\n",
              "  if (!files) {\n",
              "    return {\n",
              "      response: {\n",
              "        action: 'complete',\n",
              "      }\n",
              "    };\n",
              "  }\n",
              "\n",
              "  for (const file of files) {\n",
              "    const li = document.createElement('li');\n",
              "    li.append(span(file.name, {fontWeight: 'bold'}));\n",
              "    li.append(span(\n",
              "        `(${file.type || 'n/a'}) - ${file.size} bytes, ` +\n",
              "        `last modified: ${\n",
              "            file.lastModifiedDate ? file.lastModifiedDate.toLocaleDateString() :\n",
              "                                    'n/a'} - `));\n",
              "    const percent = span('0% done');\n",
              "    li.appendChild(percent);\n",
              "\n",
              "    outputElement.appendChild(li);\n",
              "\n",
              "    const fileDataPromise = new Promise((resolve) => {\n",
              "      const reader = new FileReader();\n",
              "      reader.onload = (e) => {\n",
              "        resolve(e.target.result);\n",
              "      };\n",
              "      reader.readAsArrayBuffer(file);\n",
              "    });\n",
              "    // Wait for the data to be ready.\n",
              "    let fileData = yield {\n",
              "      promise: fileDataPromise,\n",
              "      response: {\n",
              "        action: 'continue',\n",
              "      }\n",
              "    };\n",
              "\n",
              "    // Use a chunked sending to avoid message size limits. See b/62115660.\n",
              "    let position = 0;\n",
              "    do {\n",
              "      const length = Math.min(fileData.byteLength - position, MAX_PAYLOAD_SIZE);\n",
              "      const chunk = new Uint8Array(fileData, position, length);\n",
              "      position += length;\n",
              "\n",
              "      const base64 = btoa(String.fromCharCode.apply(null, chunk));\n",
              "      yield {\n",
              "        response: {\n",
              "          action: 'append',\n",
              "          file: file.name,\n",
              "          data: base64,\n",
              "        },\n",
              "      };\n",
              "\n",
              "      let percentDone = fileData.byteLength === 0 ?\n",
              "          100 :\n",
              "          Math.round((position / fileData.byteLength) * 100);\n",
              "      percent.textContent = `${percentDone}% done`;\n",
              "\n",
              "    } while (position < fileData.byteLength);\n",
              "  }\n",
              "\n",
              "  // All done.\n",
              "  yield {\n",
              "    response: {\n",
              "      action: 'complete',\n",
              "    }\n",
              "  };\n",
              "}\n",
              "\n",
              "scope.google = scope.google || {};\n",
              "scope.google.colab = scope.google.colab || {};\n",
              "scope.google.colab._files = {\n",
              "  _uploadFiles,\n",
              "  _uploadFilesContinue,\n",
              "};\n",
              "})(self);\n",
              "</script> "
            ]
          },
          "metadata": {}
        },
        {
          "output_type": "stream",
          "name": "stdout",
          "text": [
            "Saving produtos.csv to produtos.csv\n"
          ]
        }
      ]
    },
    {
      "cell_type": "code",
      "source": [
        "from google.colab import drive\n",
        "drive.mount('/content/drive')"
      ],
      "metadata": {
        "colab": {
          "base_uri": "https://localhost:8080/"
        },
        "id": "JgxcN9-6XyM3",
        "outputId": "4272ab9f-417b-4702-94f9-9e104a8f6a0c"
      },
      "execution_count": 17,
      "outputs": [
        {
          "output_type": "stream",
          "name": "stdout",
          "text": [
            "Drive already mounted at /content/drive; to attempt to forcibly remount, call drive.mount(\"/content/drive\", force_remount=True).\n"
          ]
        }
      ]
    },
    {
      "cell_type": "code",
      "source": [
        "spark = SparkSession.builder.getOrCreate()"
      ],
      "metadata": {
        "id": "jLbo-ZyQX9j0"
      },
      "execution_count": 4,
      "outputs": []
    },
    {
      "cell_type": "code",
      "source": [
        "import os\n",
        "print(os.listdir('/content'))"
      ],
      "metadata": {
        "colab": {
          "base_uri": "https://localhost:8080/"
        },
        "id": "VdqCoEezbvCG",
        "outputId": "df7948a1-994c-46a1-bc22-83782eb5d282"
      },
      "execution_count": 19,
      "outputs": [
        {
          "output_type": "stream",
          "name": "stdout",
          "text": [
            "['.config', 'produtos.csv', 'drive', 'sample_data']\n"
          ]
        }
      ]
    },
    {
      "cell_type": "code",
      "source": [
        "file_path = '/content/produtos.csv'\n",
        "\n",
        "produtos = spark.read.csv(file_path, header=True, inferSchema=True)\n"
      ],
      "metadata": {
        "id": "sQDrwhjecdh3"
      },
      "execution_count": 20,
      "outputs": []
    },
    {
      "cell_type": "code",
      "source": [
        "produtos.show(5)"
      ],
      "metadata": {
        "colab": {
          "base_uri": "https://localhost:8080/"
        },
        "id": "v1SI8miPcwR3",
        "outputId": "d2317e1a-3987-467d-935b-0fe799bd3916"
      },
      "execution_count": 21,
      "outputs": [
        {
          "output_type": "stream",
          "name": "stdout",
          "text": [
            "+--------------------+--------------------+--------------------+-------------------------+------------------------+--------------+----------------------+-----------------+------------------+\n",
            "|          id_produto|   categoria_produto|tamanho_nome_produto|tamanho_descricao_produto|quantidade_fotos_produto|peso_produto_g|comprimento_produto_cm|altura_produto_cm|largura_produto_cm|\n",
            "+--------------------+--------------------+--------------------+-------------------------+------------------------+--------------+----------------------+-----------------+------------------+\n",
            "|1e9e8ef04dbcff454...|          perfumaria|                  40|                      287|                       1|           225|                    16|               10|                14|\n",
            "|3aa071139cb16b67c...|               artes|                  44|                      276|                       1|          1000|                    30|               18|                20|\n",
            "|96bd76ec8810374ed...|       esporte_lazer|                  46|                      250|                       1|           154|                    18|                9|                15|\n",
            "|cef67bcfe19066a93...|               bebes|                  27|                      261|                       1|           371|                    26|                4|                26|\n",
            "|9dc1a7de274444849...|utilidades_domest...|                  37|                      402|                       4|           625|                    20|               17|                13|\n",
            "+--------------------+--------------------+--------------------+-------------------------+------------------------+--------------+----------------------+-----------------+------------------+\n",
            "only showing top 5 rows\n",
            "\n"
          ]
        }
      ]
    },
    {
      "cell_type": "code",
      "source": [
        "produtos_categoria_count_df = produtos.groupBy('categoria_produto').count()\n",
        "produtos_categoria_count_df.show()\n",
        "produtos.groupby('categoria_produto').avg().show()\n",
        "produtos.groupby('categoria_produto').min().show()\n",
        "produtos.groupby('categoria_produto').max().show()"
      ],
      "metadata": {
        "colab": {
          "base_uri": "https://localhost:8080/"
        },
        "id": "Z7_JJ2wheCuG",
        "outputId": "7cad322a-eff1-498a-cf2c-7e4772860b3b"
      },
      "execution_count": 22,
      "outputs": [
        {
          "output_type": "stream",
          "name": "stdout",
          "text": [
            "+--------------------+-----+\n",
            "|   categoria_produto|count|\n",
            "+--------------------+-----+\n",
            "|                 pcs|   30|\n",
            "|               bebes|  919|\n",
            "|               artes|   55|\n",
            "|           cine_foto|   28|\n",
            "|    moveis_decoracao| 2657|\n",
            "|            pc_gamer|    3|\n",
            "|construcao_ferram...|  400|\n",
            "|tablets_impressao...|    9|\n",
            "|fashion_roupa_mas...|   95|\n",
            "|   artigos_de_festas|   26|\n",
            "|    artigos_de_natal|   65|\n",
            "|          la_cuisine|   10|\n",
            "|              flores|   14|\n",
            "|     livros_tecnicos|  123|\n",
            "|                NULL|  610|\n",
            "|      telefonia_fixa|  116|\n",
            "|construcao_ferram...|   91|\n",
            "|          cool_stuff|  789|\n",
            "|    eletrodomesticos|  370|\n",
            "|   livros_importados|   31|\n",
            "+--------------------+-----+\n",
            "only showing top 20 rows\n",
            "\n",
            "+--------------------+-------------------------+------------------------------+-----------------------------+-------------------+---------------------------+----------------------+-----------------------+\n",
            "|   categoria_produto|avg(tamanho_nome_produto)|avg(tamanho_descricao_produto)|avg(quantidade_fotos_produto)|avg(peso_produto_g)|avg(comprimento_produto_cm)|avg(altura_produto_cm)|avg(largura_produto_cm)|\n",
            "+--------------------+-------------------------+------------------------------+-----------------------------+-------------------+---------------------------+----------------------+-----------------------+\n",
            "|                 pcs|        55.53333333333333|            2128.8333333333335|                          2.7|  7995.333333333333|          32.13333333333333|    34.333333333333336|                   40.1|\n",
            "|               bebes|        46.05658324265506|             824.2611534276388|            2.352557127312296| 3655.2015250544664|          37.14705882352941|     21.61764705882353|      28.71786492374728|\n",
            "|               artes|        47.09090909090909|             678.3454545454546|           2.1636363636363636| 1691.7636363636364|          35.92727272727273|                  11.8|     23.363636363636363|\n",
            "|           cine_foto|        50.92857142857143|             939.1428571428571|            2.142857142857143|  795.7857142857143|         27.642857142857142|    11.571428571428571|     18.178571428571427|\n",
            "|    moveis_decoracao|        50.05043281896876|             799.2506586375612|           2.4008280015054573| 3008.2668423033497|          43.89499435453519|    17.438088069251034|     28.663153933007152|\n",
            "|            pc_gamer|       59.666666666666664|             997.6666666666666|            4.333333333333333| 1429.6666666666667|         17.666666666666668|                  20.0|                   20.0|\n",
            "|construcao_ferram...|                  50.9075|                      788.8175|                        2.365|          3550.0525|                     29.795|                15.895|                24.2425|\n",
            "|tablets_impressao...|                     54.0|             676.4444444444445|                          3.0| 381.44444444444446|          28.11111111111111|     9.444444444444445|     21.555555555555557|\n",
            "|fashion_roupa_mas...|        39.65263157894737|             627.3894736842105|           1.9263157894736842|  559.7368421052631|         27.326315789473686|    14.021052631578947|      22.11578947368421|\n",
            "|   artigos_de_festas|        49.19230769230769|             446.2307692307692|           1.7692307692307692|  2705.769230769231|          32.30769230769231|                  16.5|      22.73076923076923|\n",
            "|    artigos_de_natal|        44.36923076923077|                         412.2|            2.707692307692308| 1849.8153846153846|          28.23076923076923|    16.215384615384615|      22.83076923076923|\n",
            "|          la_cuisine|                     51.7|                         422.3|                          1.1|             4350.0|                       67.3|                  13.8|                   34.8|\n",
            "|              flores|        51.92857142857143|             467.7857142857143|           1.2142857142857142| 1403.5714285714287|         21.714285714285715|    15.571428571428571|     16.714285714285715|\n",
            "|     livros_tecnicos|        41.96747967479675|            1351.5284552845528|           1.0975609756097562| 1107.8455284552845|          27.32520325203252|     5.869918699186992|     18.463414634146343|\n",
            "|                NULL|                     NULL|                          NULL|                         NULL| 2250.7651888341543|           28.7192118226601|    15.814449917898195|      22.56650246305419|\n",
            "|      telefonia_fixa|       48.422413793103445|            1017.3879310344828|           2.9913793103448274|  660.8275862068965|         20.646551724137932|    10.741379310344827|                   16.5|\n",
            "|construcao_ferram...|        52.05494505494506|            1105.8241758241759|            2.208791208791209|  950.7692307692307|         23.065934065934066|                  15.0|      18.98901098901099|\n",
            "|          cool_stuff|        47.57414448669201|             876.1254752851711|           2.2788339670468947|  2566.579214195184|         33.752851711026615|    22.988593155893536|     24.491761723700886|\n",
            "|    eletrodomesticos|        54.48108108108108|             404.5972972972973|           1.6135135135135135|  1979.654054054054|         29.805405405405406|    14.891891891891891|      21.85945945945946|\n",
            "|   livros_importados|       47.483870967741936|             580.5806451612904|           1.4516129032258065|  596.7741935483871|         29.741935483870968|    3.4516129032258065|     21.225806451612904|\n",
            "+--------------------+-------------------------+------------------------------+-----------------------------+-------------------+---------------------------+----------------------+-----------------------+\n",
            "only showing top 20 rows\n",
            "\n",
            "+--------------------+-------------------------+------------------------------+-----------------------------+-------------------+---------------------------+----------------------+-----------------------+\n",
            "|   categoria_produto|min(tamanho_nome_produto)|min(tamanho_descricao_produto)|min(quantidade_fotos_produto)|min(peso_produto_g)|min(comprimento_produto_cm)|min(altura_produto_cm)|min(largura_produto_cm)|\n",
            "+--------------------+-------------------------+------------------------------+-----------------------------+-------------------+---------------------------+----------------------+-----------------------+\n",
            "|                 pcs|                       44|                           451|                            1|                200|                         16|                     6|                     16|\n",
            "|               bebes|                        7|                             4|                            1|                 50|                         14|                     2|                      8|\n",
            "|               artes|                       24|                            59|                            1|                100|                         16|                     2|                     11|\n",
            "|           cine_foto|                       20|                           150|                            1|                100|                          9|                     2|                     11|\n",
            "|    moveis_decoracao|                        5|                            42|                            1|                  2|                         11|                     2|                      8|\n",
            "|            pc_gamer|                       59|                           621|                            3|                650|                         16|                    16|                     18|\n",
            "|construcao_ferram...|                       14|                            95|                            1|                 50|                         16|                     2|                     11|\n",
            "|tablets_impressao...|                       34|                           145|                            1|                100|                         16|                     3|                     11|\n",
            "|fashion_roupa_mas...|                       22|                            50|                            1|                100|                         16|                     2|                     11|\n",
            "|   artigos_de_festas|                       15|                           134|                            1|                 50|                         16|                     4|                     11|\n",
            "|    artigos_de_natal|                       17|                            94|                            1|                 50|                         16|                     2|                     11|\n",
            "|          la_cuisine|                       33|                           194|                            1|                450|                         30|                     7|                     15|\n",
            "|              flores|                       43|                           130|                            1|                200|                         16|                    11|                     11|\n",
            "|     livros_tecnicos|                       18|                           153|                            1|                110|                         16|                     2|                     11|\n",
            "|                NULL|                     NULL|                          NULL|                         NULL|                 50|                         15|                     2|                     11|\n",
            "|      telefonia_fixa|                       18|                            78|                            1|                 50|                         14|                     2|                      9|\n",
            "|construcao_ferram...|                       16|                            99|                            1|                 53|                         16|                     2|                     10|\n",
            "|          cool_stuff|                       11|                            66|                            1|                 50|                         12|                     2|                     11|\n",
            "|    eletrodomesticos|                       24|                            45|                            1|                 50|                         16|                     2|                     11|\n",
            "|   livros_importados|                       17|                            80|                            1|                150|                         16|                     2|                     11|\n",
            "+--------------------+-------------------------+------------------------------+-----------------------------+-------------------+---------------------------+----------------------+-----------------------+\n",
            "only showing top 20 rows\n",
            "\n",
            "+--------------------+-------------------------+------------------------------+-----------------------------+-------------------+---------------------------+----------------------+-----------------------+\n",
            "|   categoria_produto|max(tamanho_nome_produto)|max(tamanho_descricao_produto)|max(quantidade_fotos_produto)|max(peso_produto_g)|max(comprimento_produto_cm)|max(altura_produto_cm)|max(largura_produto_cm)|\n",
            "+--------------------+-------------------------+------------------------------+-----------------------------+-------------------+---------------------------+----------------------+-----------------------+\n",
            "|                 pcs|                       63|                          3913|                            7|              25950|                         54|                    95|                     54|\n",
            "|               bebes|                       64|                          3923|                           19|              30000|                        102|                    97|                     84|\n",
            "|               artes|                       62|                          3954|                           10|              15400|                        100|                    62|                     70|\n",
            "|           cine_foto|                       63|                          3508|                            7|               5500|                         78|                    32|                     47|\n",
            "|    moveis_decoracao|                       72|                          3781|                           15|              30000|                        105|                   100|                    100|\n",
            "|            pc_gamer|                       60|                          1532|                            6|               2839|                         19|                    22|                     22|\n",
            "|construcao_ferram...|                       63|                          3500|                           10|              30000|                        100|                   105|                    101|\n",
            "|tablets_impressao...|                       64|                          2532|                            7|               1100|                         60|                    27|                     40|\n",
            "|fashion_roupa_mas...|                       63|                          1765|                            6|               1900|                         50|                    40|                     45|\n",
            "|   artigos_de_festas|                       63|                          1729|                            7|              27050|                        102|                    45|                     45|\n",
            "|    artigos_de_natal|                       60|                          1668|                            9|              15400|                         70|                    80|                     50|\n",
            "|          la_cuisine|                       59|                           748|                            2|              12500|                         95|                    30|                     55|\n",
            "|              flores|                       60|                          1806|                            3|               6000|                         40|                    25|                     25|\n",
            "|     livros_tecnicos|                       63|                          3936|                            6|               8900|                        100|                    30|                     30|\n",
            "|                NULL|                     NULL|                          NULL|                         NULL|              30000|                        105|                    92|                     80|\n",
            "|      telefonia_fixa|                       63|                          3666|                           11|               6050|                        100|                    30|                     33|\n",
            "|construcao_ferram...|                       60|                          3530|                            6|               9450|                        105|                    31|                     41|\n",
            "|          cool_stuff|                       64|                          3976|                           13|              30000|                        105|                    98|                    105|\n",
            "|    eletrodomesticos|                       63|                          3452|                           10|              30000|                         75|                    73|                     68|\n",
            "|   livros_importados|                       63|                          3694|                            7|               1300|                         45|                    14|                     30|\n",
            "+--------------------+-------------------------+------------------------------+-----------------------------+-------------------+---------------------------+----------------------+-----------------------+\n",
            "only showing top 20 rows\n",
            "\n"
          ]
        }
      ]
    },
    {
      "cell_type": "code",
      "source": [
        "produtos_categoria_df = produtos.groupBy('categoria_produto').avg('quantidade_fotos_produto')\n",
        "produtos_categoria_df.show()"
      ],
      "metadata": {
        "colab": {
          "base_uri": "https://localhost:8080/"
        },
        "id": "j30FPqFSe08H",
        "outputId": "124d6fec-6f11-46c3-9cc9-254ba93de777"
      },
      "execution_count": 23,
      "outputs": [
        {
          "output_type": "stream",
          "name": "stdout",
          "text": [
            "+--------------------+-----------------------------+\n",
            "|   categoria_produto|avg(quantidade_fotos_produto)|\n",
            "+--------------------+-----------------------------+\n",
            "|                 pcs|                          2.7|\n",
            "|               bebes|            2.352557127312296|\n",
            "|               artes|           2.1636363636363636|\n",
            "|           cine_foto|            2.142857142857143|\n",
            "|    moveis_decoracao|           2.4008280015054573|\n",
            "|            pc_gamer|            4.333333333333333|\n",
            "|construcao_ferram...|                        2.365|\n",
            "|tablets_impressao...|                          3.0|\n",
            "|fashion_roupa_mas...|           1.9263157894736842|\n",
            "|   artigos_de_festas|           1.7692307692307692|\n",
            "|    artigos_de_natal|            2.707692307692308|\n",
            "|          la_cuisine|                          1.1|\n",
            "|              flores|           1.2142857142857142|\n",
            "|     livros_tecnicos|           1.0975609756097562|\n",
            "|                NULL|                         NULL|\n",
            "|      telefonia_fixa|           2.9913793103448274|\n",
            "|construcao_ferram...|            2.208791208791209|\n",
            "|          cool_stuff|           2.2788339670468947|\n",
            "|    eletrodomesticos|           1.6135135135135135|\n",
            "|   livros_importados|           1.4516129032258065|\n",
            "+--------------------+-----------------------------+\n",
            "only showing top 20 rows\n",
            "\n"
          ]
        }
      ]
    },
    {
      "cell_type": "code",
      "source": [
        "produtos.groupBy('categoria_produto').agg(count('quantidade_fotos_produto').alias('total_fotos')).show()"
      ],
      "metadata": {
        "colab": {
          "base_uri": "https://localhost:8080/"
        },
        "id": "1fckWIoYhPoW",
        "outputId": "4dee6ac0-c3f9-4dbe-d066-72f6a68ee4ad"
      },
      "execution_count": 25,
      "outputs": [
        {
          "output_type": "stream",
          "name": "stdout",
          "text": [
            "+--------------------+-----------+\n",
            "|   categoria_produto|total_fotos|\n",
            "+--------------------+-----------+\n",
            "|                 pcs|         30|\n",
            "|               bebes|        919|\n",
            "|               artes|         55|\n",
            "|           cine_foto|         28|\n",
            "|    moveis_decoracao|       2657|\n",
            "|            pc_gamer|          3|\n",
            "|construcao_ferram...|        400|\n",
            "|tablets_impressao...|          9|\n",
            "|fashion_roupa_mas...|         95|\n",
            "|   artigos_de_festas|         26|\n",
            "|    artigos_de_natal|         65|\n",
            "|          la_cuisine|         10|\n",
            "|              flores|         14|\n",
            "|     livros_tecnicos|        123|\n",
            "|                NULL|          0|\n",
            "|      telefonia_fixa|        116|\n",
            "|construcao_ferram...|         91|\n",
            "|          cool_stuff|        789|\n",
            "|    eletrodomesticos|        370|\n",
            "|   livros_importados|         31|\n",
            "+--------------------+-----------+\n",
            "only showing top 20 rows\n",
            "\n"
          ]
        }
      ]
    },
    {
      "cell_type": "code",
      "source": [
        "produtos.groupBy('categoria_produto').agg(count('quantidade_fotos_produto').alias('total_fotos')).orderBy('categoria_produto').show()"
      ],
      "metadata": {
        "colab": {
          "base_uri": "https://localhost:8080/"
        },
        "id": "JOzbrhEFjYiN",
        "outputId": "000887d5-98d4-4e62-eaed-c20e6a6d60e5"
      },
      "execution_count": 27,
      "outputs": [
        {
          "output_type": "stream",
          "name": "stdout",
          "text": [
            "+--------------------+-----------+\n",
            "|   categoria_produto|total_fotos|\n",
            "+--------------------+-----------+\n",
            "|                NULL|          0|\n",
            "|agro_industria_e_...|         74|\n",
            "|           alimentos|         82|\n",
            "|   alimentos_bebidas|        104|\n",
            "|               artes|         55|\n",
            "|  artes_e_artesanato|         19|\n",
            "|   artigos_de_festas|         26|\n",
            "|    artigos_de_natal|         65|\n",
            "|               audio|         58|\n",
            "|          automotivo|       1900|\n",
            "|               bebes|        919|\n",
            "|             bebidas|         81|\n",
            "|        beleza_saude|       2444|\n",
            "|          brinquedos|       1411|\n",
            "|     cama_mesa_banho|       3029|\n",
            "|       casa_conforto|        111|\n",
            "|     casa_conforto_2|          5|\n",
            "|     casa_construcao|        225|\n",
            "|   cds_dvds_musicais|          1|\n",
            "|           cine_foto|         28|\n",
            "+--------------------+-----------+\n",
            "only showing top 20 rows\n",
            "\n"
          ]
        }
      ]
    },
    {
      "cell_type": "code",
      "source": [
        "produtos.filter(col('categoria_produto').isNotNull()).groupBy('categoria_produto').agg(count('quantidade_fotos_produto').alias('total_fotos')).orderBy('categoria_produto').show()"
      ],
      "metadata": {
        "colab": {
          "base_uri": "https://localhost:8080/"
        },
        "id": "M0IQTg-mjiQ6",
        "outputId": "0ed97648-8107-4e72-c95d-5eb4b4d41019"
      },
      "execution_count": 29,
      "outputs": [
        {
          "output_type": "stream",
          "name": "stdout",
          "text": [
            "+--------------------+-----------+\n",
            "|   categoria_produto|total_fotos|\n",
            "+--------------------+-----------+\n",
            "|agro_industria_e_...|         74|\n",
            "|           alimentos|         82|\n",
            "|   alimentos_bebidas|        104|\n",
            "|               artes|         55|\n",
            "|  artes_e_artesanato|         19|\n",
            "|   artigos_de_festas|         26|\n",
            "|    artigos_de_natal|         65|\n",
            "|               audio|         58|\n",
            "|          automotivo|       1900|\n",
            "|               bebes|        919|\n",
            "|             bebidas|         81|\n",
            "|        beleza_saude|       2444|\n",
            "|          brinquedos|       1411|\n",
            "|     cama_mesa_banho|       3029|\n",
            "|       casa_conforto|        111|\n",
            "|     casa_conforto_2|          5|\n",
            "|     casa_construcao|        225|\n",
            "|   cds_dvds_musicais|          1|\n",
            "|           cine_foto|         28|\n",
            "|        climatizacao|        124|\n",
            "+--------------------+-----------+\n",
            "only showing top 20 rows\n",
            "\n"
          ]
        }
      ]
    },
    {
      "cell_type": "code",
      "source": [
        "spark.stop()"
      ],
      "metadata": {
        "id": "3jHoFlIcluLz"
      },
      "execution_count": 30,
      "outputs": []
    }
  ]
}