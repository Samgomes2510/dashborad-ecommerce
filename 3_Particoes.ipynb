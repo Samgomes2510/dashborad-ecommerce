{
  "nbformat": 4,
  "nbformat_minor": 0,
  "metadata": {
    "colab": {
      "provenance": [],
      "authorship_tag": "ABX9TyM5Swxr2POtoFRCstATRi2N",
      "include_colab_link": true
    },
    "kernelspec": {
      "name": "python3",
      "display_name": "Python 3"
    },
    "language_info": {
      "name": "python"
    }
  },
  "cells": [
    {
      "cell_type": "markdown",
      "metadata": {
        "id": "view-in-github",
        "colab_type": "text"
      },
      "source": [
        "<a href=\"https://colab.research.google.com/github/Samgomes2510/dashborad-ecommerce/blob/main/3_Particoes.ipynb\" target=\"_parent\"><img src=\"https://colab.research.google.com/assets/colab-badge.svg\" alt=\"Open In Colab\"/></a>"
      ]
    },
    {
      "cell_type": "code",
      "execution_count": null,
      "metadata": {
        "id": "sxtTqq-NLcEz"
      },
      "outputs": [],
      "source": [
        "!pip install pyspark"
      ]
    },
    {
      "cell_type": "code",
      "source": [
        "import pyspark\n",
        "from pyspark.sql import SparkSession"
      ],
      "metadata": {
        "id": "saXVP-CiL0Lb"
      },
      "execution_count": null,
      "outputs": []
    },
    {
      "cell_type": "code",
      "source": [
        "from google.colab import files\n",
        "files.upload()"
      ],
      "metadata": {
        "collapsed": true,
        "id": "c3ltludBMFPT"
      },
      "execution_count": null,
      "outputs": []
    },
    {
      "cell_type": "code",
      "source": [
        "from google.colab import drive\n",
        "drive.mount('/content/drive')"
      ],
      "metadata": {
        "id": "9yWJHOkzL7QT"
      },
      "execution_count": null,
      "outputs": []
    },
    {
      "cell_type": "code",
      "source": [
        "spark = SparkSession.builder.getOrCreate()"
      ],
      "metadata": {
        "id": "RSJtj35gMYSY"
      },
      "execution_count": null,
      "outputs": []
    },
    {
      "cell_type": "code",
      "source": [
        "produtos = spark.read.csv(\"produtos.csv\", header=True, inferSchema=True)\n",
        "vendedores = spark.read.csv(\"vendedores.csv\", header=True, inferSchema=True)\n",
        "clientes = spark.read.csv(\"clientes.csv\", header=True, inferSchema=True)\n",
        "itens_pedido = spark.read.csv(\"itens_pedido.csv\", header=True, inferSchema=True)\n",
        "pagamentos_pedido = spark.read.csv(\"pagamentos_pedido.csv\", header=True, inferSchema=True)\n",
        "avaliacoes_pedido = spark.read.csv(\"avaliacoes_pedido.csv\", header=True, inferSchema=True)\n",
        "pedidos = spark.read.csv(\"pedidos.csv\", header=True, inferSchema=True)"
      ],
      "metadata": {
        "id": "IkBNQJyBMcUD"
      },
      "execution_count": null,
      "outputs": []
    },
    {
      "cell_type": "code",
      "source": [
        "produtos.show()"
      ],
      "metadata": {
        "id": "gj1GBuAtb2Y_"
      },
      "execution_count": null,
      "outputs": []
    },
    {
      "cell_type": "code",
      "source": [
        "rdd = spark.sparkContext.parallelize(range(100))\n",
        "print(\"Numero padrão de particões:\", rdd.getNumPartitions())"
      ],
      "metadata": {
        "id": "mWg5QjTqdCEv"
      },
      "execution_count": null,
      "outputs": []
    },
    {
      "cell_type": "code",
      "source": [
        "rdd = spark.sparkContext.parallelize(range(100), 10)\n",
        "print(\"Numero padrão de particões após modificação:\", rdd.getNumPartitions())"
      ],
      "metadata": {
        "id": "xLhRGx0FeJDI"
      },
      "execution_count": null,
      "outputs": []
    },
    {
      "cell_type": "code",
      "source": [
        "reduced_rdd = rdd.coalesce(10)\n",
        "print(\"Numero padrão de particões após coalesce:\", reduced_rdd.getNumPartitions())"
      ],
      "metadata": {
        "id": "jyFnJiHpfMI3"
      },
      "execution_count": null,
      "outputs": []
    },
    {
      "cell_type": "code",
      "source": [
        "repartitioned_rdd = reduced_rdd.repartition(20)\n",
        "print(\"Numero padrão de particões após repartition:\", repartitioned_rdd.getNumPartitions())"
      ],
      "metadata": {
        "id": "njFYEcG4fY-y"
      },
      "execution_count": null,
      "outputs": []
    },
    {
      "cell_type": "code",
      "source": [
        "print(\"Numero de partições padrão de produtos:\", produtos.rdd.getNumPartitions())\n",
        "\n",
        "produtos = spark.read.csv(\"produtos.csv\", header=True, inferSchema=True).repartition(5)\n",
        "\n",
        "print(\"Numero de partições após repartition de produtos:\", produtos.rdd.getNumPartitions())"
      ],
      "metadata": {
        "id": "QWo1MH5jhAXD"
      },
      "execution_count": null,
      "outputs": []
    },
    {
      "cell_type": "code",
      "source": [
        "produtos.groupBy(\"categoria_produto\").count().show()\n",
        "print(produtos.select(\"categoria_produto\").distinct().count())\n",
        "\n",
        "produtos_part_categoria = produtos.repartition(\"categoria_produto\")\n",
        "print(produtos_part_categoria.rdd.getNumPartitions())"
      ],
      "metadata": {
        "id": "G1QUUXb_jBRu"
      },
      "execution_count": null,
      "outputs": []
    },
    {
      "cell_type": "code",
      "source": [
        "produtos_part_categoria = produtos.repartition(8, \"categoria_produto\")\n",
        "print(produtos_part_categoria.rdd.getNumPartitions())\n",
        "\n",
        "particoes = produtos_part_categoria.rdd.glom().map(len).collect()\n",
        "print(\"Numero de registro por particoes:\", particoes)"
      ],
      "metadata": {
        "id": "zW6bKNUIlBIJ"
      },
      "execution_count": null,
      "outputs": []
    },
    {
      "cell_type": "code",
      "source": [
        "produtos.write.mode(\"overwrite\").csv(\"produtos_default_parquet\")"
      ],
      "metadata": {
        "id": "p4JbZ0G-nED0"
      },
      "execution_count": null,
      "outputs": []
    },
    {
      "cell_type": "code",
      "source": [
        "produtos.coalesce(1).write.mode(\"overwrite\").parquet(\"produtos_unicos_arquivo_parquet\")"
      ],
      "metadata": {
        "id": "9xyaEHVonVB_"
      },
      "execution_count": null,
      "outputs": []
    },
    {
      "cell_type": "code",
      "source": [
        "produtos.repartition(10).write.mode(\"overwrite\").parquet(\"produtos_part10_parquet\")"
      ],
      "metadata": {
        "id": "q43ZUadxnkOg"
      },
      "execution_count": null,
      "outputs": []
    },
    {
      "cell_type": "code",
      "source": [
        "produtos.write.mode(\"overwrite\").partitionBy(\"categoria_produto\").parquet(\"produtos_part_categoria_parquet\")"
      ],
      "metadata": {
        "id": "oJL1PAqvnzrG"
      },
      "execution_count": null,
      "outputs": []
    },
    {
      "cell_type": "code",
      "source": [
        "produtos.coalesce(1).write.mode(\"overwrite\").partitionBy(\"categoria_produto\").parquet(\"produtos_unico_part_categoria_parquet\")"
      ],
      "metadata": {
        "id": "xik8qBF6oywg"
      },
      "execution_count": null,
      "outputs": []
    },
    {
      "cell_type": "code",
      "source": [
        "spark.stop()"
      ],
      "metadata": {
        "id": "Kh_CR9LLo9-Q"
      },
      "execution_count": null,
      "outputs": []
    }
  ]
}