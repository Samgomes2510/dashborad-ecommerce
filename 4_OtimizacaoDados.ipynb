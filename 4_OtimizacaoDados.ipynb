{
  "nbformat": 4,
  "nbformat_minor": 0,
  "metadata": {
    "colab": {
      "provenance": [],
      "authorship_tag": "ABX9TyPbd+f42xntRsEy4a5oge/4",
      "include_colab_link": true
    },
    "kernelspec": {
      "name": "python3",
      "display_name": "Python 3"
    },
    "language_info": {
      "name": "python"
    }
  },
  "cells": [
    {
      "cell_type": "markdown",
      "metadata": {
        "id": "view-in-github",
        "colab_type": "text"
      },
      "source": [
        "<a href=\"https://colab.research.google.com/github/Samgomes2510/dashborad-ecommerce/blob/main/4_OtimizacaoDados.ipynb\" target=\"_parent\"><img src=\"https://colab.research.google.com/assets/colab-badge.svg\" alt=\"Open In Colab\"/></a>"
      ]
    },
    {
      "cell_type": "code",
      "execution_count": null,
      "metadata": {
        "id": "AO0kc6VOD4BE"
      },
      "outputs": [],
      "source": [
        "!pip install pyspark"
      ]
    },
    {
      "cell_type": "code",
      "source": [
        "import pyspark\n",
        "import time\n",
        "\n",
        "from pyspark.sql import SparkSession\n",
        "from pyspark.sql.functions import *\n",
        "from pyspark.storagelevel import StorageLevel"
      ],
      "metadata": {
        "id": "4YSUXcJwGZye"
      },
      "execution_count": null,
      "outputs": []
    },
    {
      "cell_type": "code",
      "source": [
        "spark = SparkSession.builder.getOrCreate()"
      ],
      "metadata": {
        "id": "0mReju1TGzR2"
      },
      "execution_count": null,
      "outputs": []
    },
    {
      "cell_type": "code",
      "source": [
        "from google.colab import files\n",
        "files.upload()"
      ],
      "metadata": {
        "collapsed": true,
        "id": "CuDRN4VpG3LE"
      },
      "execution_count": null,
      "outputs": []
    },
    {
      "cell_type": "code",
      "source": [
        "from google.colab import drive\n",
        "drive.mount('/content/drive')"
      ],
      "metadata": {
        "id": "mYeyOsEJG6ir"
      },
      "execution_count": null,
      "outputs": []
    },
    {
      "cell_type": "code",
      "source": [
        "produtos = spark.read.csv(\"produtos.csv\", header=True, inferSchema=True)\n",
        "vendedores = spark.read.csv(\"vendedores.csv\", header=True, inferSchema=True)\n",
        "clientes = spark.read.csv(\"clientes.csv\", header=True, inferSchema=True)\n",
        "itens_pedido = spark.read.csv(\"itens_pedido.csv\", header=True, inferSchema=True)\n",
        "pagamentos_pedido = spark.read.csv(\"pagamentos_pedido.csv\", header=True, inferSchema=True)\n",
        "avaliacoes_pedido = spark.read.csv(\"avaliacoes_pedido.csv\", header=True, inferSchema=True)\n",
        "pedidos = spark.read.csv(\"pedidos.csv\", header=True, inferSchema=True)"
      ],
      "metadata": {
        "id": "wNKLg0C0HDK4"
      },
      "execution_count": null,
      "outputs": []
    },
    {
      "cell_type": "code",
      "source": [
        "clientes.show()\n",
        "pedidos.show()\n",
        "itens_pedido.show()\n",
        "pagamentos_pedido.show()"
      ],
      "metadata": {
        "id": "zzznA4Q5HK8e"
      },
      "execution_count": null,
      "outputs": []
    },
    {
      "cell_type": "code",
      "source": [
        "clientes.createOrReplaceTempView(\"clientes\")\n",
        "spark.sql('CACHE TABLE clientes')\n",
        "spark.sql(\"SELECT COUNT(*) FROM clientes\").show()\n",
        "spark.sql('UNCACHE TABLE clientes')\n"
      ],
      "metadata": {
        "id": "Y0Jo-kRoIh8Q"
      },
      "execution_count": null,
      "outputs": []
    },
    {
      "cell_type": "code",
      "source": [
        "print(itens_pedido.count())\n",
        "print(pedidos.count())\n",
        "\n",
        "small_pedidos_df = broadcast(pedidos)\n",
        "\n",
        "boradcast_data = itens_pedido.join(small_pedidos_df, on='id_pedido')\n",
        "boradcast_data.show()"
      ],
      "metadata": {
        "id": "1-BquqNnM0B5"
      },
      "execution_count": null,
      "outputs": []
    },
    {
      "cell_type": "code",
      "source": [
        "salario_medio_valor = pagamentos_pedido.agg(avg('valor_pagamento').alias('pagamemto_medio')).collect()[0][0]\n",
        "pedidos_filtrados_df = pagamentos_pedido.filter(pagamentos_pedido['valor_pagamento'] > salario_medio_valor)\n",
        "\n",
        "salario_medio_df = pagamentos_pedido.select(avg(\"valor_pagamento\").alias(\"pagamento_medio\"))\n",
        "pedidos_filtrados_join_df = pagamentos_pedido.join(\n",
        "    salario_medio_df,\n",
        "    pagamentos_pedido[\"valor_pagamento\"] > salario_medio_df[\"pagamento_medio\"]\n",
        ").select(pagamentos_pedido[\"*\"])\n",
        "salario_medio_df.show()\n",
        "pedidos_filtrados_join_df.show()"
      ],
      "metadata": {
        "id": "x-jfXvUIP4jE"
      },
      "execution_count": null,
      "outputs": []
    },
    {
      "cell_type": "code",
      "source": [
        "start_time = time.time()\n",
        "\n",
        "salario_medio_valor = pagamentos_pedido.agg(avg('valor_pagamento').alias('pagamemto_medio')).collect()[0][0]\n",
        "pedidos_filtrados_df = pagamentos_pedido.filter(pagamentos_pedido['valor_pagamento'] > salario_medio_valor)\n",
        "\n",
        "end_time = time.time()\n",
        "print(end_time - start_time)\n",
        "\n",
        "start_time = time.time()\n",
        "salario_medio_df = pagamentos_pedido.select(avg(\"valor_pagamento\").alias(\"pagamento_medio\"))\n",
        "pedidos_filtrados_join_df = pagamentos_pedido.join(\n",
        "    salario_medio_df,\n",
        "    pagamentos_pedido[\"valor_pagamento\"] > salario_medio_df[\"pagamento_medio\"]\n",
        ").select(pagamentos_pedido[\"*\"])\n",
        "\n",
        "end_time = time.time()\n",
        "print(end_time - start_time)"
      ],
      "metadata": {
        "id": "eDCvJKw6V1Hh"
      },
      "execution_count": null,
      "outputs": []
    },
    {
      "cell_type": "code",
      "source": [
        "spark.stop()"
      ],
      "metadata": {
        "id": "tihPryswX1NV"
      },
      "execution_count": null,
      "outputs": []
    }
  ]
}