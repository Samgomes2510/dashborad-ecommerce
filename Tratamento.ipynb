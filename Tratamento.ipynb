{
  "nbformat": 4,
  "nbformat_minor": 0,
  "metadata": {
    "colab": {
      "provenance": [],
      "authorship_tag": "ABX9TyMmvaX7vbd1rwjRfDbz4Rnu",
      "include_colab_link": true
    },
    "kernelspec": {
      "name": "python3",
      "display_name": "Python 3"
    },
    "language_info": {
      "name": "python"
    }
  },
  "cells": [
    {
      "cell_type": "markdown",
      "metadata": {
        "id": "view-in-github",
        "colab_type": "text"
      },
      "source": [
        "<a href=\"https://colab.research.google.com/github/Samgomes2510/dashborad-ecommerce/blob/main/Tratamento.ipynb\" target=\"_parent\"><img src=\"https://colab.research.google.com/assets/colab-badge.svg\" alt=\"Open In Colab\"/></a>"
      ]
    },
    {
      "cell_type": "code",
      "source": [
        "!pip install pyspark"
      ],
      "metadata": {
        "colab": {
          "base_uri": "https://localhost:8080/"
        },
        "id": "ek5eVsHaMjSB",
        "outputId": "c91846c1-d969-403c-bc82-fd321fefd402"
      },
      "execution_count": 1,
      "outputs": [
        {
          "output_type": "stream",
          "name": "stdout",
          "text": [
            "Requirement already satisfied: pyspark in /usr/local/lib/python3.11/dist-packages (3.5.5)\n",
            "Requirement already satisfied: py4j==0.10.9.7 in /usr/local/lib/python3.11/dist-packages (from pyspark) (0.10.9.7)\n"
          ]
        }
      ]
    },
    {
      "cell_type": "code",
      "source": [
        "# Tratamento de dados com PySpark\n",
        "\n",
        "from pyspark.sql import SparkSession\n",
        "from pyspark.sql.functions import col, sum as spark_sum, year, to_date"
      ],
      "metadata": {
        "id": "4eMWDqWCMx2j"
      },
      "execution_count": 2,
      "outputs": []
    },
    {
      "cell_type": "code",
      "source": [
        "import pyspark\n",
        "import pandas as pd\n",
        "from pyspark.sql import SparkSession\n",
        "from pyspark.sql.functions import col, count, when, regexp_extract"
      ],
      "metadata": {
        "id": "sbWbOQLONGi7"
      },
      "execution_count": 3,
      "outputs": []
    },
    {
      "cell_type": "code",
      "source": [
        "from google.colab import files\n",
        "uploaded = files.upload()"
      ],
      "metadata": {
        "colab": {
          "base_uri": "https://localhost:8080/",
          "height": 144
        },
        "id": "zwO-K55cNRI_",
        "outputId": "44a89b21-9d8b-4839-a725-385d6b486656"
      },
      "execution_count": 6,
      "outputs": [
        {
          "output_type": "display_data",
          "data": {
            "text/plain": [
              "<IPython.core.display.HTML object>"
            ],
            "text/html": [
              "\n",
              "     <input type=\"file\" id=\"files-a35b441a-e734-4053-a5aa-39beaef00bf7\" name=\"files[]\" multiple disabled\n",
              "        style=\"border:none\" />\n",
              "     <output id=\"result-a35b441a-e734-4053-a5aa-39beaef00bf7\">\n",
              "      Upload widget is only available when the cell has been executed in the\n",
              "      current browser session. Please rerun this cell to enable.\n",
              "      </output>\n",
              "      <script>// Copyright 2017 Google LLC\n",
              "//\n",
              "// Licensed under the Apache License, Version 2.0 (the \"License\");\n",
              "// you may not use this file except in compliance with the License.\n",
              "// You may obtain a copy of the License at\n",
              "//\n",
              "//      http://www.apache.org/licenses/LICENSE-2.0\n",
              "//\n",
              "// Unless required by applicable law or agreed to in writing, software\n",
              "// distributed under the License is distributed on an \"AS IS\" BASIS,\n",
              "// WITHOUT WARRANTIES OR CONDITIONS OF ANY KIND, either express or implied.\n",
              "// See the License for the specific language governing permissions and\n",
              "// limitations under the License.\n",
              "\n",
              "/**\n",
              " * @fileoverview Helpers for google.colab Python module.\n",
              " */\n",
              "(function(scope) {\n",
              "function span(text, styleAttributes = {}) {\n",
              "  const element = document.createElement('span');\n",
              "  element.textContent = text;\n",
              "  for (const key of Object.keys(styleAttributes)) {\n",
              "    element.style[key] = styleAttributes[key];\n",
              "  }\n",
              "  return element;\n",
              "}\n",
              "\n",
              "// Max number of bytes which will be uploaded at a time.\n",
              "const MAX_PAYLOAD_SIZE = 100 * 1024;\n",
              "\n",
              "function _uploadFiles(inputId, outputId) {\n",
              "  const steps = uploadFilesStep(inputId, outputId);\n",
              "  const outputElement = document.getElementById(outputId);\n",
              "  // Cache steps on the outputElement to make it available for the next call\n",
              "  // to uploadFilesContinue from Python.\n",
              "  outputElement.steps = steps;\n",
              "\n",
              "  return _uploadFilesContinue(outputId);\n",
              "}\n",
              "\n",
              "// This is roughly an async generator (not supported in the browser yet),\n",
              "// where there are multiple asynchronous steps and the Python side is going\n",
              "// to poll for completion of each step.\n",
              "// This uses a Promise to block the python side on completion of each step,\n",
              "// then passes the result of the previous step as the input to the next step.\n",
              "function _uploadFilesContinue(outputId) {\n",
              "  const outputElement = document.getElementById(outputId);\n",
              "  const steps = outputElement.steps;\n",
              "\n",
              "  const next = steps.next(outputElement.lastPromiseValue);\n",
              "  return Promise.resolve(next.value.promise).then((value) => {\n",
              "    // Cache the last promise value to make it available to the next\n",
              "    // step of the generator.\n",
              "    outputElement.lastPromiseValue = value;\n",
              "    return next.value.response;\n",
              "  });\n",
              "}\n",
              "\n",
              "/**\n",
              " * Generator function which is called between each async step of the upload\n",
              " * process.\n",
              " * @param {string} inputId Element ID of the input file picker element.\n",
              " * @param {string} outputId Element ID of the output display.\n",
              " * @return {!Iterable<!Object>} Iterable of next steps.\n",
              " */\n",
              "function* uploadFilesStep(inputId, outputId) {\n",
              "  const inputElement = document.getElementById(inputId);\n",
              "  inputElement.disabled = false;\n",
              "\n",
              "  const outputElement = document.getElementById(outputId);\n",
              "  outputElement.innerHTML = '';\n",
              "\n",
              "  const pickedPromise = new Promise((resolve) => {\n",
              "    inputElement.addEventListener('change', (e) => {\n",
              "      resolve(e.target.files);\n",
              "    });\n",
              "  });\n",
              "\n",
              "  const cancel = document.createElement('button');\n",
              "  inputElement.parentElement.appendChild(cancel);\n",
              "  cancel.textContent = 'Cancel upload';\n",
              "  const cancelPromise = new Promise((resolve) => {\n",
              "    cancel.onclick = () => {\n",
              "      resolve(null);\n",
              "    };\n",
              "  });\n",
              "\n",
              "  // Wait for the user to pick the files.\n",
              "  const files = yield {\n",
              "    promise: Promise.race([pickedPromise, cancelPromise]),\n",
              "    response: {\n",
              "      action: 'starting',\n",
              "    }\n",
              "  };\n",
              "\n",
              "  cancel.remove();\n",
              "\n",
              "  // Disable the input element since further picks are not allowed.\n",
              "  inputElement.disabled = true;\n",
              "\n",
              "  if (!files) {\n",
              "    return {\n",
              "      response: {\n",
              "        action: 'complete',\n",
              "      }\n",
              "    };\n",
              "  }\n",
              "\n",
              "  for (const file of files) {\n",
              "    const li = document.createElement('li');\n",
              "    li.append(span(file.name, {fontWeight: 'bold'}));\n",
              "    li.append(span(\n",
              "        `(${file.type || 'n/a'}) - ${file.size} bytes, ` +\n",
              "        `last modified: ${\n",
              "            file.lastModifiedDate ? file.lastModifiedDate.toLocaleDateString() :\n",
              "                                    'n/a'} - `));\n",
              "    const percent = span('0% done');\n",
              "    li.appendChild(percent);\n",
              "\n",
              "    outputElement.appendChild(li);\n",
              "\n",
              "    const fileDataPromise = new Promise((resolve) => {\n",
              "      const reader = new FileReader();\n",
              "      reader.onload = (e) => {\n",
              "        resolve(e.target.result);\n",
              "      };\n",
              "      reader.readAsArrayBuffer(file);\n",
              "    });\n",
              "    // Wait for the data to be ready.\n",
              "    let fileData = yield {\n",
              "      promise: fileDataPromise,\n",
              "      response: {\n",
              "        action: 'continue',\n",
              "      }\n",
              "    };\n",
              "\n",
              "    // Use a chunked sending to avoid message size limits. See b/62115660.\n",
              "    let position = 0;\n",
              "    do {\n",
              "      const length = Math.min(fileData.byteLength - position, MAX_PAYLOAD_SIZE);\n",
              "      const chunk = new Uint8Array(fileData, position, length);\n",
              "      position += length;\n",
              "\n",
              "      const base64 = btoa(String.fromCharCode.apply(null, chunk));\n",
              "      yield {\n",
              "        response: {\n",
              "          action: 'append',\n",
              "          file: file.name,\n",
              "          data: base64,\n",
              "        },\n",
              "      };\n",
              "\n",
              "      let percentDone = fileData.byteLength === 0 ?\n",
              "          100 :\n",
              "          Math.round((position / fileData.byteLength) * 100);\n",
              "      percent.textContent = `${percentDone}% done`;\n",
              "\n",
              "    } while (position < fileData.byteLength);\n",
              "  }\n",
              "\n",
              "  // All done.\n",
              "  yield {\n",
              "    response: {\n",
              "      action: 'complete',\n",
              "    }\n",
              "  };\n",
              "}\n",
              "\n",
              "scope.google = scope.google || {};\n",
              "scope.google.colab = scope.google.colab || {};\n",
              "scope.google.colab._files = {\n",
              "  _uploadFiles,\n",
              "  _uploadFilesContinue,\n",
              "};\n",
              "})(self);\n",
              "</script> "
            ]
          },
          "metadata": {}
        },
        {
          "output_type": "stream",
          "name": "stdout",
          "text": [
            "Saving USvideos.csv to USvideos.csv\n",
            "Saving videos-stats.csv to videos-stats.csv\n",
            "Saving comments.csv to comments.csv\n"
          ]
        }
      ]
    },
    {
      "cell_type": "code",
      "source": [
        "from google.colab import drive\n",
        "drive.mount('/content/drive')"
      ],
      "metadata": {
        "colab": {
          "base_uri": "https://localhost:8080/"
        },
        "id": "oCXGv4L2NdBP",
        "outputId": "271b322e-13ff-4132-acf3-6334be740358"
      },
      "execution_count": 7,
      "outputs": [
        {
          "output_type": "stream",
          "name": "stdout",
          "text": [
            "Mounted at /content/drive\n"
          ]
        }
      ]
    },
    {
      "cell_type": "code",
      "source": [
        "# Inicializa Spark\n",
        "spark = SparkSession.builder.getOrCreate()"
      ],
      "metadata": {
        "id": "WwJeTIlnNnu6"
      },
      "execution_count": 8,
      "outputs": []
    },
    {
      "cell_type": "code",
      "source": [
        "# 1. Ler videos-stats.csv\n",
        "df_video = spark.read.csv(\"videos-stats.csv\", header=True, inferSchema=True)"
      ],
      "metadata": {
        "id": "nAW-kR51Nrrf"
      },
      "execution_count": 32,
      "outputs": []
    },
    {
      "cell_type": "code",
      "source": [
        "# 2. Substituir nulos\n",
        "df_video = df_video.na.fill({'Likes': 0, 'Comments': 0, 'Views': 0})"
      ],
      "metadata": {
        "id": "GQde0lo6Nywv"
      },
      "execution_count": 33,
      "outputs": []
    },
    {
      "cell_type": "code",
      "source": [
        "# Mostrar as primeiras 5 linhas (padrão) do df_video\n",
        "df_video.show()\n"
      ],
      "metadata": {
        "colab": {
          "base_uri": "https://localhost:8080/"
        },
        "collapsed": true,
        "id": "Qxjuq9ZmTbkt",
        "outputId": "b24b6aa5-a787-4664-c508-9dcf478a22f2"
      },
      "execution_count": 34,
      "outputs": [
        {
          "output_type": "stream",
          "name": "stdout",
          "text": [
            "+---+--------------------+-----------+------------+-------+--------+--------+-----------+\n",
            "|_c0|               Title|   Video ID|Published At|Keyword|   Likes|Comments|      Views|\n",
            "+---+--------------------+-----------+------------+-------+--------+--------+-----------+\n",
            "|  0|Apple Pay Is Kill...|wAZZ-UWGVHI|  2022-08-23|   tech|  3407.0|   672.0|   135612.0|\n",
            "|  1|The most EXPENSIV...|b3x28s61q3c|  2022-08-24|   tech| 76779.0|  4306.0|  1758063.0|\n",
            "|  2|My New House Gami...|4mgePWWCAmA|  2022-08-23|   tech| 63825.0|  3338.0|  1564007.0|\n",
            "|  3|Petrol Vs Liquid ...|kXiYSI7H2b0|  2022-08-23|   tech| 71566.0|  1426.0|   922918.0|\n",
            "|  4|Best Back to Scho...|ErMwWXQxHp0|  2022-08-08|   tech| 96513.0|  5155.0|  1855644.0|\n",
            "|  5|Brewmaster Answer...|18fwz9Itbvo|  2021-11-05|   tech| 33570.0|  1643.0|   943119.0|\n",
            "|  6|Tech Monopolies: ...|jXf04bhcjbg|  2022-06-13|   tech|135047.0|  9367.0|  5937790.0|\n",
            "|  7|I bought the STRA...|2TqOmtTAMRY|  2022-08-07|   tech|216935.0| 12605.0|  4782514.0|\n",
            "|  8|15 Emerging Techn...|wLlL46pYcg4|  2021-12-08|   tech| 45565.0|  2882.0|  7001236.0|\n",
            "|  9|Toxicologist Answ...|R7qsau3X6Ks|  2022-07-14|   tech| 24252.0|  1068.0|   667767.0|\n",
            "| 10|Dope Tech: The Mo...|MEiq0oCUb_8|  2022-08-15|   tech|118001.0|  4123.0|  2359142.0|\n",
            "| 11|Cool Tech Under $...|pT_9hntWj34|  2022-08-06|   tech| 20999.0|  3091.0|   413179.0|\n",
            "| 12|Cool Back to Scho...|cj4lxmHQV0o|  2022-08-13|   tech| 15322.0|   547.0|   389114.0|\n",
            "| 13|Best Tech/EDC Gif...|d-BdIo8_wpA|  2021-12-15|   tech| 17866.0|   157.0|   444953.0|\n",
            "| 14|My Massive Tech U...|eFhhW6fsAbQ|  2022-07-09|   tech| 13217.0|   442.0|   371563.0|\n",
            "| 15|Why Millennials A...|N88OE2ZCHBM|  2021-06-04|   tech| 26890.0|  4999.0|  1633059.0|\n",
            "| 16|10 Coolest Gadget...|PKATJiyz0iI|  2021-08-13|   tech|  9562.0|   199.0|   760249.0|\n",
            "| 17|17 Coolest Gadget...|qiMnSaZWf3M|  2022-07-21|   tech| 11743.0|   143.0|  1086568.0|\n",
            "| 18|Almost EVERYONE i...|4AnyhHl3_tE|  2022-08-14|   tech|146978.0| 11105.0|  3186890.0|\n",
            "| 19|I bought the THIN...|nmY2kgWYwyQ|  2022-03-25|   tech|363771.0| 13609.0|1.1422924E7|\n",
            "+---+--------------------+-----------+------------+-------+--------+--------+-----------+\n",
            "only showing top 20 rows\n",
            "\n"
          ]
        }
      ]
    },
    {
      "cell_type": "code",
      "source": [
        "# 3. Ler comments.csv\n",
        "df_comentario = spark.read.csv(\"comments.csv\", header=True, inferSchema=True)\n"
      ],
      "metadata": {
        "id": "LjfHjfrhN16a"
      },
      "execution_count": 11,
      "outputs": []
    },
    {
      "cell_type": "code",
      "source": [
        "# Mostrar as primeiras 10 linhas do df_comentario\n",
        "df_comentario.show(10)"
      ],
      "metadata": {
        "colab": {
          "base_uri": "https://localhost:8080/"
        },
        "collapsed": true,
        "id": "f1yf9PtDTpR1",
        "outputId": "63a9a60b-e5d7-438c-e125-b6cb85b9dde5"
      },
      "execution_count": 30,
      "outputs": [
        {
          "output_type": "stream",
          "name": "stdout",
          "text": [
            "+---+-----------+--------------------+-------------+---------+\n",
            "|_c0|   Video ID|             Comment|Likes Comment|Sentiment|\n",
            "+---+-----------+--------------------+-------------+---------+\n",
            "|  0|wAZZ-UWGVHI|Let's not forget ...|           95|        1|\n",
            "|  1|wAZZ-UWGVHI|Here in NZ 50% of...|           19|        0|\n",
            "|  2|wAZZ-UWGVHI|I will forever ac...|          161|        2|\n",
            "|  3|wAZZ-UWGVHI|Whenever I go to ...|            8|        0|\n",
            "|  4|wAZZ-UWGVHI|Apple Pay is so c...|           34|        2|\n",
            "|  5|wAZZ-UWGVHI|We’ve been houndi...|            8|        1|\n",
            "|  6|wAZZ-UWGVHI|We only got Apple...|           29|        2|\n",
            "|  7|wAZZ-UWGVHI|For now, I need b...|            7|        1|\n",
            "|  8|wAZZ-UWGVHI|In the United Sta...|            2|        2|\n",
            "|  9|wAZZ-UWGVHI|In Cambodia, we h...|           28|        1|\n",
            "+---+-----------+--------------------+-------------+---------+\n",
            "only showing top 10 rows\n",
            "\n"
          ]
        }
      ]
    },
    {
      "cell_type": "code",
      "source": [
        "# 4. Contagem inicial\n",
        "print(\"Registros df_video:\", df_video.count())\n",
        "print(\"Registros df_comentario:\", df_comentario.count())"
      ],
      "metadata": {
        "colab": {
          "base_uri": "https://localhost:8080/"
        },
        "id": "XMizTTWvN8IE",
        "outputId": "69a67010-42eb-440b-90d5-4dc76162cb94"
      },
      "execution_count": 12,
      "outputs": [
        {
          "output_type": "stream",
          "name": "stdout",
          "text": [
            "Registros df_video: 1881\n",
            "Registros df_comentario: 30036\n"
          ]
        }
      ]
    },
    {
      "cell_type": "code",
      "source": [
        "# 5. Remover registros com Video ID nulo\n",
        "df_video = df_video.filter(col('Video ID').isNotNull())\n",
        "df_comentario = df_comentario.filter(col('Video ID').isNotNull())\n",
        "print(\"Após remover nulos - df_video:\", df_video.count())\n",
        "print(\"Após remover nulos - df_comentario:\", df_comentario.count())\n"
      ],
      "metadata": {
        "colab": {
          "base_uri": "https://localhost:8080/"
        },
        "id": "MRqGGuYXQaRN",
        "outputId": "cc5e05e3-298c-465e-d353-e9b26b67dab7"
      },
      "execution_count": 13,
      "outputs": [
        {
          "output_type": "stream",
          "name": "stdout",
          "text": [
            "Após remover nulos - df_video: 1881\n",
            "Após remover nulos - df_comentario: 22555\n"
          ]
        }
      ]
    },
    {
      "cell_type": "code",
      "source": [
        "# 6. Remover duplicados em Video ID no df_video\n",
        "df_video = df_video.dropDuplicates(['Video ID'])\n"
      ],
      "metadata": {
        "id": "MvMTKxqlQk2a"
      },
      "execution_count": 14,
      "outputs": []
    },
    {
      "cell_type": "code",
      "source": [
        "# 7. Converter campos para int\n",
        "df_video = df_video.withColumn('Likes', col('Likes').cast('int')) \\\n",
        "                   .withColumn('Comments', col('Comments').cast('int')) \\\n",
        "                   .withColumn('Views', col('Views').cast('int'))"
      ],
      "metadata": {
        "id": "7OJvUPWNQqjx"
      },
      "execution_count": 15,
      "outputs": []
    },
    {
      "cell_type": "code",
      "source": [
        "# 8. Converter e renomear no df_comentario\n",
        "df_comentario = df_comentario.withColumn('Likes', col('Likes').cast('int')) \\\n",
        "                             .withColumnRenamed('Likes', 'Likes Comment') \\\n",
        "                             .withColumn('Sentiment', col('Sentiment').cast('int'))"
      ],
      "metadata": {
        "id": "KtbMT-IARGbR"
      },
      "execution_count": 16,
      "outputs": []
    },
    {
      "cell_type": "code",
      "source": [
        "# 9. Criar campo Interaction\n",
        "df_video = df_video.withColumn('Interaction', col('Likes') + col('Comments') + col('Views'))"
      ],
      "metadata": {
        "id": "w3nSkRu7RU1C"
      },
      "execution_count": 17,
      "outputs": []
    },
    {
      "cell_type": "code",
      "source": [
        "# 10. Converter Published At para date\n",
        "df_video = df_video.withColumn('Published At', to_date(col('Published At')))"
      ],
      "metadata": {
        "id": "puZzGZh8Rd4I"
      },
      "execution_count": 18,
      "outputs": []
    },
    {
      "cell_type": "code",
      "source": [
        "# 11. Criar campo Year\n",
        "df_video = df_video.withColumn('Year', year(col('Published At')))"
      ],
      "metadata": {
        "id": "6gLGpesERlXz"
      },
      "execution_count": 19,
      "outputs": []
    },
    {
      "cell_type": "code",
      "source": [
        "# 12. Mesclar df_video e df_comentario por Video ID\n",
        "df_join_video_comments = df_video.join(df_comentario, on='Video ID', how='left')"
      ],
      "metadata": {
        "id": "DTRJxwxPRq2A"
      },
      "execution_count": 20,
      "outputs": []
    },
    {
      "cell_type": "code",
      "source": [
        "# 13. Ler USvideos.csv\n",
        "df_us_videos = spark.read.csv(\"USvideos.csv\", header=True, inferSchema=True)"
      ],
      "metadata": {
        "id": "vKnwII7aRzxM"
      },
      "execution_count": 35,
      "outputs": []
    },
    {
      "cell_type": "code",
      "source": [
        "# Mostrar as primeiras 20 linhas do df_us_videos\n",
        "df_us_videos.show(20)"
      ],
      "metadata": {
        "collapsed": true,
        "colab": {
          "base_uri": "https://localhost:8080/"
        },
        "id": "q79z5PSNT7Rz",
        "outputId": "5b471376-f813-412d-fc45-68da69ad3833"
      },
      "execution_count": 36,
      "outputs": [
        {
          "output_type": "stream",
          "name": "stdout",
          "text": [
            "+-----------+-------------+--------------------+--------------------+-----------+--------------------+--------------------+-------+------+--------+-------------+--------------------+-----------------+----------------+----------------------+--------------------+\n",
            "|   video_id|trending_date|               title|       channel_title|category_id|        publish_time|                tags|  views| likes|dislikes|comment_count|      thumbnail_link|comments_disabled|ratings_disabled|video_error_or_removed|         description|\n",
            "+-----------+-------------+--------------------+--------------------+-----------+--------------------+--------------------+-------+------+--------+-------------+--------------------+-----------------+----------------+----------------------+--------------------+\n",
            "|2kyS6SvSYSE|     17.14.11|WE WANT TO TALK A...|        CaseyNeistat|         22|2017-11-13T17:13:...|     SHANtell martin| 748374| 57527|    2966|        15954|https://i.ytimg.c...|            False|           False|                 False|SHANTELL'S CHANNE...|\n",
            "|1ZAPwfrtAFY|     17.14.11|The Trump Preside...|     LastWeekTonight|         24|2017-11-13T07:30:...|\"last week tonigh...|2418783| 97185|    6146|        12703|https://i.ytimg.c...|            False|           False|                 False|One year after th...|\n",
            "|5qpjK5DgCt4|     17.14.11|Racist Superman |...|        Rudy Mancuso|         23|2017-11-12T19:05:...|\"racist superman\"...|3191434|146033|    5339|         8181|https://i.ytimg.c...|            False|           False|                 False|WATCH MY PREVIOUS...|\n",
            "|puqaWrEC7tY|     17.14.11|Nickelback Lyrics...|Good Mythical Mor...|         24|2017-11-13T11:00:...|\"rhett and link\"|...| 343168| 10172|     666|         2146|https://i.ytimg.c...|            False|           False|                 False|Today we find out...|\n",
            "|d380meD0W0M|     17.14.11|I Dare You: GOING...|            nigahiga|         24|2017-11-12T18:01:...|\"ryan\"|\"higa\"|\"hi...|2095731|132235|    1989|        17518|https://i.ytimg.c...|            False|           False|                 False|I know it's been ...|\n",
            "|gHZ1Qz0KiKM|     17.14.11|2 Weeks with iPho...|            iJustine|         28|2017-11-13T19:07:...|\"ijustine\"|\"week ...| 119180|  9763|     511|         1434|https://i.ytimg.c...|            False|           False|                 False|Using the iPhone ...|\n",
            "|39idVpFF7NQ|     17.14.11|Roy Moore & Jeff ...| Saturday Night Live|         24|2017-11-12T05:37:...|\"SNL\"|\"Saturday N...|2103417| 15993|    2445|         1970|https://i.ytimg.c...|            False|           False|                 False|Embattled Alabama...|\n",
            "|nc99ccSXST0|     17.14.11|5 Ice Cream Gadge...|  CrazyRussianHacker|         28|2017-11-12T21:50:...|\"5 Ice Cream Gadg...| 817732| 23663|     778|         3432|https://i.ytimg.c...|            False|           False|                 False|Ice Cream Pint Co...|\n",
            "|jr9QtXwC9vc|     17.14.11|The Greatest Show...|    20th Century Fox|          1|2017-11-13T14:00:...|\"Trailer\"|\"Hugh J...| 826059|  3543|     119|          340|https://i.ytimg.c...|            False|           False|                 False|Inspired by the i...|\n",
            "|TUmyygCMMGA|     17.14.11|Why the rise of t...|                 Vox|         25|2017-11-13T13:45:...|\"vox.com\"|\"vox\"|\"...| 256426| 12654|    1363|         2368|https://i.ytimg.c...|            False|           False|                 False|For now, at least...|\n",
            "|9wRQljFNDW8|     17.14.11|Dion Lewis' 103-Y...|                 NFL|         17|2017-11-13T02:05:...|\"NFL\"|\"Football\"|...|  81377|   655|      25|          177|https://i.ytimg.c...|            False|           False|                 False|New England Patri...|\n",
            "|VifQlJit6A0|     17.14.11|(SPOILERS) 'Shiva...|                 amc|         24|2017-11-13T03:00:...|\"The Walking Dead...| 104578|  1576|     303|         1279|https://i.ytimg.c...|            False|           False|                 False|Shiva arrives jus...|\n",
            "|5E4ZBSInqUU|     17.14.11|Marshmello - Bloc...|          marshmello|         10|2017-11-13T17:00:...|\"marshmello\"|\"blo...| 687582|114188|    1333|         8371|https://i.ytimg.c...|            False|           False|                 False|WATCH SILENCE MUS...|\n",
            "|GgVmn66oK_A|     17.14.11|Which Countries A...|       NowThis World|         25|2017-11-12T14:00:...|\"nowthis\"|\"nowthi...| 544770|  7848|    1171|         3981|https://i.ytimg.c...|            False|           False|                 False|The world at larg...|\n",
            "|TaTleo4cOs8|     17.14.11|SHOPPING FOR NEW ...|     The king of DIY|         15|2017-11-12T18:30:...|\"shopping for new...| 207532|  7473|     246|         2120|https://i.ytimg.c...|            False|           False|                 False|Today we go shopp...|\n",
            "|kgaO45SyaO4|     17.14.11|    The New SpotMini|      BostonDynamics|         28|2017-11-13T20:09:...|\"Robots\"|\"Boston ...|  75752|  9419|      52|         1230|https://i.ytimg.c...|            False|           False|                 False|For more informat...|\n",
            "|ZAQs-ctOqXQ|     17.14.11|One Change That W...|             Cracked|         23|2017-11-12T17:00:...|\"pacific rim\"|\"pa...| 295639|  8011|     638|         1256|https://i.ytimg.c...|            False|           False|                 False|Pacific Rim was s...|\n",
            "|YVfyYrEmzgM|     17.14.11|How does your bod...|              TED-Ed|         27|2017-11-13T16:00:...|\"TED\"|\"TED-Ed\"|\"T...|  78044|  5398|      53|          385|https://i.ytimg.c...|            False|           False|                 False|Check out our Pat...|\n",
            "|eNSN6qet1kE|     17.14.11|HomeMade Electric...|         PeterSripol|         28|2017-11-13T15:30:...|\"ultralight\"|\"air...|  97007| 11963|      36|         2211|https://i.ytimg.c...|            False|           False|                 False|aaaannnd now to f...|\n",
            "|B5HORANmzHw|     17.14.11|Founding An Inbre...|             SciShow|         27|2017-11-12T22:00:...|\"SciShow\"|\"scienc...| 223871|  8421|     191|         1214|https://i.ytimg.c...|            False|           False|                 False|Thanks to 23AndMe...|\n",
            "+-----------+-------------+--------------------+--------------------+-----------+--------------------+--------------------+-------+------+--------+-------------+--------------------+-----------------+----------------+----------------------+--------------------+\n",
            "only showing top 20 rows\n",
            "\n"
          ]
        }
      ]
    },
    {
      "cell_type": "code",
      "source": [
        "# 14. Mesclar df_video e df_us_videos por Title\n",
        "df_join_video_usvideos = df_video.join(df_us_videos, on='Title', how='left')"
      ],
      "metadata": {
        "id": "c13lX6r6SBnY"
      },
      "execution_count": 22,
      "outputs": []
    },
    {
      "cell_type": "code",
      "source": [
        "# 15. Contagem de nulos em df_video\n",
        "for column in df_video.columns:\n",
        "    nulos = df_video.filter(col(column).isNull()).count()\n",
        "    print(f\"Coluna {column}: {nulos} nulos\")\n"
      ],
      "metadata": {
        "colab": {
          "base_uri": "https://localhost:8080/"
        },
        "id": "L9TtR2fkSHDc",
        "outputId": "836d4052-6d1b-4eb1-e150-af4ec2bcb3e3"
      },
      "execution_count": 37,
      "outputs": [
        {
          "output_type": "stream",
          "name": "stdout",
          "text": [
            "Coluna _c0: 0 nulos\n",
            "Coluna Title: 0 nulos\n",
            "Coluna Video ID: 0 nulos\n",
            "Coluna Published At: 0 nulos\n",
            "Coluna Keyword: 0 nulos\n",
            "Coluna Likes: 0 nulos\n",
            "Coluna Comments: 0 nulos\n",
            "Coluna Views: 0 nulos\n"
          ]
        }
      ]
    },
    {
      "cell_type": "code",
      "source": [
        "# 16. Remover _c0 e salvar df_video\n",
        "if '_c0' in df_video.columns:\n",
        "    df_video = df_video.drop('_c0')\n",
        "df_video.write.mode('overwrite').option('header', 'true').parquet('drive/MyDrive/Colab Notbook/spark/videos-tratados-parquet')"
      ],
      "metadata": {
        "id": "cwlomhmeSQfh"
      },
      "execution_count": 24,
      "outputs": []
    },
    {
      "cell_type": "code",
      "source": [
        "# 16. Remover _c0 e salvar df_video\n",
        "if '_c0' in df_video.columns:\n",
        "    df_video = df_video.drop('_c0')\n",
        "df_video.write.mode('overwrite').option('header', 'true').parquet('videos-tratados-parquet')"
      ],
      "metadata": {
        "id": "PAtpHPNUSmA3"
      },
      "execution_count": 25,
      "outputs": []
    },
    {
      "cell_type": "code",
      "source": [
        "# 17. Remover _c0 e salvar df_join_video_comments\n",
        "if '_c0' in df_join_video_comments.columns:\n",
        "    df_join_video_comments = df_join_video_comments.drop('_c0')\n",
        "df_join_video_comments.write.mode('overwrite').option('header', 'true').parquet('drive/MyDrive/Colab Notbooks/spark/videos-comments-tratados-parquet')"
      ],
      "metadata": {
        "id": "gA1_p97oSzGX"
      },
      "execution_count": 26,
      "outputs": []
    },
    {
      "cell_type": "code",
      "source": [
        "# 17. Remover _c0 e salvar df_join_video_comments\n",
        "if '_c0' in df_join_video_comments.columns:\n",
        "    df_join_video_comments = df_join_video_comments.drop('_c0')\n",
        "df_join_video_comments.write.mode('overwrite').option('header', 'true').parquet('videos-comments-tratados-parquet')"
      ],
      "metadata": {
        "id": "p-ATQ8KHS9eS"
      },
      "execution_count": 27,
      "outputs": []
    },
    {
      "cell_type": "code",
      "source": [
        "# Visualizar os schemas\n",
        "df_video.printSchema()\n",
        "df_comentario.printSchema()\n",
        "df_us_videos.printSchema()"
      ],
      "metadata": {
        "colab": {
          "base_uri": "https://localhost:8080/"
        },
        "collapsed": true,
        "id": "7lMMECfhUfNI",
        "outputId": "4f56a673-19da-4f4d-fd7e-666bd4f7feef"
      },
      "execution_count": 38,
      "outputs": [
        {
          "output_type": "stream",
          "name": "stdout",
          "text": [
            "root\n",
            " |-- _c0: integer (nullable = true)\n",
            " |-- Title: string (nullable = true)\n",
            " |-- Video ID: string (nullable = true)\n",
            " |-- Published At: date (nullable = true)\n",
            " |-- Keyword: string (nullable = true)\n",
            " |-- Likes: double (nullable = false)\n",
            " |-- Comments: double (nullable = false)\n",
            " |-- Views: double (nullable = false)\n",
            "\n",
            "root\n",
            " |-- _c0: string (nullable = true)\n",
            " |-- Video ID: string (nullable = true)\n",
            " |-- Comment: string (nullable = true)\n",
            " |-- Likes Comment: integer (nullable = true)\n",
            " |-- Sentiment: integer (nullable = true)\n",
            "\n",
            "root\n",
            " |-- video_id: string (nullable = true)\n",
            " |-- trending_date: string (nullable = true)\n",
            " |-- title: string (nullable = true)\n",
            " |-- channel_title: string (nullable = true)\n",
            " |-- category_id: string (nullable = true)\n",
            " |-- publish_time: string (nullable = true)\n",
            " |-- tags: string (nullable = true)\n",
            " |-- views: string (nullable = true)\n",
            " |-- likes: string (nullable = true)\n",
            " |-- dislikes: string (nullable = true)\n",
            " |-- comment_count: string (nullable = true)\n",
            " |-- thumbnail_link: string (nullable = true)\n",
            " |-- comments_disabled: string (nullable = true)\n",
            " |-- ratings_disabled: string (nullable = true)\n",
            " |-- video_error_or_removed: string (nullable = true)\n",
            " |-- description: string (nullable = true)\n",
            "\n"
          ]
        }
      ]
    },
    {
      "cell_type": "code",
      "source": [
        "spark.stop()"
      ],
      "metadata": {
        "id": "63-CY4XvU2Fq"
      },
      "execution_count": 39,
      "outputs": []
    }
  ]
}