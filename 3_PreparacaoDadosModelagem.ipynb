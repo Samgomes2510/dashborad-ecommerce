{
  "nbformat": 4,
  "nbformat_minor": 0,
  "metadata": {
    "colab": {
      "provenance": [],
      "authorship_tag": "ABX9TyMeWU8J8khgeoG50cZw+Wd1",
      "include_colab_link": true
    },
    "kernelspec": {
      "name": "python3",
      "display_name": "Python 3"
    },
    "language_info": {
      "name": "python"
    }
  },
  "cells": [
    {
      "cell_type": "markdown",
      "metadata": {
        "id": "view-in-github",
        "colab_type": "text"
      },
      "source": [
        "<a href=\"https://colab.research.google.com/github/Samgomes2510/dashborad-ecommerce/blob/main/3_PreparacaoDadosModelagem.ipynb\" target=\"_parent\"><img src=\"https://colab.research.google.com/assets/colab-badge.svg\" alt=\"Open In Colab\"/></a>"
      ]
    },
    {
      "cell_type": "code",
      "execution_count": 1,
      "metadata": {
        "colab": {
          "base_uri": "https://localhost:8080/"
        },
        "id": "Y6dxj-OZgInJ",
        "outputId": "f75c581e-63f0-4e5b-ac82-99250870e8e3"
      },
      "outputs": [
        {
          "output_type": "stream",
          "name": "stdout",
          "text": [
            "Requirement already satisfied: pyspark in /usr/local/lib/python3.11/dist-packages (3.5.5)\n",
            "Requirement already satisfied: py4j==0.10.9.7 in /usr/local/lib/python3.11/dist-packages (from pyspark) (0.10.9.7)\n"
          ]
        }
      ],
      "source": [
        "!pip install pyspark"
      ]
    },
    {
      "cell_type": "code",
      "source": [
        "import pyspark\n",
        "from pyspark.sql import SparkSession\n",
        "from pyspark.ml.regression import LinearRegression\n",
        "from pyspark.ml.feature import VectorAssembler, MinMaxScaler"
      ],
      "metadata": {
        "id": "BXuwFeDdipfi"
      },
      "execution_count": 2,
      "outputs": []
    },
    {
      "cell_type": "code",
      "source": [
        "from google.colab import drive\n",
        "drive.mount('/content/drive')"
      ],
      "metadata": {
        "colab": {
          "base_uri": "https://localhost:8080/"
        },
        "id": "hcTRPrAPi6t5",
        "outputId": "5601317e-af9a-4b6c-846b-bba43def1697"
      },
      "execution_count": 3,
      "outputs": [
        {
          "output_type": "stream",
          "name": "stdout",
          "text": [
            "Mounted at /content/drive\n"
          ]
        }
      ]
    },
    {
      "cell_type": "code",
      "source": [
        "spark = SparkSession.builder.getOrCreate()"
      ],
      "metadata": {
        "id": "ILA_wT_yjXq5"
      },
      "execution_count": 4,
      "outputs": []
    },
    {
      "cell_type": "code",
      "source": [
        "pagamentos_normalizado = spark.read.option('header', 'true').parquet('drive/MyDrive/Colab Notbooks/spark/pagamentos_normalizado.parquet')\n",
        "join_itens_pedido = spark.read.option('header', 'true').parquet('drive/MyDrive/Colab Notebooks/spark/join_itens_pedido_parquet')"
      ],
      "metadata": {
        "id": "-H15MqqAjdFR"
      },
      "execution_count": 15,
      "outputs": []
    },
    {
      "cell_type": "code",
      "source": [
        "pagamentos_normalizado.show(n=5, truncate=False)\n",
        "join_itens_pedido.show(n=5, truncate=False)"
      ],
      "metadata": {
        "colab": {
          "base_uri": "https://localhost:8080/"
        },
        "id": "GMzsq3QNmPUq",
        "outputId": "a51092e0-5668-4dd9-bcca-0c08883b9264"
      },
      "execution_count": 17,
      "outputs": [
        {
          "output_type": "stream",
          "name": "stdout",
          "text": [
            "+--------------------------------+-------------------+--------------+------------------+---------------+---------------------------+------------------------------+\n",
            "|id_pedido                       |sequencia_pagamento|tipo_pagamento|parcelas_pagamento|valor_pagamento|valor_pagamento_normalizado|parcelas_pagamento_normalizado|\n",
            "+--------------------------------+-------------------+--------------+------------------+---------------+---------------------------+------------------------------+\n",
            "|b81ef226f3fe1789b1e8b2acac839d17|1                  |credit_card   |8                 |99.33          |0.007269424652080491       |0.3333333333333333            |\n",
            "|a9810da82917af2d9aefd1278f1dcfa0|1                  |credit_card   |1                 |24.39          |0.0017849719849415402      |0.041666666666666664          |\n",
            "|25e8ea4e93396b6fa0d3dd708e76c1bd|1                  |credit_card   |1                 |65.71          |0.004808958963940492       |0.041666666666666664          |\n",
            "|ba78997921bbcdc1373bb41e913ab953|1                  |credit_card   |8                 |107.78         |0.00788783438036077        |0.3333333333333333            |\n",
            "|42fdf880ba16b47b59251dd489d4441a|1                  |credit_card   |2                 |128.45         |0.00940055971569253        |0.08333333333333333           |\n",
            "+--------------------------------+-------------------+--------------+------------------+---------------+---------------------------+------------------------------+\n",
            "only showing top 5 rows\n",
            "\n",
            "+--------------------------------+--------------------------------+--------------+--------------------------------+-------------------+-----+-----------+--------------------------------+-------------+-------------------+---------------------+-------------------------+--------------------+---------------------+---------------------+--------------------+-------------------------+------------------------+--------------+----------------------+-----------------+------------------+\n",
            "|id_produto                      |id_pedido                       |item_id_pedido|id_vendedor                     |data_limite_envio  |preco|valor_frete|id_cliente                      |status_pedido|data_compra_pedido |data_aprovacao_pedido|data_envio_transportadora|data_entrega_cliente|data_estimada_entrega|categoria_produto    |tamanho_nome_produto|tamanho_descricao_produto|quantidade_fotos_produto|peso_produto_g|comprimento_produto_cm|altura_produto_cm|largura_produto_cm|\n",
            "+--------------------------------+--------------------------------+--------------+--------------------------------+-------------------+-----+-----------+--------------------------------+-------------+-------------------+---------------------+-------------------------+--------------------+---------------------+---------------------+--------------------+-------------------------+------------------------+--------------+----------------------+-----------------+------------------+\n",
            "|4244733e06e7ecb4970a6e2683c13e61|00010242fe8c5a6d1ba2dd792cb16214|1             |48436dade18ac8b2bce089ec2a041202|2017-09-19 09:45:35|58.9 |13.29      |3ce436f183e68e07877b285a838db11a|delivered    |2017-09-13 08:59:02|2017-09-13 09:45:35  |2017-09-19 18:34:16      |2017-09-20 23:43:48 |2017-09-29 00:00:00  |cool_stuff           |58                  |598                      |4                       |650           |28                    |9                |14                |\n",
            "|ef92defde845ab8450f9d70c526ef70f|00048cc3ae777c65dbb7d2a0634bc1ea|1             |6426d21aca402a131fc0a5d0960a3c90|2017-05-23 03:55:27|21.9 |12.69      |816cbea969fe5b689b39cfc97a506742|delivered    |2017-05-15 21:42:34|2017-05-17 03:55:27  |2017-05-17 11:05:55      |2017-05-22 13:44:35 |2017-06-06 00:00:00  |utilidades_domesticas|36                  |558                      |1                       |450           |24                    |8                |15                |\n",
            "|557d850972a7d6f792fd18ae1400d9b6|000576fe39319847cbb9d288c5617fa6|1             |5996cddab893a4652a15592fb58ab8db|2018-07-10 12:30:45|810.0|70.75      |9ed5e522dd9dd85b4af4a077526d8117|delivered    |2018-07-04 12:08:27|2018-07-05 16:35:48  |2018-07-05 12:15:00      |2018-07-09 14:04:07 |2018-07-25 00:00:00  |ferramentas_jardim   |39                  |1310                     |3                       |13805         |35                    |75               |45                |\n",
            "|d63c1011f49d98b976c352955b1c4bea|00061f2a7bc09da83e415a52dc8a4af1|1             |cc419e0650a3c5ba77189a1882b7556a|2018-03-29 22:28:09|59.99|8.88       |c6fc061d86fab1e2b2eac259bac71a49|delivered    |2018-03-24 22:16:10|2018-03-24 22:28:09  |2018-03-27 05:26:55      |2018-03-29 00:04:19 |2018-04-09 00:00:00  |beleza_saude         |57                  |614                      |1                       |950           |35                    |25               |20                |\n",
            "|3f27ac8e699df3d300ec4a5d8c5cf0b2|0009c9a17f916a706d71784483a5d643|1             |fcb5ace8bcc92f75707dc0f01a27d269|2018-05-02 09:31:53|639.0|11.34      |8a250edc40ebc5c3940ebc940f16a7eb|delivered    |2018-04-25 09:10:41|2018-04-25 09:33:19  |2018-04-27 15:14:00      |2018-04-30 17:54:25 |2018-05-09 00:00:00  |consoles_games       |37                  |1172                     |2                       |200           |16                    |5                |12                |\n",
            "+--------------------------------+--------------------------------+--------------+--------------------------------+-------------------+-----+-----------+--------------------------------+-------------+-------------------+---------------------+-------------------------+--------------------+---------------------+---------------------+--------------------+-------------------------+------------------------+--------------+----------------------+-----------------+------------------+\n",
            "only showing top 5 rows\n",
            "\n"
          ]
        }
      ]
    },
    {
      "cell_type": "code",
      "source": [
        "pagamentos_normalizado.corr('valor_pagamento_normalizado', 'parcelas_pagamento_normalizado')"
      ],
      "metadata": {
        "colab": {
          "base_uri": "https://localhost:8080/"
        },
        "id": "8vVvP_dqnctQ",
        "outputId": "f262a38a-2614-47d2-f6dc-4275634d2836"
      },
      "execution_count": 18,
      "outputs": [
        {
          "output_type": "execute_result",
          "data": {
            "text/plain": [
              "0.33081084451898507"
            ]
          },
          "metadata": {},
          "execution_count": 18
        }
      ]
    },
    {
      "cell_type": "code",
      "source": [
        "itens_pedido_df = join_itens_pedido.na.drop()\n",
        "\n",
        "montar_vetor = VectorAssembler(\n",
        "    inputCols=['peso_produto_g', 'comprimento_produto_cm', 'altura_produto_cm', 'largura_produto_cm'],\n",
        "    outputCol='caracteristicas'\n",
        "    )\n",
        "\n",
        "itens_pedido_df = montar_vetor.transform(itens_pedido_df)\n",
        "itens_pedido_df.show()"
      ],
      "metadata": {
        "colab": {
          "base_uri": "https://localhost:8080/"
        },
        "id": "DKmaAKI4onYr",
        "outputId": "09d82ef9-78b4-4e76-af5f-31f50ae5d319"
      },
      "execution_count": 19,
      "outputs": [
        {
          "output_type": "stream",
          "name": "stdout",
          "text": [
            "+--------------------+--------------------+--------------+--------------------+-------------------+-----+-----------+--------------------+-------------+-------------------+---------------------+-------------------------+--------------------+---------------------+--------------------+--------------------+-------------------------+------------------------+--------------+----------------------+-----------------+------------------+--------------------+\n",
            "|          id_produto|           id_pedido|item_id_pedido|         id_vendedor|  data_limite_envio|preco|valor_frete|          id_cliente|status_pedido| data_compra_pedido|data_aprovacao_pedido|data_envio_transportadora|data_entrega_cliente|data_estimada_entrega|   categoria_produto|tamanho_nome_produto|tamanho_descricao_produto|quantidade_fotos_produto|peso_produto_g|comprimento_produto_cm|altura_produto_cm|largura_produto_cm|     caracteristicas|\n",
            "+--------------------+--------------------+--------------+--------------------+-------------------+-----+-----------+--------------------+-------------+-------------------+---------------------+-------------------------+--------------------+---------------------+--------------------+--------------------+-------------------------+------------------------+--------------+----------------------+-----------------+------------------+--------------------+\n",
            "|4244733e06e7ecb49...|00010242fe8c5a6d1...|             1|48436dade18ac8b2b...|2017-09-19 09:45:35| 58.9|      13.29|3ce436f183e68e078...|    delivered|2017-09-13 08:59:02|  2017-09-13 09:45:35|      2017-09-19 18:34:16| 2017-09-20 23:43:48|  2017-09-29 00:00:00|          cool_stuff|                  58|                      598|                       4|           650|                    28|                9|                14|[650.0,28.0,9.0,1...|\n",
            "|ef92defde845ab845...|00048cc3ae777c65d...|             1|6426d21aca402a131...|2017-05-23 03:55:27| 21.9|      12.69|816cbea969fe5b689...|    delivered|2017-05-15 21:42:34|  2017-05-17 03:55:27|      2017-05-17 11:05:55| 2017-05-22 13:44:35|  2017-06-06 00:00:00|utilidades_domest...|                  36|                      558|                       1|           450|                    24|                8|                15|[450.0,24.0,8.0,1...|\n",
            "|557d850972a7d6f79...|000576fe39319847c...|             1|5996cddab893a4652...|2018-07-10 12:30:45|810.0|      70.75|9ed5e522dd9dd85b4...|    delivered|2018-07-04 12:08:27|  2018-07-05 16:35:48|      2018-07-05 12:15:00| 2018-07-09 14:04:07|  2018-07-25 00:00:00|  ferramentas_jardim|                  39|                     1310|                       3|         13805|                    35|               75|                45|[13805.0,35.0,75....|\n",
            "|d63c1011f49d98b97...|00061f2a7bc09da83...|             1|cc419e0650a3c5ba7...|2018-03-29 22:28:09|59.99|       8.88|c6fc061d86fab1e2b...|    delivered|2018-03-24 22:16:10|  2018-03-24 22:28:09|      2018-03-27 05:26:55| 2018-03-29 00:04:19|  2018-04-09 00:00:00|        beleza_saude|                  57|                      614|                       1|           950|                    35|               25|                20|[950.0,35.0,25.0,...|\n",
            "|3f27ac8e699df3d30...|0009c9a17f916a706...|             1|fcb5ace8bcc92f757...|2018-05-02 09:31:53|639.0|      11.34|8a250edc40ebc5c39...|    delivered|2018-04-25 09:10:41|  2018-04-25 09:33:19|      2018-04-27 15:14:00| 2018-04-30 17:54:25|  2018-05-09 00:00:00|      consoles_games|                  37|                     1172|                       2|           200|                    16|                5|                12|[200.0,16.0,5.0,1...|\n",
            "|5ed9eaf534f6936b5...|000e562887b1f2006...|             1|8cbac7e12637ed9cf...|2018-02-28 12:08:37| 25.0|      16.11|2b01d668726fb0b75...|    delivered|2018-02-22 11:54:42|  2018-02-22 12:08:37|      2018-02-26 14:18:32| 2018-03-12 18:46:34|  2018-03-19 00:00:00|          cool_stuff|                  51|                      693|                       3|           600|                    20|               20|                21|[600.0,20.0,20.0,...|\n",
            "|553e0e7590d3116a0...|000e63d38ae8c00bb...|             1|1c129092bf23f28a5...|2018-03-29 20:07:49| 47.9|       8.88|98884e672c5ba85f4...|    delivered|2018-03-23 19:48:26|  2018-03-23 20:07:49|      2018-03-26 21:38:48| 2018-03-27 14:51:47|  2018-04-05 00:00:00|     cama_mesa_banho|                  38|                      735|                       5|           800|                    20|               20|                20|[800.0,20.0,20.0,...|\n",
            "|5d7c23067ed3fc8c6...|001021efaa8636c29...|             1|6560211a19b47992c...|2018-03-05 09:35:41| 49.0|       15.1|2dfbf74859104caf1...|    delivered|2018-02-27 09:27:14|  2018-02-27 09:35:41|      2018-02-27 21:43:46| 2018-03-08 20:06:33|  2018-03-23 00:00:00|fashion_bolsas_e_...|                  54|                      151|                       3|           250|                    16|                2|                20|[250.0,16.0,2.0,2...|\n",
            "|5a419dbf24a8c9718...|0010b2e5201cc5f1a...|             1|3504c0cb71d7fa48d...|2017-09-15 18:04:37| 48.9|       16.6|57ef317d4818cb426...|    delivered|2017-09-11 17:39:33|  2017-09-11 18:04:37|      2017-09-12 17:02:57| 2017-09-23 13:21:21|  2017-09-27 00:00:00|          cool_stuff|                  53|                      537|                       2|          1800|                    34|                5|                34|[1800.0,34.0,5.0,...|\n",
            "|21b1c2f67a9aafb5a...|00119ff934e539cf2...|             1|c864036feaab8c165...|2017-08-11 00:35:12|219.9|      16.98|7dd2e283f47deac85...|    delivered|2017-08-06 00:42:49|  2017-08-07 00:35:12|      2017-08-07 21:12:34| 2017-08-16 17:29:59|  2017-08-31 00:00:00|       esporte_lazer|                  35|                     1132|                       8|          9800|                   105|               15|                28|[9800.0,105.0,15....|\n",
            "|1c0c0093a48f13ba7...|00125cb692d048878...|             1|41b39e28db005d973...|2017-03-29 13:05:42|109.9|      25.51|8afb90a97ee661103...|    delivered|2017-03-23 12:21:17|  2017-03-23 13:05:42|      2017-03-27 08:58:04| 2017-04-07 15:32:47|  2017-04-20 00:00:00|    moveis_decoracao|                  49|                      300|                       1|          2500|                    47|               21|                41|[2500.0,47.0,21.0...|\n",
            "|89321f94e35fc6d79...|00130c0eee84a3d90...|             1|16090f2ca825584b5...|2018-06-14 05:16:24| 27.9|       7.94|47d656c08a282ec5a...|    delivered|2018-06-11 21:17:00|  2018-06-12 05:16:24|      2018-06-12 14:22:00| 2018-06-13 15:28:25|  2018-06-20 00:00:00|           alimentos|                  59|                      982|                       1|           150|                    17|               13|                13|[150.0,17.0,13.0,...|\n",
            "|38afdf723b95d455b...|0013503b13da1eac6...|             1|1554a68530182680a...|2017-12-13 03:16:36|119.9|      17.32|f7277fce45fad3165...|    delivered|2017-12-05 23:40:59|  2017-12-07 03:16:36|      2017-12-07 22:59:30| 2017-12-20 22:46:28|  2017-12-28 00:00:00|    moveis_decoracao|                  38|                      479|                       3|          2500|                    34|                6|                28|[2500.0,34.0,6.0,...|\n",
            "|672e757f331900b9d...|00137e170939bba5a...|             1|e59aa562b9f8076dd...|2017-11-30 06:30:55|397.0|      24.65|7b63cba66b8e6d002...|    delivered|2017-11-24 16:50:38|  2017-11-25 06:30:55|      2017-11-28 19:43:52| 2017-12-11 19:12:55|  2017-12-18 00:00:00|agro_industria_e_...|                  39|                      383|                       1|          2650|                    30|               30|                20|[2650.0,30.0,30.0...|\n",
            "|28b4eced95a52d9c4...|001427c0ec99cf8af...|             1|77530e9772f57a62c...|2018-04-12 19:08:28| 59.9|      23.35|eab9c552374be06ed...|    delivered|2018-04-07 18:51:22|  2018-04-07 19:08:28|      2018-04-09 23:29:32| 2018-04-25 23:38:41|  2018-05-10 00:00:00|    moveis_decoracao|                  60|                     1953|                       1|           750|                    69|               11|                11|[750.0,69.0,11.0,...|\n",
            "|b10eba910a974df70...|00169e31ef4b29dea...|             1|a3e9a2c700480d9bb...|2018-01-23 03:35:47| 39.0|      16.11|efb3830adb68fb8a8...|    delivered|2018-01-16 09:26:39|  2018-01-17 03:35:47|      2018-01-17 16:46:04| 2018-01-23 20:19:04|  2018-02-07 00:00:00|     cama_mesa_banho|                  46|                      246|                       1|           550|                    51|                4|                41|[550.0,51.0,4.0,4...|\n",
            "|4089861a1bd4685da...|0016dfedd97fc2950...|             1|a35124e2d763d7ca3...|2017-05-05 10:05:12|49.75|       20.8|2c8b917c5d7dd720e...|    delivered|2017-04-28 19:54:40|  2017-04-29 10:05:12|      2017-05-16 08:40:49| 2017-05-22 18:32:21|  2017-06-01 00:00:00|  ferramentas_jardim|                  44|                      152|                       1|          1500|                    27|                6|                23|[1500.0,27.0,6.0,...|\n",
            "|fe59a1e006df3ac42...|0017afd5076e074a4...|             1|25c5c91f63607446a...|2017-04-24 22:25:19|809.1|      44.29|8085a9af46f619bc2...|    delivered|2017-04-06 22:16:10|  2017-04-06 22:25:19|      2017-04-17 13:54:37| 2017-05-23 08:32:07|  2017-05-19 00:00:00|informatica_acess...|                  60|                     2136|                       1|          3407|                    28|               22|                23|[3407.0,28.0,22.0...|\n",
            "|0b0172eb0fd18479d...|001ab0a7578dd66cd...|             1|5656537e588803a55...|2018-01-04 02:33:42|24.89|      17.63|8bb3bef4e75a95524...|    delivered|2017-12-27 00:38:47|  2017-12-28 02:33:42|      2017-12-28 18:09:35| 2018-01-17 20:43:29|  2018-01-29 00:00:00|         eletronicos|                  53|                      265|                       2|           150|                    22|               13|                15|[150.0,22.0,13.0,...|\n",
            "|0b0172eb0fd18479d...|001ab0a7578dd66cd...|             2|5656537e588803a55...|2018-01-04 02:33:42|24.89|      17.63|8bb3bef4e75a95524...|    delivered|2017-12-27 00:38:47|  2017-12-28 02:33:42|      2017-12-28 18:09:35| 2018-01-17 20:43:29|  2018-01-29 00:00:00|         eletronicos|                  53|                      265|                       2|           150|                    22|               13|                15|[150.0,22.0,13.0,...|\n",
            "+--------------------+--------------------+--------------+--------------------+-------------------+-----+-----------+--------------------+-------------+-------------------+---------------------+-------------------------+--------------------+---------------------+--------------------+--------------------+-------------------------+------------------------+--------------+----------------------+-----------------+------------------+--------------------+\n",
            "only showing top 20 rows\n",
            "\n"
          ]
        }
      ]
    },
    {
      "cell_type": "code",
      "source": [
        "Scaler = MinMaxScaler(inputCol='caracteristicas', outputCol='caracteristicas_normalizado')\n",
        "modelo_scaler = Scaler.fit(itens_pedido_df)\n",
        "itens_pedido_df = modelo_scaler.transform(itens_pedido_df)"
      ],
      "metadata": {
        "id": "ieTId9c0qptO"
      },
      "execution_count": 22,
      "outputs": []
    },
    {
      "cell_type": "code",
      "source": [
        "train_data, test_data = itens_pedido_df.randomSplit([0.7, 0.3], seed=42)\n",
        "\n",
        "# Visualizar os tamanahos dos conjuntos\n",
        "print(f\"treino: {train_data.count()},teste: {test_data.count()}\")"
      ],
      "metadata": {
        "colab": {
          "base_uri": "https://localhost:8080/"
        },
        "id": "G1mMabuOrG6h",
        "outputId": "353c1267-a519-41e9-83c4-bc7d0411c899"
      },
      "execution_count": 23,
      "outputs": [
        {
          "output_type": "stream",
          "name": "stdout",
          "text": [
            "treino: 76178,teste: 32465\n"
          ]
        }
      ]
    },
    {
      "cell_type": "code",
      "source": [
        "# Modelo de regressão linear\n",
        "regressao_linear = LinearRegression(\n",
        "    featuresCol='caracteristicas_normalizado',\n",
        "    labelCol='valor_frete')\n",
        "\n",
        "\n",
        "modelo_lr = regressao_linear.fit(train_data)\n",
        "\n",
        "avaliar_test = modelo_lr.evaluate(test_data)\n",
        "print(\"RMSE(Erro Quadrático Médio da Raiz):\", avaliar_test.rootMeanSquaredError)\n",
        "print(\"r2 (Coeficiente de Determinação):\", avaliar_test.r2)"
      ],
      "metadata": {
        "colab": {
          "base_uri": "https://localhost:8080/"
        },
        "id": "gUNU9ySCt002",
        "outputId": "d12e3c94-4d60-4939-d525-97279817559f"
      },
      "execution_count": 25,
      "outputs": [
        {
          "output_type": "stream",
          "name": "stdout",
          "text": [
            "RMSE(Erro Quadrático Médio da Raiz): 12.29261332362075\n",
            "r2 (Coeficiente de Determinação): 0.3656767551944773\n"
          ]
        }
      ]
    },
    {
      "cell_type": "code",
      "source": [
        "spark.stop()"
      ],
      "metadata": {
        "id": "ZM-kcPHfwVii"
      },
      "execution_count": 26,
      "outputs": []
    }
  ]
}